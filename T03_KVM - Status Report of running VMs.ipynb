{
 "cells": [
  {
   "cell_type": "markdown",
   "metadata": {
    "lc_cell_meme": {
     "current": "a822974c-495a-11e8-9d7a-0242ac130002",
     "history": [],
     "next": "a82298d2-495a-11e8-9d7a-0242ac130002",
     "previous": null
    }
   },
   "source": [
    "# About: Status Report of running VMs\n",
    "\n",
    "---\n",
    "\n",
    "現在起動中のVMの一覧を確認し、各VMにpingが到達するかをチェックするNotebook。"
   ]
  },
  {
   "cell_type": "markdown",
   "metadata": {
    "lc_cell_meme": {
     "current": "a82298d2-495a-11e8-9d7a-0242ac130002",
     "history": [],
     "next": "a8229a26-495a-11e8-9d7a-0242ac130002",
     "previous": "a822974c-495a-11e8-9d7a-0242ac130002"
    }
   },
   "source": [
    "## *Operation Note*\n",
    "\n",
    "*This is a cell for your own recording.  ここに経緯を記述*"
   ]
  },
  {
   "cell_type": "markdown",
   "metadata": {
    "lc_cell_meme": {
     "current": "a8229a26-495a-11e8-9d7a-0242ac130002",
     "history": [],
     "next": "a8229b70-495a-11e8-9d7a-0242ac130002",
     "previous": "a82298d2-495a-11e8-9d7a-0242ac130002"
    }
   },
   "source": [
    "# Notebookと環境のBinding\n",
    "\n",
    "Inventory中のgroup名でBind対象を指示する。**Bind対象はKVMがインストールされた物理マシンとする。**"
   ]
  },
  {
   "cell_type": "code",
   "execution_count": 1,
   "metadata": {
    "ExecuteTime": {
     "end_time": "2016-04-26T08:07:17.170145",
     "start_time": "2016-04-26T08:07:17.162322"
    },
    "collapsed": true,
    "lc_cell_meme": {
     "current": "a8229b70-495a-11e8-9d7a-0242ac130002",
     "history": [],
     "next": "a8229ca6-495a-11e8-9d7a-0242ac130002",
     "previous": "a8229a26-495a-11e8-9d7a-0242ac130002"
    }
   },
   "outputs": [],
   "source": [
    "target_group = 'test-hypervisor'"
   ]
  },
  {
   "cell_type": "markdown",
   "metadata": {
    "lc_cell_meme": {
     "current": "a8229ca6-495a-11e8-9d7a-0242ac130002",
     "history": [],
     "next": "a8229de6-495a-11e8-9d7a-0242ac130002",
     "previous": "a8229b70-495a-11e8-9d7a-0242ac130002"
    }
   },
   "source": [
    "Bind対象への疎通状態を確認する。SUCCESSと表示されればよい。"
   ]
  },
  {
   "cell_type": "code",
   "execution_count": 2,
   "metadata": {
    "ExecuteTime": {
     "end_time": "2016-04-26T08:07:19.352910",
     "start_time": "2016-04-26T08:07:18.027874"
    },
    "lc_cell_meme": {
     "current": "a8229de6-495a-11e8-9d7a-0242ac130002",
     "history": [],
     "next": "a8229f26-495a-11e8-9d7a-0242ac130002",
     "previous": "a8229ca6-495a-11e8-9d7a-0242ac130002"
    }
   },
   "outputs": [
    {
     "name": "stdout",
     "output_type": "stream",
     "text": [
      "\u001b[0;32mXXX.XXX.XXX.105 | SUCCESS => {\r\n",
      "    \"changed\": false, \r\n",
      "    \"ping\": \"pong\"\r\n",
      "}\u001b[0m\r\n"
     ]
    }
   ],
   "source": [
    "!ansible -m ping {target_group}"
   ]
  },
  {
   "cell_type": "markdown",
   "metadata": {
    "lc_cell_meme": {
     "current": "a8229f26-495a-11e8-9d7a-0242ac130002",
     "history": [],
     "next": "a822a05c-495a-11e8-9d7a-0242ac130002",
     "previous": "a8229de6-495a-11e8-9d7a-0242ac130002"
    }
   },
   "source": [
    "# VMの一覧確認\n",
    "\n",
    "起動中のVMの一覧を確認する。"
   ]
  },
  {
   "cell_type": "code",
   "execution_count": 3,
   "metadata": {
    "ExecuteTime": {
     "end_time": "2016-04-26T08:07:39.755701",
     "start_time": "2016-04-26T08:07:38.482204"
    },
    "lc_cell_meme": {
     "current": "a822a05c-495a-11e8-9d7a-0242ac130002",
     "history": [],
     "next": "a822a192-495a-11e8-9d7a-0242ac130002",
     "previous": "a8229f26-495a-11e8-9d7a-0242ac130002"
    }
   },
   "outputs": [
    {
     "name": "stdout",
     "output_type": "stream",
     "text": [
      "\u001b[0;32mXXX.XXX.XXX.105 | SUCCESS | rc=0 >>\r\n",
      " Id    Name                           State\r\n",
      "----------------------------------------------------\r\n",
      " 5     testvm-001                     running\r\n",
      "\u001b[0m\r\n"
     ]
    }
   ],
   "source": [
    "!ansible -b -a 'virsh list' {target_group}"
   ]
  },
  {
   "cell_type": "markdown",
   "metadata": {
    "lc_cell_meme": {
     "current": "a822a192-495a-11e8-9d7a-0242ac130002",
     "history": [],
     "next": "a822a2c8-495a-11e8-9d7a-0242ac130002",
     "previous": "a822a05c-495a-11e8-9d7a-0242ac130002"
    }
   },
   "source": [
    "各VMのIPアドレスを確認する。"
   ]
  },
  {
   "cell_type": "code",
   "execution_count": 4,
   "metadata": {
    "lc_cell_meme": {
     "current": "a822a2c8-495a-11e8-9d7a-0242ac130002",
     "history": [],
     "next": "a822a3fe-495a-11e8-9d7a-0242ac130002",
     "previous": "a822a192-495a-11e8-9d7a-0242ac130002"
    }
   },
   "outputs": [
    {
     "data": {
      "text/plain": [
       "['testvm-001']"
      ]
     },
     "execution_count": 4,
     "metadata": {},
     "output_type": "execute_result"
    }
   ],
   "source": [
    "vmnames = !ansible -b -a 'virsh list' {target_group}\n",
    "vmnames = vmnames[1:]\n",
    "vmnames = vmnames[map(lambda l: l[0], filter(lambda l: l[1].startswith('----'), enumerate(vmnames)))[0] + 1:]\n",
    "vmnames = map(lambda l: l.split()[1], vmnames)\n",
    "vmnames"
   ]
  },
  {
   "cell_type": "markdown",
   "metadata": {
    "lc_cell_meme": {
     "current": "a822a3fe-495a-11e8-9d7a-0242ac130002",
     "history": [],
     "next": "a822a534-495a-11e8-9d7a-0242ac130002",
     "previous": "a822a2c8-495a-11e8-9d7a-0242ac130002"
    }
   },
   "source": [
    "VM名-IPアドレス のtupleのリストを作成する。"
   ]
  },
  {
   "cell_type": "code",
   "execution_count": 5,
   "metadata": {
    "lc_cell_meme": {
     "current": "a822a534-495a-11e8-9d7a-0242ac130002",
     "history": [],
     "next": "a822a674-495a-11e8-9d7a-0242ac130002",
     "previous": "a822a3fe-495a-11e8-9d7a-0242ac130002"
    }
   },
   "outputs": [],
   "source": [
    "import re\n",
    "def get_mac_address(vmname):\n",
    "    domiflist_stdio = !ansible -b -a \"virsh domiflist {vmname}\" {target_group}\n",
    "    mac_pattern = re.compile(r'.*bridge.*\\s([0-9a-f\\:]+)\\s*')\n",
    "    vmmac = [mac_pattern.match(line).group(1) for line in domiflist_stdio if mac_pattern.match(line)][0]\n",
    "    return vmmac\n",
    "\n",
    "def get_ip_address(vmmac):\n",
    "    leases_stdio = !ansible -b -a \"grep {vmmac} /var/lib/dnsmasq/dnsmasq.leases\" {target_group}\n",
    "    ip_pattern = re.compile(r'.*\\s([0-9a-f\\:]+)\\s+([0-9\\.]+)\\s.*')\n",
    "    ipaddr = [ip_pattern.match(line).group(2) for line in leases_stdio if ip_pattern.match(line)][0]\n",
    "    return ipaddr"
   ]
  },
  {
   "cell_type": "code",
   "execution_count": 6,
   "metadata": {
    "lc_cell_meme": {
     "current": "a822a674-495a-11e8-9d7a-0242ac130002",
     "history": [],
     "next": "a822a7aa-495a-11e8-9d7a-0242ac130002",
     "previous": "a822a534-495a-11e8-9d7a-0242ac130002"
    }
   },
   "outputs": [
    {
     "data": {
      "text/plain": [
       "[('testvm-001', 'XXX.XXX.XXX.66')]"
      ]
     },
     "execution_count": 6,
     "metadata": {},
     "output_type": "execute_result"
    }
   ],
   "source": [
    "vmdescs = zip(vmnames, map(lambda mac: get_ip_address(mac), map(lambda n: get_mac_address(n), vmnames)))\n",
    "vmdescs"
   ]
  },
  {
   "cell_type": "markdown",
   "metadata": {
    "lc_cell_meme": {
     "current": "a822a7aa-495a-11e8-9d7a-0242ac130002",
     "history": [],
     "next": "a822a8e0-495a-11e8-9d7a-0242ac130002",
     "previous": "a822a674-495a-11e8-9d7a-0242ac130002"
    }
   },
   "source": [
    "# VMの到達性確認\n",
    "\n",
    "VMへの到達性を確認する。"
   ]
  },
  {
   "cell_type": "code",
   "execution_count": 7,
   "metadata": {
    "lc_cell_meme": {
     "current": "a822a8e0-495a-11e8-9d7a-0242ac130002",
     "history": [],
     "next": "a822aa16-495a-11e8-9d7a-0242ac130002",
     "previous": "a822a7aa-495a-11e8-9d7a-0242ac130002"
    }
   },
   "outputs": [
    {
     "name": "stdout",
     "output_type": "stream",
     "text": [
      "VM: testvm-001 IP address: XXX.XXX.XXX.66\n",
      "PING XXX.XXX.XXX.66 (XXX.XXX.XXX.66) 56(84) bytes of data.\n",
      "64 bytes from XXX.XXX.XXX.66: icmp_seq=1 ttl=63 time=0.577 ms\n",
      "64 bytes from XXX.XXX.XXX.66: icmp_seq=2 ttl=63 time=0.450 ms\n",
      "64 bytes from XXX.XXX.XXX.66: icmp_seq=3 ttl=63 time=0.436 ms\n",
      "64 bytes from XXX.XXX.XXX.66: icmp_seq=4 ttl=63 time=0.436 ms\n",
      "\n",
      "--- XXX.XXX.XXX.66 ping statistics ---\n",
      "4 packets transmitted, 4 received, 0% packet loss, time 2998ms\n",
      "rtt min/avg/max/mdev = 0.436/0.474/0.577/0.065 ms\n",
      "\n",
      "\n"
     ]
    }
   ],
   "source": [
    "for name, ipaddr in vmdescs:\n",
    "    print('VM: {0} IP address: {1}'.format(name, ipaddr))\n",
    "    !ping -c 4 {ipaddr}\n",
    "    print('\\n')"
   ]
  },
  {
   "cell_type": "code",
   "execution_count": null,
   "metadata": {
    "collapsed": true,
    "lc_cell_meme": {
     "current": "a822aa16-495a-11e8-9d7a-0242ac130002",
     "history": [],
     "next": null,
     "previous": "a822a8e0-495a-11e8-9d7a-0242ac130002"
    }
   },
   "outputs": [],
   "source": []
  }
 ],
 "metadata": {
  "kernelspec": {
   "display_name": "Python 2",
   "language": "python",
   "name": "python2"
  },
  "language_info": {
   "codemirror_mode": {
    "name": "ipython",
    "version": 2
   },
   "file_extension": ".py",
   "mimetype": "text/x-python",
   "name": "python",
   "nbconvert_exporter": "python",
   "pygments_lexer": "ipython2",
   "version": "2.7.9"
  },
  "lc_notebook_meme": {
   "current": "a82294ae-495a-11e8-9d7a-0242ac130002",
   "history": [],
   "root_cells": [
    "a822974c-495a-11e8-9d7a-0242ac130002",
    "a82298d2-495a-11e8-9d7a-0242ac130002",
    "a8229a26-495a-11e8-9d7a-0242ac130002",
    "a8229b70-495a-11e8-9d7a-0242ac130002",
    "a8229ca6-495a-11e8-9d7a-0242ac130002",
    "a8229de6-495a-11e8-9d7a-0242ac130002",
    "a8229f26-495a-11e8-9d7a-0242ac130002",
    "a822a05c-495a-11e8-9d7a-0242ac130002",
    "a822a192-495a-11e8-9d7a-0242ac130002",
    "a822a2c8-495a-11e8-9d7a-0242ac130002",
    "a822a3fe-495a-11e8-9d7a-0242ac130002",
    "a822a534-495a-11e8-9d7a-0242ac130002",
    "a822a674-495a-11e8-9d7a-0242ac130002",
    "a822a7aa-495a-11e8-9d7a-0242ac130002",
    "a822a8e0-495a-11e8-9d7a-0242ac130002",
    "a822aa16-495a-11e8-9d7a-0242ac130002"
   ]
  },
  "toc": {
   "base_numbering": 1,
   "nav_menu": {},
   "number_sections": true,
   "sideBar": true,
   "skip_h1_title": false,
   "title_cell": "Table of Contents",
   "title_sidebar": "Contents",
   "toc_cell": false,
   "toc_position": {},
   "toc_section_display": true,
   "toc_window_display": false
  }
 },
 "nbformat": 4,
 "nbformat_minor": 1
}

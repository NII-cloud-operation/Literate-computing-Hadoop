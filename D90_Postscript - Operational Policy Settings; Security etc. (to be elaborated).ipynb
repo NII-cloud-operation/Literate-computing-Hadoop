{
 "cells": [
  {
   "cell_type": "markdown",
   "metadata": {},
   "source": [
    "# About: Postscript - Operational Policy Settings; Security etc.\n",
    "運用ポリシーに基づく共通設定 - セキュリティなど\n",
    "\n",
    "---\n",
    "Each computing host should be applied common settings based on operational policies; for example security, networking, etc.  \n",
    "\n",
    "This notebook is just a sample at our private cloud.  Note that this is not exhaustive manuscript. However, **here we claim \"Operational Policy Settings\" should be clearly described and explicitly shared as a notebook. **\n",
    "\n",
    "確保したマシンに対して共通のポリシーを適用する。　ここでは我々のプライベートなクラウド「研究クラウド/AIC」でマシンを確保した場合に実施している、基本的なセキュリティ設定をサンプルとして示す。\n",
    "\n",
    "**このNotebookをここに掲載しているのは、運用プロセスの一環としてセキュリティに関するタスクが明示的に書かれかつその内容を運用者が共有すべきであるということを主張のためです。**\n",
    "\n",
    "**そのため、こんな感じで書けるというナイーブな参考です。**"
   ]
  },
  {
   "cell_type": "markdown",
   "metadata": {},
   "source": [
    "## *Operation Note*\n",
    "\n",
    "*This is a cell for your own recording.  ここに経緯を記述*"
   ]
  },
  {
   "cell_type": "markdown",
   "metadata": {},
   "source": [
    "# Notebookと設定対象とのBinding\n",
    "\n",
    "セキュリティ設定対象を確認する。\n",
    "Inventory中のgroup名でBind対象を指示する。"
   ]
  },
  {
   "cell_type": "code",
   "execution_count": 1,
   "metadata": {
    "ExecuteTime": {
     "end_time": "2016-04-12T16:07:49.340426",
     "start_time": "2016-04-12T16:07:49.331924"
    },
    "collapsed": true
   },
   "outputs": [],
   "source": [
    "target_group = 'test'"
   ]
  },
  {
   "cell_type": "markdown",
   "metadata": {},
   "source": [
    "Bind対象への疎通状態を確認する。"
   ]
  },
  {
   "cell_type": "code",
   "execution_count": 2,
   "metadata": {
    "ExecuteTime": {
     "end_time": "2016-04-12T16:08:37.211114",
     "start_time": "2016-04-12T16:08:36.062517"
    },
    "collapsed": false
   },
   "outputs": [
    {
     "name": "stdout",
     "output_type": "stream",
     "text": [
      "\u001b[0;32mXXX.XXX.XXX.105 | SUCCESS => {\r\n",
      "    \"changed\": false, \r\n",
      "    \"ping\": \"pong\"\r\n",
      "}\u001b[0m\r\n"
     ]
    }
   ],
   "source": [
    "!ansible -m ping {target_group}"
   ]
  },
  {
   "cell_type": "markdown",
   "metadata": {},
   "source": [
    "# セキュリティ設定タスクの実行\n",
    "\n",
    "セキュリティ設定はAnsible Roleとして定義している。(NII所内からのみ/登録ユーザのみアクセス可能なRepositoryに配置)\n",
    "\n",
    "http://xxxxxx/nii-security-setting"
   ]
  },
  {
   "cell_type": "markdown",
   "metadata": {},
   "source": [
    "## Ansible用ファイルの準備\n",
    "\n",
    "運用上必要な標準的セキュリティ設定が整備されているという前提です。ここでは、NIIクラウド担当での管理作業手順を例示的に示しています。\n",
    "\n",
    "**具体的な設定の内容は参考です。**"
   ]
  },
  {
   "cell_type": "code",
   "execution_count": 3,
   "metadata": {
    "ExecuteTime": {
     "end_time": "2016-04-12T16:11:16.863204",
     "start_time": "2016-04-12T16:11:16.832931"
    },
    "collapsed": false
   },
   "outputs": [
    {
     "data": {
      "text/plain": [
       "'/tmp/tmpz1R2lo'"
      ]
     },
     "execution_count": 3,
     "metadata": {},
     "output_type": "execute_result"
    }
   ],
   "source": [
    "import tempfile\n",
    "temp_dir = tempfile.mkdtemp()\n",
    "temp_dir"
   ]
  },
  {
   "cell_type": "code",
   "execution_count": 4,
   "metadata": {
    "ExecuteTime": {
     "end_time": "2016-04-12T16:11:36.123878",
     "start_time": "2016-04-12T16:11:35.252622"
    },
    "collapsed": false
   },
   "outputs": [
    {
     "name": "stdout",
     "output_type": "stream",
     "text": [
      "Cloning into '/tmp/tmpz1R2lo/roles/nii-security-setting'...\n",
      "remote: Counting objects: 27, done.\u001b[K\n",
      "remote: Compressing objects: 100% (24/24), done.\u001b[K\n",
      "remote: Total 27 (delta 2), reused 0 (delta 0)\u001b[K\n",
      "Receiving objects: 100% (27/27), 5.04 KiB | 0 bytes/s, done.\n",
      "Resolving deltas: 100% (2/2), done.\n",
      "Checking connectivity... done.\n",
      "/tmp/tmpz1R2lo\n",
      "└── roles\n",
      "    └── nii-security-setting\n",
      "        ├── files\n",
      "        │   └── yazawa.keys\n",
      "        ├── handlers\n",
      "        │   ├── main.yml\n",
      "        │   └── sshd.yml\n",
      "        ├── tasks\n",
      "        │   ├── login-users.yml\n",
      "        │   ├── main.yml\n",
      "        │   ├── sshd.yml\n",
      "        │   └── sudoers.yml\n",
      "        └── vars\n",
      "            ├── CentOS.yml\n",
      "            └── Ubuntu.yml\n",
      "\n",
      "6 directories, 15 files\n"
     ]
    }
   ],
   "source": [
    "!mkdir {temp_dir}/roles\n",
    "!git clone ssh://git@xxxxxx/nii-security-setting.git \\\n",
    "           {temp_dir}/roles/nii-security-setting\n",
    "!tree {temp_dir}"
   ]
  },
  {
   "cell_type": "markdown",
   "metadata": {},
   "source": [
    "Gitからcloneしたroleをどの対象に適用するかはPlaybookにより記述する。"
   ]
  },
  {
   "cell_type": "code",
   "execution_count": 5,
   "metadata": {
    "ExecuteTime": {
     "end_time": "2016-04-12T16:14:17.306428",
     "start_time": "2016-04-12T16:14:17.125031"
    },
    "collapsed": false
   },
   "outputs": [
    {
     "name": "stdout",
     "output_type": "stream",
     "text": [
      "- hosts: test\r\n",
      "  become: yes\r\n",
      "  roles:\r\n",
      "    - nii-security-setting"
     ]
    }
   ],
   "source": [
    "import os\n",
    "with open(os.path.join(temp_dir, 'site.yml'), 'w') as f:\n",
    "    f.write('''- hosts: {}\n",
    "  become: yes\n",
    "  roles:\n",
    "    - nii-security-setting'''.format(target_group))\n",
    "!cat {temp_dir}/site.yml"
   ]
  },
  {
   "cell_type": "code",
   "execution_count": 6,
   "metadata": {
    "ExecuteTime": {
     "end_time": "2016-04-12T16:16:52.109511",
     "start_time": "2016-04-12T16:16:51.936315"
    },
    "collapsed": true
   },
   "outputs": [],
   "source": [
    "!mkdir {temp_dir}/group_vars"
   ]
  },
  {
   "cell_type": "markdown",
   "metadata": {},
   "source": [
    "セキュリティ設定は group_vars により与える。**環境に合わせて適切に設定すること！**"
   ]
  },
  {
   "cell_type": "code",
   "execution_count": 7,
   "metadata": {
    "ExecuteTime": {
     "end_time": "2016-04-12T16:28:55.006501",
     "start_time": "2016-04-12T16:28:54.993087"
    },
    "collapsed": false
   },
   "outputs": [
    {
     "name": "stdout",
     "output_type": "stream",
     "text": [
      "Writing /tmp/tmpz1R2lo/group_vars/test\n"
     ]
    }
   ],
   "source": [
    "%%writefile {temp_dir}/group_vars/{target_group}\n",
    "login_users:\n",
    "  - { name: yazawa, comment: \"Satoshi Yazawa\", key: \"yazawa.keys\" }\n",
    "  \n",
    "sshd_allow_hosts:\n",
    "  - \"XXX.XXX.XXX.0/24\"\n",
    "  - \"XXX.XXX.XXX.0/24\"\n",
    "  - \"XXX.XXX.XXX.0/23\"\n",
    "  - \"XXX.XXX.XXX.0/24\"\n",
    "  - \"XXX.XXX.XXX.106\"\n",
    "  - \"XXX.XXX.XXX.110\"\n",
    "  - \"XXX.XXX.XXX.192/26\""
   ]
  },
  {
   "cell_type": "markdown",
   "metadata": {},
   "source": [
    "## Ansibleの実行"
   ]
  },
  {
   "cell_type": "markdown",
   "metadata": {},
   "source": [
    "まずはCheck modeで動作確認してみる。"
   ]
  },
  {
   "cell_type": "code",
   "execution_count": 8,
   "metadata": {
    "ExecuteTime": {
     "end_time": "2016-04-12T16:24:07.874771",
     "start_time": "2016-04-12T16:24:01.829058"
    },
    "collapsed": false,
    "scrolled": true
   },
   "outputs": [
    {
     "name": "stdout",
     "output_type": "stream",
     "text": [
      "Using /etc/ansible/ansible.cfg as config file\n",
      "\n",
      "PLAY [test] *********************************************************\n",
      "\n",
      "TASK [setup] *******************************************************************\n",
      "\u001b[0;32mok: [XXX.XXX.XXX.105]\u001b[0m\n",
      "\n",
      "TASK [nii-security-setting : Gather OS Specific Variables] *********************\n",
      "\u001b[0;32mok: [XXX.XXX.XXX.105] => (item=/tmp/tmpz1R2lo/roles/nii-security-setting/vars/CentOS.yml) => {\"ansible_facts\": {\"sshd_service\": \"sshd\"}, \"item\": \"/tmp/tmpz1R2lo/roles/nii-security-setting/vars/CentOS.yml\"}\u001b[0m\n",
      "\n",
      "TASK [nii-security-setting : include] ******************************************\n",
      "\u001b[0;36mincluded: /tmp/tmpz1R2lo/roles/nii-security-setting/tasks/sudoers.yml for XXX.XXX.XXX.105\u001b[0m\n",
      "\n",
      "TASK [nii-security-setting : Prepare /etc/sudoers.d] ***************************\n",
      "\u001b[0;33mchanged: [XXX.XXX.XXX.105] => {\"changed\": true, \"gid\": 0, \"group\": \"root\", \"mode\": \"0750\", \"owner\": \"root\", \"path\": \"/etc/sudoers.d\", \"size\": 4096, \"state\": \"directory\", \"uid\": 0}\u001b[0m\n",
      "\u001b[0;31m--- before\n",
      "\u001b[0m\u001b[0;32m+++ after\n",
      "\u001b[0m\u001b[0;36m@@ -1,4 +1,4 @@\n",
      "\u001b[0m {\n",
      "\u001b[0;31m-    \"mode\": \"0750\", \n",
      "\u001b[0m\u001b[0;32m+    \"mode\": \"0755\", \n",
      "\u001b[0m     \"path\": \"/etc/sudoers.d\"\n",
      " }\n",
      "\n",
      "TASK [nii-security-setting : Add #includedir to /etc/sudoers] ******************\n",
      "\u001b[0;32mok: [XXX.XXX.XXX.105] => {\"backup\": \"\", \"changed\": false, \"msg\": \"\"}\u001b[0m\n",
      "\n",
      "TASK [nii-security-setting : include] ******************************************\n",
      "\u001b[0;36mincluded: /tmp/tmpz1R2lo/roles/nii-security-setting/tasks/login-users.yml for XXX.XXX.XXX.105\u001b[0m\n",
      "\n",
      "TASK [nii-security-setting : Add user] *****************************************\n",
      "\u001b[0;33mchanged: [XXX.XXX.XXX.105] => (item={u'comment': u'Satoshi Yazawa', u'name': u'yazawa', u'key': u'yazawa.keys'}) => {\"changed\": true, \"item\": {\"comment\": \"Satoshi Yazawa\", \"key\": \"yazawa.keys\", \"name\": \"yazawa\"}}\u001b[0m\n",
      "\n",
      "TASK [nii-security-setting : Prepare authorized_keys] **************************\n",
      "\u001b[0;31mfailed: [XXX.XXX.XXX.105] (item={u'comment': u'Satoshi Yazawa', u'name': u'yazawa', u'key': u'yazawa.keys'}) => {\"failed\": true, \"item\": {\"comment\": \"Satoshi Yazawa\", \"key\": \"yazawa.keys\", \"name\": \"yazawa\"}, \"msg\": \"Either user must exist or you must provide full path to key file in check mode\"}\u001b[0m\n",
      "\tto retry, use: --limit @/tmp/tmpz1R2lo/site.retry\n",
      "\n",
      "PLAY RECAP *********************************************************************\n",
      "\u001b[0;31mXXX.XXX.XXX.105\u001b[0m              : \u001b[0;32mok\u001b[0m\u001b[0;32m=\u001b[0m\u001b[0;32m7\u001b[0m    \u001b[0;33mchanged\u001b[0m\u001b[0;33m=\u001b[0m\u001b[0;33m2\u001b[0m    unreachable=0    \u001b[0;31mfailed\u001b[0m\u001b[0;31m=\u001b[0m\u001b[0;31m1\u001b[0m   \n",
      "\n"
     ]
    }
   ],
   "source": [
    "!ansible-playbook -CDv {temp_dir}/site.yml"
   ]
  },
  {
   "cell_type": "markdown",
   "metadata": {},
   "source": [
    "問題なさそう。適用する。"
   ]
  },
  {
   "cell_type": "code",
   "execution_count": 9,
   "metadata": {
    "ExecuteTime": {
     "end_time": "2016-04-12T16:24:17.556852",
     "start_time": "2016-04-12T16:24:11.654809"
    },
    "collapsed": false,
    "scrolled": true
   },
   "outputs": [
    {
     "name": "stdout",
     "output_type": "stream",
     "text": [
      "\n",
      "PLAY [test] *********************************************************\n",
      "\n",
      "TASK [setup] *******************************************************************\n",
      "\u001b[0;32mok: [XXX.XXX.XXX.105]\u001b[0m\n",
      "\n",
      "TASK [nii-security-setting : Gather OS Specific Variables] *********************\n",
      "\u001b[0;32mok: [XXX.XXX.XXX.105] => (item=/tmp/tmpz1R2lo/roles/nii-security-setting/vars/CentOS.yml)\u001b[0m\n",
      "\n",
      "TASK [nii-security-setting : include] ******************************************\n",
      "\u001b[0;36mincluded: /tmp/tmpz1R2lo/roles/nii-security-setting/tasks/sudoers.yml for XXX.XXX.XXX.105\u001b[0m\n",
      "\n",
      "TASK [nii-security-setting : Prepare /etc/sudoers.d] ***************************\n",
      "\u001b[0;33mchanged: [XXX.XXX.XXX.105]\u001b[0m\n",
      "\n",
      "TASK [nii-security-setting : Add #includedir to /etc/sudoers] ******************\n",
      "\u001b[0;32mok: [XXX.XXX.XXX.105]\u001b[0m\n",
      "\n",
      "TASK [nii-security-setting : include] ******************************************\n",
      "\u001b[0;36mincluded: /tmp/tmpz1R2lo/roles/nii-security-setting/tasks/login-users.yml for XXX.XXX.XXX.105\u001b[0m\n",
      "\n",
      "TASK [nii-security-setting : Add user] *****************************************\n",
      "\u001b[0;33mchanged: [XXX.XXX.XXX.105] => (item={u'comment': u'Satoshi Yazawa', u'name': u'yazawa', u'key': u'yazawa.keys'})\u001b[0m\n",
      "\n",
      "TASK [nii-security-setting : Prepare authorized_keys] **************************\n",
      "\u001b[0;33mchanged: [XXX.XXX.XXX.105] => (item={u'comment': u'Satoshi Yazawa', u'name': u'yazawa', u'key': u'yazawa.keys'})\u001b[0m\n",
      "\n",
      "TASK [nii-security-setting : Prepare sudoers.d/operators] **********************\n",
      "\u001b[0;33mchanged: [XXX.XXX.XXX.105] => (item={u'comment': u'Satoshi Yazawa', u'name': u'yazawa', u'key': u'yazawa.keys'})\u001b[0m\n",
      "\n",
      "TASK [nii-security-setting : include] ******************************************\n",
      "\u001b[0;36mincluded: /tmp/tmpz1R2lo/roles/nii-security-setting/tasks/sshd.yml for XXX.XXX.XXX.105\u001b[0m\n",
      "\n",
      "TASK [nii-security-setting : Disable root SSH login] ***************************\n",
      "\u001b[0;33mchanged: [XXX.XXX.XXX.105]\u001b[0m\n",
      "\n",
      "TASK [nii-security-setting : Set AllowUsers] ***********************************\n",
      "\u001b[0;33mchanged: [XXX.XXX.XXX.105] => (item=XXX.XXX.XXX.0/24)\u001b[0m\n",
      "\u001b[0;33mchanged: [XXX.XXX.XXX.105] => (item=XXX.XXX.XXX.0/24)\u001b[0m\n",
      "\u001b[0;33mchanged: [XXX.XXX.XXX.105] => (item=XXX.XXX.XXX.0/23)\u001b[0m\n",
      "\u001b[0;33mchanged: [XXX.XXX.XXX.105] => (item=XXX.XXX.XXX.0/24)\u001b[0m\n",
      "\u001b[0;33mchanged: [XXX.XXX.XXX.105] => (item=XXX.XXX.XXX.106)\u001b[0m\n",
      "\u001b[0;33mchanged: [XXX.XXX.XXX.105] => (item=XXX.XXX.XXX.110)\u001b[0m\n",
      "\u001b[0;33mchanged: [XXX.XXX.XXX.105] => (item=XXX.XXX.XXX.192/26)\u001b[0m\n",
      "\n",
      "PLAY RECAP *********************************************************************\n",
      "\u001b[0;33mXXX.XXX.XXX.105\u001b[0m              : \u001b[0;32mok\u001b[0m\u001b[0;32m=\u001b[0m\u001b[0;32m12\u001b[0m   \u001b[0;33mchanged\u001b[0m\u001b[0;33m=\u001b[0m\u001b[0;33m6\u001b[0m    unreachable=0    failed=0   \n",
      "\n"
     ]
    }
   ],
   "source": [
    "!ansible-playbook {temp_dir}/site.yml"
   ]
  },
  {
   "cell_type": "markdown",
   "metadata": {
    "ExecuteTime": {
     "end_time": "2016-04-08T16:29:42.708319",
     "start_time": "2016-04-08T16:29:42.695868"
    },
    "collapsed": true
   },
   "source": [
    "SSHでアクセスできることを確認し、クローズとする。"
   ]
  },
  {
   "cell_type": "markdown",
   "metadata": {
    "collapsed": true
   },
   "source": [
    "# 後始末\n",
    "\n",
    "一時ディレクトリを削除する。"
   ]
  },
  {
   "cell_type": "code",
   "execution_count": 10,
   "metadata": {
    "ExecuteTime": {
     "end_time": "2016-04-12T16:29:28.868947",
     "start_time": "2016-04-12T16:29:28.696544"
    },
    "collapsed": true
   },
   "outputs": [],
   "source": [
    "!rm -fr {temp_dir}"
   ]
  },
  {
   "cell_type": "code",
   "execution_count": null,
   "metadata": {
    "collapsed": true
   },
   "outputs": [],
   "source": []
  }
 ],
 "metadata": {
  "kernelspec": {
   "display_name": "Python 2",
   "language": "python",
   "name": "python2"
  },
  "language_info": {
   "codemirror_mode": {
    "name": "ipython",
    "version": 2
   },
   "file_extension": ".py",
   "mimetype": "text/x-python",
   "name": "python",
   "nbconvert_exporter": "python",
   "pygments_lexer": "ipython2",
   "version": "2.7.12"
  },
  "toc": {
   "toc_cell": false,
   "toc_number_sections": true,
   "toc_threshold": 6,
   "toc_window_display": false
  }
 },
 "nbformat": 4,
 "nbformat_minor": 0
}

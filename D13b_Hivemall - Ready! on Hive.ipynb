{
 "cells": [
  {
   "cell_type": "markdown",
   "metadata": {},
   "source": [
    "# About: Hivemall - Ready! on Hive\n",
    "\n",
    "----\n",
    "\n",
    "すでにHiveがインストールされた環境にHivemallをインストールします。"
   ]
  },
  {
   "cell_type": "markdown",
   "metadata": {},
   "source": [
    "## *Operation Note*\n",
    "\n",
    "*This is a cell for your own recording. ここに経緯を記述*"
   ]
  },
  {
   "cell_type": "markdown",
   "metadata": {},
   "source": [
    "# 操作対象クラスタの設定\n",
    "\n",
    "起動したい対象のクラスタ名を設定する。"
   ]
  },
  {
   "cell_type": "code",
   "execution_count": 1,
   "metadata": {
    "collapsed": true
   },
   "outputs": [],
   "source": [
    "target_group = 'hadoop_all_testcluster'"
   ]
  },
  {
   "cell_type": "markdown",
   "metadata": {},
   "source": [
    "対象クラスタにAnsibleでpingできることを確認する。"
   ]
  },
  {
   "cell_type": "code",
   "execution_count": 2,
   "metadata": {
    "collapsed": false,
    "scrolled": true
   },
   "outputs": [
    {
     "name": "stdout",
     "output_type": "stream",
     "text": [
      "\u001b[0;32mXXX.XXX.XXX.70 | SUCCESS => {\n",
      "    \"changed\": false, \n",
      "    \"ping\": \"pong\"\n",
      "}\u001b[0m\n",
      "\u001b[0;32mXXX.XXX.XXX.73 | SUCCESS => {\n",
      "    \"changed\": false, \n",
      "    \"ping\": \"pong\"\n",
      "}\u001b[0m\n",
      "\u001b[0;32mXXX.XXX.XXX.112 | SUCCESS => {\n",
      "    \"changed\": false, \n",
      "    \"ping\": \"pong\"\n",
      "}\u001b[0m\n",
      "\u001b[0;32mXXX.XXX.XXX.72 | SUCCESS => {\n",
      "    \"changed\": false, \n",
      "    \"ping\": \"pong\"\n",
      "}\u001b[0m\n",
      "\u001b[0;32mXXX.XXX.XXX.71 | SUCCESS => {\n",
      "    \"changed\": false, \n",
      "    \"ping\": \"pong\"\n",
      "}\u001b[0m\n",
      "\u001b[0;32mXXX.XXX.XXX.113 | SUCCESS => {\n",
      "    \"changed\": false, \n",
      "    \"ping\": \"pong\"\n",
      "}\u001b[0m\n",
      "\u001b[0;32mXXX.XXX.XXX.114 | SUCCESS => {\n",
      "    \"changed\": false, \n",
      "    \"ping\": \"pong\"\n",
      "}\u001b[0m\n"
     ]
    }
   ],
   "source": [
    "!ansible -m ping {target_group}"
   ]
  },
  {
   "cell_type": "markdown",
   "metadata": {},
   "source": [
    "インストール対象は、 `hadoop_client` というグループに所属しているものとする。"
   ]
  },
  {
   "cell_type": "code",
   "execution_count": 12,
   "metadata": {
    "collapsed": false
   },
   "outputs": [
    {
     "name": "stdout",
     "output_type": "stream",
     "text": [
      "\u001b[0;32mXXX.XXX.XXX.72 | SUCCESS => {\r\n",
      "    \"changed\": false, \r\n",
      "    \"ping\": \"pong\"\r\n",
      "}\u001b[0m\r\n"
     ]
    }
   ],
   "source": [
    "!ansible -m ping hadoop_hive -l {target_group}"
   ]
  },
  {
   "cell_type": "markdown",
   "metadata": {},
   "source": [
    "# 設定の定義\n",
    "\n",
    "インストール対象パスなど、設定を定義する。"
   ]
  },
  {
   "cell_type": "code",
   "execution_count": 4,
   "metadata": {
    "collapsed": true
   },
   "outputs": [],
   "source": [
    "hivemall_install_path = '/usr/local/lib'"
   ]
  },
  {
   "cell_type": "markdown",
   "metadata": {},
   "source": [
    "インストールするhivemallのバージョンを定義する。\n",
    "\n",
    "https://github.com/myui/hivemall"
   ]
  },
  {
   "cell_type": "code",
   "execution_count": 5,
   "metadata": {
    "collapsed": true
   },
   "outputs": [],
   "source": [
    "hivemall_version = 'v0.4.0-2'"
   ]
  },
  {
   "cell_type": "markdown",
   "metadata": {},
   "source": [
    "Playbookなど定義するための一時ディレクトリを定義しておく。"
   ]
  },
  {
   "cell_type": "code",
   "execution_count": 6,
   "metadata": {
    "collapsed": false
   },
   "outputs": [
    {
     "data": {
      "text/plain": [
       "'/tmp/tmpmitk4u'"
      ]
     },
     "execution_count": 6,
     "metadata": {},
     "output_type": "execute_result"
    }
   ],
   "source": [
    "import os\n",
    "import tempfile\n",
    "\n",
    "work_dir = tempfile.mkdtemp()\n",
    "work_dir"
   ]
  },
  {
   "cell_type": "markdown",
   "metadata": {},
   "source": [
    "# hivemallのインストール\n",
    "\n",
    "hivemallのjarファイルはGitからcloneしてくる・・・まずは対象ホストにgitをインストールする。"
   ]
  },
  {
   "cell_type": "code",
   "execution_count": 7,
   "metadata": {
    "collapsed": false
   },
   "outputs": [
    {
     "name": "stdout",
     "output_type": "stream",
     "text": [
      "\u001b[0;32mXXX.XXX.XXX.72 | SUCCESS => {\r\n",
      "    \"changed\": false, \r\n",
      "    \"msg\": \"\", \r\n",
      "    \"rc\": 0, \r\n",
      "    \"results\": [\r\n",
      "        \"All packages providing git are up to date\", \r\n",
      "        \"\"\r\n",
      "    ]\r\n",
      "}\u001b[0m\r\n"
     ]
    }
   ],
   "source": [
    "!ansible -b -m yum -a 'name=git state=latest' hadoop_hive -l {target_group}"
   ]
  },
  {
   "cell_type": "markdown",
   "metadata": {},
   "source": [
    "リポジトリからcloneしてくる。"
   ]
  },
  {
   "cell_type": "code",
   "execution_count": 9,
   "metadata": {
    "collapsed": false
   },
   "outputs": [
    {
     "name": "stdout",
     "output_type": "stream",
     "text": [
      "\u001b[0;33mXXX.XXX.XXX.72 | SUCCESS => {\r\n",
      "    \"after\": \"03ad62db71db4617bd65499eb4c657ade651b68a\", \r\n",
      "    \"before\": null, \r\n",
      "    \"changed\": true\r\n",
      "}\u001b[0m\r\n"
     ]
    }
   ],
   "source": [
    "!ansible -b -m git -a 'repo=https://github.com/myui/hivemall.git dest={ hivemall_install_path }/hivemall-{ hivemall_version } version={ hivemall_version }' \\\n",
    "         hadoop_hive -l {target_group}"
   ]
  },
  {
   "cell_type": "markdown",
   "metadata": {},
   "source": [
    "`hivemall-with-dependencies.jar` が作成されていることを確認する。"
   ]
  },
  {
   "cell_type": "code",
   "execution_count": 10,
   "metadata": {
    "collapsed": false
   },
   "outputs": [
    {
     "name": "stdout",
     "output_type": "stream",
     "text": [
      "\u001b[0;32mXXX.XXX.XXX.72 | SUCCESS | rc=0 >>\r\n",
      "-rw-r--r-- 1 root root 1616518 Aug 23 12:43 /usr/local/lib/hivemall-v0.4.0-2/target/hivemall-with-dependencies.jar\r\n",
      "\u001b[0m\r\n"
     ]
    }
   ],
   "source": [
    "!ansible -a 'ls -la { hivemall_install_path }/hivemall-{ hivemall_version }/target/hivemall-with-dependencies.jar' \\\n",
    "         hadoop_hive -l {target_group}"
   ]
  },
  {
   "cell_type": "markdown",
   "metadata": {},
   "source": [
    "`.hiverc` を設定する。"
   ]
  },
  {
   "cell_type": "code",
   "execution_count": 11,
   "metadata": {
    "collapsed": false
   },
   "outputs": [
    {
     "name": "stdout",
     "output_type": "stream",
     "text": [
      "add jar /usr/local/lib/hivemall-v0.4.0-2/target/hivemall-with-dependencies.jar;\r\n",
      "source /usr/local/lib/hivemall-v0.4.0-2/scripts/ddl/define-all.hive;"
     ]
    }
   ],
   "source": [
    "with open(os.path.join(work_dir, '.hiverc'), 'w') as f:\n",
    "    f.write('''add jar {hivemall_install_path}/hivemall-{hivemall_version}/target/hivemall-with-dependencies.jar;\n",
    "source {hivemall_install_path}/hivemall-{hivemall_version}/scripts/ddl/define-all.hive;'''.format(hivemall_install_path=hivemall_install_path,\n",
    "                                                                                                  hivemall_version=hivemall_version))\n",
    "!cat {work_dir}/.hiverc"
   ]
  },
  {
   "cell_type": "markdown",
   "metadata": {},
   "source": [
    "ユーザに .hiverc を配布する。ここでは、対象マシンの全ユーザに登録してみる。"
   ]
  },
  {
   "cell_type": "code",
   "execution_count": 16,
   "metadata": {
    "collapsed": false
   },
   "outputs": [
    {
     "name": "stdout",
     "output_type": "stream",
     "text": [
      "\u001b[0;33mXXX.XXX.XXX.72 | SUCCESS => {\r\n",
      "    \"changed\": true, \r\n",
      "    \"checksum\": \"4efbb79064d7976369104d548c16320b9e0209cf\", \r\n",
      "    \"dest\": \"/tmp/tmpmitk4u/passwd\", \r\n",
      "    \"md5sum\": \"a5ff11d699f902e50805382376fd89f1\", \r\n",
      "    \"remote_checksum\": \"4efbb79064d7976369104d548c16320b9e0209cf\", \r\n",
      "    \"remote_md5sum\": null\r\n",
      "}\u001b[0m\r\n"
     ]
    }
   ],
   "source": [
    "!ansible -m fetch -a 'src=/etc/passwd dest={work_dir}/passwd flat=yes' hadoop_hive -l {target_group}"
   ]
  },
  {
   "cell_type": "markdown",
   "metadata": {},
   "source": [
    "ここでは、shellがbashかつHDPインストール時に登録されたユーザでなければ登録対象とする。"
   ]
  },
  {
   "cell_type": "code",
   "execution_count": 21,
   "metadata": {
    "collapsed": false
   },
   "outputs": [
    {
     "data": {
      "text/plain": [
       "[('ansible', '/home/ansible'), ('root', '/root'), ('yazawa', '/home/yazawa')]"
      ]
     },
     "execution_count": 21,
     "metadata": {},
     "output_type": "execute_result"
    }
   ],
   "source": [
    "home = {}\n",
    "hdp_sys_user = ['hdfs', 'mapred', 'zookeeper', 'yarn', 'spark', 'hive', 'hbase']\n",
    "with open(os.path.join(work_dir, 'passwd'), 'r') as file_object:\n",
    "    for line in file_object:\n",
    "        fields = line.strip().split(\":\")\n",
    "        if fields[-1] == '/bin/bash' and fields[0] not in hdp_sys_user:\n",
    "            home[fields[0]] = fields[-2]\n",
    "\n",
    "home.items()"
   ]
  },
  {
   "cell_type": "markdown",
   "metadata": {},
   "source": [
    "各ユーザのhomeに.hivercを配布する。"
   ]
  },
  {
   "cell_type": "code",
   "execution_count": 22,
   "metadata": {
    "collapsed": false,
    "scrolled": true
   },
   "outputs": [
    {
     "name": "stdout",
     "output_type": "stream",
     "text": [
      "\u001b[0;33mXXX.XXX.XXX.72 | SUCCESS => {\n",
      "    \"changed\": true, \n",
      "    \"checksum\": \"4fe3e66eda923ca04cf13e20ea6c9e68b44f1443\", \n",
      "    \"dest\": \"/home/ansible/.hiverc\", \n",
      "    \"gid\": 500, \n",
      "    \"group\": \"ansible\", \n",
      "    \"md5sum\": \"051b211b9c79d4243d0a3a9e38052b8d\", \n",
      "    \"mode\": \"0644\", \n",
      "    \"owner\": \"ansible\", \n",
      "    \"size\": 148, \n",
      "    \"src\": \"/home/ansible/.ansible/tmp/ansible-tmp-1471925391.0-90284739064595/source\", \n",
      "    \"state\": \"file\", \n",
      "    \"uid\": 500\n",
      "}\u001b[0m\n",
      "\u001b[0;33mXXX.XXX.XXX.72 | SUCCESS => {\n",
      "    \"changed\": true, \n",
      "    \"checksum\": \"4fe3e66eda923ca04cf13e20ea6c9e68b44f1443\", \n",
      "    \"dest\": \"/root/.hiverc\", \n",
      "    \"gid\": 0, \n",
      "    \"group\": \"root\", \n",
      "    \"md5sum\": \"051b211b9c79d4243d0a3a9e38052b8d\", \n",
      "    \"mode\": \"0644\", \n",
      "    \"owner\": \"root\", \n",
      "    \"size\": 148, \n",
      "    \"src\": \"/home/ansible/.ansible/tmp/ansible-tmp-1471925393.17-73355278997319/source\", \n",
      "    \"state\": \"file\", \n",
      "    \"uid\": 0\n",
      "}\u001b[0m\n",
      "\u001b[0;33mXXX.XXX.XXX.72 | SUCCESS => {\n",
      "    \"changed\": true, \n",
      "    \"checksum\": \"4fe3e66eda923ca04cf13e20ea6c9e68b44f1443\", \n",
      "    \"dest\": \"/home/yazawa/.hiverc\", \n",
      "    \"gid\": 501, \n",
      "    \"group\": \"yazawa\", \n",
      "    \"md5sum\": \"051b211b9c79d4243d0a3a9e38052b8d\", \n",
      "    \"mode\": \"0644\", \n",
      "    \"owner\": \"yazawa\", \n",
      "    \"size\": 148, \n",
      "    \"src\": \"/home/ansible/.ansible/tmp/ansible-tmp-1471925395.41-54424198003560/source\", \n",
      "    \"state\": \"file\", \n",
      "    \"uid\": 501\n",
      "}\u001b[0m\n"
     ]
    }
   ],
   "source": [
    "for owner, path in home.items():\n",
    "    !ansible -b -m copy -a 'src={work_dir}/.hiverc dest={path}/.hiverc owner={owner} group={owner}' \\\n",
    "             hadoop_hive -l {target_group}"
   ]
  },
  {
   "cell_type": "markdown",
   "metadata": {},
   "source": [
    "# 動作確認\n",
    "\n",
    "Hivemallのバージョンを確認する。"
   ]
  },
  {
   "cell_type": "code",
   "execution_count": 25,
   "metadata": {
    "collapsed": false
   },
   "outputs": [
    {
     "name": "stdout",
     "output_type": "stream",
     "text": [
      "\u001b[0;32mXXX.XXX.XXX.72 | SUCCESS | rc=0 >>\r\n",
      "hive> SELECT HIVEMALL_VERSION();\r\n",
      "0.4.0\r\n",
      "hive> WARNING: Use \"yarn jar\" to launch YARN applications.\r\n",
      "\r\n",
      "Logging initialized using configuration in file:/etc/hive/conf/hive-log4j.properties\r\n",
      "OK\r\n",
      "Time taken: 1.052 seconds, Fetched: 1 row(s)\r\n",
      "\u001b[0m\r\n"
     ]
    }
   ],
   "source": [
    "!ansible -m shell -a 'echo \"SELECT HIVEMALL_VERSION();\" | hive' hadoop_hive -l {target_group}"
   ]
  },
  {
   "cell_type": "markdown",
   "metadata": {},
   "source": [
    "# 後始末\n",
    "\n",
    "一時ディレクトリを削除する。"
   ]
  },
  {
   "cell_type": "code",
   "execution_count": 23,
   "metadata": {
    "collapsed": true
   },
   "outputs": [],
   "source": [
    "!rm -fr {work_dir}"
   ]
  },
  {
   "cell_type": "code",
   "execution_count": null,
   "metadata": {
    "collapsed": true
   },
   "outputs": [],
   "source": []
  }
 ],
 "metadata": {
  "kernelspec": {
   "display_name": "Python 2",
   "language": "python",
   "name": "python2"
  },
  "language_info": {
   "codemirror_mode": {
    "name": "ipython",
    "version": 2
   },
   "file_extension": ".py",
   "mimetype": "text/x-python",
   "name": "python",
   "nbconvert_exporter": "python",
   "pygments_lexer": "ipython2",
   "version": "2.7.6"
  },
  "toc": {
   "toc_cell": false,
   "toc_number_sections": true,
   "toc_threshold": 6,
   "toc_window_display": false
  }
 },
 "nbformat": 4,
 "nbformat_minor": 0
}

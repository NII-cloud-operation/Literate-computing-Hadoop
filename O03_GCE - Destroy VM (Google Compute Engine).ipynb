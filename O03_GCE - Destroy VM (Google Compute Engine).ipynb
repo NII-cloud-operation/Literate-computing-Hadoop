{
 "cells": [
  {
   "cell_type": "markdown",
   "metadata": {
    "lc_cell_meme": {
     "current": "a5135154-495a-11e8-a267-0242ac130002",
     "history": [],
     "next": "a5135406-495a-11e8-a267-0242ac130002",
     "previous": null
    }
   },
   "source": [
    "# About: Destroy VM (Google Compute Engine)\n",
    "\n",
    "---\n",
    "\n",
    "Google Compute Engine上のマシンの削除をおこなうためのNotebook。"
   ]
  },
  {
   "cell_type": "markdown",
   "metadata": {
    "lc_cell_meme": {
     "current": "a5135406-495a-11e8-a267-0242ac130002",
     "history": [],
     "next": "a51355f0-495a-11e8-a267-0242ac130002",
     "previous": "a5135154-495a-11e8-a267-0242ac130002"
    }
   },
   "source": [
    "## *Operation Note*\n",
    "\n",
    "*This is a cell for your own recording.  ここに経緯を記述*"
   ]
  },
  {
   "cell_type": "markdown",
   "metadata": {
    "lc_cell_meme": {
     "current": "a51355f0-495a-11e8-a267-0242ac130002",
     "history": [],
     "next": "a5135726-495a-11e8-a267-0242ac130002",
     "previous": "a5135406-495a-11e8-a267-0242ac130002"
    }
   },
   "source": [
    "# 動作環境の確認\n",
    "\n",
    "このNotebookは、 [Google Python Client Library](https://github.com/google/google-api-python-client) を使ってマシンの削除を行います。\n",
    "\n",
    "このNotebook環境にGoogle Python Client Libraryがインストールされている必要があります。インストールされていない場合は、以下のセル実行に失敗し、 `ImportError` となります。"
   ]
  },
  {
   "cell_type": "code",
   "execution_count": 1,
   "metadata": {
    "lc_cell_meme": {
     "current": "a5135726-495a-11e8-a267-0242ac130002",
     "history": [],
     "next": "a5135866-495a-11e8-a267-0242ac130002",
     "previous": "a51355f0-495a-11e8-a267-0242ac130002"
    }
   },
   "outputs": [],
   "source": [
    "from googleapiclient import discovery"
   ]
  },
  {
   "cell_type": "markdown",
   "metadata": {
    "lc_cell_meme": {
     "current": "a5135866-495a-11e8-a267-0242ac130002",
     "history": [],
     "next": "a5135988-495a-11e8-a267-0242ac130002",
     "previous": "a5135726-495a-11e8-a267-0242ac130002"
    }
   },
   "source": [
    "もし、インストールされていない場合は、[Using the Python Client Library](https://cloud.google.com/compute/docs/tutorials/python-guide)を参考にインストールしてください。"
   ]
  },
  {
   "cell_type": "code",
   "execution_count": 2,
   "metadata": {
    "lc_cell_meme": {
     "current": "a5135988-495a-11e8-a267-0242ac130002",
     "history": [],
     "next": "a5135aaa-495a-11e8-a267-0242ac130002",
     "previous": "a5135866-495a-11e8-a267-0242ac130002"
    },
    "scrolled": true
   },
   "outputs": [],
   "source": [
    "#!pip2 install --upgrade google-api-python-client\n",
    "#from googleapiclient import discovery"
   ]
  },
  {
   "cell_type": "markdown",
   "metadata": {
    "lc_cell_meme": {
     "current": "a5135aaa-495a-11e8-a267-0242ac130002",
     "history": [],
     "next": "a5135bcc-495a-11e8-a267-0242ac130002",
     "previous": "a5135988-495a-11e8-a267-0242ac130002"
    }
   },
   "source": [
    "# 設定の定義\n",
    "\n",
    "どのマシンを削除するか？を定義していく。"
   ]
  },
  {
   "cell_type": "markdown",
   "metadata": {
    "lc_cell_meme": {
     "current": "a5135bcc-495a-11e8-a267-0242ac130002",
     "history": [],
     "next": "a5135cee-495a-11e8-a267-0242ac130002",
     "previous": "a5135aaa-495a-11e8-a267-0242ac130002"
    }
   },
   "source": [
    "## Credentialの指定\n",
    "\n",
    "Google Compute EngineにアクセスするためのCredentialを指示する。\n",
    "\n",
    "- JSONフォーマットのService Account情報\n",
    "- プロジェクトID\n",
    "\n",
    "を用意しておく。"
   ]
  },
  {
   "cell_type": "code",
   "execution_count": 3,
   "metadata": {
    "collapsed": true,
    "lc_cell_meme": {
     "current": "a5135cee-495a-11e8-a267-0242ac130002",
     "history": [],
     "next": "a5135e10-495a-11e8-a267-0242ac130002",
     "previous": "a5135bcc-495a-11e8-a267-0242ac130002"
    }
   },
   "outputs": [],
   "source": [
    "creds = '~/.keys/xxxxxxxx.json'\n",
    "target_project_id = 'my_project_id'"
   ]
  },
  {
   "cell_type": "markdown",
   "metadata": {
    "lc_cell_meme": {
     "current": "a5135e10-495a-11e8-a267-0242ac130002",
     "history": [],
     "next": "a5135f28-495a-11e8-a267-0242ac130002",
     "previous": "a5135cee-495a-11e8-a267-0242ac130002"
    }
   },
   "source": [
    "computeサービスを取得しておく。"
   ]
  },
  {
   "cell_type": "code",
   "execution_count": 4,
   "metadata": {
    "lc_cell_meme": {
     "current": "a5135f28-495a-11e8-a267-0242ac130002",
     "history": [],
     "next": "a5136040-495a-11e8-a267-0242ac130002",
     "previous": "a5135e10-495a-11e8-a267-0242ac130002"
    }
   },
   "outputs": [
    {
     "data": {
      "text/plain": [
       "<googleapiclient.discovery.Resource at 0x7f97feed2590>"
      ]
     },
     "execution_count": 4,
     "metadata": {},
     "output_type": "execute_result"
    }
   ],
   "source": [
    "import os\n",
    "from oauth2client.client import GoogleCredentials\n",
    "\n",
    "credentials = GoogleCredentials.from_stream(os.path.expanduser(creds))\n",
    "compute = discovery.build('compute', 'v1', credentials=credentials)\n",
    "compute"
   ]
  },
  {
   "cell_type": "markdown",
   "metadata": {
    "lc_cell_meme": {
     "current": "a5136040-495a-11e8-a267-0242ac130002",
     "history": [],
     "next": "a5136162-495a-11e8-a267-0242ac130002",
     "previous": "a5135f28-495a-11e8-a267-0242ac130002"
    }
   },
   "source": [
    "## 削除対象の指定\n",
    "\n",
    "削除対象となるgroup名を定義する。"
   ]
  },
  {
   "cell_type": "code",
   "execution_count": 5,
   "metadata": {
    "collapsed": true,
    "lc_cell_meme": {
     "current": "a5136162-495a-11e8-a267-0242ac130002",
     "history": [],
     "next": "a5136284-495a-11e8-a267-0242ac130002",
     "previous": "a5136040-495a-11e8-a267-0242ac130002"
    }
   },
   "outputs": [],
   "source": [
    "target_group = 'test-gce'"
   ]
  },
  {
   "cell_type": "markdown",
   "metadata": {
    "lc_cell_meme": {
     "current": "a5136284-495a-11e8-a267-0242ac130002",
     "history": [],
     "next": "a513639c-495a-11e8-a267-0242ac130002",
     "previous": "a5136162-495a-11e8-a267-0242ac130002"
    }
   },
   "source": [
    "Bind対象への疎通状態を確認する。"
   ]
  },
  {
   "cell_type": "code",
   "execution_count": 6,
   "metadata": {
    "lc_cell_meme": {
     "current": "a513639c-495a-11e8-a267-0242ac130002",
     "history": [],
     "next": "a51364be-495a-11e8-a267-0242ac130002",
     "previous": "a5136284-495a-11e8-a267-0242ac130002"
    }
   },
   "outputs": [
    {
     "name": "stdout",
     "output_type": "stream",
     "text": [
      "\u001b[0;32mXXX.XXX.XXX.59 | SUCCESS => {\r\n",
      "    \"changed\": false, \r\n",
      "    \"ping\": \"pong\"\r\n",
      "}\u001b[0m\r\n"
     ]
    }
   ],
   "source": [
    "!ansible -m ping {target_group}"
   ]
  },
  {
   "cell_type": "markdown",
   "metadata": {
    "lc_cell_meme": {
     "current": "a51364be-495a-11e8-a267-0242ac130002",
     "history": [],
     "next": "a51365e0-495a-11e8-a267-0242ac130002",
     "previous": "a513639c-495a-11e8-a267-0242ac130002"
    }
   },
   "source": [
    "ゾーンの定義を設定する。"
   ]
  },
  {
   "cell_type": "code",
   "execution_count": 7,
   "metadata": {
    "collapsed": true,
    "lc_cell_meme": {
     "current": "a51365e0-495a-11e8-a267-0242ac130002",
     "history": [],
     "next": "a51366f8-495a-11e8-a267-0242ac130002",
     "previous": "a51364be-495a-11e8-a267-0242ac130002"
    }
   },
   "outputs": [],
   "source": [
    "target_zone = 'us-central1-f'"
   ]
  },
  {
   "cell_type": "markdown",
   "metadata": {
    "lc_cell_meme": {
     "current": "a51366f8-495a-11e8-a267-0242ac130002",
     "history": [],
     "next": "a513681a-495a-11e8-a267-0242ac130002",
     "previous": "a51365e0-495a-11e8-a267-0242ac130002"
    }
   },
   "source": [
    "# マシンの削除"
   ]
  },
  {
   "cell_type": "markdown",
   "metadata": {
    "lc_cell_meme": {
     "current": "a513681a-495a-11e8-a267-0242ac130002",
     "history": [],
     "next": "a513693c-495a-11e8-a267-0242ac130002",
     "previous": "a51366f8-495a-11e8-a267-0242ac130002"
    }
   },
   "source": [
    "対象のIPアドレスを列挙する。"
   ]
  },
  {
   "cell_type": "code",
   "execution_count": 8,
   "metadata": {
    "lc_cell_meme": {
     "current": "a513693c-495a-11e8-a267-0242ac130002",
     "history": [],
     "next": "a5136ae0-495a-11e8-a267-0242ac130002",
     "previous": "a513681a-495a-11e8-a267-0242ac130002"
    }
   },
   "outputs": [
    {
     "data": {
      "text/plain": [
       "['XXX.XXX.XXX.59']"
      ]
     },
     "execution_count": 8,
     "metadata": {},
     "output_type": "execute_result"
    }
   ],
   "source": [
    "ping_stdout = !ansible -m ping {target_group}\n",
    "import re\n",
    "pattern = re.compile(r'^([0-9\\.]+)\\s*\\|\\s*SUCCESS\\s+')\n",
    "ping_stdout = filter(lambda l: pattern.match(l), ping_stdout)\n",
    "ip_addresses = map(lambda l: pattern.match(l).group(1), ping_stdout)\n",
    "ip_addresses"
   ]
  },
  {
   "cell_type": "markdown",
   "metadata": {
    "lc_cell_meme": {
     "current": "a5136ae0-495a-11e8-a267-0242ac130002",
     "history": [],
     "next": "a5136c34-495a-11e8-a267-0242ac130002",
     "previous": "a513693c-495a-11e8-a267-0242ac130002"
    }
   },
   "source": [
    "対象のIPアドレスに対応するインスタンス名を列挙する。"
   ]
  },
  {
   "cell_type": "code",
   "execution_count": 9,
   "metadata": {
    "lc_cell_meme": {
     "current": "a5136c34-495a-11e8-a267-0242ac130002",
     "history": [],
     "next": "a5136d60-495a-11e8-a267-0242ac130002",
     "previous": "a5136ae0-495a-11e8-a267-0242ac130002"
    },
    "scrolled": true
   },
   "outputs": [
    {
     "data": {
      "text/plain": [
       "[u'test-gce']"
      ]
     },
     "execution_count": 9,
     "metadata": {},
     "output_type": "execute_result"
    }
   ],
   "source": [
    "vm_descs = compute.instances().list(project=target_project_id, zone=target_zone).execute()['items']\n",
    "vm_descs = filter(lambda i: filter(lambda interface: filter(lambda i: i['natIP'] in ip_addresses,\n",
    "                                                            interface['accessConfigs']), i['networkInterfaces']), vm_descs)\n",
    "vm_names = map(lambda i: i['name'], vm_descs)\n",
    "vm_names"
   ]
  },
  {
   "cell_type": "code",
   "execution_count": 10,
   "metadata": {
    "lc_cell_meme": {
     "current": "a5136d60-495a-11e8-a267-0242ac130002",
     "history": [],
     "next": "a5136e82-495a-11e8-a267-0242ac130002",
     "previous": "a5136c34-495a-11e8-a267-0242ac130002"
    }
   },
   "outputs": [],
   "source": [
    "assert(len(ip_addresses) == len(vm_names))"
   ]
  },
  {
   "cell_type": "code",
   "execution_count": 11,
   "metadata": {
    "lc_cell_meme": {
     "current": "a5136e82-495a-11e8-a267-0242ac130002",
     "history": [],
     "next": "a5136f9a-495a-11e8-a267-0242ac130002",
     "previous": "a5136d60-495a-11e8-a267-0242ac130002"
    }
   },
   "outputs": [
    {
     "data": {
      "text/plain": [
       "{u'id': u'649172682625639893',\n",
       " u'insertTime': u'2016-06-17T13:19:06.485-07:00',\n",
       " u'kind': u'compute#operation',\n",
       " u'name': u'operation-1466194746086-5357f11031271-ca798771-ffceb3aa',\n",
       " u'operationType': u'delete',\n",
       " u'progress': 0,\n",
       " u'selfLink': u'https://www.googleapis.com/compute/v1/projects/my_project_id/zones/us-central1-f/operations/operation-1466194746086-5357f11031271-ca798771-ffceb3aa',\n",
       " u'status': u'PENDING',\n",
       " u'targetId': u'7960517509428916462',\n",
       " u'targetLink': u'https://www.googleapis.com/compute/v1/projects/my_project_id/zones/us-central1-f/instances/test-gce',\n",
       " u'user': u'me@developer.gserviceaccount.com',\n",
       " u'zone': u'https://www.googleapis.com/compute/v1/projects/my_project_id/zones/us-central1-f'}"
      ]
     },
     "execution_count": 11,
     "metadata": {},
     "output_type": "execute_result"
    }
   ],
   "source": [
    "for vm_name in vm_names:\n",
    "    resp = compute.instances().delete(project=target_project_id, zone=target_zone, instance=vm_name).execute()\n",
    "resp"
   ]
  },
  {
   "cell_type": "markdown",
   "metadata": {
    "lc_cell_meme": {
     "current": "a5136f9a-495a-11e8-a267-0242ac130002",
     "history": [],
     "next": "a51370bc-495a-11e8-a267-0242ac130002",
     "previous": "a5136e82-495a-11e8-a267-0242ac130002"
    }
   },
   "source": [
    "# Inventoryの更新\n",
    "\n",
    "Inventoryに、作成したマシンのIPアドレスを追加する。変更する前に、現在の内容をコピーしておく。"
   ]
  },
  {
   "cell_type": "code",
   "execution_count": 12,
   "metadata": {
    "lc_cell_meme": {
     "current": "a51370bc-495a-11e8-a267-0242ac130002",
     "history": [],
     "next": "a51371de-495a-11e8-a267-0242ac130002",
     "previous": "a5136f9a-495a-11e8-a267-0242ac130002"
    }
   },
   "outputs": [
    {
     "data": {
      "text/plain": [
       "'/tmp/tmp2lf3Uy'"
      ]
     },
     "execution_count": 12,
     "metadata": {},
     "output_type": "execute_result"
    }
   ],
   "source": [
    "import tempfile\n",
    "work_dir = tempfile.mkdtemp()\n",
    "work_dir"
   ]
  },
  {
   "cell_type": "code",
   "execution_count": 13,
   "metadata": {
    "collapsed": true,
    "lc_cell_meme": {
     "current": "a51371de-495a-11e8-a267-0242ac130002",
     "history": [],
     "next": "a51372f6-495a-11e8-a267-0242ac130002",
     "previous": "a51370bc-495a-11e8-a267-0242ac130002"
    }
   },
   "outputs": [],
   "source": [
    "!cp inventory {work_dir}/inventory-old"
   ]
  },
  {
   "cell_type": "markdown",
   "metadata": {
    "lc_cell_meme": {
     "current": "a51372f6-495a-11e8-a267-0242ac130002",
     "history": [],
     "next": "a5137418-495a-11e8-a267-0242ac130002",
     "previous": "a51371de-495a-11e8-a267-0242ac130002"
    }
   },
   "source": [
    "[Inventory](../edit/inventory) を修正する。"
   ]
  },
  {
   "cell_type": "code",
   "execution_count": 14,
   "metadata": {
    "lc_cell_meme": {
     "current": "a5137418-495a-11e8-a267-0242ac130002",
     "history": [],
     "next": "a51375bc-495a-11e8-a267-0242ac130002",
     "previous": "a51372f6-495a-11e8-a267-0242ac130002"
    }
   },
   "outputs": [
    {
     "name": "stdout",
     "output_type": "stream",
     "text": [
      "--- /tmp/tmp2lf3Uy/inventory-old\t2016-06-18 05:19:14.221939266 +0900\r\n",
      "+++ inventory\t2016-06-18 05:19:19.965986220 +0900\r\n",
      "@@ -3,6 +3,3 @@\r\n",
      " \r\n",
      " [test-vm]\r\n",
      " XXX.XXX.XXX.66\r\n",
      "-\r\n",
      "-[test-gce]\r\n",
      "-XXX.XXX.XXX.59\r\n"
     ]
    }
   ],
   "source": [
    "!diff -ur {work_dir}/inventory-old inventory"
   ]
  },
  {
   "cell_type": "markdown",
   "metadata": {
    "lc_cell_meme": {
     "current": "a51375bc-495a-11e8-a267-0242ac130002",
     "history": [],
     "next": "a51376de-495a-11e8-a267-0242ac130002",
     "previous": "a5137418-495a-11e8-a267-0242ac130002"
    }
   },
   "source": [
    "Bind対象にpingが**通じない**かどうかを確認する。"
   ]
  },
  {
   "cell_type": "code",
   "execution_count": 15,
   "metadata": {
    "lc_cell_meme": {
     "current": "a51376de-495a-11e8-a267-0242ac130002",
     "history": [],
     "next": "a513780a-495a-11e8-a267-0242ac130002",
     "previous": "a51375bc-495a-11e8-a267-0242ac130002"
    }
   },
   "outputs": [
    {
     "name": "stdout",
     "output_type": "stream",
     "text": [
      "\u001b[1;35m [WARNING]: provided hosts list is empty, only localhost is available\r\n",
      "\u001b[0m\r\n"
     ]
    }
   ],
   "source": [
    "!ansible -m ping {target_group}"
   ]
  },
  {
   "cell_type": "markdown",
   "metadata": {
    "lc_cell_meme": {
     "current": "a513780a-495a-11e8-a267-0242ac130002",
     "history": [],
     "next": "a5137936-495a-11e8-a267-0242ac130002",
     "previous": "a51376de-495a-11e8-a267-0242ac130002"
    }
   },
   "source": [
    "意図した結果となった。これで完了とする。"
   ]
  },
  {
   "cell_type": "markdown",
   "metadata": {
    "lc_cell_meme": {
     "current": "a5137936-495a-11e8-a267-0242ac130002",
     "history": [],
     "next": "a5137e68-495a-11e8-a267-0242ac130002",
     "previous": "a513780a-495a-11e8-a267-0242ac130002"
    }
   },
   "source": [
    "# 後始末\n",
    "\n",
    "一時ディレクトリを削除する。"
   ]
  },
  {
   "cell_type": "code",
   "execution_count": 16,
   "metadata": {
    "collapsed": true,
    "lc_cell_meme": {
     "current": "a5137e68-495a-11e8-a267-0242ac130002",
     "history": [],
     "next": "a5138048-495a-11e8-a267-0242ac130002",
     "previous": "a5137936-495a-11e8-a267-0242ac130002"
    }
   },
   "outputs": [],
   "source": [
    "!rm -fr {work_dir}"
   ]
  },
  {
   "cell_type": "code",
   "execution_count": null,
   "metadata": {
    "collapsed": true,
    "lc_cell_meme": {
     "current": "a5138048-495a-11e8-a267-0242ac130002",
     "history": [],
     "next": null,
     "previous": "a5137e68-495a-11e8-a267-0242ac130002"
    }
   },
   "outputs": [],
   "source": []
  }
 ],
 "metadata": {
  "kernelspec": {
   "display_name": "Python 2",
   "language": "python",
   "name": "python2"
  },
  "language_info": {
   "codemirror_mode": {
    "name": "ipython",
    "version": 2
   },
   "file_extension": ".py",
   "mimetype": "text/x-python",
   "name": "python",
   "nbconvert_exporter": "python",
   "pygments_lexer": "ipython2",
   "version": "2.7.9"
  },
  "lc_notebook_meme": {
   "current": "a5134ce0-495a-11e8-a267-0242ac130002",
   "history": [],
   "root_cells": [
    "a5135154-495a-11e8-a267-0242ac130002",
    "a5135406-495a-11e8-a267-0242ac130002",
    "a51355f0-495a-11e8-a267-0242ac130002",
    "a5135726-495a-11e8-a267-0242ac130002",
    "a5135866-495a-11e8-a267-0242ac130002",
    "a5135988-495a-11e8-a267-0242ac130002",
    "a5135aaa-495a-11e8-a267-0242ac130002",
    "a5135bcc-495a-11e8-a267-0242ac130002",
    "a5135cee-495a-11e8-a267-0242ac130002",
    "a5135e10-495a-11e8-a267-0242ac130002",
    "a5135f28-495a-11e8-a267-0242ac130002",
    "a5136040-495a-11e8-a267-0242ac130002",
    "a5136162-495a-11e8-a267-0242ac130002",
    "a5136284-495a-11e8-a267-0242ac130002",
    "a513639c-495a-11e8-a267-0242ac130002",
    "a51364be-495a-11e8-a267-0242ac130002",
    "a51365e0-495a-11e8-a267-0242ac130002",
    "a51366f8-495a-11e8-a267-0242ac130002",
    "a513681a-495a-11e8-a267-0242ac130002",
    "a513693c-495a-11e8-a267-0242ac130002",
    "a5136ae0-495a-11e8-a267-0242ac130002",
    "a5136c34-495a-11e8-a267-0242ac130002",
    "a5136d60-495a-11e8-a267-0242ac130002",
    "a5136e82-495a-11e8-a267-0242ac130002",
    "a5136f9a-495a-11e8-a267-0242ac130002",
    "a51370bc-495a-11e8-a267-0242ac130002",
    "a51371de-495a-11e8-a267-0242ac130002",
    "a51372f6-495a-11e8-a267-0242ac130002",
    "a5137418-495a-11e8-a267-0242ac130002",
    "a51375bc-495a-11e8-a267-0242ac130002",
    "a51376de-495a-11e8-a267-0242ac130002",
    "a513780a-495a-11e8-a267-0242ac130002",
    "a5137936-495a-11e8-a267-0242ac130002",
    "a5137e68-495a-11e8-a267-0242ac130002",
    "a5138048-495a-11e8-a267-0242ac130002"
   ]
  },
  "toc": {
   "base_numbering": 1,
   "nav_menu": {},
   "number_sections": true,
   "sideBar": true,
   "skip_h1_title": false,
   "title_cell": "Table of Contents",
   "title_sidebar": "Contents",
   "toc_cell": false,
   "toc_position": {},
   "toc_section_display": true,
   "toc_window_display": false
  }
 },
 "nbformat": 4,
 "nbformat_minor": 1
}

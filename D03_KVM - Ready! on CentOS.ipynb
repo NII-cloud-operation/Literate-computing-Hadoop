{
 "cells": [
  {
   "cell_type": "markdown",
   "metadata": {},
   "source": [
    "# About: KVM - Ready! on CentOS\n",
    "\n",
    "---\n",
    "\n",
    "Install KVM onto a host machine of CentOS.\n",
    "\n",
    "CentOSで動いているホストに対して、KVMをインストールする。<br>\n",
    "以下の前提条件に基づいて作成されている。適宜読み替えをおこなうこと。\n",
    "\n",
    "- OS: CentOS 6 (Notebook作成時は6.7)\n",
    "- NIC: 外向けネットワークのインタフェース名は *eth1* とし、仮想マシンはeth1を介して直接(NATせずに)外部ネットワークと通信をおこなう\n",
    "    - VMへのIPアドレス割り当てはdnsmasqを使う"
   ]
  },
  {
   "cell_type": "markdown",
   "metadata": {},
   "source": [
    "## *Operation Note*\n",
    "\n",
    "*This is a cell for your own recording.  ここに経緯を記述*"
   ]
  },
  {
   "cell_type": "markdown",
   "metadata": {},
   "source": [
    "# Notebookと対象(Baremetalマシン)のBinding\n",
    "\n",
    "Inventory中のgroup名でBind対象を指示する。"
   ]
  },
  {
   "cell_type": "code",
   "execution_count": 1,
   "metadata": {
    "ExecuteTime": {
     "end_time": "2016-04-18T11:29:31.709901",
     "start_time": "2016-04-18T11:29:31.701534"
    },
    "collapsed": false
   },
   "outputs": [],
   "source": [
    "target_group = 'test-hypervisor'"
   ]
  },
  {
   "cell_type": "markdown",
   "metadata": {},
   "source": [
    "Bind対象への疎通状態を確認する。"
   ]
  },
  {
   "cell_type": "code",
   "execution_count": 2,
   "metadata": {
    "ExecuteTime": {
     "end_time": "2016-04-18T11:29:34.018133",
     "start_time": "2016-04-18T11:29:32.673681"
    },
    "collapsed": false
   },
   "outputs": [
    {
     "name": "stdout",
     "output_type": "stream",
     "text": [
      "\u001b[0;32mXXX.XXX.XXX.105 | SUCCESS => {\r\n",
      "    \"changed\": false, \r\n",
      "    \"ping\": \"pong\"\r\n",
      "}\u001b[0m\r\n"
     ]
    }
   ],
   "source": [
    "!ansible -m ping {target_group}"
   ]
  },
  {
   "cell_type": "markdown",
   "metadata": {},
   "source": [
    "## CPUの確認\n",
    "\n",
    "KVMをインストールしVMを作成、利用するためには、Virtualization Technology (VT)が有効にされている必要がある。\n",
    "\n",
    "以下のコマンド出力が1行以上であれば(svm, vmxをflagsに含むCPUが1つ以上あれば)OK。"
   ]
  },
  {
   "cell_type": "code",
   "execution_count": 3,
   "metadata": {
    "collapsed": false
   },
   "outputs": [
    {
     "name": "stdout",
     "output_type": "stream",
     "text": [
      "\u001b[0;32mXXX.XXX.XXX.105 | SUCCESS | rc=0 >>\r\n",
      "flags\t\t: fpu vme de pse tsc msr pae mce cx8 apic sep mtrr pge mca cmov pat pse36 clflush dts acpi mmx fxsr sse sse2 ss ht tm pbe syscall nx pdpe1gb rdtscp lm constant_tsc arch_perfmon pebs bts rep_good xtopology nonstop_tsc aperfmperf pni pclmulqdq dtes64 monitor ds_cpl vmx smx est tm2 ssse3 fma cx16 xtpr pdcm pcid dca sse4_1 sse4_2 x2apic movbe popcnt tsc_deadline_timer aes xsave avx f16c rdrand lahf_lm abm ida arat epb xsaveopt pln pts dts tpr_shadow vnmi flexpriority ept vpid fsgsbase bmi1 avx2 smep bmi2 erms invpcid\r\n",
      "flags\t\t: fpu vme de pse tsc msr pae mce cx8 apic sep mtrr pge mca cmov pat pse36 clflush dts acpi mmx fxsr sse sse2 ss ht tm pbe syscall nx pdpe1gb rdtscp lm constant_tsc arch_perfmon pebs bts rep_good xtopology nonstop_tsc aperfmperf pni pclmulqdq dtes64 monitor ds_cpl vmx smx est tm2 ssse3 fma cx16 xtpr pdcm pcid dca sse4_1 sse4_2 x2apic movbe popcnt tsc_deadline_timer aes xsave avx f16c rdrand lahf_lm abm ida arat epb xsaveopt pln pts dts tpr_shadow vnmi flexpriority ept vpid fsgsbase bmi1 avx2 smep bmi2 erms invpcid\r\n",
      "flags\t\t: fpu vme de pse tsc msr pae mce cx8 apic sep mtrr pge mca cmov pat pse36 clflush dts acpi mmx fxsr sse sse2 ss ht tm pbe syscall nx pdpe1gb rdtscp lm constant_tsc arch_perfmon pebs bts rep_good xtopology nonstop_tsc aperfmperf pni pclmulqdq dtes64 monitor ds_cpl vmx smx est tm2 ssse3 fma cx16 xtpr pdcm pcid dca sse4_1 sse4_2 x2apic movbe popcnt tsc_deadline_timer aes xsave avx f16c rdrand lahf_lm abm ida arat epb xsaveopt pln pts dts tpr_shadow vnmi flexpriority ept vpid fsgsbase bmi1 avx2 smep bmi2 erms invpcid\r\n",
      "flags\t\t: fpu vme de pse tsc msr pae mce cx8 apic sep mtrr pge mca cmov pat pse36 clflush dts acpi mmx fxsr sse sse2 ss ht tm pbe syscall nx pdpe1gb rdtscp lm constant_tsc arch_perfmon pebs bts rep_good xtopology nonstop_tsc aperfmperf pni pclmulqdq dtes64 monitor ds_cpl vmx smx est tm2 ssse3 fma cx16 xtpr pdcm pcid dca sse4_1 sse4_2 x2apic movbe popcnt tsc_deadline_timer aes xsave avx f16c rdrand lahf_lm abm ida arat epb xsaveopt pln pts dts tpr_shadow vnmi flexpriority ept vpid fsgsbase bmi1 avx2 smep bmi2 erms invpcid\r\n",
      "flags\t\t: fpu vme de pse tsc msr pae mce cx8 apic sep mtrr pge mca cmov pat pse36 clflush dts acpi mmx fxsr sse sse2 ss ht tm pbe syscall nx pdpe1gb rdtscp lm constant_tsc arch_perfmon pebs bts rep_good xtopology nonstop_tsc aperfmperf pni pclmulqdq dtes64 monitor ds_cpl vmx smx est tm2 ssse3 fma cx16 xtpr pdcm pcid dca sse4_1 sse4_2 x2apic movbe popcnt tsc_deadline_timer aes xsave avx f16c rdrand lahf_lm abm ida arat epb xsaveopt pln pts dts tpr_shadow vnmi flexpriority ept vpid fsgsbase bmi1 avx2 smep bmi2 erms invpcid\r\n",
      "flags\t\t: fpu vme de pse tsc msr pae mce cx8 apic sep mtrr pge mca cmov pat pse36 clflush dts acpi mmx fxsr sse sse2 ss ht tm pbe syscall nx pdpe1gb rdtscp lm constant_tsc arch_perfmon pebs bts rep_good xtopology nonstop_tsc aperfmperf pni pclmulqdq dtes64 monitor ds_cpl vmx smx est tm2 ssse3 fma cx16 xtpr pdcm pcid dca sse4_1 sse4_2 x2apic movbe popcnt tsc_deadline_timer aes xsave avx f16c rdrand lahf_lm abm ida arat epb xsaveopt pln pts dts tpr_shadow vnmi flexpriority ept vpid fsgsbase bmi1 avx2 smep bmi2 erms invpcid\r\n",
      "flags\t\t: fpu vme de pse tsc msr pae mce cx8 apic sep mtrr pge mca cmov pat pse36 clflush dts acpi mmx fxsr sse sse2 ss ht tm pbe syscall nx pdpe1gb rdtscp lm constant_tsc arch_perfmon pebs bts rep_good xtopology nonstop_tsc aperfmperf pni pclmulqdq dtes64 monitor ds_cpl vmx smx est tm2 ssse3 fma cx16 xtpr pdcm pcid dca sse4_1 sse4_2 x2apic movbe popcnt tsc_deadline_timer aes xsave avx f16c rdrand lahf_lm abm ida arat epb xsaveopt pln pts dts tpr_shadow vnmi flexpriority ept vpid fsgsbase bmi1 avx2 smep bmi2 erms invpcid\r\n",
      "flags\t\t: fpu vme de pse tsc msr pae mce cx8 apic sep mtrr pge mca cmov pat pse36 clflush dts acpi mmx fxsr sse sse2 ss ht tm pbe syscall nx pdpe1gb rdtscp lm constant_tsc arch_perfmon pebs bts rep_good xtopology nonstop_tsc aperfmperf pni pclmulqdq dtes64 monitor ds_cpl vmx smx est tm2 ssse3 fma cx16 xtpr pdcm pcid dca sse4_1 sse4_2 x2apic movbe popcnt tsc_deadline_timer aes xsave avx f16c rdrand lahf_lm abm ida arat epb xsaveopt pln pts dts tpr_shadow vnmi flexpriority ept vpid fsgsbase bmi1 avx2 smep bmi2 erms invpcid\r\n",
      "flags\t\t: fpu vme de pse tsc msr pae mce cx8 apic sep mtrr pge mca cmov pat pse36 clflush dts acpi mmx fxsr sse sse2 ss ht tm pbe syscall nx pdpe1gb rdtscp lm constant_tsc arch_perfmon pebs bts rep_good xtopology nonstop_tsc aperfmperf pni pclmulqdq dtes64 monitor ds_cpl vmx smx est tm2 ssse3 fma cx16 xtpr pdcm pcid dca sse4_1 sse4_2 x2apic movbe popcnt tsc_deadline_timer aes xsave avx f16c rdrand lahf_lm abm ida arat epb xsaveopt pln pts dts tpr_shadow vnmi flexpriority ept vpid fsgsbase bmi1 avx2 smep bmi2 erms invpcid\r\n",
      "flags\t\t: fpu vme de pse tsc msr pae mce cx8 apic sep mtrr pge mca cmov pat pse36 clflush dts acpi mmx fxsr sse sse2 ss ht tm pbe syscall nx pdpe1gb rdtscp lm constant_tsc arch_perfmon pebs bts rep_good xtopology nonstop_tsc aperfmperf pni pclmulqdq dtes64 monitor ds_cpl vmx smx est tm2 ssse3 fma cx16 xtpr pdcm pcid dca sse4_1 sse4_2 x2apic movbe popcnt tsc_deadline_timer aes xsave avx f16c rdrand lahf_lm abm ida arat epb xsaveopt pln pts dts tpr_shadow vnmi flexpriority ept vpid fsgsbase bmi1 avx2 smep bmi2 erms invpcid\r\n",
      "flags\t\t: fpu vme de pse tsc msr pae mce cx8 apic sep mtrr pge mca cmov pat pse36 clflush dts acpi mmx fxsr sse sse2 ss ht tm pbe syscall nx pdpe1gb rdtscp lm constant_tsc arch_perfmon pebs bts rep_good xtopology nonstop_tsc aperfmperf pni pclmulqdq dtes64 monitor ds_cpl vmx smx est tm2 ssse3 fma cx16 xtpr pdcm pcid dca sse4_1 sse4_2 x2apic movbe popcnt tsc_deadline_timer aes xsave avx f16c rdrand lahf_lm abm ida arat epb xsaveopt pln pts dts tpr_shadow vnmi flexpriority ept vpid fsgsbase bmi1 avx2 smep bmi2 erms invpcid\r\n",
      "flags\t\t: fpu vme de pse tsc msr pae mce cx8 apic sep mtrr pge mca cmov pat pse36 clflush dts acpi mmx fxsr sse sse2 ss ht tm pbe syscall nx pdpe1gb rdtscp lm constant_tsc arch_perfmon pebs bts rep_good xtopology nonstop_tsc aperfmperf pni pclmulqdq dtes64 monitor ds_cpl vmx smx est tm2 ssse3 fma cx16 xtpr pdcm pcid dca sse4_1 sse4_2 x2apic movbe popcnt tsc_deadline_timer aes xsave avx f16c rdrand lahf_lm abm ida arat epb xsaveopt pln pts dts tpr_shadow vnmi flexpriority ept vpid fsgsbase bmi1 avx2 smep bmi2 erms invpcid\r\n",
      "flags\t\t: fpu vme de pse tsc msr pae mce cx8 apic sep mtrr pge mca cmov pat pse36 clflush dts acpi mmx fxsr sse sse2 ss ht tm pbe syscall nx pdpe1gb rdtscp lm constant_tsc arch_perfmon pebs bts rep_good xtopology nonstop_tsc aperfmperf pni pclmulqdq dtes64 monitor ds_cpl vmx smx est tm2 ssse3 fma cx16 xtpr pdcm pcid dca sse4_1 sse4_2 x2apic movbe popcnt tsc_deadline_timer aes xsave avx f16c rdrand lahf_lm abm ida arat epb xsaveopt pln pts dts tpr_shadow vnmi flexpriority ept vpid fsgsbase bmi1 avx2 smep bmi2 erms invpcid\r\n",
      "flags\t\t: fpu vme de pse tsc msr pae mce cx8 apic sep mtrr pge mca cmov pat pse36 clflush dts acpi mmx fxsr sse sse2 ss ht tm pbe syscall nx pdpe1gb rdtscp lm constant_tsc arch_perfmon pebs bts rep_good xtopology nonstop_tsc aperfmperf pni pclmulqdq dtes64 monitor ds_cpl vmx smx est tm2 ssse3 fma cx16 xtpr pdcm pcid dca sse4_1 sse4_2 x2apic movbe popcnt tsc_deadline_timer aes xsave avx f16c rdrand lahf_lm abm ida arat epb xsaveopt pln pts dts tpr_shadow vnmi flexpriority ept vpid fsgsbase bmi1 avx2 smep bmi2 erms invpcid\r\n",
      "flags\t\t: fpu vme de pse tsc msr pae mce cx8 apic sep mtrr pge mca cmov pat pse36 clflush dts acpi mmx fxsr sse sse2 ss ht tm pbe syscall nx pdpe1gb rdtscp lm constant_tsc arch_perfmon pebs bts rep_good xtopology nonstop_tsc aperfmperf pni pclmulqdq dtes64 monitor ds_cpl vmx smx est tm2 ssse3 fma cx16 xtpr pdcm pcid dca sse4_1 sse4_2 x2apic movbe popcnt tsc_deadline_timer aes xsave avx f16c rdrand lahf_lm abm ida arat epb xsaveopt pln pts dts tpr_shadow vnmi flexpriority ept vpid fsgsbase bmi1 avx2 smep bmi2 erms invpcid\r\n",
      "flags\t\t: fpu vme de pse tsc msr pae mce cx8 apic sep mtrr pge mca cmov pat pse36 clflush dts acpi mmx fxsr sse sse2 ss ht tm pbe syscall nx pdpe1gb rdtscp lm constant_tsc arch_perfmon pebs bts rep_good xtopology nonstop_tsc aperfmperf pni pclmulqdq dtes64 monitor ds_cpl vmx smx est tm2 ssse3 fma cx16 xtpr pdcm pcid dca sse4_1 sse4_2 x2apic movbe popcnt tsc_deadline_timer aes xsave avx f16c rdrand lahf_lm abm ida arat epb xsaveopt pln pts dts tpr_shadow vnmi flexpriority ept vpid fsgsbase bmi1 avx2 smep bmi2 erms invpcid\r\n",
      "flags\t\t: fpu vme de pse tsc msr pae mce cx8 apic sep mtrr pge mca cmov pat pse36 clflush dts acpi mmx fxsr sse sse2 ss ht tm pbe syscall nx pdpe1gb rdtscp lm constant_tsc arch_perfmon pebs bts rep_good xtopology nonstop_tsc aperfmperf pni pclmulqdq dtes64 monitor ds_cpl vmx smx est tm2 ssse3 fma cx16 xtpr pdcm pcid dca sse4_1 sse4_2 x2apic movbe popcnt tsc_deadline_timer aes xsave avx f16c rdrand lahf_lm abm ida arat epb xsaveopt pln pts dts tpr_shadow vnmi flexpriority ept vpid fsgsbase bmi1 avx2 smep bmi2 erms invpcid\r\n",
      "flags\t\t: fpu vme de pse tsc msr pae mce cx8 apic sep mtrr pge mca cmov pat pse36 clflush dts acpi mmx fxsr sse sse2 ss ht tm pbe syscall nx pdpe1gb rdtscp lm constant_tsc arch_perfmon pebs bts rep_good xtopology nonstop_tsc aperfmperf pni pclmulqdq dtes64 monitor ds_cpl vmx smx est tm2 ssse3 fma cx16 xtpr pdcm pcid dca sse4_1 sse4_2 x2apic movbe popcnt tsc_deadline_timer aes xsave avx f16c rdrand lahf_lm abm ida arat epb xsaveopt pln pts dts tpr_shadow vnmi flexpriority ept vpid fsgsbase bmi1 avx2 smep bmi2 erms invpcid\r\n",
      "flags\t\t: fpu vme de pse tsc msr pae mce cx8 apic sep mtrr pge mca cmov pat pse36 clflush dts acpi mmx fxsr sse sse2 ss ht tm pbe syscall nx pdpe1gb rdtscp lm constant_tsc arch_perfmon pebs bts rep_good xtopology nonstop_tsc aperfmperf pni pclmulqdq dtes64 monitor ds_cpl vmx smx est tm2 ssse3 fma cx16 xtpr pdcm pcid dca sse4_1 sse4_2 x2apic movbe popcnt tsc_deadline_timer aes xsave avx f16c rdrand lahf_lm abm ida arat epb xsaveopt pln pts dts tpr_shadow vnmi flexpriority ept vpid fsgsbase bmi1 avx2 smep bmi2 erms invpcid\r\n",
      "flags\t\t: fpu vme de pse tsc msr pae mce cx8 apic sep mtrr pge mca cmov pat pse36 clflush dts acpi mmx fxsr sse sse2 ss ht tm pbe syscall nx pdpe1gb rdtscp lm constant_tsc arch_perfmon pebs bts rep_good xtopology nonstop_tsc aperfmperf pni pclmulqdq dtes64 monitor ds_cpl vmx smx est tm2 ssse3 fma cx16 xtpr pdcm pcid dca sse4_1 sse4_2 x2apic movbe popcnt tsc_deadline_timer aes xsave avx f16c rdrand lahf_lm abm ida arat epb xsaveopt pln pts dts tpr_shadow vnmi flexpriority ept vpid fsgsbase bmi1 avx2 smep bmi2 erms invpcid\r\n",
      "flags\t\t: fpu vme de pse tsc msr pae mce cx8 apic sep mtrr pge mca cmov pat pse36 clflush dts acpi mmx fxsr sse sse2 ss ht tm pbe syscall nx pdpe1gb rdtscp lm constant_tsc arch_perfmon pebs bts rep_good xtopology nonstop_tsc aperfmperf pni pclmulqdq dtes64 monitor ds_cpl vmx smx est tm2 ssse3 fma cx16 xtpr pdcm pcid dca sse4_1 sse4_2 x2apic movbe popcnt tsc_deadline_timer aes xsave avx f16c rdrand lahf_lm abm ida arat epb xsaveopt pln pts dts tpr_shadow vnmi flexpriority ept vpid fsgsbase bmi1 avx2 smep bmi2 erms invpcid\r\n",
      "flags\t\t: fpu vme de pse tsc msr pae mce cx8 apic sep mtrr pge mca cmov pat pse36 clflush dts acpi mmx fxsr sse sse2 ss ht tm pbe syscall nx pdpe1gb rdtscp lm constant_tsc arch_perfmon pebs bts rep_good xtopology nonstop_tsc aperfmperf pni pclmulqdq dtes64 monitor ds_cpl vmx smx est tm2 ssse3 fma cx16 xtpr pdcm pcid dca sse4_1 sse4_2 x2apic movbe popcnt tsc_deadline_timer aes xsave avx f16c rdrand lahf_lm abm ida arat epb xsaveopt pln pts dts tpr_shadow vnmi flexpriority ept vpid fsgsbase bmi1 avx2 smep bmi2 erms invpcid\r\n",
      "flags\t\t: fpu vme de pse tsc msr pae mce cx8 apic sep mtrr pge mca cmov pat pse36 clflush dts acpi mmx fxsr sse sse2 ss ht tm pbe syscall nx pdpe1gb rdtscp lm constant_tsc arch_perfmon pebs bts rep_good xtopology nonstop_tsc aperfmperf pni pclmulqdq dtes64 monitor ds_cpl vmx smx est tm2 ssse3 fma cx16 xtpr pdcm pcid dca sse4_1 sse4_2 x2apic movbe popcnt tsc_deadline_timer aes xsave avx f16c rdrand lahf_lm abm ida arat epb xsaveopt pln pts dts tpr_shadow vnmi flexpriority ept vpid fsgsbase bmi1 avx2 smep bmi2 erms invpcid\r\n",
      "flags\t\t: fpu vme de pse tsc msr pae mce cx8 apic sep mtrr pge mca cmov pat pse36 clflush dts acpi mmx fxsr sse sse2 ss ht tm pbe syscall nx pdpe1gb rdtscp lm constant_tsc arch_perfmon pebs bts rep_good xtopology nonstop_tsc aperfmperf pni pclmulqdq dtes64 monitor ds_cpl vmx smx est tm2 ssse3 fma cx16 xtpr pdcm pcid dca sse4_1 sse4_2 x2apic movbe popcnt tsc_deadline_timer aes xsave avx f16c rdrand lahf_lm abm ida arat epb xsaveopt pln pts dts tpr_shadow vnmi flexpriority ept vpid fsgsbase bmi1 avx2 smep bmi2 erms invpcid\r\n",
      "flags\t\t: fpu vme de pse tsc msr pae mce cx8 apic sep mtrr pge mca cmov pat pse36 clflush dts acpi mmx fxsr sse sse2 ss ht tm pbe syscall nx pdpe1gb rdtscp lm constant_tsc arch_perfmon pebs bts rep_good xtopology nonstop_tsc aperfmperf pni pclmulqdq dtes64 monitor ds_cpl vmx smx est tm2 ssse3 fma cx16 xtpr pdcm pcid dca sse4_1 sse4_2 x2apic movbe popcnt tsc_deadline_timer aes xsave avx f16c rdrand lahf_lm abm ida arat epb xsaveopt pln pts dts tpr_shadow vnmi flexpriority ept vpid fsgsbase bmi1 avx2 smep bmi2 erms invpcid\r\n",
      "flags\t\t: fpu vme de pse tsc msr pae mce cx8 apic sep mtrr pge mca cmov pat pse36 clflush dts acpi mmx fxsr sse sse2 ss ht tm pbe syscall nx pdpe1gb rdtscp lm constant_tsc arch_perfmon pebs bts rep_good xtopology nonstop_tsc aperfmperf pni pclmulqdq dtes64 monitor ds_cpl vmx smx est tm2 ssse3 fma cx16 xtpr pdcm pcid dca sse4_1 sse4_2 x2apic movbe popcnt tsc_deadline_timer aes xsave avx f16c rdrand lahf_lm abm ida arat epb xsaveopt pln pts dts tpr_shadow vnmi flexpriority ept vpid fsgsbase bmi1 avx2 smep bmi2 erms invpcid\r\n",
      "flags\t\t: fpu vme de pse tsc msr pae mce cx8 apic sep mtrr pge mca cmov pat pse36 clflush dts acpi mmx fxsr sse sse2 ss ht tm pbe syscall nx pdpe1gb rdtscp lm constant_tsc arch_perfmon pebs bts rep_good xtopology nonstop_tsc aperfmperf pni pclmulqdq dtes64 monitor ds_cpl vmx smx est tm2 ssse3 fma cx16 xtpr pdcm pcid dca sse4_1 sse4_2 x2apic movbe popcnt tsc_deadline_timer aes xsave avx f16c rdrand lahf_lm abm ida arat epb xsaveopt pln pts dts tpr_shadow vnmi flexpriority ept vpid fsgsbase bmi1 avx2 smep bmi2 erms invpcid\r\n",
      "flags\t\t: fpu vme de pse tsc msr pae mce cx8 apic sep mtrr pge mca cmov pat pse36 clflush dts acpi mmx fxsr sse sse2 ss ht tm pbe syscall nx pdpe1gb rdtscp lm constant_tsc arch_perfmon pebs bts rep_good xtopology nonstop_tsc aperfmperf pni pclmulqdq dtes64 monitor ds_cpl vmx smx est tm2 ssse3 fma cx16 xtpr pdcm pcid dca sse4_1 sse4_2 x2apic movbe popcnt tsc_deadline_timer aes xsave avx f16c rdrand lahf_lm abm ida arat epb xsaveopt pln pts dts tpr_shadow vnmi flexpriority ept vpid fsgsbase bmi1 avx2 smep bmi2 erms invpcid\r\n",
      "flags\t\t: fpu vme de pse tsc msr pae mce cx8 apic sep mtrr pge mca cmov pat pse36 clflush dts acpi mmx fxsr sse sse2 ss ht tm pbe syscall nx pdpe1gb rdtscp lm constant_tsc arch_perfmon pebs bts rep_good xtopology nonstop_tsc aperfmperf pni pclmulqdq dtes64 monitor ds_cpl vmx smx est tm2 ssse3 fma cx16 xtpr pdcm pcid dca sse4_1 sse4_2 x2apic movbe popcnt tsc_deadline_timer aes xsave avx f16c rdrand lahf_lm abm ida arat epb xsaveopt pln pts dts tpr_shadow vnmi flexpriority ept vpid fsgsbase bmi1 avx2 smep bmi2 erms invpcid\r\n",
      "flags\t\t: fpu vme de pse tsc msr pae mce cx8 apic sep mtrr pge mca cmov pat pse36 clflush dts acpi mmx fxsr sse sse2 ss ht tm pbe syscall nx pdpe1gb rdtscp lm constant_tsc arch_perfmon pebs bts rep_good xtopology nonstop_tsc aperfmperf pni pclmulqdq dtes64 monitor ds_cpl vmx smx est tm2 ssse3 fma cx16 xtpr pdcm pcid dca sse4_1 sse4_2 x2apic movbe popcnt tsc_deadline_timer aes xsave avx f16c rdrand lahf_lm abm ida arat epb xsaveopt pln pts dts tpr_shadow vnmi flexpriority ept vpid fsgsbase bmi1 avx2 smep bmi2 erms invpcid\r\n",
      "flags\t\t: fpu vme de pse tsc msr pae mce cx8 apic sep mtrr pge mca cmov pat pse36 clflush dts acpi mmx fxsr sse sse2 ss ht tm pbe syscall nx pdpe1gb rdtscp lm constant_tsc arch_perfmon pebs bts rep_good xtopology nonstop_tsc aperfmperf pni pclmulqdq dtes64 monitor ds_cpl vmx smx est tm2 ssse3 fma cx16 xtpr pdcm pcid dca sse4_1 sse4_2 x2apic movbe popcnt tsc_deadline_timer aes xsave avx f16c rdrand lahf_lm abm ida arat epb xsaveopt pln pts dts tpr_shadow vnmi flexpriority ept vpid fsgsbase bmi1 avx2 smep bmi2 erms invpcid\r\n",
      "flags\t\t: fpu vme de pse tsc msr pae mce cx8 apic sep mtrr pge mca cmov pat pse36 clflush dts acpi mmx fxsr sse sse2 ss ht tm pbe syscall nx pdpe1gb rdtscp lm constant_tsc arch_perfmon pebs bts rep_good xtopology nonstop_tsc aperfmperf pni pclmulqdq dtes64 monitor ds_cpl vmx smx est tm2 ssse3 fma cx16 xtpr pdcm pcid dca sse4_1 sse4_2 x2apic movbe popcnt tsc_deadline_timer aes xsave avx f16c rdrand lahf_lm abm ida arat epb xsaveopt pln pts dts tpr_shadow vnmi flexpriority ept vpid fsgsbase bmi1 avx2 smep bmi2 erms invpcid\r\n",
      "flags\t\t: fpu vme de pse tsc msr pae mce cx8 apic sep mtrr pge mca cmov pat pse36 clflush dts acpi mmx fxsr sse sse2 ss ht tm pbe syscall nx pdpe1gb rdtscp lm constant_tsc arch_perfmon pebs bts rep_good xtopology nonstop_tsc aperfmperf pni pclmulqdq dtes64 monitor ds_cpl vmx smx est tm2 ssse3 fma cx16 xtpr pdcm pcid dca sse4_1 sse4_2 x2apic movbe popcnt tsc_deadline_timer aes xsave avx f16c rdrand lahf_lm abm ida arat epb xsaveopt pln pts dts tpr_shadow vnmi flexpriority ept vpid fsgsbase bmi1 avx2 smep bmi2 erms invpcid\r\n",
      "flags\t\t: fpu vme de pse tsc msr pae mce cx8 apic sep mtrr pge mca cmov pat pse36 clflush dts acpi mmx fxsr sse sse2 ss ht tm pbe syscall nx pdpe1gb rdtscp lm constant_tsc arch_perfmon pebs bts rep_good xtopology nonstop_tsc aperfmperf pni pclmulqdq dtes64 monitor ds_cpl vmx smx est tm2 ssse3 fma cx16 xtpr pdcm pcid dca sse4_1 sse4_2 x2apic movbe popcnt tsc_deadline_timer aes xsave avx f16c rdrand lahf_lm abm ida arat epb xsaveopt pln pts dts tpr_shadow vnmi flexpriority ept vpid fsgsbase bmi1 avx2 smep bmi2 erms invpcid\r\n",
      "flags\t\t: fpu vme de pse tsc msr pae mce cx8 apic sep mtrr pge mca cmov pat pse36 clflush dts acpi mmx fxsr sse sse2 ss ht tm pbe syscall nx pdpe1gb rdtscp lm constant_tsc arch_perfmon pebs bts rep_good xtopology nonstop_tsc aperfmperf pni pclmulqdq dtes64 monitor ds_cpl vmx smx est tm2 ssse3 fma cx16 xtpr pdcm pcid dca sse4_1 sse4_2 x2apic movbe popcnt tsc_deadline_timer aes xsave avx f16c rdrand lahf_lm abm ida arat epb xsaveopt pln pts dts tpr_shadow vnmi flexpriority ept vpid fsgsbase bmi1 avx2 smep bmi2 erms invpcid\r\n",
      "flags\t\t: fpu vme de pse tsc msr pae mce cx8 apic sep mtrr pge mca cmov pat pse36 clflush dts acpi mmx fxsr sse sse2 ss ht tm pbe syscall nx pdpe1gb rdtscp lm constant_tsc arch_perfmon pebs bts rep_good xtopology nonstop_tsc aperfmperf pni pclmulqdq dtes64 monitor ds_cpl vmx smx est tm2 ssse3 fma cx16 xtpr pdcm pcid dca sse4_1 sse4_2 x2apic movbe popcnt tsc_deadline_timer aes xsave avx f16c rdrand lahf_lm abm ida arat epb xsaveopt pln pts dts tpr_shadow vnmi flexpriority ept vpid fsgsbase bmi1 avx2 smep bmi2 erms invpcid\r\n",
      "flags\t\t: fpu vme de pse tsc msr pae mce cx8 apic sep mtrr pge mca cmov pat pse36 clflush dts acpi mmx fxsr sse sse2 ss ht tm pbe syscall nx pdpe1gb rdtscp lm constant_tsc arch_perfmon pebs bts rep_good xtopology nonstop_tsc aperfmperf pni pclmulqdq dtes64 monitor ds_cpl vmx smx est tm2 ssse3 fma cx16 xtpr pdcm pcid dca sse4_1 sse4_2 x2apic movbe popcnt tsc_deadline_timer aes xsave avx f16c rdrand lahf_lm abm ida arat epb xsaveopt pln pts dts tpr_shadow vnmi flexpriority ept vpid fsgsbase bmi1 avx2 smep bmi2 erms invpcid\r\n",
      "flags\t\t: fpu vme de pse tsc msr pae mce cx8 apic sep mtrr pge mca cmov pat pse36 clflush dts acpi mmx fxsr sse sse2 ss ht tm pbe syscall nx pdpe1gb rdtscp lm constant_tsc arch_perfmon pebs bts rep_good xtopology nonstop_tsc aperfmperf pni pclmulqdq dtes64 monitor ds_cpl vmx smx est tm2 ssse3 fma cx16 xtpr pdcm pcid dca sse4_1 sse4_2 x2apic movbe popcnt tsc_deadline_timer aes xsave avx f16c rdrand lahf_lm abm ida arat epb xsaveopt pln pts dts tpr_shadow vnmi flexpriority ept vpid fsgsbase bmi1 avx2 smep bmi2 erms invpcid\r\n",
      "flags\t\t: fpu vme de pse tsc msr pae mce cx8 apic sep mtrr pge mca cmov pat pse36 clflush dts acpi mmx fxsr sse sse2 ss ht tm pbe syscall nx pdpe1gb rdtscp lm constant_tsc arch_perfmon pebs bts rep_good xtopology nonstop_tsc aperfmperf pni pclmulqdq dtes64 monitor ds_cpl vmx smx est tm2 ssse3 fma cx16 xtpr pdcm pcid dca sse4_1 sse4_2 x2apic movbe popcnt tsc_deadline_timer aes xsave avx f16c rdrand lahf_lm abm ida arat epb xsaveopt pln pts dts tpr_shadow vnmi flexpriority ept vpid fsgsbase bmi1 avx2 smep bmi2 erms invpcid\r\n",
      "flags\t\t: fpu vme de pse tsc msr pae mce cx8 apic sep mtrr pge mca cmov pat pse36 clflush dts acpi mmx fxsr sse sse2 ss ht tm pbe syscall nx pdpe1gb rdtscp lm constant_tsc arch_perfmon pebs bts rep_good xtopology nonstop_tsc aperfmperf pni pclmulqdq dtes64 monitor ds_cpl vmx smx est tm2 ssse3 fma cx16 xtpr pdcm pcid dca sse4_1 sse4_2 x2apic movbe popcnt tsc_deadline_timer aes xsave avx f16c rdrand lahf_lm abm ida arat epb xsaveopt pln pts dts tpr_shadow vnmi flexpriority ept vpid fsgsbase bmi1 avx2 smep bmi2 erms invpcid\r\n",
      "\u001b[0m\r\n"
     ]
    }
   ],
   "source": [
    "!ansible -m shell -a \"egrep '(vmx|svm)' /proc/cpuinfo\" {target_group}"
   ]
  },
  {
   "cell_type": "markdown",
   "metadata": {},
   "source": [
    "## NICの設定\n",
    "\n",
    "このNotebookでは、外部接続されているNICとつながるブリッジを作成し、このブリッジにVMのNICを接続する。\n",
    "\n",
    "外部接続されているNICの名前を確認しておく。\n",
    "\n",
    "> お手本NotebookはAICのNIC構成にあわせてあるので、研究クラウド向けには定義を修正すること。"
   ]
  },
  {
   "cell_type": "code",
   "execution_count": 4,
   "metadata": {
    "collapsed": true
   },
   "outputs": [],
   "source": [
    "external_nic = 'eth1'"
   ]
  },
  {
   "cell_type": "markdown",
   "metadata": {},
   "source": [
    "現在の定義を確認しておく・・・現在、Notebook環境からマシンへのSSHに利用している外向けIPアドレスが見えればOK。"
   ]
  },
  {
   "cell_type": "code",
   "execution_count": 5,
   "metadata": {
    "collapsed": false
   },
   "outputs": [
    {
     "name": "stdout",
     "output_type": "stream",
     "text": [
      "\u001b[0;32mXXX.XXX.XXX.105 | SUCCESS | rc=0 >>\r\n",
      "2: eth1: <BROADCAST,MULTICAST,UP,LOWER_UP> mtu 1500 qdisc mq state UP qlen 1000\r\n",
      "    link/ether XX:XX:XX:XX:XX:XX brd XX:XX:XX:XX:XX:XX\r\n",
      "    inet XXX.XXX.XXX.105/26 brd XXX.XXX.XXX.127 scope global eth1\r\n",
      "    inet6 XX:XX:XX:XX:XX:XX/64 scope link \r\n",
      "       valid_lft forever preferred_lft forever\r\n",
      "\u001b[0m\r\n"
     ]
    }
   ],
   "source": [
    "!ansible -a '/sbin/ip addr show {external_nic}' {target_group}"
   ]
  },
  {
   "cell_type": "markdown",
   "metadata": {},
   "source": [
    "## KVMに与える設定情報\n",
    "\n",
    "このPlaybookではDHCP払い出しに関する情報を定義する必要がある。\n",
    "\n",
    "- vmips ... VMに割り当てるアドレス範囲。開始、終了をカンマで区切る\n",
    "- vmgateway ... VMに設定するDefault gateway\n",
    "\n",
    "> この情報はInventoryに記述したほうが、今後のメンテナンスが楽になるはず・・・"
   ]
  },
  {
   "cell_type": "code",
   "execution_count": 6,
   "metadata": {
    "collapsed": true
   },
   "outputs": [],
   "source": [
    "vmips = 'XXX.XXX.XXX.66,XXX.XXX.XXX.66'\n",
    "vmgateway = 'XXX.XXX.XXX.126'"
   ]
  },
  {
   "cell_type": "markdown",
   "metadata": {},
   "source": [
    "## OSの確認\n",
    "\n",
    "このNotebookは、**CentOS 6がインストールされた環境にBindingされることを前提として実装**している。\n",
    "\n",
    "以下のコマンドの出力が **Distributor ID: CentOS**, **Release: 6.x** であることを確認する。"
   ]
  },
  {
   "cell_type": "code",
   "execution_count": 7,
   "metadata": {
    "collapsed": false
   },
   "outputs": [
    {
     "name": "stdout",
     "output_type": "stream",
     "text": [
      "\u001b[0;32mXXX.XXX.XXX.105 | SUCCESS | rc=0 >>\r\n",
      "LSB Version:\t:base-4.0-amd64:base-4.0-noarch:core-4.0-amd64:core-4.0-noarch:graphics-4.0-amd64:graphics-4.0-noarch:printing-4.0-amd64:printing-4.0-noarch\r\n",
      "Distributor ID:\tCentOS\r\n",
      "Description:\tCentOS release 6.7 (Final)\r\n",
      "Release:\t6.7\r\n",
      "Codename:\tFinal\r\n",
      "\u001b[0m\r\n"
     ]
    }
   ],
   "source": [
    "!ansible -a 'lsb_release -a' {target_group}"
   ]
  },
  {
   "cell_type": "markdown",
   "metadata": {
    "collapsed": true
   },
   "source": [
    "# KVMのインストール\n",
    "\n",
    "事前条件の確認ができたので、KVMをインストールしていく。"
   ]
  },
  {
   "cell_type": "markdown",
   "metadata": {},
   "source": [
    "## CentOSのパッケージ更新\n",
    "\n",
    "念のため、パッケージを更新しておく。"
   ]
  },
  {
   "cell_type": "code",
   "execution_count": 8,
   "metadata": {
    "ExecuteTime": {
     "end_time": "2016-04-18T11:32:27.447095",
     "start_time": "2016-04-18T11:30:14.791548"
    },
    "collapsed": false
   },
   "outputs": [
    {
     "name": "stdout",
     "output_type": "stream",
     "text": [
      "\u001b[0;33mXXX.XXX.XXX.105 | SUCCESS => {\r\n",
      "    \"changed\": true, \r\n",
      "    \"msg\": \"\", \r\n",
      "    \"rc\": 0, \r\n",
      "    \"results\": [\r\n",
      "        \"Loaded plugins: fastestmirror\\nSetting up Update Process\\nLoading mirror speeds from cached hostfile\\n * base: www.ftp.ne.jp\\n * extras: www.ftp.ne.jp\\n * updates: www.ftp.ne.jp\\nResolving Dependencies\\n--> Running transaction check\\n---> Package ConsoleKit.x86_64 0:0.4.1-3.el6 will be updated\\n---> Package ConsoleKit.x86_64 0:0.4.1-6.el6 will be an update\\n---> Package ConsoleKit-libs.x86_64 0:0.4.1-3.el6 will be updated\\n---> Package ConsoleKit-libs.x86_64 0:0.4.1-6.el6 will be an update\\n---> Package alsa-lib.x86_64 0:1.0.22-3.el6 will be updated\\n---> Package alsa-lib.x86_64 0:1.1.0-4.el6 will be an update\\n---> Package audit.x86_64 0:2.3.7-5.el6 will be updated\\n---> Package audit.x86_64 0:2.4.5-3.el6 will be an update\\n---> Package audit-libs.x86_64 0:2.3.7-5.el6 will be updated\\n---> Package audit-libs.x86_64 0:2.4.5-3.el6 will be an update\\n---> Package bash.x86_64 0:4.1.2-33.el6_7.1 will be updated\\n---> Package bash.x86_64 0:4.1.2-40.el6 will be an update\\n---> Package binutils.x86_64 0:XXX.XXX.XXX.0.2-5.43.el6 will be updated\\n---> Package binutils.x86_64 0:XXX.XXX.XXX.0.2-5.44.el6 will be an update\\n---> Package boost.x86_64 0:1.41.0-27.el6 will be updated\\n---> Package boost.x86_64 0:1.41.0-28.el6 will be an update\\n---> Package boost-date-time.x86_64 0:1.41.0-27.el6 will be updated\\n---> Package boost-date-time.x86_64 0:1.41.0-28.el6 will be an update\\n---> Package boost-filesystem.x86_64 0:1.41.0-27.el6 will be updated\\n---> Package boost-filesystem.x86_64 0:1.41.0-28.el6 will be an update\\n---> Package boost-graph.x86_64 0:1.41.0-27.el6 will be updated\\n---> Package boost-graph.x86_64 0:1.41.0-28.el6 will be an update\\n---> Package boost-iostreams.x86_64 0:1.41.0-27.el6 will be updated\\n---> Package boost-iostreams.x86_64 0:1.41.0-28.el6 will be an update\\n---> Package boost-program-options.x86_64 0:1.41.0-27.el6 will be updated\\n---> Package boost-program-options.x86_64 0:1.41.0-28.el6 will be an update\\n---> Package boost-python.x86_64 0:1.41.0-27.el6 will be updated\\n---> Package boost-python.x86_64 0:1.41.0-28.el6 will be an update\\n---> Package boost-regex.x86_64 0:1.41.0-27.el6 will be updated\\n---> Package boost-regex.x86_64 0:1.41.0-28.el6 will be an update\\n---> Package boost-serialization.x86_64 0:1.41.0-27.el6 will be updated\\n---> Package boost-serialization.x86_64 0:1.41.0-28.el6 will be an update\\n---> Package boost-signals.x86_64 0:1.41.0-27.el6 will be updated\\n---> Package boost-signals.x86_64 0:1.41.0-28.el6 will be an update\\n---> Package boost-system.x86_64 0:1.41.0-27.el6 will be updated\\n---> Package boost-system.x86_64 0:1.41.0-28.el6 will be an update\\n---> Package boost-test.x86_64 0:1.41.0-27.el6 will be updated\\n---> Package boost-test.x86_64 0:1.41.0-28.el6 will be an update\\n---> Package boost-thread.x86_64 0:1.41.0-27.el6 will be updated\\n---> Package boost-thread.x86_64 0:1.41.0-28.el6 will be an update\\n---> Package boost-wave.x86_64 0:1.41.0-27.el6 will be updated\\n---> Package boost-wave.x86_64 0:1.41.0-28.el6 will be an update\\n---> Package ca-certificates.noarch 0:2015.2.4-65.0.1.el6_6 will be updated\\n---> Package ca-certificates.noarch 0:2015.2.6-65.0.1.el6_7 will be an update\\n---> Package centos-release.x86_64 0:6-7.el6.centos.12.3 will be updated\\n---> Package centos-release.x86_64 0:6-8.el6.centos.12.3 will be an update\\n---> Package chkconfig.x86_64 0:XXX.XXX.XXX.3-5.el6 will be updated\\n---> Package chkconfig.x86_64 0:XXX.XXX.XXX.5-1.el6 will be an update\\n---> Package coreutils.x86_64 0:8.4-37.el6 will be updated\\n---> Package coreutils.x86_64 0:8.4-43.el6 will be an update\\n---> Package coreutils-libs.x86_64 0:8.4-37.el6 will be updated\\n---> Package coreutils-libs.x86_64 0:8.4-43.el6 will be an update\\n---> Package cpp.x86_64 0:4.4.7-16.el6 will be updated\\n---> Package cpp.x86_64 0:4.4.7-17.el6 will be an update\\n---> Package cronie.x86_64 0:1.4.4-15.el6 will be updated\\n---> Package cronie.x86_64 0:1.4.4-15.el6_7.1 will be an update\\n---> Package cronie-anacron.x86_64 0:1.4.4-15.el6 will be updated\\n---> Package cronie-anacron.x86_64 0:1.4.4-15.el6_7.1 will be an update\\n---> Package cscope.x86_64 0:15.6-6.el6 will be updated\\n---> Package cscope.x86_64 0:15.6-7.el6 will be an update\\n---> Package cups.x86_64 1:1.4.2-72.el6 will be updated\\n---> Package cups.x86_64 1:1.4.2-74.el6 will be an update\\n---> Package cups-libs.x86_64 1:1.4.2-72.el6 will be updated\\n---> Package cups-libs.x86_64 1:1.4.2-74.el6 will be an update\\n---> Package curl.x86_64 0:7.19.7-46.el6 will be updated\\n---> Package curl.x86_64 0:7.19.7-52.el6 will be an update\\n---> Package device-mapper.x86_64 0:1.02.95-3.el6_7.3 will be updated\\n---> Package device-mapper.x86_64 0:1.02.117-7.el6 will be an update\\n---> Package device-mapper-event.x86_64 0:1.02.95-3.el6_7.3 will be updated\\n---> Package device-mapper-event.x86_64 0:1.02.117-7.el6 will be an update\\n---> Package device-mapper-event-libs.x86_64 0:1.02.95-3.el6_7.3 will be updated\\n---> Package device-mapper-event-libs.x86_64 0:1.02.117-7.el6 will be an update\\n---> Package device-mapper-libs.x86_64 0:1.02.95-3.el6_7.3 will be updated\\n---> Package device-mapper-libs.x86_64 0:1.02.117-7.el6 will be an update\\n---> Package device-mapper-persistent-data.x86_64 0:0.3.2-1.el6 will be updated\\n---> Package device-mapper-persistent-data.x86_64 0:0.6.2-0.1.rc7.el6 will be an update\\n--> Processing Dependency: libaio.so.1(LIBAIO_0.4)(64bit) for package: device-mapper-persistent-data-0.6.2-0.1.rc7.el6.x86_64\\n--> Processing Dependency: libaio.so.1(LIBAIO_0.1)(64bit) for package: device-mapper-persistent-data-0.6.2-0.1.rc7.el6.x86_64\\n--> Processing Dependency: libaio.so.1()(64bit) for package: device-mapper-persistent-data-0.6.2-0.1.rc7.el6.x86_64\\n---> Package dhclient.x86_64 12:4.1.1-49.P1.el6.centos will be updated\\n---> Package dhclient.x86_64 12:4.1.1-51.P1.el6.centos will be an update\\n---> Package dhcp-common.x86_64 12:4.1.1-49.P1.el6.centos will be updated\\n---> Package dhcp-common.x86_64 12:4.1.1-51.P1.el6.centos will be an update\\n---> Package dracut.noarch 0:004-388.el6 will be updated\\n---> Package dracut.noarch 0:004-409.el6_8.2 will be an update\\n---> Package dracut-kernel.noarch 0:004-388.el6 will be updated\\n---> Package dracut-kernel.noarch 0:004-409.el6_8.2 will be an update\\n---> Package elfutils.x86_64 0:0.161-3.el6 will be updated\\n---> Package elfutils.x86_64 0:0.164-2.el6 will be an update\\n---> Package elfutils-libelf.x86_64 0:0.161-3.el6 will be updated\\n---> Package elfutils-libelf.x86_64 0:0.164-2.el6 will be an update\\n---> Package elfutils-libs.x86_64 0:0.161-3.el6 will be updated\\n---> Package elfutils-libs.x86_64 0:0.164-2.el6 will be an update\\n---> Package euca2ools.noarch 0:2.1.4-1.el6 will be updated\\n---> Package euca2ools.noarch 0:3.3.0-3.el6 will be an update\\n--> Processing Dependency: python-requestbuilder >= 0.4 for package: euca2ools-3.3.0-3.el6.noarch\\n--> Processing Dependency: python-progressbar for package: euca2ools-3.3.0-3.el6.noarch\\n--> Processing Dependency: python-lxml for package: euca2ools-3.3.0-3.el6.noarch\\n--> Processing Dependency: python-argparse for package: euca2ools-3.3.0-3.el6.noarch\\n--> Processing Dependency: kpartx for package: euca2ools-3.3.0-3.el6.noarch\\n--> Processing Dependency: gdisk for package: euca2ools-3.3.0-3.el6.noarch\\n--> Processing Dependency: PyYAML for package: euca2ools-3.3.0-3.el6.noarch\\n---> Package file.x86_64 0:5.04-21.el6 will be updated\\n---> Package file.x86_64 0:5.04-30.el6 will be an update\\n---> Package file-libs.x86_64 0:5.04-21.el6 will be updated\\n---> Package file-libs.x86_64 0:5.04-30.el6 will be an update\\n---> Package findutils.x86_64 1:4.4.2-6.el6 will be updated\\n---> Package findutils.x86_64 1:4.4.2-9.el6 will be an update\\n---> Package foomatic.x86_64 0:4.0.4-3.el6 will be updated\\n---> Package foomatic.x86_64 0:4.0.4-5.el6_7 will be an update\\n---> Package freetype.x86_64 0:2.3.11-15.el6_6.1 will be updated\\n---> Package freetype.x86_64 0:2.3.11-17.el6 will be an update\\n---> Package gawk.x86_64 0:3.1.7-10.el6 will be updated\\n---> Package gawk.x86_64 0:3.1.7-10.el6_7.3 will be an update\\n---> Package gcc.x86_64 0:4.4.7-16.el6 will be updated\\n---> Package gcc.x86_64 0:4.4.7-17.el6 will be an update\\n---> Package gcc-c++.x86_64 0:4.4.7-16.el6 will be updated\\n---> Package gcc-c++.x86_64 0:4.4.7-17.el6 will be an update\\n---> Package gcc-gfortran.x86_64 0:4.4.7-16.el6 will be updated\\n---> Package gcc-gfortran.x86_64 0:4.4.7-17.el6 will be an update\\n---> Package gdb.x86_64 0:7.2-83.el6 will be updated\\n---> Package gdb.x86_64 0:7.2-90.el6 will be an update\\n---> Package gdbm.x86_64 0:1.8.0-38.el6 will be updated\\n---> Package gdbm.x86_64 0:1.8.0-39.el6 will be an update\\n---> Package gdbm-devel.x86_64 0:1.8.0-38.el6 will be updated\\n---> Package gdbm-devel.x86_64 0:1.8.0-39.el6 will be an update\\n---> Package git.x86_64 0:1.7.1-3.el6_4.1 will be updated\\n---> Package git.x86_64 0:1.7.1-4.el6_7.1 will be an update\\n---> Package glib2.x86_64 0:2.28.8-4.el6 will be updated\\n---> Package glib2.x86_64 0:2.28.8-5.el6 will be an update\\n---> Package glibc.x86_64 0:2.12-1.166.el6_7.3 will be updated\\n---> Package glibc.x86_64 0:2.12-1.192.el6 will be an update\\n---> Package glibc-common.x86_64 0:2.12-1.166.el6_7.3 will be updated\\n---> Package glibc-common.x86_64 0:2.12-1.192.el6 will be an update\\n---> Package glibc-devel.x86_64 0:2.12-1.166.el6_7.3 will be updated\\n---> Package glibc-devel.x86_64 0:2.12-1.192.el6 will be an update\\n---> Package glibc-headers.x86_64 0:2.12-1.166.el6_7.3 will be updated\\n---> Package glibc-headers.x86_64 0:2.12-1.192.el6 will be an update\\n---> Package gmp.x86_64 0:4.3.1-7.el6_2.2 will be updated\\n---> Package gmp.x86_64 0:4.3.1-10.el6 will be an update\\n---> Package gnutls.x86_64 0:2.8.5-18.el6 will be updated\\n---> Package gnutls.x86_64 0:2.8.5-19.el6_7 will be an update\\n---> Package grep.x86_64 0:2.20-3.el6 will be updated\\n---> Package grep.x86_64 0:2.20-3.el6_7.1 will be an update\\n---> Package grub.x86_64 1:0.97-94.el6 will be updated\\n---> Package grub.x86_64 1:0.97-94.el6_7.1 will be an update\\n---> Package gtk2.x86_64 0:2.24.23-6.el6 will be updated\\n---> Package gtk2.x86_64 0:2.24.23-8.el6 will be an update\\n---> Package hwdata.noarch 0:0.233-14.1.el6 will be updated\\n---> Package hwdata.noarch 0:0.233-16.1.el6 will be an update\\n---> Package initscripts.x86_64 0:9.03.49-1.el6.centos.1 will be updated\\n---> Package initscripts.x86_64 0:9.03.53-1.el6.centos will be an update\\n---> Package iproute.x86_64 0:2.6.32-45.el6 will be updated\\n---> Package iproute.x86_64 0:2.6.32-54.el6 will be an update\\n---> Package iputils.x86_64 0:20071127-20.el6 will be updated\\n---> Package iputils.x86_64 0:20071127-21.el6 will be an update\\n---> Package java-1.7.0-openjdk.x86_64 1:XXX.XXX.XXX.91-XXX.XXX.XXX.2.el6_7 will be updated\\n---> Package java-1.7.0-openjdk.x86_64 1:XXX.XXX.XXX.101-XXX.XXX.XXX.4.el6_8 will be an update\\n--> Processing Dependency: libsctp.so.1(VERS_1)(64bit) for package: 1:java-1.7.0-openjdk-XXX.XXX.XXX.101-XXX.XXX.XXX.4.el6_8.x86_64\\n--> Processing Dependency: libsctp.so.1()(64bit) for package: 1:java-1.7.0-openjdk-XXX.XXX.XXX.101-XXX.XXX.XXX.4.el6_8.x86_64\\n---> Package jpackage-utils.noarch 0:1.7.5-3.14.el6 will be updated\\n---> Package jpackage-utils.noarch 0:1.7.5-3.16.el6 will be an update\\n---> Package kernel.x86_64 0:2.6.32-642.1.1.el6 will be installed\\n---> Package kernel-devel.x86_64 0:2.6.32-642.1.1.el6 will be installed\\n---> Package kernel-firmware.noarch 0:2.6.32-573.7.1.el6 will be updated\\n---> Package kernel-firmware.noarch 0:2.6.32-642.1.1.el6 will be an update\\n---> Package kernel-headers.x86_64 0:2.6.32-573.7.1.el6 will be updated\\n---> Package kernel-headers.x86_64 0:2.6.32-642.1.1.el6 will be an update\\n---> Package krb5-libs.x86_64 0:1.10.3-42.el6 will be updated\\n---> Package krb5-libs.x86_64 0:1.10.3-57.el6 will be an update\\n---> Package libX11.x86_64 0:1.6.0-6.el6 will be updated\\n---> Package libX11.x86_64 0:1.6.3-2.el6 will be an update\\n---> Package libX11-common.noarch 0:1.6.0-6.el6 will be updated\\n---> Package libX11-common.noarch 0:1.6.3-2.el6 will be an update\\n---> Package libXext.x86_64 0:1.3.2-2.1.el6 will be updated\\n---> Package libXext.x86_64 0:1.3.3-1.el6 will be an update\\n---> Package libXfont.x86_64 0:1.4.5-5.el6_7 will be updated\\n---> Package libXfont.x86_64 0:1.5.1-2.el6 will be an update\\n---> Package libXft.x86_64 0:2.3.1-2.el6 will be updated\\n---> Package libXft.x86_64 0:2.3.2-1.el6 will be an update\\n---> Package libXi.x86_64 0:1.7.2-2.2.el6 will be updated\\n---> Package libXi.x86_64 0:1.7.4-1.el6 will be an update\\n---> Package libXrandr.x86_64 0:1.4.1-2.1.el6 will be updated\\n---> Package libXrandr.x86_64 0:1.4.2-1.el6 will be an update\\n---> Package libXrender.x86_64 0:0.9.8-2.1.el6 will be updated\\n---> Package libXrender.x86_64 0:0.9.8-2.1.el6_8.1 will be an update\\n---> Package libblkid.x86_64 0:2.17.2-12.18.el6 will be updated\\n---> Package libblkid.x86_64 0:2.17.2-12.24.el6 will be an update\\n---> Package libcurl.x86_64 0:7.19.7-46.el6 will be updated\\n---> Package libcurl.x86_64 0:7.19.7-52.el6 will be an update\\n---> Package libdrm.x86_64 0:2.4.59-2.el6 will be updated\\n---> Package libdrm.x86_64 0:2.4.65-2.el6 will be an update\\n---> Package libfontenc.x86_64 0:1.0.5-2.el6 will be updated\\n---> Package libfontenc.x86_64 0:1.1.2-3.el6 will be an update\\n---> Package libgcc.x86_64 0:4.4.7-16.el6 will be updated\\n---> Package libgcc.x86_64 0:4.4.7-17.el6 will be an update\\n---> Package libgcj.x86_64 0:4.4.7-16.el6 will be updated\\n---> Package libgcj.x86_64 0:4.4.7-17.el6 will be an update\\n---> Package libgfortran.x86_64 0:4.4.7-16.el6 will be updated\\n---> Package libgfortran.x86_64 0:4.4.7-17.el6 will be an update\\n---> Package libgomp.x86_64 0:4.4.7-16.el6 will be updated\\n---> Package libgomp.x86_64 0:4.4.7-17.el6 will be an update\\n---> Package libgudev1.x86_64 0:147-2.63.el6 will be updated\\n---> Package libgudev1.x86_64 0:147-2.73.el6 will be an update\\n---> Package libicu.x86_64 0:4.2.1-12.el6 will be updated\\n---> Package libicu.x86_64 0:4.2.1-14.el6 will be an update\\n---> Package libpciaccess.x86_64 0:0.13.3-0.1.el6 will be updated\\n---> Package libpciaccess.x86_64 0:0.13.4-1.el6 will be an update\\n---> Package libpng.x86_64 2:1.2.49-1.el6_2 will be updated\\n---> Package libpng.x86_64 2:1.2.49-2.el6_7 will be an update\\n---> Package libselinux.x86_64 0:2.0.94-5.8.el6 will be updated\\n---> Package libselinux.x86_64 0:2.0.94-7.el6 will be an update\\n---> Package libselinux-utils.x86_64 0:2.0.94-5.8.el6 will be updated\\n---> Package libselinux-utils.x86_64 0:2.0.94-7.el6 will be an update\\n---> Package libssh2.x86_64 0:1.4.2-1.el6_6.1 will be updated\\n---> Package libssh2.x86_64 0:1.4.2-2.el6_7.1 will be an update\\n---> Package libstdc++.x86_64 0:4.4.7-16.el6 will be updated\\n---> Package libstdc++.x86_64 0:4.4.7-17.el6 will be an update\\n---> Package libstdc++-devel.x86_64 0:4.4.7-16.el6 will be updated\\n---> Package libstdc++-devel.x86_64 0:4.4.7-17.el6 will be an update\\n---> Package libudev.x86_64 0:147-2.63.el6 will be updated\\n---> Package libudev.x86_64 0:147-2.73.el6 will be an update\\n---> Package libuuid.x86_64 0:2.17.2-12.18.el6 will be updated\\n---> Package libuuid.x86_64 0:2.17.2-12.24.el6 will be an update\\n---> Package libxcb.x86_64 0:1.9.1-3.el6 will be updated\\n---> Package libxcb.x86_64 0:1.11-2.el6 will be an update\\n---> Package libxml2.x86_64 0:2.7.6-20.el6 will be updated\\n---> Package libxml2.x86_64 0:2.7.6-21.el6 will be an update\\n---> Package logrotate.x86_64 0:3.7.8-23.el6 will be updated\\n---> Package logrotate.x86_64 0:3.7.8-26.el6_7 will be an update\\n---> Package lvm2.x86_64 0:2.02.118-3.el6_7.3 will be updated\\n---> Package lvm2.x86_64 0:2.02.143-7.el6 will be an update\\n---> Package lvm2-libs.x86_64 0:2.02.118-3.el6_7.3 will be updated\\n---> Package lvm2-libs.x86_64 0:2.02.143-7.el6 will be an update\\n---> Package make.x86_64 1:3.81-20.el6 will be updated\\n---> Package make.x86_64 1:3.81-23.el6 will be an update\\n---> Package mesa-dri-drivers.x86_64 0:10.4.3-1.el6 will be updated\\n---> Package mesa-dri-drivers.x86_64 0:11.0.7-4.el6 will be an update\\n---> Package mesa-dri-filesystem.x86_64 0:10.4.3-1.el6 will be updated\\n---> Package mesa-dri-filesystem.x86_64 0:11.0.7-4.el6 will be an update\\n---> Package mesa-libGL.x86_64 0:10.4.3-1.el6 will be updated\\n---> Package mesa-libGL.x86_64 0:11.0.7-4.el6 will be an update\\n---> Package mesa-libGLU.x86_64 0:10.4.3-1.el6 will be updated\\n---> Package mesa-libGLU.x86_64 0:11.0.7-4.el6 will be an update\\n---> Package mesa-private-llvm.x86_64 0:3.4-3.el6 will be updated\\n---> Package mesa-private-llvm.x86_64 0:3.6.2-1.el6 will be an update\\n---> Package munin-common.noarch 0:2.0.25-2.el6 will be updated\\n---> Package munin-common.noarch 0:2.0.25-11.el6 will be an update\\n---> Package munin-node.noarch 0:2.0.25-2.el6 will be updated\\n---> Package munin-node.noarch 0:2.0.25-11.el6 will be an update\\n---> Package mysql-libs.x86_64 0:5.1.73-5.el6_6 will be updated\\n---> Package mysql-libs.x86_64 0:5.1.73-7.el6 will be an update\\n---> Package net-snmp.x86_64 1:5.5-54.el6_7.1 will be updated\\n---> Package net-snmp.x86_64 1:5.5-57.el6 will be an update\\n---> Package net-snmp-libs.x86_64 1:5.5-54.el6_7.1 will be updated\\n---> Package net-snmp-libs.x86_64 1:5.5-57.el6 will be an update\\n---> Package nspr.x86_64 0:4.10.8-1.el6_6 will be updated\\n---> Package nspr.x86_64 0:4.11.0-1.el6 will be an update\\n---> Package nss.x86_64 0:3.19.1-3.el6_6 will be updated\\n---> Package nss.x86_64 0:3.21.0-8.el6 will be an update\\n---> Package nss-sysinit.x86_64 0:3.19.1-3.el6_6 will be updated\\n---> Package nss-sysinit.x86_64 0:3.21.0-8.el6 will be an update\\n---> Package nss-tools.x86_64 0:3.19.1-3.el6_6 will be updated\\n---> Package nss-tools.x86_64 0:3.21.0-8.el6 will be an update\\n---> Package nss-util.x86_64 0:3.19.1-1.el6_6 will be updated\\n---> Package nss-util.x86_64 0:3.21.0-2.el6 will be an update\\n---> Package ntp.x86_64 0:4.2.6p5-5.el6.centos.2 will be updated\\n---> Package ntp.x86_64 0:4.2.6p5-10.el6.centos.1 will be an update\\n---> Package ntpdate.x86_64 0:4.2.6p5-5.el6.centos.2 will be updated\\n---> Package ntpdate.x86_64 0:4.2.6p5-10.el6.centos.1 will be an update\\n---> Package openldap.x86_64 0:2.4.40-6.el6_7 will be updated\\n---> Package openldap.x86_64 0:2.4.40-12.el6 will be an update\\n---> Package openssh.x86_64 0:5.3p1-112.el6_7 will be updated\\n---> Package openssh.x86_64 0:5.3p1-118.1.el6_8 will be an update\\n---> Package openssh-clients.x86_64 0:5.3p1-112.el6_7 will be updated\\n---> Package openssh-clients.x86_64 0:5.3p1-118.1.el6_8 will be an update\\n---> Package openssh-server.x86_64 0:5.3p1-112.el6_7 will be updated\\n---> Package openssh-server.x86_64 0:5.3p1-118.1.el6_8 will be an update\\n---> Package openssl.x86_64 0:1.0.1e-42.el6 will be updated\\n---> Package openssl.x86_64 0:1.0.1e-48.el6_8.1 will be an update\\n---> Package pam.x86_64 0:1.1.1-20.el6_7.1 will be updated\\n---> Package pam.x86_64 0:1.1.1-22.el6 will be an update\\n---> Package pango.x86_64 0:1.28.1-10.el6 will be updated\\n---> Package pango.x86_64 0:1.28.1-11.el6 will be an update\\n---> Package passwd.x86_64 0:0.77-4.el6_2.2 will be updated\\n---> Package passwd.x86_64 0:0.77-7.el6 will be an update\\n---> Package perl.x86_64 4:5.10.1-141.el6 will be updated\\n---> Package perl.x86_64 4:5.10.1-141.el6_7.1 will be an update\\n---> Package perl-CGI.x86_64 0:3.51-141.el6 will be updated\\n---> Package perl-CGI.x86_64 0:3.51-141.el6_7.1 will be an update\\n---> Package perl-Compress-Raw-Zlib.x86_64 1:2.021-141.el6 will be updated\\n---> Package perl-Compress-Raw-Zlib.x86_64 1:2.021-141.el6_7.1 will be an update\\n---> Package perl-Compress-Zlib.x86_64 0:2.021-141.el6 will be updated\\n---> Package perl-Compress-Zlib.x86_64 0:2.021-141.el6_7.1 will be an update\\n---> Package perl-ExtUtils-MakeMaker.x86_64 0:6.55-141.el6 will be updated\\n---> Package perl-ExtUtils-MakeMaker.x86_64 0:6.55-141.el6_7.1 will be an update\\n---> Package perl-ExtUtils-ParseXS.x86_64 1:2.2003.0-141.el6 will be updated\\n---> Package perl-ExtUtils-ParseXS.x86_64 1:2.2003.0-141.el6_7.1 will be an update\\n---> Package perl-Git.noarch 0:1.7.1-3.el6_4.1 will be updated\\n---> Package perl-Git.noarch 0:1.7.1-4.el6_7.1 will be an update\\n---> Package perl-IO-Compress-Base.x86_64 0:2.021-141.el6 will be updated\\n---> Package perl-IO-Compress-Base.x86_64 0:2.021-141.el6_7.1 will be an update\\n---> Package perl-IO-Compress-Zlib.x86_64 0:2.021-141.el6 will be updated\\n---> Package perl-IO-Compress-Zlib.x86_64 0:2.021-141.el6_7.1 will be an update\\n---> Package perl-Module-Pluggable.x86_64 1:3.90-141.el6 will be updated\\n---> Package perl-Module-Pluggable.x86_64 1:3.90-141.el6_7.1 will be an update\\n---> Package perl-Net-CIDR.noarch 0:0.14-1.el6 will be updated\\n---> Package perl-Net-CIDR.noarch 0:0.18-1.el6 will be an update\\n---> Package perl-Pod-Escapes.x86_64 1:1.04-141.el6 will be updated\\n---> Package perl-Pod-Escapes.x86_64 1:1.04-141.el6_7.1 will be an update\\n---> Package perl-Pod-Simple.x86_64 1:3.13-141.el6 will be updated\\n---> Package perl-Pod-Simple.x86_64 1:3.13-141.el6_7.1 will be an update\\n---> Package perl-Test-Harness.x86_64 0:3.17-141.el6 will be updated\\n---> Package perl-Test-Harness.x86_64 0:3.17-141.el6_7.1 will be an update\\n---> Package perl-Test-Simple.x86_64 0:0.92-141.el6 will be updated\\n---> Package perl-Test-Simple.x86_64 0:0.92-141.el6_7.1 will be an update\\n---> Package perl-Time-HiRes.x86_64 4:1.9721-141.el6 will be updated\\n---> Package perl-Time-HiRes.x86_64 4:1.9721-141.el6_7.1 will be an update\\n---> Package perl-devel.x86_64 4:5.10.1-141.el6 will be updated\\n---> Package perl-devel.x86_64 4:5.10.1-141.el6_7.1 will be an update\\n---> Package perl-libs.x86_64 4:5.10.1-141.el6 will be updated\\n---> Package perl-libs.x86_64 4:5.10.1-141.el6_7.1 will be an update\\n---> Package perl-libwww-perl.noarch 0:5.833-2.el6 will be updated\\n---> Package perl-libwww-perl.noarch 0:5.833-3.el6 will be an update\\n---> Package perl-version.x86_64 3:0.77-141.el6 will be updated\\n---> Package perl-version.x86_64 3:0.77-141.el6_7.1 will be an update\\n---> Package pixman.x86_64 0:0.32.4-4.el6 will be updated\\n---> Package pixman.x86_64 0:0.32.8-1.el6 will be an update\\n---> Package policycoreutils.x86_64 0:2.0.83-24.el6 will be updated\\n---> Package policycoreutils.x86_64 0:2.0.83-29.el6 will be an update\\n---> Package poppler.x86_64 0:0.12.4-4.el6_6.1 will be updated\\n---> Package poppler.x86_64 0:0.12.4-10.el6 will be an update\\n---> Package poppler-utils.x86_64 0:0.12.4-4.el6_6.1 will be updated\\n---> Package poppler-utils.x86_64 0:0.12.4-10.el6 will be an update\\n---> Package portreserve.x86_64 0:0.0.4-9.el6 will be updated\\n---> Package portreserve.x86_64 0:0.0.4-11.el6 will be an update\\n---> Package postfix.x86_64 2:2.6.6-6.el6_5 will be updated\\n---> Package postfix.x86_64 2:2.6.6-6.el6_7.1 will be an update\\n---> Package postgresql-libs.x86_64 0:8.4.20-3.el6_6 will be updated\\n---> Package postgresql-libs.x86_64 0:8.4.20-6.el6 will be an update\\n---> Package procps.x86_64 0:3.2.8-34.el6_7 will be updated\\n---> Package procps.x86_64 0:3.2.8-36.el6 will be an update\\n---> Package pulseaudio-libs.x86_64 0:0.9.21-21.el6 will be updated\\n---> Package pulseaudio-libs.x86_64 0:0.9.21-24.el6 will be an update\\n---> Package python-boto.noarch 0:2.38.0-1.el6 will be obsoleted\\n---> Package python-pycurl.x86_64 0:7.19.0-8.el6 will be updated\\n---> Package python-pycurl.x86_64 0:7.19.0-9.el6 will be an update\\n---> Package python-rsa.noarch 0:3.1.1-5.el6 will be obsoleted\\n---> Package python-urlgrabber.noarch 0:3.9.1-9.el6 will be updated\\n---> Package python-urlgrabber.noarch 0:3.9.1-11.el6 will be an update\\n---> Package python2-boto.noarch 0:2.40.0-1.el6 will be obsoleting\\n---> Package python2-rsa.noarch 0:3.4.1-1.el6 will be obsoleting\\n--> Processing Dependency: python-pyasn1 for package: python2-rsa-3.4.1-1.el6.noarch\\n---> Package redhat-rpm-config.noarch 0:9.0.3-44.el6.centos will be updated\\n---> Package redhat-rpm-config.noarch 0:9.0.3-51.el6.centos will be an update\\n---> Package rhino.noarch 0:1.7-0.7.r2.2.el6 will be updated\\n---> Package rhino.noarch 0:1.7R4-4.el6 will be an update\\n---> Package rpm.x86_64 0:4.8.0-47.el6 will be updated\\n---> Package rpm.x86_64 0:4.8.0-55.el6 will be an update\\n---> Package rpm-build.x86_64 0:4.8.0-47.el6 will be updated\\n---> Package rpm-build.x86_64 0:4.8.0-55.el6 will be an update\\n---> Package rpm-libs.x86_64 0:4.8.0-47.el6 will be updated\\n---> Package rpm-libs.x86_64 0:4.8.0-55.el6 will be an update\\n---> Package rpm-python.x86_64 0:4.8.0-47.el6 will be updated\\n---> Package rpm-python.x86_64 0:4.8.0-55.el6 will be an update\\n---> Package screen.x86_64 0:4.0.3-18.el6 will be updated\\n---> Package screen.x86_64 0:4.0.3-19.el6 will be an update\\n---> Package selinux-policy.noarch 0:3.7.19-279.el6_7.6 will be updated\\n---> Package selinux-policy.noarch 0:3.7.19-292.el6 will be an update\\n---> Package selinux-policy-targeted.noarch 0:3.7.19-279.el6_7.6 will be updated\\n---> Package selinux-policy-targeted.noarch 0:3.7.19-292.el6 will be an update\\n---> Package shadow-utils.x86_64 2:XXX.XXX.XXX.2-19.el6_6.1 will be updated\\n---> Package shadow-utils.x86_64 2:XXX.XXX.XXX.1-5.el6 will be an update\\n---> Package sudo.x86_64 0:1.8.6p3-20.el6_7 will be updated\\n---> Package sudo.x86_64 0:1.8.6p3-24.el6 will be an update\\n---> Package sysstat.x86_64 0:9.0.4-27.el6 will be updated\\n---> Package sysstat.x86_64 0:9.0.4-31.el6 will be an update\\n---> Package systemtap.x86_64 0:2.7-2.el6 will be updated\\n---> Package systemtap.x86_64 0:2.9-4.el6 will be an update\\n---> Package systemtap-client.x86_64 0:2.7-2.el6 will be updated\\n---> Package systemtap-client.x86_64 0:2.9-4.el6 will be an update\\n---> Package systemtap-devel.x86_64 0:2.7-2.el6 will be updated\\n---> Package systemtap-devel.x86_64 0:2.9-4.el6 will be an update\\n---> Package systemtap-runtime.x86_64 0:2.7-2.el6 will be updated\\n---> Package systemtap-runtime.x86_64 0:2.9-4.el6 will be an update\\n---> Package tar.x86_64 2:1.23-13.el6 will be updated\\n---> Package tar.x86_64 2:1.23-14.el6 will be an update\\n---> Package tcp_wrappers-libs.x86_64 0:7.6-57.el6 will be updated\\n---> Package tcp_wrappers-libs.x86_64 0:7.6-58.el6 will be an update\\n---> Package tmpwatch.x86_64 0:2.9.16-4.el6 will be updated\\n---> Package tmpwatch.x86_64 0:2.9.16-6.el6 will be an update\\n---> Package tzdata.noarch 0:2015g-2.el6 will be updated\\n---> Package tzdata.noarch 0:2016d-1.el6 will be an update\\n---> Package tzdata-java.noarch 0:2015g-2.el6 will be updated\\n---> Package tzdata-java.noarch 0:2016d-1.el6 will be an update\\n---> Package udev.x86_64 0:147-2.63.el6 will be updated\\n---> Package udev.x86_64 0:147-2.73.el6 will be an update\\n---> Package unzip.x86_64 0:6.0-2.el6_6 will be updated\\n---> Package unzip.x86_64 0:6.0-4.el6 will be an update\\n---> Package upstart.x86_64 0:0.6.5-13.el6_5.3 will be updated\\n---> Package upstart.x86_64 0:0.6.5-16.el6 will be an update\\n---> Package urw-fonts.noarch 0:2.4-10.el6 will be updated\\n---> Package urw-fonts.noarch 0:2.4-11.el6 will be an update\\n---> Package util-linux-ng.x86_64 0:2.17.2-12.18.el6 will be updated\\n---> Package util-linux-ng.x86_64 0:2.17.2-12.24.el6 will be an update\\n---> Package wget.x86_64 0:1.12-5.el6_6.1 will be updated\\n---> Package wget.x86_64 0:1.12-8.el6 will be an update\\n---> Package xorg-x11-drv-ati-firmware.noarch 0:7.5.99-3.el6 will be updated\\n---> Package xorg-x11-drv-ati-firmware.noarch 0:7.6.1-2.el6 will be an update\\n---> Package yum.noarch 0:3.2.29-69.el6.centos will be updated\\n---> Package yum.noarch 0:3.2.29-73.el6.centos will be an update\\n---> Package yum-plugin-fastestmirror.noarch 0:1.1.30-30.el6 will be updated\\n---> Package yum-plugin-fastestmirror.noarch 0:1.1.30-37.el6 will be an update\\n---> Package yum-utils.noarch 0:1.1.30-30.el6 will be updated\\n---> Package yum-utils.noarch 0:1.1.30-37.el6 will be an update\\n--> Processing Dependency: libxml2-python for package: yum-utils-1.1.30-37.el6.noarch\\n---> Package zip.x86_64 0:3.0-1.el6 will be updated\\n---> Package zip.x86_64 0:3.0-1.el6_7.1 will be an update\\n--> Running transaction check\\n---> Package PyYAML.x86_64 0:3.10-3.1.el6 will be installed\\n--> Processing Dependency: libyaml-0.so.2()(64bit) for package: PyYAML-3.10-3.1.el6.x86_64\\n---> Package gdisk.x86_64 0:0.8.10-1.el6 will be installed\\n---> Package kpartx.x86_64 0:0.4.9-93.el6 will be installed\\n---> Package libaio.x86_64 0:0.3.107-10.el6 will be installed\\n---> Package libxml2-python.x86_64 0:2.7.6-21.el6 will be installed\\n---> Package lksctp-tools.x86_64 0:1.0.10-7.el6 will be installed\\n---> Package python-argparse.noarch 0:1.2.1-2.1.el6 will be installed\\n---> Package python-lxml.x86_64 0:2.2.3-1.1.el6 will be installed\\n--> Processing Dependency: libxslt.so.1(LIBXML2_1.1.9)(64bit) for package: python-lxml-2.2.3-1.1.el6.x86_64\\n--> Processing Dependency: libxslt.so.1(LIBXML2_1.1.26)(64bit) for package: python-lxml-2.2.3-1.1.el6.x86_64\\n--> Processing Dependency: libxslt.so.1(LIBXML2_1.1.2)(64bit) for package: python-lxml-2.2.3-1.1.el6.x86_64\\n--> Processing Dependency: libxslt.so.1(LIBXML2_1.0.24)(64bit) for package: python-lxml-2.2.3-1.1.el6.x86_64\\n--> Processing Dependency: libxslt.so.1(LIBXML2_1.0.22)(64bit) for package: python-lxml-2.2.3-1.1.el6.x86_64\\n--> Processing Dependency: libxslt.so.1(LIBXML2_1.0.18)(64bit) for package: python-lxml-2.2.3-1.1.el6.x86_64\\n--> Processing Dependency: libxslt.so.1(LIBXML2_1.0.11)(64bit) for package: python-lxml-2.2.3-1.1.el6.x86_64\\n--> Processing Dependency: libxslt.so.1()(64bit) for package: python-lxml-2.2.3-1.1.el6.x86_64\\n--> Processing Dependency: libexslt.so.0()(64bit) for package: python-lxml-2.2.3-1.1.el6.x86_64\\n---> Package python-progressbar.noarch 0:2.3-2.el6 will be installed\\n---> Package python-pyasn1.noarch 0:0.0.12a-1.el6 will be installed\\n---> Package python-requestbuilder.noarch 0:0.5.2-1.el6 will be installed\\n--> Running transaction check\\n---> Package libxslt.x86_64 0:1.1.26-2.el6_3.1 will be installed\\n---> Package libyaml.x86_64 0:0.1.3-4.el6_6 will be installed\\n--> Finished Dependency Resolution\\n\\nDependencies Resolved\\n\\n================================================================================\\n Package                       Arch   Version                     Repository\\n                                                                           Size\\n================================================================================\\nInstalling:\\n kernel                        x86_64 2.6.32-642.1.1.el6          updates  32 M\\n kernel-devel                  x86_64 2.6.32-642.1.1.el6          updates  11 M\\n python2-boto                  noarch 2.40.0-1.el6                epel    1.8 M\\n     replacing  python-boto.noarch 2.38.0-1.el6\\n python2-rsa                   noarch 3.4.1-1.el6                 epel     68 k\\n     replacing  python-rsa.noarch 3.1.1-5.el6\\nUpdating:\\n ConsoleKit                    x86_64 0.4.1-6.el6                 base     83 k\\n ConsoleKit-libs               x86_64 0.4.1-6.el6                 base     18 k\\n alsa-lib                      x86_64 1.1.0-4.el6                 base    389 k\\n audit                         x86_64 2.4.5-3.el6                 base    214 k\\n audit-libs                    x86_64 2.4.5-3.el6                 base     74 k\\n bash                          x86_64 4.1.2-40.el6                base    909 k\\n binutils                      x86_64 XXX.XXX.XXX.0.2-5.44.el6        base    2.8 M\\n boost                         x86_64 1.41.0-28.el6               base     20 k\\n boost-date-time               x86_64 1.41.0-28.el6               base     40 k\\n boost-filesystem              x86_64 1.41.0-28.el6               base     47 k\\n boost-graph                   x86_64 1.41.0-28.el6               base     84 k\\n boost-iostreams               x86_64 1.41.0-28.el6               base     39 k\\n boost-program-options         x86_64 1.41.0-28.el6               base    108 k\\n boost-python                  x86_64 1.41.0-28.el6               base    120 k\\n boost-regex                   x86_64 1.41.0-28.el6               base    478 k\\n boost-serialization           x86_64 1.41.0-28.el6               base    165 k\\n boost-signals                 x86_64 1.41.0-28.el6               base     45 k\\n boost-system                  x86_64 1.41.0-28.el6               base     26 k\\n boost-test                    x86_64 1.41.0-28.el6               base    392 k\\n boost-thread                  x86_64 1.41.0-28.el6               base     44 k\\n boost-wave                    x86_64 1.41.0-28.el6               base    201 k\\n ca-certificates               noarch 2015.2.6-65.0.1.el6_7       base    1.2 M\\n centos-release                x86_64 6-8.el6.centos.12.3         base     21 k\\n chkconfig                     x86_64 XXX.XXX.XXX.5-1.el6              base    160 k\\n coreutils                     x86_64 8.4-43.el6                  base    3.0 M\\n coreutils-libs                x86_64 8.4-43.el6                  base     51 k\\n cpp                           x86_64 4.4.7-17.el6                base    3.7 M\\n cronie                        x86_64 1.4.4-15.el6_7.1            base     74 k\\n cronie-anacron                x86_64 1.4.4-15.el6_7.1            base     31 k\\n cscope                        x86_64 15.6-7.el6                  base    136 k\\n cups                          x86_64 1:1.4.2-74.el6              base    2.3 M\\n cups-libs                     x86_64 1:1.4.2-74.el6              base    322 k\\n curl                          x86_64 7.19.7-52.el6               base    197 k\\n device-mapper                 x86_64 1.02.117-7.el6              base    211 k\\n device-mapper-event           x86_64 1.02.117-7.el6              base    133 k\\n device-mapper-event-libs      x86_64 1.02.117-7.el6              base    125 k\\n device-mapper-libs            x86_64 1.02.117-7.el6              base    256 k\\n device-mapper-persistent-data x86_64 0.6.2-0.1.rc7.el6           base    463 k\\n dhclient                      x86_64 12:4.1.1-51.P1.el6.centos   base    321 k\\n dhcp-common                   x86_64 12:4.1.1-51.P1.el6.centos   base    144 k\\n dracut                        noarch 004-409.el6_8.2             updates 127 k\\n dracut-kernel                 noarch 004-409.el6_8.2             updates  28 k\\n elfutils                      x86_64 0.164-2.el6                 base    240 k\\n elfutils-libelf               x86_64 0.164-2.el6                 base    197 k\\n elfutils-libs                 x86_64 0.164-2.el6                 base    230 k\\n euca2ools                     noarch 3.3.0-3.el6                 epel    808 k\\n file                          x86_64 5.04-30.el6                 base     49 k\\n file-libs                     x86_64 5.04-30.el6                 base    317 k\\n findutils                     x86_64 1:4.4.2-9.el6               base    447 k\\n foomatic                      x86_64 4.0.4-5.el6_7               base    251 k\\n freetype                      x86_64 2.3.11-17.el6               base    361 k\\n gawk                          x86_64 3.1.7-10.el6_7.3            base    780 k\\n gcc                           x86_64 4.4.7-17.el6                base     10 M\\n gcc-c++                       x86_64 4.4.7-17.el6                base    4.7 M\\n gcc-gfortran                  x86_64 4.4.7-17.el6                base    4.7 M\\n gdb                           x86_64 7.2-90.el6                  base    2.3 M\\n gdbm                          x86_64 1.8.0-39.el6                base     29 k\\n gdbm-devel                    x86_64 1.8.0-39.el6                base     26 k\\n git                           x86_64 1.7.1-4.el6_7.1             base    4.6 M\\n glib2                         x86_64 2.28.8-5.el6                base    1.7 M\\n glibc                         x86_64 2.12-1.192.el6              base    3.8 M\\n glibc-common                  x86_64 2.12-1.192.el6              base     14 M\\n glibc-devel                   x86_64 2.12-1.192.el6              base    988 k\\n glibc-headers                 x86_64 2.12-1.192.el6              base    617 k\\n gmp                           x86_64 4.3.1-10.el6                base    207 k\\n gnutls                        x86_64 2.8.5-19.el6_7              base    347 k\\n grep                          x86_64 2.20-3.el6_7.1              base    344 k\\n grub                          x86_64 1:0.97-94.el6_7.1           base    937 k\\n gtk2                          x86_64 2.24.23-8.el6               base    3.2 M\\n hwdata                        noarch 0.233-16.1.el6              base    1.3 M\\n initscripts                   x86_64 9.03.53-1.el6.centos        base    947 k\\n iproute                       x86_64 2.6.32-54.el6               base    389 k\\n iputils                       x86_64 20071127-21.el6             base    120 k\\n java-1.7.0-openjdk            x86_64 1:XXX.XXX.XXX.101-XXX.XXX.XXX.4.el6_8   updates  26 M\\n jpackage-utils                noarch 1.7.5-3.16.el6              base     60 k\\n kernel-firmware               noarch 2.6.32-642.1.1.el6          updates  28 M\\n kernel-headers                x86_64 2.6.32-642.1.1.el6          updates 4.4 M\\n krb5-libs                     x86_64 1.10.3-57.el6               base    770 k\\n libX11                        x86_64 1.6.3-2.el6                 base    586 k\\n libX11-common                 noarch 1.6.3-2.el6                 base    169 k\\n libXext                       x86_64 1.3.3-1.el6                 base     35 k\\n libXfont                      x86_64 1.5.1-2.el6                 base    145 k\\n libXft                        x86_64 2.3.2-1.el6                 base     55 k\\n libXi                         x86_64 1.7.4-1.el6                 base     37 k\\n libXrandr                     x86_64 1.4.2-1.el6                 base     23 k\\n libXrender                    x86_64 0.9.8-2.1.el6_8.1           updates  24 k\\n libblkid                      x86_64 2.17.2-12.24.el6            base    117 k\\n libcurl                       x86_64 7.19.7-52.el6               base    169 k\\n libdrm                        x86_64 2.4.65-2.el6                base    136 k\\n libfontenc                    x86_64 1.1.2-3.el6                 base     29 k\\n libgcc                        x86_64 4.4.7-17.el6                base    103 k\\n libgcj                        x86_64 4.4.7-17.el6                base     19 M\\n libgfortran                   x86_64 4.4.7-17.el6                base    268 k\\n libgomp                       x86_64 4.4.7-17.el6                base    134 k\\n libgudev1                     x86_64 147-2.73.el6                base     65 k\\n libicu                        x86_64 4.2.1-14.el6                base    4.9 M\\n libpciaccess                  x86_64 0.13.4-1.el6                base     24 k\\n libpng                        x86_64 2:1.2.49-2.el6_7            base    182 k\\n libselinux                    x86_64 2.0.94-7.el6                base    109 k\\n libselinux-utils              x86_64 2.0.94-7.el6                base     82 k\\n libssh2                       x86_64 1.4.2-2.el6_7.1             base    123 k\\n libstdc++                     x86_64 4.4.7-17.el6                base    295 k\\n libstdc++-devel               x86_64 4.4.7-17.el6                base    1.6 M\\n libudev                       x86_64 147-2.73.el6                base     78 k\\n libuuid                       x86_64 2.17.2-12.24.el6            base     70 k\\n libxcb                        x86_64 1.11-2.el6                  base    142 k\\n libxml2                       x86_64 2.7.6-21.el6                base    803 k\\n logrotate                     x86_64 3.7.8-26.el6_7              base     58 k\\n lvm2                          x86_64 2.02.143-7.el6              base    943 k\\n lvm2-libs                     x86_64 2.02.143-7.el6              base    1.0 M\\n make                          x86_64 1:3.81-23.el6               base    389 k\\n mesa-dri-drivers              x86_64 11.0.7-4.el6                base    4.1 M\\n mesa-dri-filesystem           x86_64 11.0.7-4.el6                base     17 k\\n mesa-libGL                    x86_64 11.0.7-4.el6                base    142 k\\n mesa-libGLU                   x86_64 11.0.7-4.el6                base    198 k\\n mesa-private-llvm             x86_64 3.6.2-1.el6                 base    6.5 M\\n munin-common                  noarch 2.0.25-11.el6               epel     91 k\\n munin-node                    noarch 2.0.25-11.el6               epel    404 k\\n mysql-libs                    x86_64 5.1.73-7.el6                base    1.2 M\\n net-snmp                      x86_64 1:5.5-57.el6                base    308 k\\n net-snmp-libs                 x86_64 1:5.5-57.el6                base    1.5 M\\n nspr                          x86_64 4.11.0-1.el6                base    114 k\\n nss                           x86_64 3.21.0-8.el6                base    859 k\\n nss-sysinit                   x86_64 3.21.0-8.el6                base     47 k\\n nss-tools                     x86_64 3.21.0-8.el6                base    437 k\\n nss-util                      x86_64 3.21.0-2.el6                base     67 k\\n ntp                           x86_64 4.2.6p5-10.el6.centos.1     updates 598 k\\n ntpdate                       x86_64 4.2.6p5-10.el6.centos.1     updates  78 k\\n openldap                      x86_64 2.4.40-12.el6               base    284 k\\n openssh                       x86_64 5.3p1-118.1.el6_8           updates 276 k\\n openssh-clients               x86_64 5.3p1-118.1.el6_8           updates 442 k\\n openssh-server                x86_64 5.3p1-118.1.el6_8           updates 328 k\\n openssl                       x86_64 1.0.1e-48.el6_8.1           updates 1.5 M\\n pam                           x86_64 1.1.1-22.el6                base    658 k\\n pango                         x86_64 1.28.1-11.el6               base    351 k\\n passwd                        x86_64 0.77-7.el6                  base     89 k\\n perl                          x86_64 4:5.10.1-141.el6_7.1        base     10 M\\n perl-CGI                      x86_64 3.51-141.el6_7.1            base    209 k\\n perl-Compress-Raw-Zlib        x86_64 1:2.021-141.el6_7.1         base     70 k\\n perl-Compress-Zlib            x86_64 2.021-141.el6_7.1           base     46 k\\n perl-ExtUtils-MakeMaker       x86_64 6.55-141.el6_7.1            base    294 k\\n perl-ExtUtils-ParseXS         x86_64 1:2.2003.0-141.el6_7.1      base     46 k\\n perl-Git                      noarch 1.7.1-4.el6_7.1             base     28 k\\n perl-IO-Compress-Base         x86_64 2.021-141.el6_7.1           base     70 k\\n perl-IO-Compress-Zlib         x86_64 2.021-141.el6_7.1           base    136 k\\n perl-Module-Pluggable         x86_64 1:3.90-141.el6_7.1          base     40 k\\n perl-Net-CIDR                 noarch 0.18-1.el6                  epel     19 k\\n perl-Pod-Escapes              x86_64 1:1.04-141.el6_7.1          base     33 k\\n perl-Pod-Simple               x86_64 1:3.13-141.el6_7.1          base    213 k\\n perl-Test-Harness             x86_64 3.17-141.el6_7.1            base    232 k\\n perl-Test-Simple              x86_64 0.92-141.el6_7.1            base    113 k\\n perl-Time-HiRes               x86_64 4:1.9721-141.el6_7.1        base     49 k\\n perl-devel                    x86_64 4:5.10.1-141.el6_7.1        base    424 k\\n perl-libs                     x86_64 4:5.10.1-141.el6_7.1        base    579 k\\n perl-libwww-perl              noarch 5.833-3.el6                 base    391 k\\n perl-version                  x86_64 3:0.77-141.el6_7.1          base     52 k\\n pixman                        x86_64 0.32.8-1.el6                base    243 k\\n policycoreutils               x86_64 2.0.83-29.el6               base    663 k\\n poppler                       x86_64 0.12.4-10.el6               base    558 k\\n poppler-utils                 x86_64 0.12.4-10.el6               base     74 k\\n portreserve                   x86_64 0.0.4-11.el6                base     23 k\\n postfix                       x86_64 2:2.6.6-6.el6_7.1           base    2.0 M\\n postgresql-libs               x86_64 8.4.20-6.el6                base    202 k\\n procps                        x86_64 3.2.8-36.el6                base    218 k\\n pulseaudio-libs               x86_64 0.9.21-24.el6               base    463 k\\n python-pycurl                 x86_64 7.19.0-9.el6                base     77 k\\n python-urlgrabber             noarch 3.9.1-11.el6                base     86 k\\n redhat-rpm-config             noarch 9.0.3-51.el6.centos         base     60 k\\n rhino                         noarch 1.7R4-4.el6                 base    1.0 M\\n rpm                           x86_64 4.8.0-55.el6                base    906 k\\n rpm-build                     x86_64 4.8.0-55.el6                base    131 k\\n rpm-libs                      x86_64 4.8.0-55.el6                base    318 k\\n rpm-python                    x86_64 4.8.0-55.el6                base     60 k\\n screen                        x86_64 4.0.3-19.el6                base    494 k\\n selinux-policy                noarch 3.7.19-292.el6              base    889 k\\n selinux-policy-targeted       noarch 3.7.19-292.el6              base    3.1 M\\n shadow-utils                  x86_64 2:XXX.XXX.XXX.1-5.el6             base    1.0 M\\n sudo                          x86_64 1.8.6p3-24.el6              base    710 k\\n sysstat                       x86_64 9.0.4-31.el6                base    234 k\\n systemtap                     x86_64 2.9-4.el6                   base     23 k\\n systemtap-client              x86_64 2.9-4.el6                   base    3.7 M\\n systemtap-devel               x86_64 2.9-4.el6                   base    1.7 M\\n systemtap-runtime             x86_64 2.9-4.el6                   base    205 k\\n tar                           x86_64 2:1.23-14.el6               base    809 k\\n tcp_wrappers-libs             x86_64 7.6-58.el6                  base     62 k\\n tmpwatch                      x86_64 2.9.16-6.el6                base     31 k\\n tzdata                        noarch 2016d-1.el6                 updates 451 k\\n tzdata-java                   noarch 2016d-1.el6                 updates 180 k\\n udev                          x86_64 147-2.73.el6                base    358 k\\n unzip                         x86_64 6.0-4.el6                   base    152 k\\n upstart                       x86_64 0.6.5-16.el6                base    177 k\\n urw-fonts                     noarch 2.4-11.el6                  base    3.1 M\\n util-linux-ng                 x86_64 2.17.2-12.24.el6            base    1.6 M\\n wget                          x86_64 1.12-8.el6                  base    484 k\\n xorg-x11-drv-ati-firmware     noarch 7.6.1-2.el6                 base    1.2 M\\n yum                           noarch 3.2.29-73.el6.centos        base    1.0 M\\n yum-plugin-fastestmirror      noarch 1.1.30-37.el6               base     32 k\\n yum-utils                     noarch 1.1.30-37.el6               base    112 k\\n zip                           x86_64 3.0-1.el6_7.1               base    259 k\\nInstalling for dependencies:\\n PyYAML                        x86_64 3.10-3.1.el6                base    157 k\\n gdisk                         x86_64 0.8.10-1.el6                base    167 k\\n kpartx                        x86_64 0.4.9-93.el6                base     67 k\\n libaio                        x86_64 0.3.107-10.el6              base     21 k\\n libxml2-python                x86_64 2.7.6-21.el6                base    323 k\\n libxslt                       x86_64 1.1.26-2.el6_3.1            base    452 k\\n libyaml                       x86_64 0.1.3-4.el6_6               base     52 k\\n lksctp-tools                  x86_64 1.0.10-7.el6                base     79 k\\n python-argparse               noarch 1.2.1-2.1.el6               base     48 k\\n python-lxml                   x86_64 2.2.3-1.1.el6               base    2.0 M\\n python-progressbar            noarch 2.3-2.el6                   epel     20 k\\n python-pyasn1                 noarch 0.0.12a-1.el6               base     70 k\\n python-requestbuilder         noarch 0.5.2-1.el6                 epel     77 k\\n\\nTransaction Summary\\n================================================================================\\nInstall      17 Package(s)\\nUpgrade     199 Package(s)\\n\\nTotal download size: 279 M\\nDownloading Packages:\\n--------------------------------------------------------------------------------\\nTotal                                            20 MB/s | 279 MB     00:14     \\nRunning rpm_check_debug\\nRunning Transaction Test\\nTransaction Test Succeeded\\nRunning Transaction\\n\\r  Updating   : libgcc-4.4.7-17.el6.x86_64                                 1/417 \\n\\r  Installing : python-argparse-1.2.1-2.1.el6.noarch                       2/417 \\n\\r  Updating   : hwdata-0.233-16.1.el6.noarch                               3/417 \\n\\r  Installing : python-requestbuilder-0.5.2-1.el6.noarch                   4/417 \\n\\r  Updating   : centos-release-6-8.el6.centos.12.3.x86_64                  5/417 \\n\\r  Updating   : libX11-common-1.6.3-2.el6.noarch                           6/417 \\n\\r  Updating   : tzdata-2016d-1.el6.noarch                                  7/417 \\n\\r  Updating   : glibc-2.12-1.192.el6.x86_64                                8/417 \\n\\r  Updating   : bash-4.1.2-40.el6.x86_64                                   9/417 \\n\\r  Updating   : glibc-common-2.12-1.192.el6.x86_64                        10/417 \\n\\r  Updating   : libstdc++-4.4.7-17.el6.x86_64                             11/417 \\n\\r  Updating   : libselinux-2.0.94-7.el6.x86_64                            12/417 \\n\\r  Updating   : chkconfig-XXX.XXX.XXX.5-1.el6.x86_64                           13/417 \\n\\r  Updating   : audit-libs-2.4.5-3.el6.x86_64                             14/417 \\n\\r  Updating   : nspr-4.11.0-1.el6.x86_64                                  15/417 \\n\\r  Updating   : nss-util-3.21.0-2.el6.x86_64                              16/417 \\n\\r  Updating   : krb5-libs-1.10.3-57.el6.x86_64                            17/417 \\n\\r  Updating   : glib2-2.28.8-5.el6.x86_64                                 18/417 \\n\\r  Updating   : elfutils-libelf-0.164-2.el6.x86_64                        19/417 \\n\\r  Updating   : freetype-2.3.11-17.el6.x86_64                             20/417 \\n\\r  Updating   : grep-2.20-3.el6_7.1.x86_64                                21/417 \\n\\r  Updating   : 1:findutils-4.4.2-9.el6.x86_64                            22/417 \\n\\r  Updating   : gmp-4.3.1-10.el6.x86_64                                   23/417 \\n\\r  Updating   : coreutils-libs-8.4-43.el6.x86_64                          24/417 \\n\\r  Updating   : coreutils-8.4-43.el6.x86_64                               25/417 \\n\\r  Updating   : pam-1.1.1-22.el6.x86_64                                   26/417 \\n\\r  Updating   : 2:shadow-utils-XXX.XXX.XXX.1-5.el6.x86_64                       27/417 \\n\\r  Updating   : gawk-3.1.7-10.el6_7.3.x86_64                              28/417 \\n\\r  Updating   : file-libs-5.04-30.el6.x86_64                              29/417 \\n\\r  Updating   : tcp_wrappers-libs-7.6-58.el6.x86_64                       30/417 \\n\\r  Updating   : libudev-147-2.73.el6.x86_64                               31/417 \\n\\r  Updating   : libxml2-2.7.6-21.el6.x86_64                               32/417 \\n\\r  Updating   : 2:libpng-1.2.49-2.el6_7.x86_64                            33/417 \\n\\r  Updating   : elfutils-libs-0.164-2.el6.x86_64                          34/417 \\n\\r  Updating   : boost-system-1.41.0-28.el6.x86_64                         35/417 \\n\\r  Updating   : libuuid-2.17.2-12.24.el6.x86_64                           36/417 \\n\\r  Updating   : boost-filesystem-1.41.0-28.el6.x86_64                     37/417 \\n\\r  Updating   : file-5.04-30.el6.x86_64                                   38/417 \\n\\r  Updating   : alsa-lib-1.1.0-4.el6.x86_64                               39/417 \\n\\r  Updating   : ca-certificates-2015.2.6-65.0.1.el6_7.noarch              40/417 \\n\\r  Updating   : jpackage-utils-1.7.5-3.16.el6.noarch                      41/417 \\n\\r  Updating   : procps-3.2.8-36.el6.x86_64                                42/417 \\n\\r  Updating   : boost-thread-1.41.0-28.el6.x86_64                         43/417 \\n\\r  Updating   : gnutls-2.8.5-19.el6_7.x86_64                              44/417 \\n\\r  Updating   : 1:cups-libs-1.4.2-74.el6.x86_64                           45/417 \\n\\r  Updating   : libicu-4.2.1-14.el6.x86_64                                46/417 \\n\\r  Updating   : boost-regex-1.41.0-28.el6.x86_64                          47/417 \\n\\r  Updating   : boost-date-time-1.41.0-28.el6.x86_64                      48/417 \\n\\r  Updating   : binutils-XXX.XXX.XXX.0.2-5.44.el6.x86_64                      49/417 \\n\\r  Updating   : 1:make-3.81-23.el6.x86_64                                 50/417 \\n\\r  Updating   : openssl-1.0.1e-48.el6_8.1.x86_64                          51/417 \\n\\r  Updating   : libssh2-1.4.2-2.el6_7.1.x86_64                            52/417 \\n\\r  Updating   : unzip-6.0-4.el6.x86_64                                    53/417 \\n\\r  Updating   : libxcb-1.11-2.el6.x86_64                                  54/417 \\n\\r  Updating   : libX11-1.6.3-2.el6.x86_64                                 55/417 \\n\\r  Updating   : libXrender-0.9.8-2.1.el6_8.1.x86_64                       56/417 \\n\\r  Updating   : libXext-1.3.3-1.el6.x86_64                                57/417 \\n\\r  Updating   : libXi-1.7.4-1.el6.x86_64                                  58/417 \\n\\r  Updating   : libXrandr-1.4.2-1.el6.x86_64                              59/417 \\n\\r  Updating   : zip-3.0-1.el6_7.1.x86_64                                  60/417 \\n\\r  Updating   : gdbm-1.8.0-39.el6.x86_64                                  61/417 \\n\\r  Updating   : 1:perl-Pod-Escapes-1.04-141.el6_7.1.x86_64                62/417 \\n\\r  Updating   : 3:perl-version-0.77-141.el6_7.1.x86_64                    63/417 \\n\\r  Updating   : 4:perl-libs-5.10.1-141.el6_7.1.x86_64                     64/417 \\n\\r  Updating   : 1:perl-Module-Pluggable-3.90-141.el6_7.1.x86_64           65/417 \\n\\r  Updating   : 1:perl-Pod-Simple-3.13-141.el6_7.1.x86_64                 66/417 \\n\\r  Updating   : 4:perl-5.10.1-141.el6_7.1.x86_64                          67/417 \\n\\r  Updating   : 1:perl-Compress-Raw-Zlib-2.021-141.el6_7.1.x86_64         68/417 \\n\\r  Updating   : perl-IO-Compress-Base-2.021-141.el6_7.1.x86_64            69/417 \\n\\r  Updating   : perl-IO-Compress-Zlib-2.021-141.el6_7.1.x86_64            70/417 \\n\\r  Updating   : perl-Compress-Zlib-2.021-141.el6_7.1.x86_64               71/417 \\n\\r  Updating   : perl-libwww-perl-5.833-3.el6.noarch                       72/417 \\n\\r  Updating   : munin-common-2.0.25-11.el6.noarch                         73/417 \\n\\r  Updating   : perl-Net-CIDR-0.18-1.el6.noarch                           74/417 \\n\\r  Updating   : 4:perl-Time-HiRes-1.9721-141.el6_7.1.x86_64               75/417 \\n\\r  Updating   : redhat-rpm-config-9.0.3-51.el6.centos.noarch              76/417 \\n\\r  Updating   : gdbm-devel-1.8.0-39.el6.x86_64                            77/417 \\n\\r  Updating   : libXft-2.3.2-1.el6.x86_64                                 78/417 \\n\\r  Updating   : pango-1.28.1-11.el6.x86_64                                79/417 \\n\\r  Updating   : gtk2-2.24.23-8.el6.x86_64                                 80/417 \\n\\r  Updating   : pulseaudio-libs-0.9.21-24.el6.x86_64                      81/417 \\n\\r  Updating   : mysql-libs-5.1.73-7.el6.x86_64                            82/417 \\n\\r  Updating   : boost-wave-1.41.0-28.el6.x86_64                           83/417 \\n\\r  Updating   : boost-graph-1.41.0-28.el6.x86_64                          84/417 \\n\\r  Installing : gdisk-0.8.10-1.el6.x86_64                                 85/417 \\n\\r  Updating   : libblkid-2.17.2-12.24.el6.x86_64                          86/417 \\n\\r  Updating   : elfutils-0.164-2.el6.x86_64                               87/417 \\n\\r  Updating   : poppler-0.12.4-10.el6.x86_64                              88/417 \\n\\r  Updating   : poppler-utils-0.12.4-10.el6.x86_64                        89/417 \\n\\r  Installing : libxslt-1.1.26-2.el6_3.1.x86_64                           90/417 \\n\\r  Installing : python-lxml-2.2.3-1.1.el6.x86_64                          91/417 \\n\\r  Installing : libxml2-python-2.7.6-21.el6.x86_64                        92/417 \\n\\r  Updating   : ConsoleKit-libs-0.4.1-6.el6.x86_64                        93/417 \\n\\r  Updating   : nss-3.21.0-8.el6.x86_64                                   94/417 \\n\\r  Updating   : nss-sysinit-3.21.0-8.el6.x86_64                           95/417 \\n\\r  Updating   : nss-tools-3.21.0-8.el6.x86_64                             96/417 \\n\\r  Updating   : libcurl-7.19.7-52.el6.x86_64                              97/417 \\n\\r  Updating   : rpm-libs-4.8.0-55.el6.x86_64                              98/417 \\n\\r  Updating   : curl-7.19.7-52.el6.x86_64                                 99/417 \\n\\r  Updating   : rpm-4.8.0-55.el6.x86_64                                  100/417 \\n\\r  Updating   : openldap-2.4.40-12.el6.x86_64                            101/417 \\n\\r  Updating   : rpm-python-4.8.0-55.el6.x86_64                           102/417 \\n\\r  Updating   : 1:net-snmp-libs-5.5-57.el6.x86_64                        103/417 \\n\\r  Updating   : python-pycurl-7.19.0-9.el6.x86_64                        104/417 \\n\\r  Updating   : python-urlgrabber-3.9.1-11.el6.noarch                    105/417 \\n\\r  Updating   : yum-plugin-fastestmirror-1.1.30-37.el6.noarch            106/417 \\n\\r  Updating   : yum-3.2.29-73.el6.centos.noarch                          107/417 \\n\\r  Updating   : systemtap-runtime-2.9-4.el6.x86_64                       108/417 \\n\\r  Updating   : cpp-4.4.7-17.el6.x86_64                                  109/417 \\n\\r  Installing : kernel-devel-2.6.32-642.1.1.el6.x86_64                   110/417 \\n\\r  Updating   : upstart-0.6.5-16.el6.x86_64                              111/417 \\n\\r  Updating   : portreserve-0.0.4-11.el6.x86_64                          112/417 \\n\\r  Updating   : libselinux-utils-2.0.94-7.el6.x86_64                     113/417 \\n\\r  Updating   : 2:tar-1.23-14.el6.x86_64                                 114/417 \\n\\r  Updating   : boost-iostreams-1.41.0-28.el6.x86_64                     115/417 \\n\\r  Updating   : boost-program-options-1.41.0-28.el6.x86_64               116/417 \\n\\r  Updating   : boost-python-1.41.0-28.el6.x86_64                        117/417 \\n\\r  Updating   : boost-signals-1.41.0-28.el6.x86_64                       118/417 \\n\\r  Updating   : libstdc++-devel-4.4.7-17.el6.x86_64                      119/417 \\n\\r  Updating   : boost-test-1.41.0-28.el6.x86_64                          120/417 \\n\\r  Updating   : mesa-private-llvm-3.6.2-1.el6.x86_64                     121/417 \\n\\r  Updating   : boost-serialization-1.41.0-28.el6.x86_64                 122/417 \\n\\r  Updating   : gdb-7.2-90.el6.x86_64                                    123/417 \\n\\r  Installing : lksctp-tools-1.0.10-7.el6.x86_64                         124/417 \\n\\r  Updating   : libgomp-4.4.7-17.el6.x86_64                              125/417 \\n\\r  Updating   : tmpwatch-2.9.16-6.el6.x86_64                             126/417 \\n\\r  Updating   : iproute-2.6.32-54.el6.x86_64                             127/417 \\n\\r  Updating   : iputils-20071127-21.el6.x86_64                           128/417 \\n\\r  Updating   : util-linux-ng-2.17.2-12.24.el6.x86_64                    129/417 \\n\\r  Updating   : initscripts-9.03.53-1.el6.centos.x86_64                  130/417 \\n\\r  Updating   : udev-147-2.73.el6.x86_64                                 131/417 \\n\\r  Updating   : device-mapper-libs-1.02.117-7.el6.x86_64                 132/417 \\n\\r  Updating   : device-mapper-1.02.117-7.el6.x86_64                      133/417 \\n\\r  Updating   : device-mapper-event-libs-1.02.117-7.el6.x86_64           134/417 \\n\\r  Updating   : openssh-5.3p1-118.1.el6_8.x86_64                         135/417 \\n\\r  Updating   : openssh-clients-5.3p1-118.1.el6_8.x86_64                 136/417 \\n\\r  Updating   : policycoreutils-2.0.83-29.el6.x86_64                     137/417 \\n\\r  Updating   : selinux-policy-3.7.19-292.el6.noarch                     138/417 \\n\\r  Updating   : perl-Git-1.7.1-4.el6_7.1.noarch                          139/417 \\n\\r  Updating   : git-1.7.1-4.el6_7.1.x86_64                               140/417 \\n\\r  Updating   : device-mapper-event-1.02.117-7.el6.x86_64                141/417 \\n\\r  Updating   : lvm2-libs-2.02.143-7.el6.x86_64                          142/417 \\n\\r  Installing : kpartx-0.4.9-93.el6.x86_64                               143/417 \\n\\r  Updating   : dracut-004-409.el6_8.2.noarch                            144/417 \\n\\r  Updating   : dracut-kernel-004-409.el6_8.2.noarch                     145/417 \\n\\r  Updating   : 1:cups-1.4.2-74.el6.x86_64                               146/417 \\n\\r  Updating   : ntpdate-4.2.6p5-10.el6.centos.1.x86_64                   147/417 \\n\\r  Updating   : 2:postfix-2.6.6-6.el6_7.1.x86_64                         148/417 \\n\\r  Updating   : cronie-anacron-1.4.4-15.el6_7.1.x86_64                   149/417 \\n\\r  Updating   : cronie-1.4.4-15.el6_7.1.x86_64                           150/417 \\n\\r  Updating   : sysstat-9.0.4-31.el6.x86_64                              151/417 \\n\\r  Installing : libyaml-0.1.3-4.el6_6.x86_64                             152/417 \\n\\r  Installing : PyYAML-3.10-3.1.el6.x86_64                               153/417 \\n\\r  Updating   : libpciaccess-0.13.4-1.el6.x86_64                         154/417 \\n\\r  Updating   : libdrm-2.4.65-2.el6.x86_64                               155/417 \\n\\r  Installing : libaio-0.3.107-10.el6.x86_64                             156/417 \\n\\r  Updating   : device-mapper-persistent-data-0.6.2-0.1.rc7.el6.x86_64   157/417 \\n\\r  Updating   : libgfortran-4.4.7-17.el6.x86_64                          158/417 \\n\\r  Updating   : libfontenc-1.1.2-3.el6.x86_64                            159/417 \\n\\r  Updating   : kernel-firmware-2.6.32-642.1.1.el6.noarch                160/417 \\n\\r  Updating   : kernel-headers-2.6.32-642.1.1.el6.x86_64                 161/417 \\n\\r  Updating   : glibc-headers-2.12-1.192.el6.x86_64                      162/417 \\n\\r  Updating   : glibc-devel-2.12-1.192.el6.x86_64                        163/417 \\n\\r  Updating   : 1:perl-ExtUtils-ParseXS-2.2003.0-141.el6_7.1.x86_64      164/417 \\n\\r  Updating   : perl-ExtUtils-MakeMaker-6.55-141.el6_7.1.x86_64          165/417 \\n\\r  Updating   : 4:perl-devel-5.10.1-141.el6_7.1.x86_64                   166/417 \\n\\r  Updating   : perl-Test-Harness-3.17-141.el6_7.1.x86_64                167/417 \\n\\r  Updating   : gcc-4.4.7-17.el6.x86_64                                  168/417 \\n\\r  Updating   : systemtap-devel-2.9-4.el6.x86_64                         169/417 \\n\\r  Updating   : systemtap-client-2.9-4.el6.x86_64                        170/417 \\n\\r  Updating   : mesa-dri-filesystem-11.0.7-4.el6.x86_64                  171/417 \\n\\r  Updating   : mesa-dri-drivers-11.0.7-4.el6.x86_64                     172/417 \\n\\r  Updating   : mesa-libGL-11.0.7-4.el6.x86_64                           173/417 \\n\\r  Updating   : tzdata-java-2016d-1.el6.noarch                           174/417 \\n\\r  Updating   : 12:dhcp-common-4.1.1-51.P1.el6.centos.x86_64             175/417 \\n\\r  Installing : python-progressbar-2.3-2.el6.noarch                      176/417 \\n\\r  Installing : python-pyasn1-0.0.12a-1.el6.noarch                       177/417 \\n\\r  Installing : python2-rsa-3.4.1-1.el6.noarch                           178/417 \\n\\r  Installing : python2-boto-2.40.0-1.el6.noarch                         179/417 \\n\\r  Updating   : euca2ools-3.3.0-3.el6.noarch                             180/417 \\n\\r  Updating   : 12:dhclient-4.1.1-51.P1.el6.centos.x86_64                181/417 \\n\\r  Updating   : 1:java-1.7.0-openjdk-XXX.XXX.XXX.101-XXX.XXX.XXX.4.el6_8.x86_64      182/417 \\n\\r  Updating   : mesa-libGLU-11.0.7-4.el6.x86_64                          183/417 \\n\\r  Updating   : systemtap-2.9-4.el6.x86_64                               184/417 \\n\\r  Updating   : gcc-c++-4.4.7-17.el6.x86_64                              185/417 \\n\\r  Updating   : gcc-gfortran-4.4.7-17.el6.x86_64                         186/417 \\n\\r  Updating   : perl-Test-Simple-0.92-141.el6_7.1.x86_64                 187/417 \\n\\r  Installing : kernel-2.6.32-642.1.1.el6.x86_64                         188/417 \\n\\r  Updating   : libXfont-1.5.1-2.el6.x86_64                              189/417 \\n\\r  Updating   : lvm2-2.02.143-7.el6.x86_64                               190/417 \\n\\r  Updating   : munin-node-2.0.25-11.el6.noarch                          191/417 \\n\\r  Updating   : ntp-4.2.6p5-10.el6.centos.1.x86_64                       192/417 \\n\\r  Updating   : foomatic-4.0.4-5.el6_7.x86_64                            193/417 \\n\\r  Updating   : selinux-policy-targeted-3.7.19-292.el6.noarch            194/417 \\n\\r  Updating   : openssh-server-5.3p1-118.1.el6_8.x86_64                  195/417 \\n\\r  Updating   : 1:net-snmp-5.5-57.el6.x86_64                             196/417 \\n\\r  Updating   : rpm-build-4.8.0-55.el6.x86_64                            197/417 \\n\\r  Updating   : boost-1.41.0-28.el6.x86_64                               198/417 \\n\\r  Updating   : yum-utils-1.1.30-37.el6.noarch                           199/417 \\n\\r  Updating   : postgresql-libs-8.4.20-6.el6.x86_64                      200/417 \\n\\r  Updating   : sudo-1.8.6p3-24.el6.x86_64                               201/417 \\nwarning: /etc/sudoers created as /etc/sudoers.rpmnew\\n\\r  Updating   : ConsoleKit-0.4.1-6.el6.x86_64                            202/417 \\n\\r  Updating   : libgcj-4.4.7-17.el6.x86_64                               203/417 \\n\\r  Updating   : perl-CGI-3.51-141.el6_7.1.x86_64                         204/417 \\n\\r  Updating   : wget-1.12-8.el6.x86_64                                   205/417 \\n\\r  Updating   : rhino-1.7R4-4.el6.noarch                                 206/417 \\n\\r  Updating   : libgudev1-147-2.73.el6.x86_64                            207/417 \\n\\r  Updating   : audit-2.4.5-3.el6.x86_64                                 208/417 \\n\\r  Updating   : screen-4.0.3-19.el6.x86_64                               209/417 \\n\\r  Updating   : passwd-0.77-7.el6.x86_64                                 210/417 \\n\\r  Updating   : logrotate-3.7.8-26.el6_7.x86_64                          211/417 \\n\\r  Updating   : 1:grub-0.97-94.el6_7.1.x86_64                            212/417 \\n\\r  Updating   : cscope-15.6-7.el6.x86_64                                 213/417 \\n\\r  Updating   : urw-fonts-2.4-11.el6.noarch                              214/417 \\n\\r  Updating   : pixman-0.32.8-1.el6.x86_64                               215/417 \\n\\r  Updating   : xorg-x11-drv-ati-firmware-7.6.1-2.el6.noarch             216/417 \\n\\r  Cleanup    : 1:java-1.7.0-openjdk-XXX.XXX.XXX.91-XXX.XXX.XXX.2.el6_7.x86_64       217/417 \\n\\r  Cleanup    : rpm-build-4.8.0-47.el6.x86_64                            218/417 \\n\\r  Cleanup    : libgcj-4.4.7-16.el6.x86_64                               219/417 \\n\\r  Cleanup    : openssh-server-5.3p1-112.el6_7.x86_64                    220/417 \\n\\r  Cleanup    : munin-node-2.0.25-2.el6.noarch                           221/417 \\n\\r  Cleanup    : boost-1.41.0-27.el6.x86_64                               222/417 \\n\\r  Cleanup    : 1:net-snmp-5.5-54.el6_7.1.x86_64                         223/417 \\n\\r  Cleanup    : gtk2-2.24.23-6.el6.x86_64                                224/417 \\n\\r  Cleanup    : boost-wave-1.41.0-27.el6.x86_64                          225/417 \\n\\r  Cleanup    : perl-Git-1.7.1-3.el6_4.1.noarch                          226/417 \\n\\r  Cleanup    : git-1.7.1-3.el6_4.1.x86_64                               227/417 \\n\\r  Cleanup    : pango-1.28.1-10.el6.x86_64                               228/417 \\n\\r  Cleanup    : 1:net-snmp-libs-5.5-54.el6_7.1.x86_64                    229/417 \\n\\r  Cleanup    : sysstat-9.0.4-27.el6.x86_64                              230/417 \\n\\r  Cleanup    : cronie-1.4.4-15.el6.x86_64                               231/417 \\n\\r  Cleanup    : cronie-anacron-1.4.4-15.el6.x86_64                       232/417 \\n\\r  Cleanup    : 2:postfix-2.6.6-6.el6_5.x86_64                           233/417 \\n\\r  Cleanup    : lvm2-2.02.118-3.el6_7.3.x86_64                           234/417 \\n\\r  Cleanup    : foomatic-4.0.4-3.el6.x86_64                              235/417 \\n\\r  Cleanup    : 1:cups-1.4.2-72.el6.x86_64                               236/417 \\n\\r  Cleanup    : 1:cups-libs-1.4.2-72.el6.x86_64                          237/417 \\n\\r  Cleanup    : poppler-utils-0.12.4-4.el6_6.1.x86_64                    238/417 \\n\\r  Cleanup    : lvm2-libs-2.02.118-3.el6_7.3.x86_64                      239/417 \\n\\r  Cleanup    : device-mapper-event-1.02.95-3.el6_7.3.x86_64             240/417 \\n\\r  Cleanup    : boost-graph-1.41.0-27.el6.x86_64                         241/417 \\n\\r  Cleanup    : elfutils-0.161-3.el6.x86_64                              242/417 \\n\\r  Cleanup    : ntp-4.2.6p5-5.el6.centos.2.x86_64                        243/417 \\n\\r  Cleanup    : audit-2.3.7-5.el6.x86_64                                 244/417 \\n\\r  Cleanup    : sudo-1.8.6p3-20.el6_7.x86_64                             245/417 \\n\\r  Cleanup    : passwd-0.77-4.el6_2.2.x86_64                             246/417 \\n\\r  Cleanup    : ntpdate-4.2.6p5-5.el6.centos.2.x86_64                    247/417 \\n\\r  Cleanup    : poppler-0.12.4-4.el6_6.1.x86_64                          248/417 \\n\\r  Cleanup    : boost-filesystem-1.41.0-27.el6.x86_64                    249/417 \\n\\r  Cleanup    : gcc-c++-4.4.7-16.el6.x86_64                              250/417 \\n\\r  Cleanup    : postgresql-libs-8.4.20-3.el6_6.x86_64                    251/417 \\n\\r  Cleanup    : mesa-libGLU-10.4.3-1.el6.x86_64                          252/417 \\n\\r  Cleanup    : redhat-rpm-config-9.0.3-44.el6.centos.noarch             253/417 \\n\\r  Cleanup    : selinux-policy-targeted-3.7.19-279.el6_7.6.noarch        254/417 \\n\\r  Cleanup    : selinux-policy-3.7.19-279.el6_7.6.noarch                 255/417 \\n\\r  Cleanup    : perl-libwww-perl-5.833-2.el6.noarch                      256/417 \\n\\r  Cleanup    : perl-Compress-Zlib-2.021-141.el6.x86_64                  257/417 \\n\\r  Cleanup    : perl-IO-Compress-Zlib-2.021-141.el6.x86_64               258/417 \\n\\r  Cleanup    : systemtap-2.7-2.el6.x86_64                               259/417 \\n\\r  Cleanup    : munin-common-2.0.25-2.el6.noarch                         260/417 \\n\\r  Cleanup    : 1:grub-0.97-94.el6.x86_64                                261/417 \\n\\r  Cleanup    : rhino-1.7-0.7.r2.2.el6.noarch                            262/417 \\n\\r  Cleanup    : jpackage-utils-1.7.5-3.14.el6.noarch                     263/417 \\n\\r  Cleanup    : euca2ools-2.1.4-1.el6.noarch                             264/417 \\n\\r  Cleanup    : perl-Test-Simple-0.92-141.el6.x86_64                     265/417 \\n\\r  Cleanup    : systemtap-client-2.7-2.el6.x86_64                        266/417 \\n\\r  Cleanup    : systemtap-devel-2.7-2.el6.x86_64                         267/417 \\n\\r  Cleanup    : policycoreutils-2.0.83-24.el6.x86_64                     268/417 \\n\\r  Cleanup    : systemtap-runtime-2.7-2.el6.x86_64                       269/417 \\n\\r  Cleanup    : openssh-clients-5.3p1-112.el6_7.x86_64                   270/417 \\n\\r  Cleanup    : openssh-5.3p1-112.el6_7.x86_64                           271/417 \\n\\r  Cleanup    : mesa-libGL-10.4.3-1.el6.x86_64                           272/417 \\n\\r  Cleanup    : perl-Test-Harness-3.17-141.el6.x86_64                    273/417 \\n\\r  Cleanup    : perl-ExtUtils-MakeMaker-6.55-141.el6.x86_64              274/417 \\n\\r  Cleanup    : 1:perl-ExtUtils-ParseXS-2.2003.0-141.el6.x86_64          275/417 \\n\\r  Cleanup    : 4:perl-devel-5.10.1-141.el6.x86_64                       276/417 \\n\\r  Cleanup    : mesa-dri-drivers-10.4.3-1.el6.x86_64                     277/417 \\n\\r  Cleanup    : boost-regex-1.41.0-27.el6.x86_64                         278/417 \\n\\r  Cleanup    : mysql-libs-5.1.73-5.el6_6.x86_64                         279/417 \\n\\r  Cleanup    : libXft-2.3.1-2.el6.x86_64                                280/417 \\n\\r  Cleanup    : gcc-gfortran-4.4.7-16.el6.x86_64                         281/417 \\n\\r  Cleanup    : gcc-4.4.7-16.el6.x86_64                                  282/417 \\n\\r  Cleanup    : wget-1.12-5.el6_6.1.x86_64                               283/417 \\n\\r  Cleanup    : 12:dhclient-4.1.1-49.P1.el6.centos.x86_64                284/417 \\n\\r  Cleanup    : libicu-4.2.1-12.el6.x86_64                               285/417 \\n\\r  Cleanup    : mesa-private-llvm-3.4-3.el6.x86_64                       286/417 \\n\\r  Cleanup    : elfutils-libs-0.161-3.el6.x86_64                         287/417 \\n\\r  Cleanup    : boost-system-1.41.0-27.el6.x86_64                        288/417 \\n\\r  Cleanup    : gnutls-2.8.5-18.el6.x86_64                               289/417 \\n\\r  Cleanup    : device-mapper-persistent-data-0.3.2-1.el6.x86_64         290/417 \\n\\r  Cleanup    : boost-date-time-1.41.0-27.el6.x86_64                     291/417 \\n\\r  Cleanup    : boost-thread-1.41.0-27.el6.x86_64                        292/417 \\n\\r  Cleanup    : libXrandr-1.4.1-2.1.el6.x86_64                           293/417 \\n\\r  Cleanup    : boost-iostreams-1.41.0-27.el6.x86_64                     294/417 \\n\\r  Cleanup    : boost-program-options-1.41.0-27.el6.x86_64               295/417 \\n\\r  Cleanup    : boost-python-1.41.0-27.el6.x86_64                        296/417 \\n\\r  Cleanup    : boost-serialization-1.41.0-27.el6.x86_64                 297/417 \\n\\r  Cleanup    : boost-signals-1.41.0-27.el6.x86_64                       298/417 \\n\\r  Cleanup    : boost-test-1.41.0-27.el6.x86_64                          299/417 \\n\\r  Cleanup    : pulseaudio-libs-0.9.21-21.el6.x86_64                     300/417 \\n\\r  Cleanup    : ConsoleKit-0.4.1-3.el6.x86_64                            301/417 \\n\\r  Cleanup    : ConsoleKit-libs-0.4.1-3.el6.x86_64                       302/417 \\n\\r  Cleanup    : screen-4.0.3-18.el6.x86_64                               303/417 \\n\\r  Cleanup    : logrotate-3.7.8-23.el6.x86_64                            304/417 \\n\\r  Cleanup    : libgudev1-147-2.63.el6.x86_64                            305/417 \\n\\r  Cleanup    : glibc-devel-2.12-1.166.el6_7.3.x86_64                    306/417 \\n\\r  Cleanup    : cpp-4.4.7-16.el6.x86_64                                  307/417 \\n\\r  Cleanup    : libdrm-2.4.59-2.el6.x86_64                               308/417 \\n\\r  Cleanup    : libXi-1.7.2-2.2.el6.x86_64                               309/417 \\n\\r  Cleanup    : libXfont-1.4.5-5.el6_7.x86_64                            310/417 \\n\\r  Cleanup    : glibc-headers-2.12-1.166.el6_7.3.x86_64                  311/417 \\n\\r  Cleanup    : libXext-1.3.2-2.1.el6.x86_64                             312/417 \\n\\r  Cleanup    : libpciaccess-0.13.3-0.1.el6.x86_64                       313/417 \\n\\r  Cleanup    : libXrender-0.9.8-2.1.el6.x86_64                          314/417 \\n\\r  Cleanup    : libX11-1.6.0-6.el6.x86_64                                315/417 \\n\\r  Cleanup    : libselinux-utils-2.0.94-5.8.el6.x86_64                   316/417 \\n\\r  Cleanup    : 1:perl-Compress-Raw-Zlib-2.021-141.el6.x86_64            317/417 \\n\\r  Cleanup    : device-mapper-event-libs-1.02.95-3.el6_7.3.x86_64        318/417 \\n\\r  Cleanup    : device-mapper-1.02.95-3.el6_7.3.x86_64                   319/417 \\n\\r  Cleanup    : device-mapper-libs-1.02.95-3.el6_7.3.x86_64              320/417 \\n\\r  Cleanup    : portreserve-0.0.4-9.el6.x86_64                           321/417 \\n\\r  Cleanup    : 4:perl-Time-HiRes-1.9721-141.el6.x86_64                  322/417 \\n\\r  Cleanup    : alsa-lib-1.0.22-3.el6.x86_64                             323/417 \\n\\r  Cleanup    : gdbm-devel-1.8.0-38.el6.x86_64                           324/417 \\n\\r  Cleanup    : freetype-2.3.11-15.el6_6.1.x86_64                        325/417 \\n\\r  Cleanup    : binutils-XXX.XXX.XXX.0.2-5.43.el6.x86_64                     326/417 \\n\\r  Cleanup    : libgomp-4.4.7-16.el6.x86_64                              327/417 \\n\\r  Cleanup    : unzip-6.0-2.el6_6.x86_64                                 328/417 \\n\\r  Cleanup    : tmpwatch-2.9.16-4.el6.x86_64                             329/417 \\n\\r  Cleanup    : gdb-7.2-83.el6.x86_64                                    330/417 \\n\\r  Cleanup    : cscope-15.6-6.el6.x86_64                                 331/417 \\n\\r  Erasing    : python-boto-2.38.0-1.el6.noarch                          332/417 \\n\\r  Cleanup    : perl-IO-Compress-Base-2.021-141.el6.x86_64               333/417 \\n\\r  Cleanup    : libstdc++-devel-4.4.7-16.el6.x86_64                      334/417 \\n\\r  Cleanup    : perl-Net-CIDR-0.14-1.el6.noarch                          335/417 \\n\\r  Cleanup    : dracut-kernel-004-388.el6.noarch                         336/417 \\n\\r  Cleanup    : dracut-004-388.el6.noarch                                337/417 \\n\\r  Cleanup    : urw-fonts-2.4-10.el6.noarch                              338/417 \\n\\r  Cleanup    : perl-CGI-3.51-141.el6.x86_64                             339/417 \\n\\r  Cleanup    : yum-utils-1.1.30-30.el6.noarch                           340/417 \\n\\r  Cleanup    : util-linux-ng-2.17.2-12.18.el6.x86_64                    341/417 \\n\\r  Cleanup    : iputils-20071127-20.el6.x86_64                           342/417 \\n\\r  Cleanup    : udev-147-2.63.el6.x86_64                                 343/417 \\n\\r  Cleanup    : initscripts-9.03.49-1.el6.centos.1.x86_64                344/417 \\n\\r  Cleanup    : 1:perl-Module-Pluggable-3.90-141.el6.x86_64              345/417 \\n\\r  Cleanup    : 1:perl-Pod-Escapes-1.04-141.el6.x86_64                   346/417 \\n\\r  Cleanup    : 1:perl-Pod-Simple-3.13-141.el6.x86_64                    347/417 \\n\\r  Cleanup    : 3:perl-version-0.77-141.el6.x86_64                       348/417 \\n\\r  Cleanup    : 4:perl-libs-5.10.1-141.el6.x86_64                        349/417 \\n\\r  Cleanup    : 4:perl-5.10.1-141.el6.x86_64                             350/417 \\n\\r  Cleanup    : yum-plugin-fastestmirror-1.1.30-30.el6.noarch            351/417 \\n\\r  Cleanup    : yum-3.2.29-69.el6.centos.noarch                          352/417 \\n\\r  Cleanup    : rpm-python-4.8.0-47.el6.x86_64                           353/417 \\n\\r  Cleanup    : 1:findutils-4.4.2-6.el6.x86_64                           354/417 \\n\\r  Cleanup    : 2:shadow-utils-XXX.XXX.XXX.2-19.el6_6.1.x86_64                 355/417 \\n\\r  Cleanup    : glib2-2.28.8-4.el6.x86_64                                356/417 \\n\\r  Cleanup    : upstart-0.6.5-13.el6_5.3.x86_64                          357/417 \\n\\r  Cleanup    : libblkid-2.17.2-12.18.el6.x86_64                         358/417 \\n\\r  Cleanup    : file-5.04-21.el6.x86_64                                  359/417 \\n\\r  Cleanup    : 2:tar-1.23-13.el6.x86_64                                 360/417 \\n\\r  Cleanup    : procps-3.2.8-34.el6_7.x86_64                             361/417 \\n\\r  Cleanup    : gawk-3.1.7-10.el6.x86_64                                 362/417 \\n\\r  Cleanup    : iproute-2.6.32-45.el6.x86_64                             363/417 \\n\\r  Cleanup    : python-urlgrabber-3.9.1-9.el6.noarch                     364/417 \\n\\r  Cleanup    : python-pycurl-7.19.0-8.el6.x86_64                        365/417 \\n\\r  Cleanup    : libcurl-7.19.7-46.el6.x86_64                             366/417 \\n\\r  Cleanup    : openldap-2.4.40-6.el6_7.x86_64                           367/417 \\n\\r  Cleanup    : curl-7.19.7-46.el6.x86_64                                368/417 \\n\\r  Cleanup    : rpm-4.8.0-47.el6.x86_64                                  369/417 \\n\\r  Cleanup    : rpm-libs-4.8.0-47.el6.x86_64                             370/417 \\n\\r  Cleanup    : nss-tools-3.19.1-3.el6_6.x86_64                          371/417 \\n\\r  Cleanup    : nss-sysinit-3.19.1-3.el6_6.x86_64                        372/417 \\n\\r  Cleanup    : nss-3.19.1-3.el6_6.x86_64                                373/417 \\n\\r  Cleanup    : nss-util-3.19.1-1.el6_6.x86_64                           374/417 \\n\\r  Cleanup    : chkconfig-XXX.XXX.XXX.3-5.el6.x86_64                          375/417 \\n\\r  Cleanup    : libssh2-1.4.2-1.el6_6.1.x86_64                           376/417 \\n\\r  Cleanup    : openssl-1.0.1e-42.el6.x86_64                             377/417 \\n\\r  Cleanup    : krb5-libs-1.10.3-42.el6.x86_64                           378/417 \\n\\r  Cleanup    : ca-certificates-2015.2.4-65.0.1.el6_6.noarch             379/417 \\n\\r  Cleanup    : coreutils-libs-8.4-37.el6.x86_64                         380/417 \\n\\r  Cleanup    : pam-1.1.1-20.el6_7.1.x86_64                              381/417 \\n\\r  Cleanup    : coreutils-8.4-37.el6.x86_64                              382/417 \\n\\r  Cleanup    : gmp-4.3.1-7.el6_2.2.x86_64                               383/417 \\n\\r  Cleanup    : libstdc++-4.4.7-16.el6.x86_64                            384/417 \\n\\r  Cleanup    : grep-2.20-3.el6.x86_64                                   385/417 \\n\\r  Cleanup    : libselinux-2.0.94-5.8.el6.x86_64                         386/417 \\n\\r  Cleanup    : 1:make-3.81-20.el6.x86_64                                387/417 \\n\\r  Cleanup    : audit-libs-2.3.7-5.el6.x86_64                            388/417 \\n\\r  Cleanup    : nspr-4.10.8-1.el6_6.x86_64                               389/417 \\n\\r  Cleanup    : elfutils-libelf-0.161-3.el6.x86_64                       390/417 \\n\\r  Cleanup    : file-libs-5.04-21.el6.x86_64                             391/417 \\n\\r  Cleanup    : libuuid-2.17.2-12.18.el6.x86_64                          392/417 \\n\\r  Cleanup    : gdbm-1.8.0-38.el6.x86_64                                 393/417 \\n\\r  Cleanup    : libudev-147-2.63.el6.x86_64                              394/417 \\n\\r  Cleanup    : libxcb-1.9.1-3.el6.x86_64                                395/417 \\n\\r  Cleanup    : libfontenc-1.0.5-2.el6.x86_64                            396/417 \\n\\r  Cleanup    : tcp_wrappers-libs-7.6-57.el6.x86_64                      397/417 \\n\\r  Cleanup    : libgfortran-4.4.7-16.el6.x86_64                          398/417 \\n\\r  Cleanup    : zip-3.0-1.el6.x86_64                                     399/417 \\n\\r  Cleanup    : 2:libpng-1.2.49-1.el6_2.x86_64                           400/417 \\n\\r  Cleanup    : libxml2-2.7.6-20.el6.x86_64                              401/417 \\n\\r  Cleanup    : pixman-0.32.4-4.el6.x86_64                               402/417 \\n\\r  Cleanup    : centos-release-6-7.el6.centos.12.3.x86_64                403/417 \\n\\r  Cleanup    : hwdata-0.233-14.1.el6.noarch                             404/417 \\n\\r  Erasing    : python-rsa-3.1.1-5.el6.noarch                            405/417 \\n\\r  Cleanup    : libX11-common-1.6.0-6.el6.noarch                         406/417 \\n\\r  Cleanup    : kernel-headers-2.6.32-573.7.1.el6.x86_64                 407/417 \\n\\r  Cleanup    : 12:dhcp-common-4.1.1-49.P1.el6.centos.x86_64             408/417 \\n\\r  Cleanup    : mesa-dri-filesystem-10.4.3-1.el6.x86_64                  409/417 \\n\\r  Cleanup    : tzdata-java-2015g-2.el6.noarch                           410/417 \\n\\r  Cleanup    : xorg-x11-drv-ati-firmware-7.5.99-3.el6.noarch            411/417 \\n\\r  Cleanup    : kernel-firmware-2.6.32-573.7.1.el6.noarch                412/417 \\n\\r  Cleanup    : bash-4.1.2-33.el6_7.1.x86_64                             413/417 \\n\\r  Cleanup    : glibc-common-2.12-1.166.el6_7.3.x86_64                   414/417 \\n\\r  Cleanup    : glibc-2.12-1.166.el6_7.3.x86_64                          415/417 \\n\\r  Cleanup    : tzdata-2015g-2.el6.noarch                                416/417 \\n\\r  Cleanup    : libgcc-4.4.7-16.el6.x86_64                               417/417 \\n\\r  Verifying  : gdisk-0.8.10-1.el6.x86_64                                  1/417 \\n\\r  Verifying  : cpp-4.4.7-17.el6.x86_64                                    2/417 \\n\\r  Verifying  : 1:findutils-4.4.2-9.el6.x86_64                             3/417 \\n\\r  Verifying  : perl-libwww-perl-5.833-3.el6.noarch                        4/417 \\n\\r  Verifying  : 1:perl-Compress-Raw-Zlib-2.021-141.el6_7.1.x86_64          5/417 \\n\\r  Verifying  : openssh-5.3p1-118.1.el6_8.x86_64                           6/417 \\n\\r  Verifying  : libssh2-1.4.2-2.el6_7.1.x86_64                             7/417 \\n\\r  Verifying  : alsa-lib-1.1.0-4.el6.x86_64                                8/417 \\n\\r  Verifying  : pam-1.1.1-22.el6.x86_64                                    9/417 \\n\\r  Verifying  : systemtap-devel-2.9-4.el6.x86_64                          10/417 \\n\\r  Verifying  : python-pyasn1-0.0.12a-1.el6.noarch                        11/417 \\n\\r  Verifying  : cscope-15.6-7.el6.x86_64                                  12/417 \\n\\r  Verifying  : 1:cups-libs-1.4.2-74.el6.x86_64                           13/417 \\n\\r  Verifying  : libblkid-2.17.2-12.24.el6.x86_64                          14/417 \\n\\r  Verifying  : git-1.7.1-4.el6_7.1.x86_64                                15/417 \\n\\r  Verifying  : libyaml-0.1.3-4.el6_6.x86_64                              16/417 \\n\\r  Verifying  : freetype-2.3.11-17.el6.x86_64                             17/417 \\n\\r  Verifying  : bash-4.1.2-40.el6.x86_64                                  18/417 \\n\\r  Verifying  : mesa-libGLU-11.0.7-4.el6.x86_64                           19/417 \\n\\r  Verifying  : perl-Test-Simple-0.92-141.el6_7.1.x86_64                  20/417 \\n\\r  Verifying  : ConsoleKit-libs-0.4.1-6.el6.x86_64                        21/417 \\n\\r  Verifying  : python-progressbar-2.3-2.el6.noarch                       22/417 \\n\\r  Verifying  : PyYAML-3.10-3.1.el6.x86_64                                23/417 \\n\\r  Verifying  : 12:dhcp-common-4.1.1-51.P1.el6.centos.x86_64              24/417 \\n\\r  Verifying  : openssl-1.0.1e-48.el6_8.1.x86_64                          25/417 \\n\\r  Verifying  : nspr-4.11.0-1.el6.x86_64                                  26/417 \\n\\r  Verifying  : dracut-004-409.el6_8.2.noarch                             27/417 \\n\\r  Verifying  : libselinux-2.0.94-7.el6.x86_64                            28/417 \\n\\r  Verifying  : krb5-libs-1.10.3-57.el6.x86_64                            29/417 \\n\\r  Verifying  : upstart-0.6.5-16.el6.x86_64                               30/417 \\n\\r  Verifying  : glibc-2.12-1.192.el6.x86_64                               31/417 \\n\\r  Verifying  : libpciaccess-0.13.4-1.el6.x86_64                          32/417 \\n\\r  Verifying  : gdb-7.2-90.el6.x86_64                                     33/417 \\n\\r  Verifying  : lksctp-tools-1.0.10-7.el6.x86_64                          34/417 \\n\\r  Verifying  : rpm-libs-4.8.0-55.el6.x86_64                              35/417 \\n\\r  Verifying  : selinux-policy-3.7.19-292.el6.noarch                      36/417 \\n\\r  Verifying  : boost-thread-1.41.0-28.el6.x86_64                         37/417 \\n\\r  Verifying  : boost-filesystem-1.41.0-28.el6.x86_64                     38/417 \\n\\r  Verifying  : tzdata-java-2016d-1.el6.noarch                            39/417 \\n\\r  Verifying  : elfutils-libs-0.164-2.el6.x86_64                          40/417 \\n\\r  Verifying  : libgudev1-147-2.73.el6.x86_64                             41/417 \\n\\r  Verifying  : coreutils-8.4-43.el6.x86_64                               42/417 \\n\\r  Verifying  : audit-libs-2.4.5-3.el6.x86_64                             43/417 \\n\\r  Verifying  : systemtap-2.9-4.el6.x86_64                                44/417 \\n\\r  Verifying  : lvm2-libs-2.02.143-7.el6.x86_64                           45/417 \\n\\r  Verifying  : euca2ools-3.3.0-3.el6.noarch                              46/417 \\n\\r  Verifying  : perl-IO-Compress-Zlib-2.021-141.el6_7.1.x86_64            47/417 \\n\\r  Verifying  : nss-tools-3.21.0-8.el6.x86_64                             48/417 \\n\\r  Verifying  : postgresql-libs-8.4.20-6.el6.x86_64                       49/417 \\n\\r  Verifying  : grep-2.20-3.el6_7.1.x86_64                                50/417 \\n\\r  Verifying  : 1:perl-Pod-Simple-3.13-141.el6_7.1.x86_64                 51/417 \\n\\r  Verifying  : openssh-server-5.3p1-118.1.el6_8.x86_64                   52/417 \\n\\r  Verifying  : gmp-4.3.1-10.el6.x86_64                                   53/417 \\n\\r  Verifying  : libxslt-1.1.26-2.el6_3.1.x86_64                           54/417 \\n\\r  Verifying  : policycoreutils-2.0.83-29.el6.x86_64                      55/417 \\n\\r  Verifying  : libselinux-utils-2.0.94-7.el6.x86_64                      56/417 \\n\\r  Verifying  : lvm2-2.02.143-7.el6.x86_64                                57/417 \\n\\r  Verifying  : libgomp-4.4.7-17.el6.x86_64                               58/417 \\n\\r  Verifying  : perl-Compress-Zlib-2.021-141.el6_7.1.x86_64               59/417 \\n\\r  Verifying  : hwdata-0.233-16.1.el6.noarch                              60/417 \\n\\r  Verifying  : logrotate-3.7.8-26.el6_7.x86_64                           61/417 \\n\\r  Verifying  : gcc-c++-4.4.7-17.el6.x86_64                               62/417 \\n\\r  Verifying  : mesa-dri-filesystem-11.0.7-4.el6.x86_64                   63/417 \\n\\r  Verifying  : 4:perl-5.10.1-141.el6_7.1.x86_64                          64/417 \\n\\r  Verifying  : boost-1.41.0-28.el6.x86_64                                65/417 \\n\\r  Verifying  : foomatic-4.0.4-5.el6_7.x86_64                             66/417 \\n\\r  Verifying  : file-libs-5.04-30.el6.x86_64                              67/417 \\n\\r  Verifying  : device-mapper-event-1.02.117-7.el6.x86_64                 68/417 \\n\\r  Verifying  : kernel-devel-2.6.32-642.1.1.el6.x86_64                    69/417 \\n\\r  Verifying  : glibc-devel-2.12-1.192.el6.x86_64                         70/417 \\n\\r  Verifying  : gdbm-devel-1.8.0-39.el6.x86_64                            71/417 \\n\\r  Verifying  : python-urlgrabber-3.9.1-11.el6.noarch                     72/417 \\n\\r  Verifying  : glib2-2.28.8-5.el6.x86_64                                 73/417 \\n\\r  Verifying  : passwd-0.77-7.el6.x86_64                                  74/417 \\n\\r  Verifying  : 4:perl-devel-5.10.1-141.el6_7.1.x86_64                    75/417 \\n\\r  Verifying  : pixman-0.32.8-1.el6.x86_64                                76/417 \\n\\r  Verifying  : python-lxml-2.2.3-1.1.el6.x86_64                          77/417 \\n\\r  Verifying  : 1:cups-1.4.2-74.el6.x86_64                                78/417 \\n\\r  Verifying  : device-mapper-event-libs-1.02.117-7.el6.x86_64            79/417 \\n\\r  Verifying  : python-pycurl-7.19.0-9.el6.x86_64                         80/417 \\n\\r  Verifying  : chkconfig-XXX.XXX.XXX.5-1.el6.x86_64                           81/417 \\n\\r  Verifying  : perl-IO-Compress-Base-2.021-141.el6_7.1.x86_64            82/417 \\n\\r  Verifying  : gnutls-2.8.5-19.el6_7.x86_64                              83/417 \\n\\r  Verifying  : sudo-1.8.6p3-24.el6.x86_64                                84/417 \\n\\r  Verifying  : libicu-4.2.1-14.el6.x86_64                                85/417 \\n\\r  Verifying  : libgcc-4.4.7-17.el6.x86_64                                86/417 \\n\\r  Verifying  : boost-iostreams-1.41.0-28.el6.x86_64                      87/417 \\n\\r  Verifying  : udev-147-2.73.el6.x86_64                                  88/417 \\n\\r  Verifying  : tcp_wrappers-libs-7.6-58.el6.x86_64                       89/417 \\n\\r  Verifying  : libudev-147-2.73.el6.x86_64                               90/417 \\n\\r  Verifying  : ca-certificates-2015.2.6-65.0.1.el6_7.noarch              91/417 \\n\\r  Verifying  : 1:java-1.7.0-openjdk-XXX.XXX.XXX.101-XXX.XXX.XXX.4.el6_8.x86_64       92/417 \\n\\r  Verifying  : libuuid-2.17.2-12.24.el6.x86_64                           93/417 \\n\\r  Verifying  : libstdc++-4.4.7-17.el6.x86_64                             94/417 \\n\\r  Verifying  : ntpdate-4.2.6p5-10.el6.centos.1.x86_64                    95/417 \\n\\r  Verifying  : yum-utils-1.1.30-37.el6.noarch                            96/417 \\n\\r  Verifying  : openssh-clients-5.3p1-118.1.el6_8.x86_64                  97/417 \\n\\r  Verifying  : binutils-XXX.XXX.XXX.0.2-5.44.el6.x86_64                      98/417 \\n\\r  Verifying  : 3:perl-version-0.77-141.el6_7.1.x86_64                    99/417 \\n\\r  Verifying  : 2:postfix-2.6.6-6.el6_7.1.x86_64                         100/417 \\n\\r  Verifying  : perl-CGI-3.51-141.el6_7.1.x86_64                         101/417 \\n\\r  Verifying  : perl-ExtUtils-MakeMaker-6.55-141.el6_7.1.x86_64          102/417 \\n\\r  Verifying  : cronie-anacron-1.4.4-15.el6_7.1.x86_64                   103/417 \\n\\r  Verifying  : libxcb-1.11-2.el6.x86_64                                 104/417 \\n\\r  Verifying  : screen-4.0.3-19.el6.x86_64                               105/417 \\n\\r  Verifying  : file-5.04-30.el6.x86_64                                  106/417 \\n\\r  Verifying  : ConsoleKit-0.4.1-6.el6.x86_64                            107/417 \\n\\r  Verifying  : rhino-1.7R4-4.el6.noarch                                 108/417 \\n\\r  Verifying  : nss-sysinit-3.21.0-8.el6.x86_64                          109/417 \\n\\r  Verifying  : python-requestbuilder-0.5.2-1.el6.noarch                 110/417 \\n\\r  Verifying  : initscripts-9.03.53-1.el6.centos.x86_64                  111/417 \\n\\r  Verifying  : 1:make-3.81-23.el6.x86_64                                112/417 \\n\\r  Verifying  : device-mapper-libs-1.02.117-7.el6.x86_64                 113/417 \\n\\r  Verifying  : boost-date-time-1.41.0-28.el6.x86_64                     114/417 \\n\\r  Verifying  : systemtap-runtime-2.9-4.el6.x86_64                       115/417 \\n\\r  Verifying  : gcc-4.4.7-17.el6.x86_64                                  116/417 \\n\\r  Verifying  : kernel-headers-2.6.32-642.1.1.el6.x86_64                 117/417 \\n\\r  Verifying  : libxml2-2.7.6-21.el6.x86_64                              118/417 \\n\\r  Verifying  : kernel-firmware-2.6.32-642.1.1.el6.noarch                119/417 \\n\\r  Verifying  : boost-program-options-1.41.0-28.el6.x86_64               120/417 \\n\\r  Verifying  : 12:dhclient-4.1.1-51.P1.el6.centos.x86_64                121/417 \\n\\r  Verifying  : yum-plugin-fastestmirror-1.1.30-37.el6.noarch            122/417 \\n\\r  Verifying  : mysql-libs-5.1.73-7.el6.x86_64                           123/417 \\n\\r  Verifying  : coreutils-libs-8.4-43.el6.x86_64                         124/417 \\n\\r  Verifying  : 4:perl-libs-5.10.1-141.el6_7.1.x86_64                    125/417 \\n\\r  Verifying  : tzdata-2016d-1.el6.noarch                                126/417 \\n\\r  Verifying  : 2:shadow-utils-XXX.XXX.XXX.1-5.el6.x86_64                      127/417 \\n\\r  Verifying  : systemtap-client-2.9-4.el6.x86_64                        128/417 \\n\\r  Verifying  : boost-wave-1.41.0-28.el6.x86_64                          129/417 \\n\\r  Verifying  : libX11-common-1.6.3-2.el6.noarch                         130/417 \\n\\r  Verifying  : 1:grub-0.97-94.el6_7.1.x86_64                            131/417 \\n\\r  Verifying  : munin-node-2.0.25-11.el6.noarch                          132/417 \\n\\r  Verifying  : mesa-dri-drivers-11.0.7-4.el6.x86_64                     133/417 \\n\\r  Verifying  : audit-2.4.5-3.el6.x86_64                                 134/417 \\n\\r  Verifying  : mesa-libGL-11.0.7-4.el6.x86_64                           135/417 \\n\\r  Verifying  : zip-3.0-1.el6_7.1.x86_64                                 136/417 \\n\\r  Verifying  : cronie-1.4.4-15.el6_7.1.x86_64                           137/417 \\n\\r  Verifying  : portreserve-0.0.4-11.el6.x86_64                          138/417 \\n\\r  Verifying  : kpartx-0.4.9-93.el6.x86_64                               139/417 \\n\\r  Verifying  : tmpwatch-2.9.16-6.el6.x86_64                             140/417 \\n\\r  Verifying  : libX11-1.6.3-2.el6.x86_64                                141/417 \\n\\r  Verifying  : boost-python-1.41.0-28.el6.x86_64                        142/417 \\n\\r  Verifying  : libXi-1.7.4-1.el6.x86_64                                 143/417 \\n\\r  Verifying  : centos-release-6-8.el6.centos.12.3.x86_64                144/417 \\n\\r  Verifying  : selinux-policy-targeted-3.7.19-292.el6.noarch            145/417 \\n\\r  Verifying  : libxml2-python-2.7.6-21.el6.x86_64                       146/417 \\n\\r  Verifying  : ntp-4.2.6p5-10.el6.centos.1.x86_64                       147/417 \\n\\r  Verifying  : glibc-common-2.12-1.192.el6.x86_64                       148/417 \\n\\r  Verifying  : 1:net-snmp-5.5-57.el6.x86_64                             149/417 \\n\\r  Verifying  : libgcj-4.4.7-17.el6.x86_64                               150/417 \\n\\r  Verifying  : procps-3.2.8-36.el6.x86_64                               151/417 \\n\\r  Verifying  : python2-boto-2.40.0-1.el6.noarch                         152/417 \\n\\r  Verifying  : libdrm-2.4.65-2.el6.x86_64                               153/417 \\n\\r  Verifying  : rpm-4.8.0-55.el6.x86_64                                  154/417 \\n\\r  Verifying  : rpm-build-4.8.0-55.el6.x86_64                            155/417 \\n\\r  Verifying  : perl-Git-1.7.1-4.el6_7.1.noarch                          156/417 \\n\\r  Verifying  : 1:perl-Module-Pluggable-3.90-141.el6_7.1.x86_64          157/417 \\n\\r  Verifying  : openldap-2.4.40-12.el6.x86_64                            158/417 \\n\\r  Verifying  : gawk-3.1.7-10.el6_7.3.x86_64                             159/417 \\n\\r  Verifying  : rpm-python-4.8.0-55.el6.x86_64                           160/417 \\n\\r  Verifying  : jpackage-utils-1.7.5-3.16.el6.noarch                     161/417 \\n\\r  Verifying  : 1:net-snmp-libs-5.5-57.el6.x86_64                        162/417 \\n\\r  Verifying  : sysstat-9.0.4-31.el6.x86_64                              163/417 \\n\\r  Verifying  : urw-fonts-2.4-11.el6.noarch                              164/417 \\n\\r  Verifying  : libaio-0.3.107-10.el6.x86_64                             165/417 \\n\\r  Verifying  : 1:perl-ExtUtils-ParseXS-2.2003.0-141.el6_7.1.x86_64      166/417 \\n\\r  Verifying  : boost-regex-1.41.0-28.el6.x86_64                         167/417 \\n\\r  Verifying  : libXext-1.3.3-1.el6.x86_64                               168/417 \\n\\r  Verifying  : python2-rsa-3.4.1-1.el6.noarch                           169/417 \\n\\r  Verifying  : libXft-2.3.2-1.el6.x86_64                                170/417 \\n\\r  Verifying  : poppler-0.12.4-10.el6.x86_64                             171/417 \\n\\r  Verifying  : perl-Test-Harness-3.17-141.el6_7.1.x86_64                172/417 \\n\\r  Verifying  : munin-common-2.0.25-11.el6.noarch                        173/417 \\n\\r  Verifying  : iputils-20071127-21.el6.x86_64                           174/417 \\n\\r  Verifying  : perl-Net-CIDR-0.18-1.el6.noarch                          175/417 \\n\\r  Verifying  : libXfont-1.5.1-2.el6.x86_64                              176/417 \\n\\r  Verifying  : libcurl-7.19.7-52.el6.x86_64                             177/417 \\n\\r  Verifying  : 4:perl-Time-HiRes-1.9721-141.el6_7.1.x86_64              178/417 \\n\\r  Verifying  : dracut-kernel-004-409.el6_8.2.noarch                     179/417 \\n\\r  Verifying  : redhat-rpm-config-9.0.3-51.el6.centos.noarch             180/417 \\n\\r  Verifying  : boost-signals-1.41.0-28.el6.x86_64                       181/417 \\n\\r  Verifying  : boost-graph-1.41.0-28.el6.x86_64                         182/417 \\n\\r  Verifying  : libgfortran-4.4.7-17.el6.x86_64                          183/417 \\n\\r  Verifying  : curl-7.19.7-52.el6.x86_64                                184/417 \\n\\r  Verifying  : gtk2-2.24.23-8.el6.x86_64                                185/417 \\n\\r  Verifying  : yum-3.2.29-73.el6.centos.noarch                          186/417 \\n\\r  Verifying  : nss-3.21.0-8.el6.x86_64                                  187/417 \\n\\r  Verifying  : iproute-2.6.32-54.el6.x86_64                             188/417 \\n\\r  Verifying  : 1:perl-Pod-Escapes-1.04-141.el6_7.1.x86_64               189/417 \\n\\r  Verifying  : pango-1.28.1-11.el6.x86_64                               190/417 \\n\\r  Verifying  : xorg-x11-drv-ati-firmware-7.6.1-2.el6.noarch             191/417 \\n\\r  Verifying  : libstdc++-devel-4.4.7-17.el6.x86_64                      192/417 \\n\\r  Verifying  : libXrandr-1.4.2-1.el6.x86_64                             193/417 \\n\\r  Verifying  : device-mapper-persistent-data-0.6.2-0.1.rc7.el6.x86_64   194/417 \\n\\r  Verifying  : poppler-utils-0.12.4-10.el6.x86_64                       195/417 \\n\\r  Verifying  : boost-test-1.41.0-28.el6.x86_64                          196/417 \\n\\r  Verifying  : wget-1.12-8.el6.x86_64                                   197/417 \\n\\r  Verifying  : nss-util-3.21.0-2.el6.x86_64                             198/417 \\n\\r  Verifying  : elfutils-libelf-0.164-2.el6.x86_64                       199/417 \\n\\r  Verifying  : libXrender-0.9.8-2.1.el6_8.1.x86_64                      200/417 \\n\\r  Verifying  : device-mapper-1.02.117-7.el6.x86_64                      201/417 \\n\\r  Verifying  : 2:tar-1.23-14.el6.x86_64                                 202/417 \\n\\r  Verifying  : mesa-private-llvm-3.6.2-1.el6.x86_64                     203/417 \\n\\r  Verifying  : unzip-6.0-4.el6.x86_64                                   204/417 \\n\\r  Verifying  : gcc-gfortran-4.4.7-17.el6.x86_64                         205/417 \\n\\r  Verifying  : util-linux-ng-2.17.2-12.24.el6.x86_64                    206/417 \\n\\r  Verifying  : gdbm-1.8.0-39.el6.x86_64                                 207/417 \\n\\r  Verifying  : 2:libpng-1.2.49-2.el6_7.x86_64                           208/417 \\n\\r  Verifying  : libfontenc-1.1.2-3.el6.x86_64                            209/417 \\n\\r  Verifying  : boost-serialization-1.41.0-28.el6.x86_64                 210/417 \\n\\r  Verifying  : kernel-2.6.32-642.1.1.el6.x86_64                         211/417 \\n\\r  Verifying  : elfutils-0.164-2.el6.x86_64                              212/417 \\n\\r  Verifying  : python-argparse-1.2.1-2.1.el6.noarch                     213/417 \\n\\r  Verifying  : glibc-headers-2.12-1.192.el6.x86_64                      214/417 \\n\\r  Verifying  : pulseaudio-libs-0.9.21-24.el6.x86_64                     215/417 \\n\\r  Verifying  : boost-system-1.41.0-28.el6.x86_64                        216/417 \\n\\r  Verifying  : libpciaccess-0.13.3-0.1.el6.x86_64                       217/417 \\n\\r  Verifying  : systemtap-client-2.7-2.el6.x86_64                        218/417 \\n\\r  Verifying  : libXfont-1.4.5-5.el6_7.x86_64                            219/417 \\n\\r  Verifying  : 4:perl-libs-5.10.1-141.el6.x86_64                        220/417 \\n\\r  Verifying  : libblkid-2.17.2-12.18.el6.x86_64                         221/417 \\n\\r  Verifying  : 1:net-snmp-5.5-54.el6_7.1.x86_64                         222/417 \\n\\r  Verifying  : mesa-dri-filesystem-10.4.3-1.el6.x86_64                  223/417 \\n\\r  Verifying  : boost-python-1.41.0-27.el6.x86_64                        224/417 \\n\\r  Verifying  : hwdata-0.233-14.1.el6.noarch                             225/417 \\n\\r  Verifying  : libXrandr-1.4.1-2.1.el6.x86_64                           226/417 \\n\\r  Verifying  : perl-Git-1.7.1-3.el6_4.1.noarch                          227/417 \\n\\r  Verifying  : glibc-headers-2.12-1.166.el6_7.3.x86_64                  228/417 \\n\\r  Verifying  : 1:net-snmp-libs-5.5-54.el6_7.1.x86_64                    229/417 \\n\\r  Verifying  : pixman-0.32.4-4.el6.x86_64                               230/417 \\n\\r  Verifying  : gcc-c++-4.4.7-16.el6.x86_64                              231/417 \\n\\r  Verifying  : file-libs-5.04-21.el6.x86_64                             232/417 \\n\\r  Verifying  : elfutils-libs-0.161-3.el6.x86_64                         233/417 \\n\\r  Verifying  : 1:cups-1.4.2-72.el6.x86_64                               234/417 \\n\\r  Verifying  : libudev-147-2.63.el6.x86_64                              235/417 \\n\\r  Verifying  : libssh2-1.4.2-1.el6_6.1.x86_64                           236/417 \\n\\r  Verifying  : cronie-anacron-1.4.4-15.el6.x86_64                       237/417 \\n\\r  Verifying  : perl-Test-Simple-0.92-141.el6.x86_64                     238/417 \\n\\r  Verifying  : gdbm-1.8.0-38.el6.x86_64                                 239/417 \\n\\r  Verifying  : iputils-20071127-20.el6.x86_64                           240/417 \\n\\r  Verifying  : perl-Test-Harness-3.17-141.el6.x86_64                    241/417 \\n\\r  Verifying  : libcurl-7.19.7-46.el6.x86_64                             242/417 \\n\\r  Verifying  : zip-3.0-1.el6.x86_64                                     243/417 \\n\\r  Verifying  : rpm-build-4.8.0-47.el6.x86_64                            244/417 \\n\\r  Verifying  : urw-fonts-2.4-10.el6.noarch                              245/417 \\n\\r  Verifying  : libgcj-4.4.7-16.el6.x86_64                               246/417 \\n\\r  Verifying  : audit-2.3.7-5.el6.x86_64                                 247/417 \\n\\r  Verifying  : 1:perl-Module-Pluggable-3.90-141.el6.x86_64              248/417 \\n\\r  Verifying  : openssh-server-5.3p1-112.el6_7.x86_64                    249/417 \\n\\r  Verifying  : selinux-policy-targeted-3.7.19-279.el6_7.6.noarch        250/417 \\n\\r  Verifying  : libXrender-0.9.8-2.1.el6.x86_64                          251/417 \\n\\r  Verifying  : policycoreutils-2.0.83-24.el6.x86_64                     252/417 \\n\\r  Verifying  : cronie-1.4.4-15.el6.x86_64                               253/417 \\n\\r  Verifying  : rpm-4.8.0-47.el6.x86_64                                  254/417 \\n\\r  Verifying  : ConsoleKit-libs-0.4.1-3.el6.x86_64                       255/417 \\n\\r  Verifying  : poppler-utils-0.12.4-4.el6_6.1.x86_64                    256/417 \\n\\r  Verifying  : lvm2-libs-2.02.118-3.el6_7.3.x86_64                      257/417 \\n\\r  Verifying  : glibc-common-2.12-1.166.el6_7.3.x86_64                   258/417 \\n\\r  Verifying  : tzdata-java-2015g-2.el6.noarch                           259/417 \\n\\r  Verifying  : device-mapper-persistent-data-0.3.2-1.el6.x86_64         260/417 \\n\\r  Verifying  : perl-IO-Compress-Zlib-2.021-141.el6.x86_64               261/417 \\n\\r  Verifying  : euca2ools-2.1.4-1.el6.noarch                             262/417 \\n\\r  Verifying  : tzdata-2015g-2.el6.noarch                                263/417 \\n\\r  Verifying  : 12:dhcp-common-4.1.1-49.P1.el6.centos.x86_64             264/417 \\n\\r  Verifying  : cscope-15.6-6.el6.x86_64                                 265/417 \\n\\r  Verifying  : pam-1.1.1-20.el6_7.1.x86_64                              266/417 \\n\\r  Verifying  : nss-tools-3.19.1-3.el6_6.x86_64                          267/417 \\n\\r  Verifying  : boost-serialization-1.41.0-27.el6.x86_64                 268/417 \\n\\r  Verifying  : 4:perl-devel-5.10.1-141.el6.x86_64                       269/417 \\n\\r  Verifying  : python-urlgrabber-3.9.1-9.el6.noarch                     270/417 \\n\\r  Verifying  : ntpdate-4.2.6p5-5.el6.centos.2.x86_64                    271/417 \\n\\r  Verifying  : 1:java-1.7.0-openjdk-XXX.XXX.XXX.91-XXX.XXX.XXX.2.el6_7.x86_64       272/417 \\n\\r  Verifying  : boost-iostreams-1.41.0-27.el6.x86_64                     273/417 \\n\\r  Verifying  : ntp-4.2.6p5-5.el6.centos.2.x86_64                        274/417 \\n\\r  Verifying  : 4:perl-Time-HiRes-1.9721-141.el6.x86_64                  275/417 \\n\\r  Verifying  : mesa-private-llvm-3.4-3.el6.x86_64                       276/417 \\n\\r  Verifying  : boost-wave-1.41.0-27.el6.x86_64                          277/417 \\n\\r  Verifying  : file-5.04-21.el6.x86_64                                  278/417 \\n\\r  Verifying  : yum-plugin-fastestmirror-1.1.30-30.el6.noarch            279/417 \\n\\r  Verifying  : perl-libwww-perl-5.833-2.el6.noarch                      280/417 \\n\\r  Verifying  : openssl-1.0.1e-42.el6.x86_64                             281/417 \\n\\r  Verifying  : unzip-6.0-2.el6_6.x86_64                                 282/417 \\n\\r  Verifying  : kernel-firmware-2.6.32-573.7.1.el6.noarch                283/417 \\n\\r  Verifying  : device-mapper-event-1.02.95-3.el6_7.3.x86_64             284/417 \\n\\r  Verifying  : 2:shadow-utils-XXX.XXX.XXX.2-19.el6_6.1.x86_64                 285/417 \\n\\r  Verifying  : elfutils-0.161-3.el6.x86_64                              286/417 \\n\\r  Verifying  : perl-IO-Compress-Base-2.021-141.el6.x86_64               287/417 \\n\\r  Verifying  : grep-2.20-3.el6.x86_64                                   288/417 \\n\\r  Verifying  : libX11-common-1.6.0-6.el6.noarch                         289/417 \\n\\r  Verifying  : boost-graph-1.41.0-27.el6.x86_64                         290/417 \\n\\r  Verifying  : nspr-4.10.8-1.el6_6.x86_64                               291/417 \\n\\r  Verifying  : chkconfig-XXX.XXX.XXX.3-5.el6.x86_64                          292/417 \\n\\r  Verifying  : boost-1.41.0-27.el6.x86_64                               293/417 \\n\\r  Verifying  : nss-util-3.19.1-1.el6_6.x86_64                           294/417 \\n\\r  Verifying  : coreutils-8.4-37.el6.x86_64                              295/417 \\n\\r  Verifying  : openssh-clients-5.3p1-112.el6_7.x86_64                   296/417 \\n\\r  Verifying  : boost-regex-1.41.0-27.el6.x86_64                         297/417 \\n\\r  Verifying  : libuuid-2.17.2-12.18.el6.x86_64                          298/417 \\n\\r  Verifying  : 1:make-3.81-20.el6.x86_64                                299/417 \\n\\r  Verifying  : 1:cups-libs-1.4.2-72.el6.x86_64                          300/417 \\n\\r  Verifying  : freetype-2.3.11-15.el6_6.1.x86_64                        301/417 \\n\\r  Verifying  : device-mapper-event-libs-1.02.95-3.el6_7.3.x86_64        302/417 \\n\\r  Verifying  : 1:grub-0.97-94.el6.x86_64                                303/417 \\n\\r  Verifying  : 1:perl-Compress-Raw-Zlib-2.021-141.el6.x86_64            304/417 \\n\\r  Verifying  : mysql-libs-5.1.73-5.el6_6.x86_64                         305/417 \\n\\r  Verifying  : libgomp-4.4.7-16.el6.x86_64                              306/417 \\n\\r  Verifying  : coreutils-libs-8.4-37.el6.x86_64                         307/417 \\n\\r  Verifying  : 1:perl-Pod-Escapes-1.04-141.el6.x86_64                   308/417 \\n\\r  Verifying  : perl-ExtUtils-MakeMaker-6.55-141.el6.x86_64              309/417 \\n\\r  Verifying  : libXext-1.3.2-2.1.el6.x86_64                             310/417 \\n\\r  Verifying  : libfontenc-1.0.5-2.el6.x86_64                            311/417 \\n\\r  Verifying  : gnutls-2.8.5-18.el6.x86_64                               312/417 \\n\\r  Verifying  : systemtap-runtime-2.7-2.el6.x86_64                       313/417 \\n\\r  Verifying  : gcc-4.4.7-16.el6.x86_64                                  314/417 \\n\\r  Verifying  : mesa-libGL-10.4.3-1.el6.x86_64                           315/417 \\n\\r  Verifying  : procps-3.2.8-34.el6_7.x86_64                             316/417 \\n\\r  Verifying  : screen-4.0.3-18.el6.x86_64                               317/417 \\n\\r  Verifying  : libXi-1.7.2-2.2.el6.x86_64                               318/417 \\n\\r  Verifying  : libgudev1-147-2.63.el6.x86_64                            319/417 \\n\\r  Verifying  : 1:findutils-4.4.2-6.el6.x86_64                           320/417 \\n\\r  Verifying  : boost-filesystem-1.41.0-27.el6.x86_64                    321/417 \\n\\r  Verifying  : libstdc++-4.4.7-16.el6.x86_64                            322/417 \\n\\r  Verifying  : cpp-4.4.7-16.el6.x86_64                                  323/417 \\n\\r  Verifying  : 2:libpng-1.2.49-1.el6_2.x86_64                           324/417 \\n\\r  Verifying  : dracut-004-388.el6.noarch                                325/417 \\n\\r  Verifying  : udev-147-2.63.el6.x86_64                                 326/417 \\n\\r  Verifying  : util-linux-ng-2.17.2-12.18.el6.x86_64                    327/417 \\n\\r  Verifying  : gdb-7.2-83.el6.x86_64                                    328/417 \\n\\r  Verifying  : gmp-4.3.1-7.el6_2.2.x86_64                               329/417 \\n\\r  Verifying  : libicu-4.2.1-12.el6.x86_64                               330/417 \\n\\r  Verifying  : openssh-5.3p1-112.el6_7.x86_64                           331/417 \\n\\r  Verifying  : postgresql-libs-8.4.20-3.el6_6.x86_64                    332/417 \\n\\r  Verifying  : device-mapper-1.02.95-3.el6_7.3.x86_64                   333/417 \\n\\r  Verifying  : pango-1.28.1-10.el6.x86_64                               334/417 \\n\\r  Verifying  : curl-7.19.7-46.el6.x86_64                                335/417 \\n\\r  Verifying  : sudo-1.8.6p3-20.el6_7.x86_64                             336/417 \\n\\r  Verifying  : mesa-libGLU-10.4.3-1.el6.x86_64                          337/417 \\n\\r  Verifying  : portreserve-0.0.4-9.el6.x86_64                           338/417 \\n\\r  Verifying  : yum-utils-1.1.30-30.el6.noarch                           339/417 \\n\\r  Verifying  : libxcb-1.9.1-3.el6.x86_64                                340/417 \\n\\r  Verifying  : boost-program-options-1.41.0-27.el6.x86_64               341/417 \\n\\r  Verifying  : glibc-devel-2.12-1.166.el6_7.3.x86_64                    342/417 \\n\\r  Verifying  : elfutils-libelf-0.161-3.el6.x86_64                       343/417 \\n\\r  Verifying  : centos-release-6-7.el6.centos.12.3.x86_64                344/417 \\n\\r  Verifying  : logrotate-3.7.8-23.el6.x86_64                            345/417 \\n\\r  Verifying  : selinux-policy-3.7.19-279.el6_7.6.noarch                 346/417 \\n\\r  Verifying  : libdrm-2.4.59-2.el6.x86_64                               347/417 \\n\\r  Verifying  : nss-3.19.1-3.el6_6.x86_64                                348/417 \\n\\r  Verifying  : gtk2-2.24.23-6.el6.x86_64                                349/417 \\n\\r  Verifying  : yum-3.2.29-69.el6.centos.noarch                          350/417 \\n\\r  Verifying  : glib2-2.28.8-4.el6.x86_64                                351/417 \\n\\r  Verifying  : nss-sysinit-3.19.1-3.el6_6.x86_64                        352/417 \\n\\r  Verifying  : libgfortran-4.4.7-16.el6.x86_64                          353/417 \\n\\r  Verifying  : rpm-libs-4.8.0-47.el6.x86_64                             354/417 \\n\\r  Verifying  : initscripts-9.03.49-1.el6.centos.1.x86_64                355/417 \\n\\r  Verifying  : rhino-1.7-0.7.r2.2.el6.noarch                            356/417 \\n\\r  Verifying  : pulseaudio-libs-0.9.21-21.el6.x86_64                     357/417 \\n\\r  Verifying  : sysstat-9.0.4-27.el6.x86_64                              358/417 \\n\\r  Verifying  : libselinux-utils-2.0.94-5.8.el6.x86_64                   359/417 \\n\\r  Verifying  : perl-Compress-Zlib-2.021-141.el6.x86_64                  360/417 \\n\\r  Verifying  : munin-node-2.0.25-2.el6.noarch                           361/417 \\n\\r  Verifying  : bash-4.1.2-33.el6_7.1.x86_64                             362/417 \\n\\r  Verifying  : alsa-lib-1.0.22-3.el6.x86_64                             363/417 \\n\\r  Verifying  : 1:perl-ExtUtils-ParseXS-2.2003.0-141.el6.x86_64          364/417 \\n\\r  Verifying  : 1:perl-Pod-Simple-3.13-141.el6.x86_64                    365/417 \\n\\r  Verifying  : libxml2-2.7.6-20.el6.x86_64                              366/417 \\n\\r  Verifying  : gcc-gfortran-4.4.7-16.el6.x86_64                         367/417 \\n\\r  Verifying  : gawk-3.1.7-10.el6.x86_64                                 368/417 \\n\\r  Verifying  : redhat-rpm-config-9.0.3-44.el6.centos.noarch             369/417 \\n\\r  Verifying  : 4:perl-5.10.1-141.el6.x86_64                             370/417 \\n\\r  Verifying  : lvm2-2.02.118-3.el6_7.3.x86_64                           371/417 \\n\\r  Verifying  : kernel-headers-2.6.32-573.7.1.el6.x86_64                 372/417 \\n\\r  Verifying  : python-pycurl-7.19.0-8.el6.x86_64                        373/417 \\n\\r  Verifying  : git-1.7.1-3.el6_4.1.x86_64                               374/417 \\n\\r  Verifying  : passwd-0.77-4.el6_2.2.x86_64                             375/417 \\n\\r  Verifying  : rpm-python-4.8.0-47.el6.x86_64                           376/417 \\n\\r  Verifying  : upstart-0.6.5-13.el6_5.3.x86_64                          377/417 \\n\\r  Verifying  : openldap-2.4.40-6.el6_7.x86_64                           378/417 \\n\\r  Verifying  : 3:perl-version-0.77-141.el6.x86_64                       379/417 \\n\\r  Verifying  : systemtap-devel-2.7-2.el6.x86_64                         380/417 \\n\\r  Verifying  : 12:dhclient-4.1.1-49.P1.el6.centos.x86_64                381/417 \\n\\r  Verifying  : dracut-kernel-004-388.el6.noarch                         382/417 \\n\\r  Verifying  : python-rsa-3.1.1-5.el6.noarch                            383/417 \\n\\r  Verifying  : ca-certificates-2015.2.4-65.0.1.el6_6.noarch             384/417 \\n\\r  Verifying  : krb5-libs-1.10.3-42.el6.x86_64                           385/417 \\n\\r  Verifying  : libselinux-2.0.94-5.8.el6.x86_64                         386/417 \\n\\r  Verifying  : jpackage-utils-1.7.5-3.14.el6.noarch                     387/417 \\n\\r  Verifying  : tmpwatch-2.9.16-4.el6.x86_64                             388/417 \\n\\r  Verifying  : xorg-x11-drv-ati-firmware-7.5.99-3.el6.noarch            389/417 \\n\\r  Verifying  : python-boto-2.38.0-1.el6.noarch                          390/417 \\n\\r  Verifying  : perl-Net-CIDR-0.14-1.el6.noarch                          391/417 \\n\\r  Verifying  : boost-signals-1.41.0-27.el6.x86_64                       392/417 \\n\\r  Verifying  : perl-CGI-3.51-141.el6.x86_64                             393/417 \\n\\r  Verifying  : device-mapper-libs-1.02.95-3.el6_7.3.x86_64              394/417 \\n\\r  Verifying  : libX11-1.6.0-6.el6.x86_64                                395/417 \\n\\r  Verifying  : foomatic-4.0.4-3.el6.x86_64                              396/417 \\n\\r  Verifying  : libgcc-4.4.7-16.el6.x86_64                               397/417 \\n\\r  Verifying  : boost-system-1.41.0-27.el6.x86_64                        398/417 \\n\\r  Verifying  : wget-1.12-5.el6_6.1.x86_64                               399/417 \\n\\r  Verifying  : libstdc++-devel-4.4.7-16.el6.x86_64                      400/417 \\n\\r  Verifying  : systemtap-2.7-2.el6.x86_64                               401/417 \\n\\r  Verifying  : 2:tar-1.23-13.el6.x86_64                                 402/417 \\n\\r  Verifying  : munin-common-2.0.25-2.el6.noarch                         403/417 \\n\\r  Verifying  : 2:postfix-2.6.6-6.el6_5.x86_64                           404/417 \\n\\r  Verifying  : audit-libs-2.3.7-5.el6.x86_64                            405/417 \\n\\r  Verifying  : gdbm-devel-1.8.0-38.el6.x86_64                           406/417 \\n\\r  Verifying  : ConsoleKit-0.4.1-3.el6.x86_64                            407/417 \\n\\r  Verifying  : boost-date-time-1.41.0-27.el6.x86_64                     408/417 \\n\\r  Verifying  : iproute-2.6.32-45.el6.x86_64                             409/417 \\n\\r  Verifying  : binutils-XXX.XXX.XXX.0.2-5.43.el6.x86_64                     410/417 \\n\\r  Verifying  : poppler-0.12.4-4.el6_6.1.x86_64                          411/417 \\n\\r  Verifying  : libXft-2.3.1-2.el6.x86_64                                412/417 \\n\\r  Verifying  : mesa-dri-drivers-10.4.3-1.el6.x86_64                     413/417 \\n\\r  Verifying  : glibc-2.12-1.166.el6_7.3.x86_64                          414/417 \\n\\r  Verifying  : tcp_wrappers-libs-7.6-57.el6.x86_64                      415/417 \\n\\r  Verifying  : boost-test-1.41.0-27.el6.x86_64                          416/417 \\n\\r  Verifying  : boost-thread-1.41.0-27.el6.x86_64                        417/417 \\n\\nInstalled:\\n  kernel.x86_64 0:2.6.32-642.1.1.el6  kernel-devel.x86_64 0:2.6.32-642.1.1.el6 \\n  python2-boto.noarch 0:2.40.0-1.el6  python2-rsa.noarch 0:3.4.1-1.el6         \\n\\nDependency Installed:\\n  PyYAML.x86_64 0:3.10-3.1.el6                                                  \\n  gdisk.x86_64 0:0.8.10-1.el6                                                   \\n  kpartx.x86_64 0:0.4.9-93.el6                                                  \\n  libaio.x86_64 0:0.3.107-10.el6                                                \\n  libxml2-python.x86_64 0:2.7.6-21.el6                                          \\n  libxslt.x86_64 0:1.1.26-2.el6_3.1                                             \\n  libyaml.x86_64 0:0.1.3-4.el6_6                                                \\n  lksctp-tools.x86_64 0:1.0.10-7.el6                                            \\n  python-argparse.noarch 0:1.2.1-2.1.el6                                        \\n  python-lxml.x86_64 0:2.2.3-1.1.el6                                            \\n  python-progressbar.noarch 0:2.3-2.el6                                         \\n  python-pyasn1.noarch 0:0.0.12a-1.el6                                          \\n  python-requestbuilder.noarch 0:0.5.2-1.el6                                    \\n\\nUpdated:\\n  ConsoleKit.x86_64 0:0.4.1-6.el6                                               \\n  ConsoleKit-libs.x86_64 0:0.4.1-6.el6                                          \\n  alsa-lib.x86_64 0:1.1.0-4.el6                                                 \\n  audit.x86_64 0:2.4.5-3.el6                                                    \\n  audit-libs.x86_64 0:2.4.5-3.el6                                               \\n  bash.x86_64 0:4.1.2-40.el6                                                    \\n  binutils.x86_64 0:XXX.XXX.XXX.0.2-5.44.el6                                        \\n  boost.x86_64 0:1.41.0-28.el6                                                  \\n  boost-date-time.x86_64 0:1.41.0-28.el6                                        \\n  boost-filesystem.x86_64 0:1.41.0-28.el6                                       \\n  boost-graph.x86_64 0:1.41.0-28.el6                                            \\n  boost-iostreams.x86_64 0:1.41.0-28.el6                                        \\n  boost-program-options.x86_64 0:1.41.0-28.el6                                  \\n  boost-python.x86_64 0:1.41.0-28.el6                                           \\n  boost-regex.x86_64 0:1.41.0-28.el6                                            \\n  boost-serialization.x86_64 0:1.41.0-28.el6                                    \\n  boost-signals.x86_64 0:1.41.0-28.el6                                          \\n  boost-system.x86_64 0:1.41.0-28.el6                                           \\n  boost-test.x86_64 0:1.41.0-28.el6                                             \\n  boost-thread.x86_64 0:1.41.0-28.el6                                           \\n  boost-wave.x86_64 0:1.41.0-28.el6                                             \\n  ca-certificates.noarch 0:2015.2.6-65.0.1.el6_7                                \\n  centos-release.x86_64 0:6-8.el6.centos.12.3                                   \\n  chkconfig.x86_64 0:XXX.XXX.XXX.5-1.el6                                             \\n  coreutils.x86_64 0:8.4-43.el6                                                 \\n  coreutils-libs.x86_64 0:8.4-43.el6                                            \\n  cpp.x86_64 0:4.4.7-17.el6                                                     \\n  cronie.x86_64 0:1.4.4-15.el6_7.1                                              \\n  cronie-anacron.x86_64 0:1.4.4-15.el6_7.1                                      \\n  cscope.x86_64 0:15.6-7.el6                                                    \\n  cups.x86_64 1:1.4.2-74.el6                                                    \\n  cups-libs.x86_64 1:1.4.2-74.el6                                               \\n  curl.x86_64 0:7.19.7-52.el6                                                   \\n  device-mapper.x86_64 0:1.02.117-7.el6                                         \\n  device-mapper-event.x86_64 0:1.02.117-7.el6                                   \\n  device-mapper-event-libs.x86_64 0:1.02.117-7.el6                              \\n  device-mapper-libs.x86_64 0:1.02.117-7.el6                                    \\n  device-mapper-persistent-data.x86_64 0:0.6.2-0.1.rc7.el6                      \\n  dhclient.x86_64 12:4.1.1-51.P1.el6.centos                                     \\n  dhcp-common.x86_64 12:4.1.1-51.P1.el6.centos                                  \\n  dracut.noarch 0:004-409.el6_8.2                                               \\n  dracut-kernel.noarch 0:004-409.el6_8.2                                        \\n  elfutils.x86_64 0:0.164-2.el6                                                 \\n  elfutils-libelf.x86_64 0:0.164-2.el6                                          \\n  elfutils-libs.x86_64 0:0.164-2.el6                                            \\n  euca2ools.noarch 0:3.3.0-3.el6                                                \\n  file.x86_64 0:5.04-30.el6                                                     \\n  file-libs.x86_64 0:5.04-30.el6                                                \\n  findutils.x86_64 1:4.4.2-9.el6                                                \\n  foomatic.x86_64 0:4.0.4-5.el6_7                                               \\n  freetype.x86_64 0:2.3.11-17.el6                                               \\n  gawk.x86_64 0:3.1.7-10.el6_7.3                                                \\n  gcc.x86_64 0:4.4.7-17.el6                                                     \\n  gcc-c++.x86_64 0:4.4.7-17.el6                                                 \\n  gcc-gfortran.x86_64 0:4.4.7-17.el6                                            \\n  gdb.x86_64 0:7.2-90.el6                                                       \\n  gdbm.x86_64 0:1.8.0-39.el6                                                    \\n  gdbm-devel.x86_64 0:1.8.0-39.el6                                              \\n  git.x86_64 0:1.7.1-4.el6_7.1                                                  \\n  glib2.x86_64 0:2.28.8-5.el6                                                   \\n  glibc.x86_64 0:2.12-1.192.el6                                                 \\n  glibc-common.x86_64 0:2.12-1.192.el6                                          \\n  glibc-devel.x86_64 0:2.12-1.192.el6                                           \\n  glibc-headers.x86_64 0:2.12-1.192.el6                                         \\n  gmp.x86_64 0:4.3.1-10.el6                                                     \\n  gnutls.x86_64 0:2.8.5-19.el6_7                                                \\n  grep.x86_64 0:2.20-3.el6_7.1                                                  \\n  grub.x86_64 1:0.97-94.el6_7.1                                                 \\n  gtk2.x86_64 0:2.24.23-8.el6                                                   \\n  hwdata.noarch 0:0.233-16.1.el6                                                \\n  initscripts.x86_64 0:9.03.53-1.el6.centos                                     \\n  iproute.x86_64 0:2.6.32-54.el6                                                \\n  iputils.x86_64 0:20071127-21.el6                                              \\n  java-1.7.0-openjdk.x86_64 1:XXX.XXX.XXX.101-XXX.XXX.XXX.4.el6_8                           \\n  jpackage-utils.noarch 0:1.7.5-3.16.el6                                        \\n  kernel-firmware.noarch 0:2.6.32-642.1.1.el6                                   \\n  kernel-headers.x86_64 0:2.6.32-642.1.1.el6                                    \\n  krb5-libs.x86_64 0:1.10.3-57.el6                                              \\n  libX11.x86_64 0:1.6.3-2.el6                                                   \\n  libX11-common.noarch 0:1.6.3-2.el6                                            \\n  libXext.x86_64 0:1.3.3-1.el6                                                  \\n  libXfont.x86_64 0:1.5.1-2.el6                                                 \\n  libXft.x86_64 0:2.3.2-1.el6                                                   \\n  libXi.x86_64 0:1.7.4-1.el6                                                    \\n  libXrandr.x86_64 0:1.4.2-1.el6                                                \\n  libXrender.x86_64 0:0.9.8-2.1.el6_8.1                                         \\n  libblkid.x86_64 0:2.17.2-12.24.el6                                            \\n  libcurl.x86_64 0:7.19.7-52.el6                                                \\n  libdrm.x86_64 0:2.4.65-2.el6                                                  \\n  libfontenc.x86_64 0:1.1.2-3.el6                                               \\n  libgcc.x86_64 0:4.4.7-17.el6                                                  \\n  libgcj.x86_64 0:4.4.7-17.el6                                                  \\n  libgfortran.x86_64 0:4.4.7-17.el6                                             \\n  libgomp.x86_64 0:4.4.7-17.el6                                                 \\n  libgudev1.x86_64 0:147-2.73.el6                                               \\n  libicu.x86_64 0:4.2.1-14.el6                                                  \\n  libpciaccess.x86_64 0:0.13.4-1.el6                                            \\n  libpng.x86_64 2:1.2.49-2.el6_7                                                \\n  libselinux.x86_64 0:2.0.94-7.el6                                              \\n  libselinux-utils.x86_64 0:2.0.94-7.el6                                        \\n  libssh2.x86_64 0:1.4.2-2.el6_7.1                                              \\n  libstdc++.x86_64 0:4.4.7-17.el6                                               \\n  libstdc++-devel.x86_64 0:4.4.7-17.el6                                         \\n  libudev.x86_64 0:147-2.73.el6                                                 \\n  libuuid.x86_64 0:2.17.2-12.24.el6                                             \\n  libxcb.x86_64 0:1.11-2.el6                                                    \\n  libxml2.x86_64 0:2.7.6-21.el6                                                 \\n  logrotate.x86_64 0:3.7.8-26.el6_7                                             \\n  lvm2.x86_64 0:2.02.143-7.el6                                                  \\n  lvm2-libs.x86_64 0:2.02.143-7.el6                                             \\n  make.x86_64 1:3.81-23.el6                                                     \\n  mesa-dri-drivers.x86_64 0:11.0.7-4.el6                                        \\n  mesa-dri-filesystem.x86_64 0:11.0.7-4.el6                                     \\n  mesa-libGL.x86_64 0:11.0.7-4.el6                                              \\n  mesa-libGLU.x86_64 0:11.0.7-4.el6                                             \\n  mesa-private-llvm.x86_64 0:3.6.2-1.el6                                        \\n  munin-common.noarch 0:2.0.25-11.el6                                           \\n  munin-node.noarch 0:2.0.25-11.el6                                             \\n  mysql-libs.x86_64 0:5.1.73-7.el6                                              \\n  net-snmp.x86_64 1:5.5-57.el6                                                  \\n  net-snmp-libs.x86_64 1:5.5-57.el6                                             \\n  nspr.x86_64 0:4.11.0-1.el6                                                    \\n  nss.x86_64 0:3.21.0-8.el6                                                     \\n  nss-sysinit.x86_64 0:3.21.0-8.el6                                             \\n  nss-tools.x86_64 0:3.21.0-8.el6                                               \\n  nss-util.x86_64 0:3.21.0-2.el6                                                \\n  ntp.x86_64 0:4.2.6p5-10.el6.centos.1                                          \\n  ntpdate.x86_64 0:4.2.6p5-10.el6.centos.1                                      \\n  openldap.x86_64 0:2.4.40-12.el6                                               \\n  openssh.x86_64 0:5.3p1-118.1.el6_8                                            \\n  openssh-clients.x86_64 0:5.3p1-118.1.el6_8                                    \\n  openssh-server.x86_64 0:5.3p1-118.1.el6_8                                     \\n  openssl.x86_64 0:1.0.1e-48.el6_8.1                                            \\n  pam.x86_64 0:1.1.1-22.el6                                                     \\n  pango.x86_64 0:1.28.1-11.el6                                                  \\n  passwd.x86_64 0:0.77-7.el6                                                    \\n  perl.x86_64 4:5.10.1-141.el6_7.1                                              \\n  perl-CGI.x86_64 0:3.51-141.el6_7.1                                            \\n  perl-Compress-Raw-Zlib.x86_64 1:2.021-141.el6_7.1                             \\n  perl-Compress-Zlib.x86_64 0:2.021-141.el6_7.1                                 \\n  perl-ExtUtils-MakeMaker.x86_64 0:6.55-141.el6_7.1                             \\n  perl-ExtUtils-ParseXS.x86_64 1:2.2003.0-141.el6_7.1                           \\n  perl-Git.noarch 0:1.7.1-4.el6_7.1                                             \\n  perl-IO-Compress-Base.x86_64 0:2.021-141.el6_7.1                              \\n  perl-IO-Compress-Zlib.x86_64 0:2.021-141.el6_7.1                              \\n  perl-Module-Pluggable.x86_64 1:3.90-141.el6_7.1                               \\n  perl-Net-CIDR.noarch 0:0.18-1.el6                                             \\n  perl-Pod-Escapes.x86_64 1:1.04-141.el6_7.1                                    \\n  perl-Pod-Simple.x86_64 1:3.13-141.el6_7.1                                     \\n  perl-Test-Harness.x86_64 0:3.17-141.el6_7.1                                   \\n  perl-Test-Simple.x86_64 0:0.92-141.el6_7.1                                    \\n  perl-Time-HiRes.x86_64 4:1.9721-141.el6_7.1                                   \\n  perl-devel.x86_64 4:5.10.1-141.el6_7.1                                        \\n  perl-libs.x86_64 4:5.10.1-141.el6_7.1                                         \\n  perl-libwww-perl.noarch 0:5.833-3.el6                                         \\n  perl-version.x86_64 3:0.77-141.el6_7.1                                        \\n  pixman.x86_64 0:0.32.8-1.el6                                                  \\n  policycoreutils.x86_64 0:2.0.83-29.el6                                        \\n  poppler.x86_64 0:0.12.4-10.el6                                                \\n  poppler-utils.x86_64 0:0.12.4-10.el6                                          \\n  portreserve.x86_64 0:0.0.4-11.el6                                             \\n  postfix.x86_64 2:2.6.6-6.el6_7.1                                              \\n  postgresql-libs.x86_64 0:8.4.20-6.el6                                         \\n  procps.x86_64 0:3.2.8-36.el6                                                  \\n  pulseaudio-libs.x86_64 0:0.9.21-24.el6                                        \\n  python-pycurl.x86_64 0:7.19.0-9.el6                                           \\n  python-urlgrabber.noarch 0:3.9.1-11.el6                                       \\n  redhat-rpm-config.noarch 0:9.0.3-51.el6.centos                                \\n  rhino.noarch 0:1.7R4-4.el6                                                    \\n  rpm.x86_64 0:4.8.0-55.el6                                                     \\n  rpm-build.x86_64 0:4.8.0-55.el6                                               \\n  rpm-libs.x86_64 0:4.8.0-55.el6                                                \\n  rpm-python.x86_64 0:4.8.0-55.el6                                              \\n  screen.x86_64 0:4.0.3-19.el6                                                  \\n  selinux-policy.noarch 0:3.7.19-292.el6                                        \\n  selinux-policy-targeted.noarch 0:3.7.19-292.el6                               \\n  shadow-utils.x86_64 2:XXX.XXX.XXX.1-5.el6                                           \\n  sudo.x86_64 0:1.8.6p3-24.el6                                                  \\n  sysstat.x86_64 0:9.0.4-31.el6                                                 \\n  systemtap.x86_64 0:2.9-4.el6                                                  \\n  systemtap-client.x86_64 0:2.9-4.el6                                           \\n  systemtap-devel.x86_64 0:2.9-4.el6                                            \\n  systemtap-runtime.x86_64 0:2.9-4.el6                                          \\n  tar.x86_64 2:1.23-14.el6                                                      \\n  tcp_wrappers-libs.x86_64 0:7.6-58.el6                                         \\n  tmpwatch.x86_64 0:2.9.16-6.el6                                                \\n  tzdata.noarch 0:2016d-1.el6                                                   \\n  tzdata-java.noarch 0:2016d-1.el6                                              \\n  udev.x86_64 0:147-2.73.el6                                                    \\n  unzip.x86_64 0:6.0-4.el6                                                      \\n  upstart.x86_64 0:0.6.5-16.el6                                                 \\n  urw-fonts.noarch 0:2.4-11.el6                                                 \\n  util-linux-ng.x86_64 0:2.17.2-12.24.el6                                       \\n  wget.x86_64 0:1.12-8.el6                                                      \\n  xorg-x11-drv-ati-firmware.noarch 0:7.6.1-2.el6                                \\n  yum.noarch 0:3.2.29-73.el6.centos                                             \\n  yum-plugin-fastestmirror.noarch 0:1.1.30-37.el6                               \\n  yum-utils.noarch 0:1.1.30-37.el6                                              \\n  zip.x86_64 0:3.0-1.el6_7.1                                                    \\n\\nReplaced:\\n  python-boto.noarch 0:2.38.0-1.el6       python-rsa.noarch 0:3.1.1-5.el6      \\n\\nComplete!\\n\"\r\n",
      "    ]\r\n",
      "}\u001b[0m\r\n"
     ]
    }
   ],
   "source": [
    "!ansible -b -m yum -a 'name=* state=latest' {target_group}"
   ]
  },
  {
   "cell_type": "markdown",
   "metadata": {},
   "source": [
    "念のため更新後のOSバージョンも確認しておく。"
   ]
  },
  {
   "cell_type": "code",
   "execution_count": 9,
   "metadata": {
    "collapsed": false
   },
   "outputs": [
    {
     "name": "stdout",
     "output_type": "stream",
     "text": [
      "\u001b[0;32mXXX.XXX.XXX.105 | SUCCESS | rc=0 >>\r\n",
      "LSB Version:\t:base-4.0-amd64:base-4.0-noarch:core-4.0-amd64:core-4.0-noarch:graphics-4.0-amd64:graphics-4.0-noarch:printing-4.0-amd64:printing-4.0-noarch\r\n",
      "Distributor ID:\tCentOS\r\n",
      "Description:\tCentOS release 6.8 (Final)\r\n",
      "Release:\t6.8\r\n",
      "Codename:\tFinal\r\n",
      "\u001b[0m\r\n"
     ]
    }
   ],
   "source": [
    "!ansible -a 'lsb_release -a' {target_group}"
   ]
  },
  {
   "cell_type": "markdown",
   "metadata": {},
   "source": [
    "## 仮想マシン用ブリッジの準備\n",
    "\n",
    "仮想マシン用のブリッジ設定を追加する。"
   ]
  },
  {
   "cell_type": "code",
   "execution_count": 10,
   "metadata": {
    "ExecuteTime": {
     "end_time": "2016-04-18T11:33:06.948863",
     "start_time": "2016-04-18T11:33:06.926395"
    },
    "collapsed": false
   },
   "outputs": [
    {
     "data": {
      "text/plain": [
       "'/tmp/tmpWOb3Yh'"
      ]
     },
     "execution_count": 10,
     "metadata": {},
     "output_type": "execute_result"
    }
   ],
   "source": [
    "import tempfile\n",
    "temp_dir = tempfile.mkdtemp()\n",
    "temp_dir"
   ]
  },
  {
   "cell_type": "markdown",
   "metadata": {},
   "source": [
    "ブリッジ定義を修正するPlaybookを作る。以下の処理をおこなう。external_nicがeth1の場合は・・・\n",
    "\n",
    "- ブリッジ br-eth1 インタフェースを作成 ... ここには現在のeth1のIPアドレスを設定\n",
    "- eth1インタフェースを修正 ... IPアドレスの情報を削除し、Promiscuousとしてbr-eth1インタフェースに接続"
   ]
  },
  {
   "cell_type": "code",
   "execution_count": 11,
   "metadata": {
    "collapsed": true
   },
   "outputs": [],
   "source": [
    "bridge_nic = 'br-' + external_nic"
   ]
  },
  {
   "cell_type": "code",
   "execution_count": 12,
   "metadata": {
    "ExecuteTime": {
     "end_time": "2016-04-18T11:37:47.767786",
     "start_time": "2016-04-18T11:37:47.588966"
    },
    "collapsed": false
   },
   "outputs": [
    {
     "name": "stdout",
     "output_type": "stream",
     "text": [
      "- hosts: test-hypervisor\r\n",
      "  become: yes\r\n",
      "  handlers:\r\n",
      "    - name: Restart network\r\n",
      "      service: name=network state=restarted\r\n",
      "  tasks:\r\n",
      "    - name: Install bridge-utils\r\n",
      "      yum: name=bridge-utils state=latest\r\n",
      "  \r\n",
      "    - name: Create br-eth1\r\n",
      "      command: cp /etc/sysconfig/network-scripts/ifcfg-eth1 /etc/sysconfig/network-scripts/ifcfg-br-eth1 creates=/etc/sysconfig/network-scripts/ifcfg-br-eth1\r\n",
      "      \r\n",
      "    - name: Modify eth1\r\n",
      "      lineinfile: dest=/etc/sysconfig/network-scripts/ifcfg-eth1 regexp='^IPADDR=' state=absent\r\n",
      "      notify: Restart network\r\n",
      "      \r\n",
      "    - name: Modify eth1\r\n",
      "      lineinfile: dest=/etc/sysconfig/network-scripts/ifcfg-eth1 regexp='^NETMASK=' state=absent\r\n",
      "      notify: Restart network\r\n",
      "      \r\n",
      "    - name: Modify eth1\r\n",
      "      lineinfile: dest=/etc/sysconfig/network-scripts/ifcfg-eth1 regexp='^GATEWAY=' state=absent\r\n",
      "      notify: Restart network\r\n",
      "      \r\n",
      "    - name: Modify eth1\r\n",
      "      lineinfile: dest=/etc/sysconfig/network-scripts/ifcfg-eth1 regexp='^PROMISC=' line='PROMISC=\"yes\"' state=present\r\n",
      "      notify: Restart network\r\n",
      "      \r\n",
      "    - name: Modify eth1\r\n",
      "      lineinfile: dest=/etc/sysconfig/network-scripts/ifcfg-eth1 regexp='^BRIDGE=' line='BRIDGE=\"br-eth1\"' state=present\r\n",
      "      notify: Restart network\r\n",
      "      \r\n",
      "    - name: Modify br-eth1\r\n",
      "      lineinfile: dest=/etc/sysconfig/network-scripts/ifcfg-br-eth1 regexp='^DEVICE=' line='DEVICE=\"br-eth1\"' state=present\r\n",
      "      notify: Restart network\r\n",
      "      \r\n",
      "    - name: Modify br-eth1\r\n",
      "      lineinfile: dest=/etc/sysconfig/network-scripts/ifcfg-br-eth1 regexp='^TYPE=' line='TYPE=\"Bridge\"' state=present\r\n",
      "      notify: Restart network\r\n"
     ]
    }
   ],
   "source": [
    "import os\n",
    "\n",
    "with open(os.path.join(temp_dir, 'bridge.yml'), 'w') as f:\n",
    "    f.write('''- hosts: {hosts}\n",
    "  become: yes\n",
    "  handlers:\n",
    "    - name: Restart network\n",
    "      service: name=network state=restarted\n",
    "  tasks:\n",
    "    - name: Install bridge-utils\n",
    "      yum: name=bridge-utils state=latest\n",
    "  \n",
    "    - name: Create {br}\n",
    "      command: cp /etc/sysconfig/network-scripts/ifcfg-{nic} /etc/sysconfig/network-scripts/ifcfg-{br} creates=/etc/sysconfig/network-scripts/ifcfg-{br}\n",
    "      \n",
    "    - name: Modify {nic}\n",
    "      lineinfile: dest=/etc/sysconfig/network-scripts/ifcfg-{nic} regexp='^IPADDR=' state=absent\n",
    "      notify: Restart network\n",
    "      \n",
    "    - name: Modify {nic}\n",
    "      lineinfile: dest=/etc/sysconfig/network-scripts/ifcfg-{nic} regexp='^NETMASK=' state=absent\n",
    "      notify: Restart network\n",
    "      \n",
    "    - name: Modify {nic}\n",
    "      lineinfile: dest=/etc/sysconfig/network-scripts/ifcfg-{nic} regexp='^GATEWAY=' state=absent\n",
    "      notify: Restart network\n",
    "      \n",
    "    - name: Modify {nic}\n",
    "      lineinfile: dest=/etc/sysconfig/network-scripts/ifcfg-{nic} regexp='^PROMISC=' line='PROMISC=\"yes\"' state=present\n",
    "      notify: Restart network\n",
    "      \n",
    "    - name: Modify {nic}\n",
    "      lineinfile: dest=/etc/sysconfig/network-scripts/ifcfg-{nic} regexp='^BRIDGE=' line='BRIDGE=\"{br}\"' state=present\n",
    "      notify: Restart network\n",
    "      \n",
    "    - name: Modify {br}\n",
    "      lineinfile: dest=/etc/sysconfig/network-scripts/ifcfg-{br} regexp='^DEVICE=' line='DEVICE=\"{br}\"' state=present\n",
    "      notify: Restart network\n",
    "      \n",
    "    - name: Modify {br}\n",
    "      lineinfile: dest=/etc/sysconfig/network-scripts/ifcfg-{br} regexp='^TYPE=' line='TYPE=\"Bridge\"' state=present\n",
    "      notify: Restart network\n",
    "'''.format(hosts=target_group, nic=external_nic, br=bridge_nic))\n",
    "\n",
    "!cat {temp_dir}/bridge.yml"
   ]
  },
  {
   "cell_type": "markdown",
   "metadata": {},
   "source": [
    "念のため、check modeで動作させてみる。"
   ]
  },
  {
   "cell_type": "code",
   "execution_count": 13,
   "metadata": {
    "ExecuteTime": {
     "end_time": "2016-04-18T11:37:57.547594",
     "start_time": "2016-04-18T11:37:51.842798"
    },
    "collapsed": false,
    "scrolled": true
   },
   "outputs": [
    {
     "name": "stdout",
     "output_type": "stream",
     "text": [
      "Using /etc/ansible/ansible.cfg as config file\n",
      "\n",
      "PLAY [test-hypervisor] *********************************************************\n",
      "\n",
      "TASK [setup] *******************************************************************\n",
      "\u001b[0;32mok: [XXX.XXX.XXX.105]\u001b[0m\n",
      "\n",
      "TASK [Install bridge-utils] ****************************************************\n",
      "\u001b[0;33mchanged: [XXX.XXX.XXX.105] => {\"changed\": true, \"changes\": {\"installed\": [\"bridge-utils\"], \"updated\": []}, \"msg\": \"\", \"rc\": 0, \"results\": []}\u001b[0m\n",
      "\n",
      "TASK [Create br-eth1] **********************************************************\n",
      "\u001b[0;36mskipping: [XXX.XXX.XXX.105] => {\"changed\": false, \"msg\": \"remote module does not support check mode\", \"skipped\": true}\u001b[0m\n",
      "\n",
      "TASK [Modify eth1] *************************************************************\n",
      "\u001b[0;33mchanged: [XXX.XXX.XXX.105] => {\"backup\": \"\", \"changed\": true, \"found\": 1, \"msg\": \"1 line(s) removed\"}\u001b[0m\n",
      "\u001b[0;31m--- before: /etc/sysconfig/network-scripts/ifcfg-eth1 (content)\n",
      "\u001b[0m\u001b[0;32m+++ after: /etc/sysconfig/network-scripts/ifcfg-eth1 (content)\n",
      "\u001b[0m\u001b[0;36m@@ -2,7 +2,6 @@\n",
      "\u001b[0m BOOTPROTO=\"static\"\n",
      " ONBOOT=\"yes\"\n",
      " NM_CONTROLLED=\"no\"\n",
      "\u001b[0;31m-IPADDR=\"XXX.XXX.XXX.105\"\n",
      "\u001b[0m NETMASK=\"XXX.XXX.XXX.192\"\n",
      " HWADDR=\"XX:XX:XX:XX:XX:XX\"\n",
      " GATEWAY=\"XXX.XXX.XXX.126\"\n",
      "\n",
      "\n",
      "TASK [Modify eth1] *************************************************************\n",
      "\u001b[0;33mchanged: [XXX.XXX.XXX.105] => {\"backup\": \"\", \"changed\": true, \"found\": 1, \"msg\": \"1 line(s) removed\"}\u001b[0m\n",
      "\u001b[0;31m--- before: /etc/sysconfig/network-scripts/ifcfg-eth1 (content)\n",
      "\u001b[0m\u001b[0;32m+++ after: /etc/sysconfig/network-scripts/ifcfg-eth1 (content)\n",
      "\u001b[0m\u001b[0;36m@@ -3,7 +3,6 @@\n",
      "\u001b[0m ONBOOT=\"yes\"\n",
      " NM_CONTROLLED=\"no\"\n",
      " IPADDR=\"XXX.XXX.XXX.105\"\n",
      "\u001b[0;31m-NETMASK=\"XXX.XXX.XXX.192\"\n",
      "\u001b[0m HWADDR=\"XX:XX:XX:XX:XX:XX\"\n",
      " GATEWAY=\"XXX.XXX.XXX.126\"\n",
      " DNS1=XXX.XXX.XXX.3\n",
      "\n",
      "\n",
      "TASK [Modify eth1] *************************************************************\n",
      "\u001b[0;33mchanged: [XXX.XXX.XXX.105] => {\"backup\": \"\", \"changed\": true, \"found\": 1, \"msg\": \"1 line(s) removed\"}\u001b[0m\n",
      "\u001b[0;31m--- before: /etc/sysconfig/network-scripts/ifcfg-eth1 (content)\n",
      "\u001b[0m\u001b[0;32m+++ after: /etc/sysconfig/network-scripts/ifcfg-eth1 (content)\n",
      "\u001b[0m\u001b[0;36m@@ -5,7 +5,6 @@\n",
      "\u001b[0m IPADDR=\"XXX.XXX.XXX.105\"\n",
      " NETMASK=\"XXX.XXX.XXX.192\"\n",
      " HWADDR=\"XX:XX:XX:XX:XX:XX\"\n",
      "\u001b[0;31m-GATEWAY=\"XXX.XXX.XXX.126\"\n",
      "\u001b[0m DNS1=XXX.XXX.XXX.3\n",
      " DNS2=XXX.XXX.XXX.201\n",
      " \n",
      "\n",
      "\n",
      "TASK [Modify eth1] *************************************************************\n",
      "\u001b[0;33mchanged: [XXX.XXX.XXX.105] => {\"backup\": \"\", \"changed\": true, \"msg\": \"line added\"}\u001b[0m\n",
      "\u001b[0;31m--- before: /etc/sysconfig/network-scripts/ifcfg-eth1 (content)\n",
      "\u001b[0m\u001b[0;32m+++ after: /etc/sysconfig/network-scripts/ifcfg-eth1 (content)\n",
      "\u001b[0m\u001b[0;36m@@ -9,3 +9,4 @@\n",
      "\u001b[0m DNS1=XXX.XXX.XXX.3\n",
      " DNS2=XXX.XXX.XXX.201\n",
      " \n",
      "\u001b[0;32m+PROMISC=\"yes\"\n",
      "\u001b[0m\n",
      "\n",
      "TASK [Modify eth1] *************************************************************\n",
      "\u001b[0;33mchanged: [XXX.XXX.XXX.105] => {\"backup\": \"\", \"changed\": true, \"msg\": \"line added\"}\u001b[0m\n",
      "\u001b[0;31m--- before: /etc/sysconfig/network-scripts/ifcfg-eth1 (content)\n",
      "\u001b[0m\u001b[0;32m+++ after: /etc/sysconfig/network-scripts/ifcfg-eth1 (content)\n",
      "\u001b[0m\u001b[0;36m@@ -9,3 +9,4 @@\n",
      "\u001b[0m DNS1=XXX.XXX.XXX.3\n",
      " DNS2=XXX.XXX.XXX.201\n",
      " \n",
      "\u001b[0;32m+BRIDGE=\"br-eth1\"\n",
      "\u001b[0m\n",
      "\n",
      "TASK [Modify br-eth1] **********************************************************\n",
      "\u001b[0;31mfatal: [XXX.XXX.XXX.105]: FAILED! => {\"changed\": false, \"failed\": true, \"msg\": \"Destination /etc/sysconfig/network-scripts/ifcfg-br-eth1 does not exist !\", \"rc\": 257}\u001b[0m\n",
      "\n",
      "NO MORE HOSTS LEFT *************************************************************\n",
      "\n",
      "RUNNING HANDLER [Restart network] **********************************************\n",
      "\tto retry, use: --limit @/tmp/tmpWOb3Yh/bridge.retry\n",
      "\n",
      "PLAY RECAP *********************************************************************\n",
      "\u001b[0;31mXXX.XXX.XXX.105\u001b[0m              : \u001b[0;32mok\u001b[0m\u001b[0;32m=\u001b[0m\u001b[0;32m7\u001b[0m    \u001b[0;33mchanged\u001b[0m\u001b[0;33m=\u001b[0m\u001b[0;33m6\u001b[0m    unreachable=0    \u001b[0;31mfailed\u001b[0m\u001b[0;31m=\u001b[0m\u001b[0;31m1\u001b[0m   \n",
      "\n"
     ]
    }
   ],
   "source": [
    "!ansible-playbook -CDv {temp_dir}/bridge.yml"
   ]
  },
  {
   "cell_type": "markdown",
   "metadata": {},
   "source": [
    "変更対象が意図したホストであることを確認して、実行する。"
   ]
  },
  {
   "cell_type": "code",
   "execution_count": 14,
   "metadata": {
    "ExecuteTime": {
     "end_time": "2016-04-18T11:38:23.710424",
     "start_time": "2016-04-18T11:38:04.238498"
    },
    "collapsed": false
   },
   "outputs": [
    {
     "name": "stdout",
     "output_type": "stream",
     "text": [
      "\n",
      "PLAY [test-hypervisor] *********************************************************\n",
      "\n",
      "TASK [setup] *******************************************************************\n",
      "\u001b[0;32mok: [XXX.XXX.XXX.105]\u001b[0m\n",
      "\n",
      "TASK [Install bridge-utils] ****************************************************\n",
      "\u001b[0;33mchanged: [XXX.XXX.XXX.105]\u001b[0m\n",
      "\n",
      "TASK [Create br-eth1] **********************************************************\n",
      "\u001b[0;33mchanged: [XXX.XXX.XXX.105]\u001b[0m\n",
      "\n",
      "TASK [Modify eth1] *************************************************************\n",
      "\u001b[0;33mchanged: [XXX.XXX.XXX.105]\u001b[0m\n",
      "\n",
      "TASK [Modify eth1] *************************************************************\n",
      "\u001b[0;33mchanged: [XXX.XXX.XXX.105]\u001b[0m\n",
      "\n",
      "TASK [Modify eth1] *************************************************************\n",
      "\u001b[0;33mchanged: [XXX.XXX.XXX.105]\u001b[0m\n",
      "\n",
      "TASK [Modify eth1] *************************************************************\n",
      "\u001b[0;33mchanged: [XXX.XXX.XXX.105]\u001b[0m\n",
      "\n",
      "TASK [Modify eth1] *************************************************************\n",
      "\u001b[0;33mchanged: [XXX.XXX.XXX.105]\u001b[0m\n",
      "\n",
      "TASK [Modify br-eth1] **********************************************************\n",
      "\u001b[0;33mchanged: [XXX.XXX.XXX.105]\u001b[0m\n",
      "\n",
      "TASK [Modify br-eth1] **********************************************************\n",
      "\u001b[0;33mchanged: [XXX.XXX.XXX.105]\u001b[0m\n",
      "\n",
      "RUNNING HANDLER [Restart network] **********************************************\n",
      "\u001b[0;33mchanged: [XXX.XXX.XXX.105]\u001b[0m\n",
      "\n",
      "PLAY RECAP *********************************************************************\n",
      "\u001b[0;33mXXX.XXX.XXX.105\u001b[0m              : \u001b[0;32mok\u001b[0m\u001b[0;32m=\u001b[0m\u001b[0;32m11\u001b[0m   \u001b[0;33mchanged\u001b[0m\u001b[0;33m=\u001b[0m\u001b[0;33m10\u001b[0m   unreachable=0    failed=0   \n",
      "\n"
     ]
    }
   ],
   "source": [
    "!ansible-playbook {temp_dir}/bridge.yml"
   ]
  },
  {
   "cell_type": "markdown",
   "metadata": {},
   "source": [
    "\n",
    "操作用のIPアドレスはブリッジに設定している。念のため各インタフェースの状況を確認しておく。\n",
    "\n",
    "ブリッジインタフェースが存在し、もともと外向きNICに割り当てられていたIPアドレスが設定されていればOK。"
   ]
  },
  {
   "cell_type": "code",
   "execution_count": 15,
   "metadata": {
    "ExecuteTime": {
     "end_time": "2016-04-18T11:38:28.506151",
     "start_time": "2016-04-18T11:38:26.058556"
    },
    "collapsed": false
   },
   "outputs": [
    {
     "name": "stdout",
     "output_type": "stream",
     "text": [
      "\u001b[0;32mXXX.XXX.XXX.105 | SUCCESS | rc=0 >>\n",
      "10: br-eth1: <BROADCAST,MULTICAST,UP,LOWER_UP> mtu 1500 qdisc noqueue state UNKNOWN \n",
      "    link/ether XX:XX:XX:XX:XX:XX brd XX:XX:XX:XX:XX:XX\n",
      "    inet XXX.XXX.XXX.105/26 brd XXX.XXX.XXX.127 scope global br-eth1\n",
      "    inet6 XX:XX:XX:XX:XX:XX/64 scope link \n",
      "       valid_lft forever preferred_lft forever\n",
      "\u001b[0m\n",
      "\u001b[0;32mXXX.XXX.XXX.105 | SUCCESS | rc=0 >>\n",
      "bridge name\tbridge id\t\tSTP enabled\tinterfaces\n",
      "br-eth1\t\t8000.246e960db538\tno\t\teth1\n",
      "\u001b[0m\n"
     ]
    }
   ],
   "source": [
    "!ansible -a \"/sbin/ip addr show {bridge_nic}\" {target_group}\n",
    "!ansible -a \"/usr/sbin/brctl show {bridge_nic}\" {target_group}"
   ]
  },
  {
   "cell_type": "markdown",
   "metadata": {},
   "source": [
    "現在の外向きインタフェースの情報も確認しておく。"
   ]
  },
  {
   "cell_type": "code",
   "execution_count": 16,
   "metadata": {
    "ExecuteTime": {
     "end_time": "2016-04-18T11:38:44.494675",
     "start_time": "2016-04-18T11:38:43.287394"
    },
    "collapsed": false,
    "scrolled": true
   },
   "outputs": [
    {
     "name": "stdout",
     "output_type": "stream",
     "text": [
      "\u001b[0;32mXXX.XXX.XXX.105 | SUCCESS | rc=0 >>\r\n",
      "2: eth1: <BROADCAST,MULTICAST,UP,LOWER_UP> mtu 1500 qdisc mq state UP qlen 1000\r\n",
      "    link/ether XX:XX:XX:XX:XX:XX brd XX:XX:XX:XX:XX:XX\r\n",
      "    inet6 XX:XX:XX:XX:XX:XX/64 scope link \r\n",
      "       valid_lft forever preferred_lft forever\r\n",
      "\u001b[0m\r\n"
     ]
    }
   ],
   "source": [
    "!ansible -a \"/sbin/ip addr show {external_nic}\" {target_group}"
   ]
  },
  {
   "cell_type": "markdown",
   "metadata": {},
   "source": [
    "## パッケージのインストール\n",
    "\n",
    "KVMのインストールはyumでおこなう。"
   ]
  },
  {
   "cell_type": "code",
   "execution_count": 17,
   "metadata": {
    "ExecuteTime": {
     "end_time": "2016-04-18T11:38:58.723797",
     "start_time": "2016-04-18T11:38:50.581249"
    },
    "collapsed": false
   },
   "outputs": [],
   "source": [
    "!mkdir -p {temp_dir}/roles/kvm-host/tasks"
   ]
  },
  {
   "cell_type": "code",
   "execution_count": 18,
   "metadata": {
    "collapsed": false
   },
   "outputs": [
    {
     "name": "stdout",
     "output_type": "stream",
     "text": [
      "Writing /tmp/tmpWOb3Yh/roles/kvm-host/tasks/main.yml\n"
     ]
    }
   ],
   "source": [
    "%%writefile {temp_dir}/roles/kvm-host/tasks/main.yml\n",
    "- name: Install required packages\n",
    "  yum:\n",
    "    name: \"{{ item }}\"\n",
    "  with_items:\n",
    "    - qemu-kvm\n",
    "    - qemu-img\n",
    "    - libvirt\n",
    "    - libvirt-python\n",
    "    - libguestfs-tools\n",
    "    - virt-install\n",
    "    - virt-top\n",
    "\n",
    "- name: Start libvirtd service\n",
    "  service: name=libvirtd state=started enabled=yes\n",
    "\n",
    "- name: Install virt-manager\n",
    "  yum: name=virt-manager"
   ]
  },
  {
   "cell_type": "code",
   "execution_count": 19,
   "metadata": {
    "collapsed": false
   },
   "outputs": [
    {
     "name": "stdout",
     "output_type": "stream",
     "text": [
      "/tmp/tmpWOb3Yh/roles\r\n",
      "└── kvm-host\r\n",
      "    └── tasks\r\n",
      "        └── main.yml\r\n",
      "\r\n",
      "2 directories, 1 file\r\n"
     ]
    }
   ],
   "source": [
    "!tree {temp_dir}/roles"
   ]
  },
  {
   "cell_type": "code",
   "execution_count": 20,
   "metadata": {
    "ExecuteTime": {
     "end_time": "2016-04-18T11:39:01.601593",
     "start_time": "2016-04-18T11:39:01.426529"
    },
    "collapsed": false
   },
   "outputs": [
    {
     "name": "stdout",
     "output_type": "stream",
     "text": [
      "- hosts: test-hypervisor\r\n",
      "  become: yes\r\n",
      "  roles:\r\n",
      "    - role: kvm-host\r\n"
     ]
    }
   ],
   "source": [
    "with open(os.path.join(temp_dir, 'kvm.yml'), 'w') as f:\n",
    "    f.write('''- hosts: {hosts}\n",
    "  become: yes\n",
    "  roles:\n",
    "    - role: kvm-host\n",
    "'''.format(hosts=target_group))\n",
    "\n",
    "!cat {temp_dir}/kvm.yml"
   ]
  },
  {
   "cell_type": "markdown",
   "metadata": {},
   "source": [
    "念のため、 check modeで動作させてみる。"
   ]
  },
  {
   "cell_type": "code",
   "execution_count": 21,
   "metadata": {
    "ExecuteTime": {
     "end_time": "2016-04-18T11:39:10.250772",
     "start_time": "2016-04-18T11:39:03.039215"
    },
    "collapsed": false
   },
   "outputs": [
    {
     "name": "stdout",
     "output_type": "stream",
     "text": [
      "Using /etc/ansible/ansible.cfg as config file\n",
      "\n",
      "PLAY [test-hypervisor] *********************************************************\n",
      "\n",
      "TASK [setup] *******************************************************************\n",
      "\u001b[0;32mok: [XXX.XXX.XXX.105]\u001b[0m\n",
      "\n",
      "TASK [kvm-host : Install required packages] ************************************\n",
      "\u001b[0;33mchanged: [XXX.XXX.XXX.105] => (item=[u'qemu-kvm', u'qemu-img', u'libvirt', u'libvirt-python', u'libguestfs-tools', u'virt-install', u'virt-top']) => {\"changed\": true, \"changes\": {\"installed\": [\"qemu-kvm\", \"qemu-img\", \"libvirt\", \"libvirt-python\", \"libguestfs-tools\", \"virt-install\", \"virt-top\"]}, \"item\": [\"qemu-kvm\", \"qemu-img\", \"libvirt\", \"libvirt-python\", \"libguestfs-tools\", \"virt-install\", \"virt-top\"], \"results\": []}\u001b[0m\n",
      "\n",
      "TASK [kvm-host : Start libvirtd service] ***************************************\n",
      "\u001b[0;31mfatal: [XXX.XXX.XXX.105]: FAILED! => {\"changed\": false, \"failed\": true, \"msg\": \"no service or tool found for: libvirtd\"}\u001b[0m\n",
      "\n",
      "NO MORE HOSTS LEFT *************************************************************\n",
      "\tto retry, use: --limit @/tmp/tmpWOb3Yh/kvm.retry\n",
      "\n",
      "PLAY RECAP *********************************************************************\n",
      "\u001b[0;31mXXX.XXX.XXX.105\u001b[0m              : \u001b[0;32mok\u001b[0m\u001b[0;32m=\u001b[0m\u001b[0;32m2\u001b[0m    \u001b[0;33mchanged\u001b[0m\u001b[0;33m=\u001b[0m\u001b[0;33m1\u001b[0m    unreachable=0    \u001b[0;31mfailed\u001b[0m\u001b[0;31m=\u001b[0m\u001b[0;31m1\u001b[0m   \n",
      "\n"
     ]
    }
   ],
   "source": [
    "!ansible-playbook -CDv {temp_dir}/kvm.yml"
   ]
  },
  {
   "cell_type": "markdown",
   "metadata": {},
   "source": [
    "変更対象が意図したホストであることを確認して、実行する。"
   ]
  },
  {
   "cell_type": "code",
   "execution_count": 22,
   "metadata": {
    "ExecuteTime": {
     "end_time": "2016-04-18T11:39:48.500278",
     "start_time": "2016-04-18T11:39:13.822721"
    },
    "collapsed": false
   },
   "outputs": [
    {
     "name": "stdout",
     "output_type": "stream",
     "text": [
      "\n",
      "PLAY [test-hypervisor] *********************************************************\n",
      "\n",
      "TASK [setup] *******************************************************************\n",
      "\u001b[0;32mok: [XXX.XXX.XXX.105]\u001b[0m\n",
      "\n",
      "TASK [kvm-host : Install required packages] ************************************\n",
      "\u001b[0;33mchanged: [XXX.XXX.XXX.105] => (item=[u'qemu-kvm', u'qemu-img', u'libvirt', u'libvirt-python', u'libguestfs-tools', u'virt-install', u'virt-top'])\u001b[0m\n",
      "\n",
      "TASK [kvm-host : Start libvirtd service] ***************************************\n",
      "\u001b[0;33mchanged: [XXX.XXX.XXX.105]\u001b[0m\n",
      "\n",
      "TASK [kvm-host : Install virt-manager] *****************************************\n",
      "\u001b[0;33mchanged: [XXX.XXX.XXX.105]\u001b[0m\n",
      "\n",
      "PLAY RECAP *********************************************************************\n",
      "\u001b[0;33mXXX.XXX.XXX.105\u001b[0m              : \u001b[0;32mok\u001b[0m\u001b[0;32m=\u001b[0m\u001b[0;32m4\u001b[0m    \u001b[0;33mchanged\u001b[0m\u001b[0;33m=\u001b[0m\u001b[0;33m3\u001b[0m    unreachable=0    failed=0   \n",
      "\n"
     ]
    }
   ],
   "source": [
    "!ansible-playbook {temp_dir}/kvm.yml"
   ]
  },
  {
   "cell_type": "markdown",
   "metadata": {},
   "source": [
    "## マシンの再起動\n",
    "\n",
    "インストールで特にエラーなどが起きなければ、再起動する。\n",
    "\n",
    "参考: http://d.hatena.ne.jp/incarose86/20150215/1424017177"
   ]
  },
  {
   "cell_type": "code",
   "execution_count": 23,
   "metadata": {
    "ExecuteTime": {
     "end_time": "2016-04-18T11:39:51.510934",
     "start_time": "2016-04-18T11:39:51.343419"
    },
    "collapsed": false
   },
   "outputs": [
    {
     "name": "stdout",
     "output_type": "stream",
     "text": [
      "- hosts: test-hypervisor\r\n",
      "  tasks:\r\n",
      "    - name: test connection (before reboot)\r\n",
      "      ping:\r\n",
      "\r\n",
      "    - name: reboot!\r\n",
      "      command: shutdown -r now\r\n",
      "\r\n",
      "    - name: wait for SSH port down\r\n",
      "      local_action: wait_for host={{ inventory_hostname }} port=22 state=stopped\r\n",
      "\r\n",
      "    - name: wait for SSH port up\r\n",
      "      wait_for: host={{ inventory_hostname }} port=22 state=started delay=30\r\n",
      "      delegate_to: XXX.XXX.XXX.1\r\n",
      "\r\n",
      "    - name: test connection (after reboot)\r\n",
      "      ping:\r\n"
     ]
    }
   ],
   "source": [
    "with open(os.path.join(temp_dir, 'reboot.yml'), 'w') as f:\n",
    "    f.write('''- hosts: {hosts}\n",
    "  tasks:\n",
    "    - name: test connection (before reboot)\n",
    "      ping:\n",
    "\n",
    "    - name: reboot!\n",
    "      command: shutdown -r now\n",
    "\n",
    "    - name: wait for SSH port down\n",
    "      local_action: wait_for host={{{{ inventory_hostname }}}} port=22 state=stopped\n",
    "\n",
    "    - name: wait for SSH port up\n",
    "      wait_for: host={{{{ inventory_hostname }}}} port=22 state=started delay=30\n",
    "      delegate_to: XXX.XXX.XXX.1\n",
    "\n",
    "    - name: test connection (after reboot)\n",
    "      ping:\n",
    "'''.format(hosts=target_group))\n",
    "\n",
    "!cat {temp_dir}/reboot.yml"
   ]
  },
  {
   "cell_type": "code",
   "execution_count": 24,
   "metadata": {
    "ExecuteTime": {
     "end_time": "2016-04-18T11:42:45.572877",
     "start_time": "2016-04-18T11:40:02.635146"
    },
    "collapsed": false
   },
   "outputs": [
    {
     "name": "stdout",
     "output_type": "stream",
     "text": [
      "\n",
      "PLAY [test-hypervisor] *********************************************************\n",
      "\n",
      "TASK [setup] *******************************************************************\n",
      "\u001b[0;32mok: [XXX.XXX.XXX.105]\u001b[0m\n",
      "\n",
      "TASK [test connection (before reboot)] *****************************************\n",
      "\u001b[0;32mok: [XXX.XXX.XXX.105]\u001b[0m\n",
      "\n",
      "TASK [reboot!] *****************************************************************\n",
      "\u001b[0;33mchanged: [XXX.XXX.XXX.105]\u001b[0m\n",
      "\n",
      "TASK [wait for SSH port down] **************************************************\n",
      "\u001b[0;32mok: [XXX.XXX.XXX.105 -> localhost]\u001b[0m\n",
      "\n",
      "TASK [wait for SSH port up] ****************************************************\n",
      "\u001b[0;32mok: [XXX.XXX.XXX.105 -> XXX.XXX.XXX.1]\u001b[0m\n",
      "\n",
      "TASK [test connection (after reboot)] ******************************************\n",
      "\u001b[0;32mok: [XXX.XXX.XXX.105]\u001b[0m\n",
      "\n",
      "PLAY RECAP *********************************************************************\n",
      "\u001b[0;33mXXX.XXX.XXX.105\u001b[0m              : \u001b[0;32mok\u001b[0m\u001b[0;32m=\u001b[0m\u001b[0;32m6\u001b[0m    \u001b[0;33mchanged\u001b[0m\u001b[0;33m=\u001b[0m\u001b[0;33m1\u001b[0m    unreachable=0    failed=0   \n",
      "\n"
     ]
    }
   ],
   "source": [
    "!ansible-playbook -b {temp_dir}/reboot.yml"
   ]
  },
  {
   "cell_type": "markdown",
   "metadata": {},
   "source": [
    "特にエラーなど起きなければ、引き続き設定を進めていく。"
   ]
  },
  {
   "cell_type": "markdown",
   "metadata": {},
   "source": [
    "## VMへのDHCP設定\n",
    "\n",
    "VMにIPアドレスを払いだすため、独自のdnsmasqの設定をおこなっている。"
   ]
  },
  {
   "cell_type": "markdown",
   "metadata": {},
   "source": [
    "### libvirtのNetwork設定の調整\n",
    "\n",
    "VMへのアドレス払い出しはここで独自に設定したdnsmasqで直接行いたい。libvirtのdefault network設定は使いたくないので、削除する。\n",
    "\n",
    "参考: http://dotnsf.blog.jp/archives/2751643.html"
   ]
  },
  {
   "cell_type": "code",
   "execution_count": 25,
   "metadata": {
    "ExecuteTime": {
     "end_time": "2016-04-18T11:43:19.624409",
     "start_time": "2016-04-18T11:43:18.136397"
    },
    "collapsed": false
   },
   "outputs": [
    {
     "name": "stdout",
     "output_type": "stream",
     "text": [
      "\u001b[0;32mXXX.XXX.XXX.105 | SUCCESS | rc=0 >>\r\n",
      "Network default destroyed\r\n",
      "\u001b[0m\r\n"
     ]
    }
   ],
   "source": [
    "!ansible -b -a 'virsh net-destroy default' {target_group}"
   ]
  },
  {
   "cell_type": "markdown",
   "metadata": {},
   "source": [
    "再起動時に自動作成されないよう設定する。"
   ]
  },
  {
   "cell_type": "code",
   "execution_count": 26,
   "metadata": {
    "ExecuteTime": {
     "end_time": "2016-04-18T11:43:24.044474",
     "start_time": "2016-04-18T11:43:22.759315"
    },
    "collapsed": false
   },
   "outputs": [
    {
     "name": "stdout",
     "output_type": "stream",
     "text": [
      "\u001b[0;32mXXX.XXX.XXX.105 | SUCCESS | rc=0 >>\r\n",
      "Network default unmarked as autostarted\r\n",
      "\u001b[0m\r\n"
     ]
    }
   ],
   "source": [
    "!ansible -b -a 'virsh net-autostart default --disable' {target_group}"
   ]
  },
  {
   "cell_type": "markdown",
   "metadata": {},
   "source": [
    "defaultのstateがinactiveになっていて、かつautostartがnoになっていることを確認する。"
   ]
  },
  {
   "cell_type": "code",
   "execution_count": 27,
   "metadata": {
    "ExecuteTime": {
     "end_time": "2016-04-18T11:43:26.219312",
     "start_time": "2016-04-18T11:43:24.952874"
    },
    "collapsed": false
   },
   "outputs": [
    {
     "name": "stdout",
     "output_type": "stream",
     "text": [
      "\u001b[0;32mXXX.XXX.XXX.105 | SUCCESS | rc=0 >>\r\n",
      "Name                 State      Autostart     Persistent\r\n",
      "--------------------------------------------------\r\n",
      "default              inactive   no            yes\r\n",
      "\u001b[0m\r\n"
     ]
    }
   ],
   "source": [
    "!ansible -b -a 'virsh net-list --all' {target_group}"
   ]
  },
  {
   "cell_type": "markdown",
   "metadata": {},
   "source": [
    "### IPアドレス配布用dnsmasqの準備\n",
    "\n",
    "VMへのIPアドレス設定はdnsmasqでおこなう。\n",
    "\n",
    "IPアドレスの払い出しは、自身が持つVMからのみ受け取り、外部からのDHCP requestは拒否する設定をする。"
   ]
  },
  {
   "cell_type": "code",
   "execution_count": 28,
   "metadata": {
    "ExecuteTime": {
     "end_time": "2016-04-18T11:43:31.747135",
     "start_time": "2016-04-18T11:43:31.573042"
    },
    "collapsed": false
   },
   "outputs": [
    {
     "name": "stdout",
     "output_type": "stream",
     "text": [
      "- hosts: test-hypervisor\r\n",
      "  handlers:\r\n",
      "    - name: Save iptables\r\n",
      "      command: service iptables save\r\n",
      "\r\n",
      "    - name: Reload sysctl\r\n",
      "      command: /sbin/sysctl -p\r\n",
      "\r\n",
      "    - name: Start iptables\r\n",
      "      service: name=iptables state=started enabled=yes\r\n",
      "\r\n",
      "  tasks:\r\n",
      "    - name: Modify dnsmasq\r\n",
      "      lineinfile: dest=/etc/dnsmasq.conf regexp='^interface=' line='interface=br-eth1' state=present\r\n",
      "\r\n",
      "    - name: Modify dnsmasq\r\n",
      "      lineinfile: dest=/etc/dnsmasq.conf regexp='^dhcp-range=' line='dhcp-range={{ vmips }},12h' state=present\r\n",
      "\r\n",
      "    - name: Modify dnsmasq\r\n",
      "      lineinfile: dest=/etc/dnsmasq.conf regexp='^dhcp-option=' line='dhcp-option=option:router,{{ vmgateway }}' state=present\r\n",
      "\r\n",
      "    - name: Enabling iptables for bridge\r\n",
      "      lineinfile: dest=/etc/sysctl.conf regexp='^{{ item }}' line='{{ item }} = 1' state=present\r\n",
      "      with_items:\r\n",
      "        - 'net.bridge.bridge-nf-call-ip6tables' \r\n",
      "        - 'net.bridge.bridge-nf-call-iptables'\r\n",
      "        - 'net.bridge.bridge-nf-call-arptables'\r\n",
      "      notify: Reload sysctl\r\n",
      "\r\n",
      "    - name: Configure iptables \r\n",
      "      command: iptables -A INPUT -m physdev --physdev-in eth1 -p {{ item }} --dport 67:68 -j DROP\r\n",
      "      with_items:\r\n",
      "        - 'udp'\r\n",
      "        - 'tcp'\r\n",
      "      notify:\r\n",
      "        - Save iptables\r\n",
      "        - Start iptables\r\n",
      "\r\n",
      "    - name: Start dnsmasq\r\n",
      "      service: name=dnsmasq state=started enabled=yes\r\n"
     ]
    }
   ],
   "source": [
    "with open(os.path.join(temp_dir, 'vmnetwork.yml'), 'w') as f:\n",
    "    f.write('''- hosts: {hosts}\n",
    "  handlers:\n",
    "    - name: Save iptables\n",
    "      command: service iptables save\n",
    "\n",
    "    - name: Reload sysctl\n",
    "      command: /sbin/sysctl -p\n",
    "\n",
    "    - name: Start iptables\n",
    "      service: name=iptables state=started enabled=yes\n",
    "\n",
    "  tasks:\n",
    "    - name: Modify dnsmasq\n",
    "      lineinfile: dest=/etc/dnsmasq.conf regexp='^interface=' line='interface={br}' state=present\n",
    "\n",
    "    - name: Modify dnsmasq\n",
    "      lineinfile: dest=/etc/dnsmasq.conf regexp='^dhcp-range=' line='dhcp-range={{{{ vmips }}}},12h' state=present\n",
    "\n",
    "    - name: Modify dnsmasq\n",
    "      lineinfile: dest=/etc/dnsmasq.conf regexp='^dhcp-option=' line='dhcp-option=option:router,{{{{ vmgateway }}}}' state=present\n",
    "\n",
    "    - name: Enabling iptables for bridge\n",
    "      lineinfile: dest=/etc/sysctl.conf regexp='^{{{{ item }}}}' line='{{{{ item }}}} = 1' state=present\n",
    "      with_items:\n",
    "        - 'net.bridge.bridge-nf-call-ip6tables' \n",
    "        - 'net.bridge.bridge-nf-call-iptables'\n",
    "        - 'net.bridge.bridge-nf-call-arptables'\n",
    "      notify: Reload sysctl\n",
    "\n",
    "    - name: Configure iptables \n",
    "      command: iptables -A INPUT -m physdev --physdev-in {nic} -p {{{{ item }}}} --dport 67:68 -j DROP\n",
    "      with_items:\n",
    "        - 'udp'\n",
    "        - 'tcp'\n",
    "      notify:\n",
    "        - Save iptables\n",
    "        - Start iptables\n",
    "\n",
    "    - name: Start dnsmasq\n",
    "      service: name=dnsmasq state=started enabled=yes\n",
    "'''.format(hosts=target_group, nic=external_nic, br=bridge_nic))\n",
    "\n",
    "!cat {temp_dir}/vmnetwork.yml"
   ]
  },
  {
   "cell_type": "markdown",
   "metadata": {},
   "source": [
    "実行してみる・・・"
   ]
  },
  {
   "cell_type": "code",
   "execution_count": 29,
   "metadata": {
    "ExecuteTime": {
     "end_time": "2016-04-18T11:46:15.183076",
     "start_time": "2016-04-18T11:46:09.943572"
    },
    "collapsed": false
   },
   "outputs": [
    {
     "name": "stdout",
     "output_type": "stream",
     "text": [
      "Using /etc/ansible/ansible.cfg as config file\n",
      "\n",
      "PLAY [test-hypervisor] *********************************************************\n",
      "\n",
      "TASK [setup] *******************************************************************\n",
      "\u001b[0;32mok: [XXX.XXX.XXX.105]\u001b[0m\n",
      "\n",
      "TASK [Modify dnsmasq] **********************************************************\n",
      "\u001b[0;33mchanged: [XXX.XXX.XXX.105] => {\"backup\": \"\", \"changed\": true, \"msg\": \"line added\"}\u001b[0m\n",
      "\u001b[0;31m--- before: /etc/dnsmasq.conf (content)\n",
      "\u001b[0m\u001b[0;32m+++ after: /etc/dnsmasq.conf (content)\n",
      "\u001b[0m\u001b[0;36m@@ -533,3 +533,4 @@\n",
      "\u001b[0m # Include a another lot of configuration options.\n",
      " #conf-file=/etc/dnsmasq.more.conf\n",
      " #conf-dir=/etc/dnsmasq.d\n",
      "\u001b[0;32m+interface=br-eth1\n",
      "\u001b[0m\n",
      "\n",
      "TASK [Modify dnsmasq] **********************************************************\n",
      "\u001b[0;33mchanged: [XXX.XXX.XXX.105] => {\"backup\": \"\", \"changed\": true, \"msg\": \"line added\"}\u001b[0m\n",
      "\u001b[0;31m--- before: /etc/dnsmasq.conf (content)\n",
      "\u001b[0m\u001b[0;32m+++ after: /etc/dnsmasq.conf (content)\n",
      "\u001b[0m\u001b[0;36m@@ -533,3 +533,4 @@\n",
      "\u001b[0m # Include a another lot of configuration options.\n",
      " #conf-file=/etc/dnsmasq.more.conf\n",
      " #conf-dir=/etc/dnsmasq.d\n",
      "\u001b[0;32m+dhcp-range=XXX.XXX.XXX.66,XXX.XXX.XXX.66,12h\n",
      "\u001b[0m\n",
      "\n",
      "TASK [Modify dnsmasq] **********************************************************\n",
      "\u001b[0;33mchanged: [XXX.XXX.XXX.105] => {\"backup\": \"\", \"changed\": true, \"msg\": \"line added\"}\u001b[0m\n",
      "\u001b[0;31m--- before: /etc/dnsmasq.conf (content)\n",
      "\u001b[0m\u001b[0;32m+++ after: /etc/dnsmasq.conf (content)\n",
      "\u001b[0m\u001b[0;36m@@ -533,3 +533,4 @@\n",
      "\u001b[0m # Include a another lot of configuration options.\n",
      " #conf-file=/etc/dnsmasq.more.conf\n",
      " #conf-dir=/etc/dnsmasq.d\n",
      "\u001b[0;32m+dhcp-option=option:router,XXX.XXX.XXX.126\n",
      "\u001b[0m\n",
      "\n",
      "TASK [Enabling iptables for bridge] ********************************************\n",
      "\u001b[0;33mchanged: [XXX.XXX.XXX.105] => (item=net.bridge.bridge-nf-call-ip6tables) => {\"backup\": \"\", \"changed\": true, \"item\": \"net.bridge.bridge-nf-call-ip6tables\", \"msg\": \"line added\"}\u001b[0m\n",
      "\u001b[0;31m--- before: /etc/sysctl.conf (content)\n",
      "\u001b[0m\u001b[0;32m+++ after: /etc/sysctl.conf (content)\n",
      "\u001b[0m\u001b[0;36m@@ -35,3 +35,4 @@\n",
      "\u001b[0m \n",
      " # Controls the maximum number of shared memory segments, in pages\n",
      " kernel.shmall = 4294967296\n",
      "\u001b[0;32m+net.bridge.bridge-nf-call-ip6tables = 1\n",
      "\u001b[0m\n",
      "\u001b[0;33mchanged: [XXX.XXX.XXX.105] => (item=net.bridge.bridge-nf-call-iptables) => {\"backup\": \"\", \"changed\": true, \"item\": \"net.bridge.bridge-nf-call-iptables\", \"msg\": \"line added\"}\u001b[0m\n",
      "\u001b[0;31m--- before: /etc/sysctl.conf (content)\n",
      "\u001b[0m\u001b[0;32m+++ after: /etc/sysctl.conf (content)\n",
      "\u001b[0m\u001b[0;36m@@ -35,3 +35,4 @@\n",
      "\u001b[0m \n",
      " # Controls the maximum number of shared memory segments, in pages\n",
      " kernel.shmall = 4294967296\n",
      "\u001b[0;32m+net.bridge.bridge-nf-call-iptables = 1\n",
      "\u001b[0m\n",
      "\u001b[0;33mchanged: [XXX.XXX.XXX.105] => (item=net.bridge.bridge-nf-call-arptables) => {\"backup\": \"\", \"changed\": true, \"item\": \"net.bridge.bridge-nf-call-arptables\", \"msg\": \"line added\"}\u001b[0m\n",
      "\u001b[0;31m--- before: /etc/sysctl.conf (content)\n",
      "\u001b[0m\u001b[0;32m+++ after: /etc/sysctl.conf (content)\n",
      "\u001b[0m\u001b[0;36m@@ -35,3 +35,4 @@\n",
      "\u001b[0m \n",
      " # Controls the maximum number of shared memory segments, in pages\n",
      " kernel.shmall = 4294967296\n",
      "\u001b[0;32m+net.bridge.bridge-nf-call-arptables = 1\n",
      "\u001b[0m\n",
      "\n",
      "TASK [Configure iptables] ******************************************************\n",
      "\u001b[0;36mskipping: [XXX.XXX.XXX.105] => (item=udp)  => {\"changed\": false, \"item\": \"udp\", \"msg\": \"remote module does not support check mode\", \"skipped\": true}\u001b[0m\n",
      "\u001b[0;36mskipping: [XXX.XXX.XXX.105] => (item=tcp)  => {\"changed\": false, \"item\": \"tcp\", \"msg\": \"remote module does not support check mode\", \"skipped\": true}\u001b[0m\n",
      "\n",
      "TASK [Start dnsmasq] ***********************************************************\n",
      "\u001b[0;33mchanged: [XXX.XXX.XXX.105] => {\"changed\": true}\u001b[0m\n",
      "\n",
      "RUNNING HANDLER [Reload sysctl] ************************************************\n",
      "\u001b[0;36mskipping: [XXX.XXX.XXX.105] => {\"changed\": false, \"msg\": \"remote module does not support check mode\", \"skipped\": true}\u001b[0m\n",
      "\n",
      "PLAY RECAP *********************************************************************\n",
      "\u001b[0;33mXXX.XXX.XXX.105\u001b[0m              : \u001b[0;32mok\u001b[0m\u001b[0;32m=\u001b[0m\u001b[0;32m6\u001b[0m    \u001b[0;33mchanged\u001b[0m\u001b[0;33m=\u001b[0m\u001b[0;33m5\u001b[0m    unreachable=0    failed=0   \n",
      "\n"
     ]
    }
   ],
   "source": [
    "!ansible-playbook -CDv -b -e vmips={vmips} -e vmgateway={vmgateway} {temp_dir}/vmnetwork.yml"
   ]
  },
  {
   "cell_type": "markdown",
   "metadata": {},
   "source": [
    "実施対象を確認した。問題なさそうなので実行する。"
   ]
  },
  {
   "cell_type": "code",
   "execution_count": 30,
   "metadata": {
    "ExecuteTime": {
     "end_time": "2016-04-18T11:46:25.540508",
     "start_time": "2016-04-18T11:46:19.562880"
    },
    "collapsed": false
   },
   "outputs": [
    {
     "name": "stdout",
     "output_type": "stream",
     "text": [
      "\n",
      "PLAY [test-hypervisor] *********************************************************\n",
      "\n",
      "TASK [setup] *******************************************************************\n",
      "\u001b[0;32mok: [XXX.XXX.XXX.105]\u001b[0m\n",
      "\n",
      "TASK [Modify dnsmasq] **********************************************************\n",
      "\u001b[0;33mchanged: [XXX.XXX.XXX.105]\u001b[0m\n",
      "\n",
      "TASK [Modify dnsmasq] **********************************************************\n",
      "\u001b[0;33mchanged: [XXX.XXX.XXX.105]\u001b[0m\n",
      "\n",
      "TASK [Modify dnsmasq] **********************************************************\n",
      "\u001b[0;33mchanged: [XXX.XXX.XXX.105]\u001b[0m\n",
      "\n",
      "TASK [Enabling iptables for bridge] ********************************************\n",
      "\u001b[0;33mchanged: [XXX.XXX.XXX.105] => (item=net.bridge.bridge-nf-call-ip6tables)\u001b[0m\n",
      "\u001b[0;33mchanged: [XXX.XXX.XXX.105] => (item=net.bridge.bridge-nf-call-iptables)\u001b[0m\n",
      "\u001b[0;33mchanged: [XXX.XXX.XXX.105] => (item=net.bridge.bridge-nf-call-arptables)\u001b[0m\n",
      "\n",
      "TASK [Configure iptables] ******************************************************\n",
      "\u001b[0;33mchanged: [XXX.XXX.XXX.105] => (item=udp)\u001b[0m\n",
      "\u001b[0;33mchanged: [XXX.XXX.XXX.105] => (item=tcp)\u001b[0m\n",
      "\n",
      "TASK [Start dnsmasq] ***********************************************************\n",
      "\u001b[0;33mchanged: [XXX.XXX.XXX.105]\u001b[0m\n",
      "\n",
      "RUNNING HANDLER [Save iptables] ************************************************\n",
      "\u001b[0;33mchanged: [XXX.XXX.XXX.105]\u001b[0m\n",
      "\u001b[1;35m [WARNING]: Consider using service module rather than running service\n",
      "\u001b[0m\n",
      "\n",
      "RUNNING HANDLER [Reload sysctl] ************************************************\n",
      "\u001b[0;33mchanged: [XXX.XXX.XXX.105]\u001b[0m\n",
      "\n",
      "RUNNING HANDLER [Start iptables] ***********************************************\n",
      "\u001b[0;33mchanged: [XXX.XXX.XXX.105]\u001b[0m\n",
      "\n",
      "PLAY RECAP *********************************************************************\n",
      "\u001b[0;33mXXX.XXX.XXX.105\u001b[0m              : \u001b[0;32mok\u001b[0m\u001b[0;32m=\u001b[0m\u001b[0;32m10\u001b[0m   \u001b[0;33mchanged\u001b[0m\u001b[0;33m=\u001b[0m\u001b[0;33m9\u001b[0m    unreachable=0    failed=0   \n",
      "\n"
     ]
    }
   ],
   "source": [
    "!ansible-playbook -b -e vmips={vmips} -e vmgateway={vmgateway} {temp_dir}/vmnetwork.yml"
   ]
  },
  {
   "cell_type": "markdown",
   "metadata": {},
   "source": [
    "dnsmasqは実行されているか？"
   ]
  },
  {
   "cell_type": "code",
   "execution_count": 31,
   "metadata": {
    "collapsed": false
   },
   "outputs": [
    {
     "name": "stdout",
     "output_type": "stream",
     "text": [
      "\u001b[0;32mXXX.XXX.XXX.105 | SUCCESS | rc=0 >>\r\n",
      "dnsmasq (pid  9388) is running...dnsdomainname: Unknown host\r\n",
      "\u001b[0m\r\n"
     ]
    }
   ],
   "source": [
    "!ansible -b -a 'service dnsmasq status' {target_group}"
   ]
  },
  {
   "cell_type": "markdown",
   "metadata": {},
   "source": [
    "**dnsmasq (pid  XXXXX) is running** と表示されればOK。"
   ]
  },
  {
   "cell_type": "markdown",
   "metadata": {},
   "source": [
    "# 動作確認\n",
    "\n",
    "libvirtがインストールされているか？確認・・・"
   ]
  },
  {
   "cell_type": "code",
   "execution_count": 32,
   "metadata": {
    "ExecuteTime": {
     "end_time": "2016-04-18T11:46:54.116051",
     "start_time": "2016-04-18T11:46:52.824090"
    },
    "collapsed": false
   },
   "outputs": [
    {
     "name": "stdout",
     "output_type": "stream",
     "text": [
      "\u001b[0;32mXXX.XXX.XXX.105 | SUCCESS | rc=0 >>\r\n",
      " Id    Name                           State\r\n",
      "----------------------------------------------------\r\n",
      "\u001b[0m\r\n"
     ]
    }
   ],
   "source": [
    "!ansible -b -a 'virsh list' {target_group}"
   ]
  },
  {
   "cell_type": "markdown",
   "metadata": {},
   "source": [
    "特にエラーにはならない。OK。"
   ]
  },
  {
   "cell_type": "markdown",
   "metadata": {},
   "source": [
    "# 後始末\n",
    "\n",
    "一時ディレクトリを削除する。"
   ]
  },
  {
   "cell_type": "code",
   "execution_count": 33,
   "metadata": {
    "ExecuteTime": {
     "end_time": "2016-04-18T11:46:56.165871",
     "start_time": "2016-04-18T11:46:55.995955"
    },
    "collapsed": true
   },
   "outputs": [],
   "source": [
    "!rm -fr {temp_dir}"
   ]
  },
  {
   "cell_type": "code",
   "execution_count": null,
   "metadata": {
    "collapsed": true
   },
   "outputs": [],
   "source": []
  }
 ],
 "metadata": {
  "kernelspec": {
   "display_name": "Python 2",
   "language": "python",
   "name": "python2"
  },
  "language_info": {
   "codemirror_mode": {
    "name": "ipython",
    "version": 2
   },
   "file_extension": ".py",
   "mimetype": "text/x-python",
   "name": "python",
   "nbconvert_exporter": "python",
   "pygments_lexer": "ipython2",
   "version": "2.7.6"
  },
  "toc": {
   "toc_cell": false,
   "toc_number_sections": true,
   "toc_threshold": 6,
   "toc_window_display": false
  }
 },
 "nbformat": 4,
 "nbformat_minor": 0
}

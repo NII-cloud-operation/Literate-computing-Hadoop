{
 "cells": [
  {
   "cell_type": "markdown",
   "metadata": {},
   "source": [
    "# About: KVM - Set! CentOS 6\n",
    "\n",
    "---\n",
    "\n",
    "Prepare CentOS6 image for KVM using libvirt.  KVM and libvirt has been installed already.\n",
    "\n",
    "CentOS 6 VMイメージを作成するためのNotebook。"
   ]
  },
  {
   "cell_type": "markdown",
   "metadata": {},
   "source": [
    "## *Operation Note*\n",
    "\n",
    "*This is a cell for your own recording.  ここに経緯を記述*"
   ]
  },
  {
   "cell_type": "markdown",
   "metadata": {},
   "source": [
    "# Notebookと環境のBinding\n",
    "\n",
    "Inventory中のgroup名でBind対象を指示する。\n",
    "\n",
    "**VMを起動したいホスト(KVMがインストールされた物理マシン)**を示すInventory中の名前を以下に指定する。"
   ]
  },
  {
   "cell_type": "code",
   "execution_count": 1,
   "metadata": {
    "ExecuteTime": {
     "end_time": "2016-04-26T08:07:17.170145",
     "start_time": "2016-04-26T08:07:17.162322"
    },
    "collapsed": true
   },
   "outputs": [],
   "source": [
    "target_group = 'test-hypervisor'"
   ]
  },
  {
   "cell_type": "markdown",
   "metadata": {},
   "source": [
    "Bind対象への疎通状態を確認する。"
   ]
  },
  {
   "cell_type": "code",
   "execution_count": 2,
   "metadata": {
    "ExecuteTime": {
     "end_time": "2016-04-26T08:07:19.352910",
     "start_time": "2016-04-26T08:07:18.027874"
    },
    "collapsed": false
   },
   "outputs": [
    {
     "name": "stdout",
     "output_type": "stream",
     "text": [
      "\u001b[0;32mXXX.XXX.XXX.105 | SUCCESS => {\r\n",
      "    \"changed\": false, \r\n",
      "    \"ping\": \"pong\"\r\n",
      "}\u001b[0m\r\n"
     ]
    }
   ],
   "source": [
    "!ansible -m ping {target_group}"
   ]
  },
  {
   "cell_type": "markdown",
   "metadata": {},
   "source": [
    "Bind対象は以下の条件を満たしている必要がある。**満たしていない場合は、このお手本の操作をBind対象にそのまま適用することはできず、適宜セルの改変が必要。**"
   ]
  },
  {
   "cell_type": "markdown",
   "metadata": {},
   "source": [
    "## 仮想マシン用ブリッジが作成されていること\n",
    "\n",
    "仮想マシン用のブリッジが作成されていること。お手本を作成している環境においては、以下のようなインタフェース構成となることを想定している。\n",
    "\n",
    "- ブリッジ br-eth1 インタフェース ... ここにはサービス用IPアドレスが設定される\n",
    "- eth1インタフェース ... Promiscuousモードでサービス用NICと対応付け、br-eth1インタフェースに接続される"
   ]
  },
  {
   "cell_type": "code",
   "execution_count": 3,
   "metadata": {
    "collapsed": true
   },
   "outputs": [],
   "source": [
    "external_nic = 'eth1'\n",
    "bridge_nic = 'br-eth1'"
   ]
  },
  {
   "cell_type": "code",
   "execution_count": 4,
   "metadata": {
    "ExecuteTime": {
     "end_time": "2016-04-26T08:07:25.847812",
     "start_time": "2016-04-26T08:07:22.127652"
    },
    "collapsed": false
   },
   "outputs": [
    {
     "name": "stdout",
     "output_type": "stream",
     "text": [
      "\u001b[0;32mXXX.XXX.XXX.105 | SUCCESS | rc=0 >>\n",
      "10: br-eth1: <BROADCAST,MULTICAST,UP,LOWER_UP> mtu 1500 qdisc noqueue state UNKNOWN \n",
      "    link/ether XX:XX:XX:XX:XX:XX brd XX:XX:XX:XX:XX:XX\n",
      "    inet XXX.XXX.XXX.105/26 brd XXX.XXX.XXX.127 scope global br-eth1\n",
      "    inet6 XX:XX:XX:XX:XX:XX/64 scope link \n",
      "       valid_lft forever preferred_lft forever\n",
      "\u001b[0m\n",
      "\u001b[0;32mXXX.XXX.XXX.105 | SUCCESS | rc=0 >>\n",
      "2: eth1: <BROADCAST,MULTICAST,UP,LOWER_UP> mtu 1500 qdisc mq state UP qlen 1000\n",
      "    link/ether XX:XX:XX:XX:XX:XX brd XX:XX:XX:XX:XX:XX\n",
      "    inet6 XX:XX:XX:XX:XX:XX/64 scope link \n",
      "       valid_lft forever preferred_lft forever\n",
      "\u001b[0m\n",
      "\u001b[0;32mXXX.XXX.XXX.105 | SUCCESS | rc=0 >>\n",
      "bridge name\tbridge id\t\tSTP enabled\tinterfaces\n",
      "br-eth1\t\t8000.246e960db538\tno\t\teth1\n",
      "\u001b[0m\n"
     ]
    }
   ],
   "source": [
    "!ansible -a \"/sbin/ip addr show {bridge_nic}\" {target_group}\n",
    "!ansible -a \"/sbin/ip addr show {external_nic}\" {target_group}\n",
    "!ansible -a \"/usr/sbin/brctl show {bridge_nic}\" {target_group}"
   ]
  },
  {
   "cell_type": "markdown",
   "metadata": {},
   "source": [
    "ブリッジ用NIC名として br-eth1 を利用する。"
   ]
  },
  {
   "cell_type": "markdown",
   "metadata": {},
   "source": [
    "**br-eth1, eth1が定義されており、br-eth1にサービス用IPアドレスが定義されていれば**OK。"
   ]
  },
  {
   "cell_type": "markdown",
   "metadata": {},
   "source": [
    "## libvirtのNetwork設定が無効化されていること\n",
    "\n",
    "defaultのNetwork設定が無効化されているかどうかを確認する。"
   ]
  },
  {
   "cell_type": "code",
   "execution_count": 5,
   "metadata": {
    "ExecuteTime": {
     "end_time": "2016-04-26T08:07:32.682995",
     "start_time": "2016-04-26T08:07:31.432732"
    },
    "collapsed": false
   },
   "outputs": [
    {
     "name": "stdout",
     "output_type": "stream",
     "text": [
      "\u001b[0;32mXXX.XXX.XXX.105 | SUCCESS | rc=0 >>\r\n",
      "Name                 State      Autostart     Persistent\r\n",
      "--------------------------------------------------\r\n",
      "default              inactive   no            yes\r\n",
      "\u001b[0m\r\n"
     ]
    }
   ],
   "source": [
    "!ansible -b -a 'virsh net-list --all' {target_group}"
   ]
  },
  {
   "cell_type": "markdown",
   "metadata": {},
   "source": [
    "**defaultのstateがinactiveになっていて、かつautostartがnoになっていれば**OK。"
   ]
  },
  {
   "cell_type": "markdown",
   "metadata": {},
   "source": [
    "## dnsmasqが起動していること\n",
    "\n",
    "同じホストで、IPアドレス配布用のdnsmasqが実行されていることを前提としている。"
   ]
  },
  {
   "cell_type": "code",
   "execution_count": 6,
   "metadata": {
    "ExecuteTime": {
     "end_time": "2016-04-26T08:07:36.086188",
     "start_time": "2016-04-26T08:07:34.768858"
    },
    "collapsed": false
   },
   "outputs": [
    {
     "name": "stdout",
     "output_type": "stream",
     "text": [
      "\u001b[0;32mXXX.XXX.XXX.105 | SUCCESS | rc=0 >>\r\n",
      "dnsmasq (pid  9388) is running...dnsdomainname: Unknown host\r\n",
      "\u001b[0m\r\n"
     ]
    }
   ],
   "source": [
    "!ansible -b -a 'service dnsmasq status' {target_group}"
   ]
  },
  {
   "cell_type": "markdown",
   "metadata": {},
   "source": [
    "**dnsmasq (pid  XXXXX) is running と表示されれば**OK。"
   ]
  },
  {
   "cell_type": "markdown",
   "metadata": {},
   "source": [
    "## libvirtが動作していること\n",
    "\n",
    "libvirtが動作しており、仮想マシン一覧が取得できるかどうかを確認する。"
   ]
  },
  {
   "cell_type": "code",
   "execution_count": 7,
   "metadata": {
    "ExecuteTime": {
     "end_time": "2016-04-26T08:07:39.755701",
     "start_time": "2016-04-26T08:07:38.482204"
    },
    "collapsed": false
   },
   "outputs": [
    {
     "name": "stdout",
     "output_type": "stream",
     "text": [
      "\u001b[0;32mXXX.XXX.XXX.105 | SUCCESS | rc=0 >>\r\n",
      " Id    Name                           State\r\n",
      "----------------------------------------------------\r\n",
      "\u001b[0m\r\n"
     ]
    }
   ],
   "source": [
    "!ansible -b -a 'virsh list' {target_group}"
   ]
  },
  {
   "cell_type": "markdown",
   "metadata": {},
   "source": [
    "**エラーメッセージが表示されなければ**OK。"
   ]
  },
  {
   "cell_type": "markdown",
   "metadata": {},
   "source": [
    "## virt-installがインストールされていること\n",
    "\n",
    "仮想マシンの作成には、virt-installコマンドを利用する。"
   ]
  },
  {
   "cell_type": "code",
   "execution_count": 8,
   "metadata": {
    "collapsed": false
   },
   "outputs": [
    {
     "name": "stdout",
     "output_type": "stream",
     "text": [
      "\u001b[0;32mXXX.XXX.XXX.105 | SUCCESS | rc=0 >>\r\n",
      "/usr/bin/virt-install\r\n",
      "\u001b[0m\r\n"
     ]
    }
   ],
   "source": [
    "!ansible -a 'which virt-install' {target_group}"
   ]
  },
  {
   "cell_type": "markdown",
   "metadata": {},
   "source": [
    "**エラーメッセージが表示されなければ**OK。"
   ]
  },
  {
   "cell_type": "markdown",
   "metadata": {},
   "source": [
    "# パラメータの決定\n",
    "\n",
    "イメージ作成により、以下の2つのファイルがBinding対象ホストに作成される。\n",
    "\n",
    "- base.img\n",
    "- libvirt-base.xml\n",
    "\n",
    "このファイルを作成するディレクトリのパスと、イメージのサイズ(GB)を指定する。"
   ]
  },
  {
   "cell_type": "code",
   "execution_count": 9,
   "metadata": {
    "collapsed": true
   },
   "outputs": [],
   "source": [
    "image_base_dir = '/mnt/centos6-base-vm'\n",
    "size_gb = 100"
   ]
  },
  {
   "cell_type": "markdown",
   "metadata": {},
   "source": [
    "`size_gb` で指定した空き容量がBind対象ホストにあるかどうかを確認する。"
   ]
  },
  {
   "cell_type": "code",
   "execution_count": 10,
   "metadata": {
    "collapsed": false
   },
   "outputs": [
    {
     "name": "stdout",
     "output_type": "stream",
     "text": [
      "\u001b[0;32mXXX.XXX.XXX.105 | SUCCESS | rc=0 >>\r\n",
      "Filesystem      Size  Used Avail Use% Mounted on\r\n",
      "/dev/sda2        14G  2.8G   11G  21% /\r\n",
      "tmpfs            68G     0   68G   0% /dev/shm\r\n",
      "/dev/sda5       1.7T  104M  1.7T   1% /mnt\r\n",
      "\u001b[0m\r\n"
     ]
    }
   ],
   "source": [
    "!ansible -a 'df -H' {target_group} "
   ]
  },
  {
   "cell_type": "markdown",
   "metadata": {},
   "source": [
    "# イメージ取得用VMの新規作成\n",
    "\n",
    "Binding対象ホストにイメージ保存用のディレクトリを作成する。"
   ]
  },
  {
   "cell_type": "code",
   "execution_count": 11,
   "metadata": {
    "collapsed": false
   },
   "outputs": [
    {
     "name": "stdout",
     "output_type": "stream",
     "text": [
      "\u001b[0;33mXXX.XXX.XXX.105 | SUCCESS => {\r\n",
      "    \"changed\": true, \r\n",
      "    \"gid\": 0, \r\n",
      "    \"group\": \"root\", \r\n",
      "    \"mode\": \"0755\", \r\n",
      "    \"owner\": \"root\", \r\n",
      "    \"path\": \"/mnt/centos6-base-vm\", \r\n",
      "    \"size\": 4096, \r\n",
      "    \"state\": \"directory\", \r\n",
      "    \"uid\": 0\r\n",
      "}\u001b[0m\r\n"
     ]
    }
   ],
   "source": [
    "!ansible -b -m file -a 'path={image_base_dir} state=directory' {target_group} "
   ]
  },
  {
   "cell_type": "markdown",
   "metadata": {},
   "source": [
    "スナップショット用のVM名を決める。"
   ]
  },
  {
   "cell_type": "code",
   "execution_count": 12,
   "metadata": {
    "collapsed": true
   },
   "outputs": [],
   "source": [
    "new_vmname = 'snapshot-vm-20160609'"
   ]
  },
  {
   "cell_type": "markdown",
   "metadata": {},
   "source": [
    "仮想マシンの作成は、virt-installを使い、CentOS 6のMinimal ISOを使ってインストールする。"
   ]
  },
  {
   "cell_type": "markdown",
   "metadata": {},
   "source": [
    "## インストール用ISOの準備\n",
    "\n",
    "インストールディスクのダウンロードをおこなう。\n",
    "\n",
    "MD5チェックサムが `0ca12fe5f28c2ceed4f4084b41ff8a0b` であることを確認すること。*(2016/06/17)*"
   ]
  },
  {
   "cell_type": "code",
   "execution_count": 13,
   "metadata": {
    "ExecuteTime": {
     "end_time": "2016-04-26T08:08:12.671320",
     "start_time": "2016-04-26T08:08:05.761353"
    },
    "collapsed": false
   },
   "outputs": [
    {
     "name": "stdout",
     "output_type": "stream",
     "text": [
      "\u001b[0;33mXXX.XXX.XXX.105 | SUCCESS => {\r\n",
      "    \"changed\": true, \r\n",
      "    \"checksum_dest\": null, \r\n",
      "    \"checksum_src\": \"28cd663c2267676414496f0929ce7bb285bf2506\", \r\n",
      "    \"dest\": \"/tmp/CentOS-6.8-x86_64-minimal.iso\", \r\n",
      "    \"gid\": 0, \r\n",
      "    \"group\": \"root\", \r\n",
      "    \"md5sum\": \"0ca12fe5f28c2ceed4f4084b41ff8a0b\", \r\n",
      "    \"mode\": \"0644\", \r\n",
      "    \"msg\": \"OK (468713472 bytes)\", \r\n",
      "    \"owner\": \"root\", \r\n",
      "    \"size\": 468713472, \r\n",
      "    \"src\": \"/tmp/tmpKQONEl\", \r\n",
      "    \"state\": \"file\", \r\n",
      "    \"uid\": 0, \r\n",
      "    \"url\": \"http://ftp.riken.jp/Linux/centos/6/isos/x86_64/CentOS-6.8-x86_64-minimal.iso\"\r\n",
      "}\u001b[0m\r\n"
     ]
    }
   ],
   "source": [
    "!ansible -b -m get_url -a 'url=http://ftp.riken.jp/Linux/centos/6/isos/x86_64/CentOS-6.8-x86_64-minimal.iso \\\n",
    "                           dest=/tmp/CentOS-6.8-x86_64-minimal.iso' {target_group}"
   ]
  },
  {
   "cell_type": "markdown",
   "metadata": {},
   "source": [
    "## Kickstartファイルの準備\n",
    "\n",
    "インストール手順は Kickstartを使って定義する。\n",
    "\n",
    "念のため、VMにはrootパスワードを指定しておく。このパスワードはスナップショット処理の最後にロックする。"
   ]
  },
  {
   "cell_type": "code",
   "execution_count": 14,
   "metadata": {
    "collapsed": false
   },
   "outputs": [
    {
     "name": "stdout",
     "output_type": "stream",
     "text": [
      "········\n"
     ]
    }
   ],
   "source": [
    "from getpass import getpass\n",
    "rootpw = getpass()"
   ]
  },
  {
   "cell_type": "markdown",
   "metadata": {},
   "source": [
    "CentOS6のインストールをおこない、public keyをInjectionするようなKickstartファイルを生成する。\n",
    "\n",
    "まずローカルに一時ディレクトリを作り、そこにファイルを作成する。"
   ]
  },
  {
   "cell_type": "code",
   "execution_count": 15,
   "metadata": {
    "ExecuteTime": {
     "end_time": "2016-04-26T08:08:00.452166",
     "start_time": "2016-04-26T08:08:00.427056"
    },
    "collapsed": false
   },
   "outputs": [
    {
     "data": {
      "text/plain": [
       "'/tmp/tmp5XssOP'"
      ]
     },
     "execution_count": 15,
     "metadata": {},
     "output_type": "execute_result"
    }
   ],
   "source": [
    "import tempfile\n",
    "work_dir = tempfile.mkdtemp()\n",
    "work_dir"
   ]
  },
  {
   "cell_type": "code",
   "execution_count": 16,
   "metadata": {
    "collapsed": false,
    "run_control": {
     "marked": false
    }
   },
   "outputs": [
    {
     "name": "stdout",
     "output_type": "stream",
     "text": [
      "#version=RHEL6\r\n",
      "\r\n",
      "cmdline\r\n",
      "cdrom\r\n",
      "install\r\n",
      "\r\n",
      "lang en_US.UTF-8\r\n",
      "keyboard jp106\r\n",
      "\r\n",
      "network --device eth0 --onboot yes --bootproto dhcp --noipv6\r\n",
      "\r\n",
      "zerombr\r\n",
      "bootloader --location=mbr --append=\"crashkernel=auto rhgb quiet\"\r\n",
      "\r\n",
      "clearpart --all --initlabel\r\n",
      "part / --fstype=ext4 --grow --size=1 --asprimary\r\n",
      "\r\n",
      "authconfig --enableshadow --passalgo=sha512\r\n",
      "selinux --disabled\r\n",
      "firewall --disabled\r\n",
      "firstboot --disabled\r\n",
      "timezone --utc Asia/Tokyo\r\n",
      "\r\n",
      "poweroff\r\n",
      "\r\n",
      "%packages --nobase\r\n",
      "%end\r\n",
      "\r\n",
      "%post\r\n",
      "cd /root\r\n",
      "mkdir --mode=700 .ssh\r\n",
      "cat >> .ssh/authorized_keys << \"PUBLIC_KEY\"\r\n",
      "ssh-rsa XXXXXXXXXXXXXXXXXXXXXXXXXXXXXXXXXXXXXXXXXXXXXXXXXXXXXXXXXXXXXXXXXXXXXXXXXXXXXXXXXXXXXXXXXXXXXXXXXXXXXXXXXXXXXXXXXXXXXXXXXXXXXXXXXXXXXXXXXXXXXXXXXXXXXXXXXXXXXXXXXXXXXXXXXXXXXXXXXXXXXXXXXXXXXXXXXXXXXXXXXXXXXXXXXXXXXXXXXXXXXXXXXXXXXXXXXXXXXXXXXXXXXXXXXXXXXXXXXXXXXXXXXXXXXXXXXXXXXXXXXXXXXXXXXXXXXXXXXXXXXXXXXXXXXXXXXXXXXXXXXXXXXXXXXXXXXXXXXXXXXXXXXXXXXXXXXXXXXXXXXXXXXXXXXXXX ansible@XXXXXXXXXXXX\r\n",
      "PUBLIC_KEY\r\n",
      "chmod 600 .ssh/authorized_keys\r\n",
      "%end\r\n"
     ]
    }
   ],
   "source": [
    "import os\n",
    "pub_key = None\n",
    "with open(os.path.expanduser('~/.ssh/ansible_id_rsa.pub'), 'r') as f:\n",
    "    pub_key = f.readlines()[0].strip()\n",
    "\n",
    "with open(os.path.join(work_dir, 'centos6.ks.cfg'), 'w') as f:\n",
    "    f.write('''#version=RHEL6\n",
    "\n",
    "cmdline\n",
    "cdrom\n",
    "install\n",
    "\n",
    "lang en_US.UTF-8\n",
    "keyboard jp106\n",
    "\n",
    "network --device eth0 --onboot yes --bootproto dhcp --noipv6\n",
    "\n",
    "zerombr\n",
    "bootloader --location=mbr --append=\"crashkernel=auto rhgb quiet\"\n",
    "\n",
    "clearpart --all --initlabel\n",
    "part / --fstype=ext4 --grow --size=1 --asprimary\n",
    "\n",
    "rootpw --plaintext {rootpw}\n",
    "authconfig --enableshadow --passalgo=sha512\n",
    "selinux --disabled\n",
    "firewall --disabled\n",
    "firstboot --disabled\n",
    "timezone --utc Asia/Tokyo\n",
    "\n",
    "poweroff\n",
    "\n",
    "%packages --nobase\n",
    "%end\n",
    "\n",
    "%post\n",
    "cd /root\n",
    "mkdir --mode=700 .ssh\n",
    "cat >> .ssh/authorized_keys << \"PUBLIC_KEY\"\n",
    "{pub_key}\n",
    "PUBLIC_KEY\n",
    "chmod 600 .ssh/authorized_keys\n",
    "%end'''.format(rootpw=rootpw, pub_key=pub_key))\n",
    "\n",
    "!grep -v rootpw {work_dir}/centos6.ks.cfg"
   ]
  },
  {
   "cell_type": "markdown",
   "metadata": {},
   "source": [
    "なお、Kickstartの設定では、最後にpoweroffすることでインストール成功後、VMを停止するようにしている。"
   ]
  },
  {
   "cell_type": "markdown",
   "metadata": {},
   "source": [
    "Bind対象にアップロードする。"
   ]
  },
  {
   "cell_type": "code",
   "execution_count": 17,
   "metadata": {
    "ExecuteTime": {
     "end_time": "2016-04-26T08:08:35.049343",
     "start_time": "2016-04-26T08:08:33.654121"
    },
    "collapsed": false
   },
   "outputs": [
    {
     "name": "stdout",
     "output_type": "stream",
     "text": [
      "\u001b[0;33mXXX.XXX.XXX.105 | SUCCESS => {\r\n",
      "    \"changed\": true, \r\n",
      "    \"checksum\": \"e7ca71f3e57085dcbb8df4a3b909c4ae52c7e96f\", \r\n",
      "    \"dest\": \"/tmp/centos6.ks.cfg\", \r\n",
      "    \"gid\": 0, \r\n",
      "    \"group\": \"root\", \r\n",
      "    \"md5sum\": \"c4e9f7b255cc3f9b2fcf68566bee7b99\", \r\n",
      "    \"mode\": \"0644\", \r\n",
      "    \"owner\": \"root\", \r\n",
      "    \"size\": 1017, \r\n",
      "    \"src\": \"/home/ansible/.ansible/tmp/ansible-tmp-1466157873.72-86285770392274/source\", \r\n",
      "    \"state\": \"file\", \r\n",
      "    \"uid\": 0\r\n",
      "}\u001b[0m\r\n"
     ]
    }
   ],
   "source": [
    "!ansible -b -m copy -a 'src={work_dir}/centos6.ks.cfg dest=/tmp/centos6.ks.cfg' {target_group}"
   ]
  },
  {
   "cell_type": "markdown",
   "metadata": {},
   "source": [
    "## インストールの実行\n",
    "\n",
    "virt-installを実行する。なお、AnsibleのSSH処理の関係で、 `process.error: Cannot run interactive console without a controlling TTY` と出力されるが、ここでは無視する。"
   ]
  },
  {
   "cell_type": "code",
   "execution_count": 18,
   "metadata": {
    "ExecuteTime": {
     "end_time": "2016-04-26T08:12:36.256773",
     "start_time": "2016-04-26T08:09:01.260627"
    },
    "collapsed": false
   },
   "outputs": [
    {
     "name": "stdout",
     "output_type": "stream",
     "text": [
      "\u001b[0;32mXXX.XXX.XXX.105 | SUCCESS | rc=0 >>\r\n",
      "\r\n",
      "Starting install...\r\n",
      "\r",
      "Retrieving file .treeinfo...                             |  676 B     00:00 ... \r\n",
      "\r",
      "Retrieving file vmlinuz...                               | 8.1 MB     00:00 ... \r\n",
      "\r",
      "Retrieving file initrd.img...                            |  78 MB     00:00 ... \r\n",
      "\r",
      "Creating storage file base.img                           | 100 GB     00:00     \r\n",
      "\r",
      "Creating domain...                                       |    0 B     00:00     \r\n",
      "\r\n",
      "Domain installation still in progress. You can reconnect to \r\n",
      "the console to complete the installation process.error: Cannot run interactive console without a controlling TTY\r\n",
      "\u001b[0m\r\n"
     ]
    }
   ],
   "source": [
    "!ansible -b -a 'virt-install --name {new_vmname} \\\n",
    "                             --hvm \\\n",
    "                             --virt-type kvm \\\n",
    "                             --ram 1024 \\\n",
    "                             --vcpus 1 \\\n",
    "                             --arch x86_64 \\\n",
    "                             --os-type linux \\\n",
    "                             --os-variant rhel6 \\\n",
    "                             --boot hd \\\n",
    "                             --disk path\\={image_base_dir}/base.img,size\\={size_gb},format\\=raw \\\n",
    "                             --network bridge\\={bridge_nic} \\\n",
    "                             --graphics none \\\n",
    "                             --serial pty \\\n",
    "                             --console pty \\\n",
    "                             --noreboot \\\n",
    "                             --location /tmp/CentOS-6.8-x86_64-minimal.iso \\\n",
    "                             --initrd-inject /tmp/centos6.ks.cfg \\\n",
    "                             --extra-args \"ks\\=file:/centos6.ks.cfg console\\=ttyS0\"' {target_group}"
   ]
  },
  {
   "cell_type": "markdown",
   "metadata": {},
   "source": [
    "VMの状態確認は以下で行える。"
   ]
  },
  {
   "cell_type": "code",
   "execution_count": 19,
   "metadata": {
    "collapsed": false
   },
   "outputs": [
    {
     "name": "stdout",
     "output_type": "stream",
     "text": [
      "\u001b[0;32mXXX.XXX.XXX.105 | SUCCESS | rc=0 >>\r\n",
      "State:          running\r\n",
      "\u001b[0m\r\n"
     ]
    }
   ],
   "source": [
    "!ansible -b -m shell -a 'virsh dominfo {new_vmname} | grep State' {target_group}"
   ]
  },
  {
   "cell_type": "markdown",
   "metadata": {},
   "source": [
    "具体的なコンソール出力の確認は、 `virsh console ${new_vmname}` でもおこなえる。"
   ]
  },
  {
   "cell_type": "markdown",
   "metadata": {},
   "source": [
    "poweroffされるまで待つ・・・"
   ]
  },
  {
   "cell_type": "code",
   "execution_count": 20,
   "metadata": {
    "collapsed": false
   },
   "outputs": [],
   "source": [
    "vm_status = !ansible -b -m shell -a 'virsh dominfo {new_vmname} | grep State' {target_group}\n",
    "\n",
    "import time\n",
    "while vm_status[1].split()[-1] == 'running':\n",
    "    time.sleep(60)\n",
    "    vm_status = !ansible -b -m shell -a 'virsh dominfo {new_vmname} | grep State' {target_group}"
   ]
  },
  {
   "cell_type": "markdown",
   "metadata": {},
   "source": [
    "以下の出力が `shut off` となっていればOK。"
   ]
  },
  {
   "cell_type": "code",
   "execution_count": 21,
   "metadata": {
    "collapsed": false
   },
   "outputs": [
    {
     "name": "stdout",
     "output_type": "stream",
     "text": [
      "\u001b[0;32mXXX.XXX.XXX.105 | SUCCESS | rc=0 >>\r\n",
      "State:          shut off\r\n",
      "\u001b[0m\r\n"
     ]
    }
   ],
   "source": [
    "!ansible -b -m shell -a 'virsh dominfo {new_vmname} | grep State' {target_group}"
   ]
  },
  {
   "cell_type": "markdown",
   "metadata": {},
   "source": [
    "起動してみる。"
   ]
  },
  {
   "cell_type": "code",
   "execution_count": 22,
   "metadata": {
    "collapsed": false
   },
   "outputs": [
    {
     "name": "stdout",
     "output_type": "stream",
     "text": [
      "\u001b[0;32mXXX.XXX.XXX.105 | SUCCESS | rc=0 >>\r\n",
      "Domain snapshot-vm-20160609 started\r\n",
      "\u001b[0m\r\n"
     ]
    }
   ],
   "source": [
    "!ansible -b -a 'virsh start {new_vmname}' {target_group}"
   ]
  },
  {
   "cell_type": "markdown",
   "metadata": {},
   "source": [
    "## 仮想マシンの情報確認\n",
    "\n",
    "VMにふられたIPアドレスの確認"
   ]
  },
  {
   "cell_type": "code",
   "execution_count": 23,
   "metadata": {
    "ExecuteTime": {
     "end_time": "2016-04-26T08:13:00.376011",
     "start_time": "2016-04-26T08:12:59.085499"
    },
    "collapsed": false
   },
   "outputs": [
    {
     "name": "stdout",
     "output_type": "stream",
     "text": [
      "\u001b[0;32mXXX.XXX.XXX.105 | SUCCESS | rc=0 >>\r\n",
      "Interface  Type       Source     Model       MAC\r\n",
      "-------------------------------------------------------\r\n",
      "vnet0      bridge     br-eth1    virtio      XX:XX:XX:XX:XX:XX\r\n",
      "\u001b[0m\r\n"
     ]
    }
   ],
   "source": [
    "!ansible -b -a \"virsh domiflist {new_vmname}\" {target_group}"
   ]
  },
  {
   "cell_type": "markdown",
   "metadata": {},
   "source": [
    "上記で確認できたMACアドレスを、以下の変数に代入。"
   ]
  },
  {
   "cell_type": "code",
   "execution_count": 24,
   "metadata": {
    "ExecuteTime": {
     "end_time": "2016-04-26T08:13:03.615817",
     "start_time": "2016-04-26T08:13:02.448966"
    },
    "collapsed": false
   },
   "outputs": [
    {
     "data": {
      "text/plain": [
       "'XX:XX:XX:XX:XX:XX'"
      ]
     },
     "execution_count": 24,
     "metadata": {},
     "output_type": "execute_result"
    }
   ],
   "source": [
    "import re\n",
    "domiflist_stdio = !ansible -b -a \"virsh domiflist {new_vmname}\" {target_group}\n",
    "mac_pattern = re.compile(r'.*bridge.*\\s([0-9a-f\\:]+)\\s*')\n",
    "vmmac = [mac_pattern.match(line).group(1) for line in domiflist_stdio if mac_pattern.match(line)][0]\n",
    "vmmac"
   ]
  },
  {
   "cell_type": "markdown",
   "metadata": {},
   "source": [
    "dnsmasqのlease情報を確認する。"
   ]
  },
  {
   "cell_type": "code",
   "execution_count": 25,
   "metadata": {
    "ExecuteTime": {
     "end_time": "2016-04-26T08:13:06.950890",
     "start_time": "2016-04-26T08:13:04.713763"
    },
    "collapsed": false
   },
   "outputs": [
    {
     "name": "stdout",
     "output_type": "stream",
     "text": [
      "\u001b[0;32mXXX.XXX.XXX.105 | SUCCESS | rc=0 >>\r\n",
      "1466201126 XX:XX:XX:XX:XX:XX XXX.XXX.XXX.66 * *\r\n",
      "\u001b[0m\r\n"
     ]
    }
   ],
   "source": [
    "!ansible -b -a \"grep {vmmac} /var/lib/dnsmasq/dnsmasq.leases\" {target_group}"
   ]
  },
  {
   "cell_type": "code",
   "execution_count": 26,
   "metadata": {
    "ExecuteTime": {
     "end_time": "2016-04-26T08:13:10.809418",
     "start_time": "2016-04-26T08:13:09.652344"
    },
    "collapsed": false
   },
   "outputs": [
    {
     "data": {
      "text/plain": [
       "'XXX.XXX.XXX.66'"
      ]
     },
     "execution_count": 26,
     "metadata": {},
     "output_type": "execute_result"
    }
   ],
   "source": [
    "leases_stdio = !ansible -b -a \"grep {vmmac} /var/lib/dnsmasq/dnsmasq.leases\" {target_group}\n",
    "ip_pattern = re.compile(r'.*\\s([0-9a-f\\:]+)\\s+([0-9\\.]+)\\s.*')\n",
    "ipaddr = [ip_pattern.match(line).group(2) for line in leases_stdio if ip_pattern.match(line)][0]\n",
    "ipaddr"
   ]
  },
  {
   "cell_type": "markdown",
   "metadata": {},
   "source": [
    "このIPアドレスに対して操作すればよい・・・疎通しているか、確認する。\n",
    "\n",
    "(VMには、このNotebook環境から疎通するIPアドレスが振られることを想定している。)"
   ]
  },
  {
   "cell_type": "code",
   "execution_count": 27,
   "metadata": {
    "ExecuteTime": {
     "end_time": "2016-04-26T08:13:14.661634",
     "start_time": "2016-04-26T08:13:11.494709"
    },
    "collapsed": false
   },
   "outputs": [
    {
     "name": "stdout",
     "output_type": "stream",
     "text": [
      "PING XXX.XXX.XXX.66 (XXX.XXX.XXX.66) 56(84) bytes of data.\n",
      "64 bytes from XXX.XXX.XXX.66: icmp_seq=1 ttl=63 time=6.80 ms\n",
      "64 bytes from XXX.XXX.XXX.66: icmp_seq=2 ttl=63 time=0.242 ms\n",
      "64 bytes from XXX.XXX.XXX.66: icmp_seq=3 ttl=63 time=0.345 ms\n",
      "64 bytes from XXX.XXX.XXX.66: icmp_seq=4 ttl=63 time=0.232 ms\n",
      "\n",
      "--- XXX.XXX.XXX.66 ping statistics ---\n",
      "4 packets transmitted, 4 received, 0% packet loss, time 2999ms\n",
      "rtt min/avg/max/mdev = 0.232/1.905/6.803/2.828 ms\n"
     ]
    }
   ],
   "source": [
    "!ping -c 4 {ipaddr}"
   ]
  },
  {
   "cell_type": "markdown",
   "metadata": {},
   "source": [
    "## 仮想マシンの設定変更\n",
    "\n"
   ]
  },
  {
   "cell_type": "markdown",
   "metadata": {},
   "source": [
    "### Ansible操作用ユーザの作成\n",
    "\n",
    "ユーザ `ansible` でAnsibleの操作が可能なよう、設定変更をおこなう。"
   ]
  },
  {
   "cell_type": "code",
   "execution_count": 28,
   "metadata": {
    "ExecuteTime": {
     "end_time": "2016-04-26T08:13:20.068089",
     "start_time": "2016-04-26T08:13:19.903098"
    },
    "collapsed": false
   },
   "outputs": [
    {
     "name": "stdout",
     "output_type": "stream",
     "text": [
      "XXX.XXX.XXX.66 ansible_ssh_user=root\r\n"
     ]
    }
   ],
   "source": [
    "import os\n",
    "snapshot_hosts = os.path.join(work_dir, 'init-hosts')\n",
    "with open(snapshot_hosts, 'w') as f:\n",
    "    f.write('{address} ansible_ssh_user=root\\n'.format(address=ipaddr)) \n",
    "!cat { snapshot_hosts }"
   ]
  },
  {
   "cell_type": "markdown",
   "metadata": {},
   "source": [
    "Ansible経由でpingできるかの確認をする。"
   ]
  },
  {
   "cell_type": "code",
   "execution_count": 29,
   "metadata": {
    "ExecuteTime": {
     "end_time": "2016-04-26T08:13:22.208916",
     "start_time": "2016-04-26T08:13:20.827441"
    },
    "collapsed": false
   },
   "outputs": [
    {
     "name": "stdout",
     "output_type": "stream",
     "text": [
      "\u001b[0;32mXXX.XXX.XXX.66 | SUCCESS => {\r\n",
      "    \"changed\": false, \r\n",
      "    \"ping\": \"pong\"\r\n",
      "}\u001b[0m\r\n"
     ]
    }
   ],
   "source": [
    "!ansible -m ping -i { snapshot_hosts } all"
   ]
  },
  {
   "cell_type": "markdown",
   "metadata": {},
   "source": [
    "設定変更用のPlaybookを生成する。"
   ]
  },
  {
   "cell_type": "code",
   "execution_count": 30,
   "metadata": {
    "ExecuteTime": {
     "end_time": "2016-04-26T08:13:32.667236",
     "start_time": "2016-04-26T08:13:32.485913"
    },
    "collapsed": false
   },
   "outputs": [
    {
     "name": "stdout",
     "output_type": "stream",
     "text": [
      "- hosts: all\r\n",
      "  become: yes\r\n",
      "  tasks:\r\n",
      "    - user: name=ansible state=present\r\n",
      "    - authorized_key: user=ansible key=\"ssh-rsa XXXXXXXXXXXXXXXXXXXXXXXXXXXXXXXXXXXXXXXXXXXXXXXXXXXXXXXXXXXXXXXXXXXXXXXXXXXXXXXXXXXXXXXXXXXXXXXXXXXXXXXXXXXXXXXXXXXXXXXXXXXXXXXXXXXXXXXXXXXXXXXXXXXXXXXXXXXXXXXXXXXXXXXXXXXXXXXXXXXXXXXXXXXXXXXXXXXXXXXXXXXXXXXXXXXXXXXXXXXXXXXXXXXXXXXXXXXXXXXXXXXXXXXXXXXXXXXXXXXXXXXXXXXXXXXXXXXXXXXXXXXXXXXXXXXXXXXXXXXXXXXXXXXXXXXXXXXXXXXXXXXXXXXXXXXXXXXXXXXXXXXXXXXXXXXXXXXXXXXXXXXXXXXXXXXX ansible@XXXXXXXXXXXX\"\r\n",
      "    - lineinfile: \"dest=/etc/sudoers backup=yes state=present regexp='^ansible' line='ansible ALL=(ALL) NOPASSWD: ALL'\"\r\n",
      "    - command: passwd -l root\r\n"
     ]
    }
   ],
   "source": [
    "pub_key = None\n",
    "with open(os.path.expanduser('~/.ssh/ansible_id_rsa.pub'), 'r') as f:\n",
    "    pub_key = f.readlines()[0].strip()\n",
    "\n",
    "playbook_inject_key = os.path.join(work_dir, 'playbook_inject-key.yml')\n",
    "with open(playbook_inject_key, 'w') as f:\n",
    "    f.write('- hosts: all\\n')\n",
    "    f.write('  become: yes\\n')\n",
    "    f.write('  tasks:\\n')\n",
    "    f.write('    - user: name=ansible state=present\\n')\n",
    "    f.write('    - authorized_key: user=ansible key=\"{}\"\\n'.format(pub_key))\n",
    "    f.write('    - lineinfile: \"dest=/etc/sudoers backup=yes state=present regexp=\\'^ansible\\' line=\\'ansible ALL=(ALL) NOPASSWD: ALL\\'\"\\n')\n",
    "    f.write('    - command: passwd -l root\\n')\n",
    "    \n",
    "!cat { playbook_inject_key }"
   ]
  },
  {
   "cell_type": "markdown",
   "metadata": {},
   "source": [
    "Playbookを実行する。"
   ]
  },
  {
   "cell_type": "code",
   "execution_count": 31,
   "metadata": {
    "ExecuteTime": {
     "end_time": "2016-04-26T08:13:47.462042",
     "start_time": "2016-04-26T08:13:45.208484"
    },
    "collapsed": false,
    "run_control": {
     "marked": false
    }
   },
   "outputs": [
    {
     "name": "stdout",
     "output_type": "stream",
     "text": [
      "\n",
      "PLAY [all] *********************************************************************\n",
      "\n",
      "TASK [setup] *******************************************************************\n",
      "\u001b[0;32mok: [XXX.XXX.XXX.66]\u001b[0m\n",
      "\n",
      "TASK [user] ********************************************************************\n",
      "\u001b[0;33mchanged: [XXX.XXX.XXX.66]\u001b[0m\n",
      "\n",
      "TASK [authorized_key] **********************************************************\n",
      "\u001b[0;33mchanged: [XXX.XXX.XXX.66]\u001b[0m\n",
      "\n",
      "TASK [lineinfile] **************************************************************\n",
      "\u001b[0;33mchanged: [XXX.XXX.XXX.66]\u001b[0m\n",
      "\n",
      "TASK [command] *****************************************************************\n",
      "\u001b[0;33mchanged: [XXX.XXX.XXX.66]\u001b[0m\n",
      "\n",
      "PLAY RECAP *********************************************************************\n",
      "\u001b[0;33mXXX.XXX.XXX.66\u001b[0m               : \u001b[0;32mok\u001b[0m\u001b[0;32m=\u001b[0m\u001b[0;32m5\u001b[0m    \u001b[0;33mchanged\u001b[0m\u001b[0;33m=\u001b[0m\u001b[0;33m4\u001b[0m    unreachable=0    failed=0   \n",
      "\n"
     ]
    }
   ],
   "source": [
    "!ansible-playbook -i { snapshot_hosts } { playbook_inject_key }"
   ]
  },
  {
   "cell_type": "markdown",
   "metadata": {},
   "source": [
    "これで、ユーザ `ansible` でSSH可能な状態になった。"
   ]
  },
  {
   "cell_type": "code",
   "execution_count": 32,
   "metadata": {
    "collapsed": false
   },
   "outputs": [
    {
     "name": "stdout",
     "output_type": "stream",
     "text": [
      "XXX.XXX.XXX.66\r\n"
     ]
    }
   ],
   "source": [
    "snapshot_hosts = os.path.join(work_dir, 'hosts')\n",
    "with open(snapshot_hosts, 'w') as f:\n",
    "    f.write('{address}\\n'.format(address=ipaddr)) \n",
    "!cat { snapshot_hosts }"
   ]
  },
  {
   "cell_type": "markdown",
   "metadata": {},
   "source": [
    "以下のpingに成功すればOK。"
   ]
  },
  {
   "cell_type": "code",
   "execution_count": 33,
   "metadata": {
    "collapsed": false
   },
   "outputs": [
    {
     "name": "stdout",
     "output_type": "stream",
     "text": [
      "\u001b[0;32mXXX.XXX.XXX.66 | SUCCESS => {\r\n",
      "    \"changed\": false, \r\n",
      "    \"ping\": \"pong\"\r\n",
      "}\u001b[0m\r\n"
     ]
    }
   ],
   "source": [
    "!ansible -m ping -i { snapshot_hosts } all"
   ]
  },
  {
   "cell_type": "markdown",
   "metadata": {},
   "source": [
    "### ifcfgの修正\n",
    "\n",
    "インタフェースの定義にスナップショット時のMACアドレスが含まれていると、新規VMとして起動したときに正しくNIC設定が適用されないので、修正しておく。"
   ]
  },
  {
   "cell_type": "code",
   "execution_count": 34,
   "metadata": {
    "collapsed": false
   },
   "outputs": [
    {
     "name": "stdout",
     "output_type": "stream",
     "text": [
      "\u001b[0;32mXXX.XXX.XXX.66 | SUCCESS | rc=0 >>\r\n",
      "DEVICE=\"eth0\"\r\n",
      "BOOTPROTO=\"dhcp\"\r\n",
      "HWADDR=\"XX:XX:XX:XX:XX:XX\"\r\n",
      "IPV6INIT=\"no\"\r\n",
      "NM_CONTROLLED=\"yes\"\r\n",
      "ONBOOT=\"yes\"\r\n",
      "TYPE=\"Ethernet\"\r\n",
      "UUID=\"9fdb4435-95fd-4a29-b4a9-67ab00ae4d51\"\r\n",
      "\u001b[0m\r\n"
     ]
    }
   ],
   "source": [
    "!ansible -a 'cat /etc/sysconfig/network-scripts/ifcfg-eth0' -i { snapshot_hosts } all"
   ]
  },
  {
   "cell_type": "markdown",
   "metadata": {},
   "source": [
    "`HWADDR`, `UUID`の定義を削除する。"
   ]
  },
  {
   "cell_type": "code",
   "execution_count": 35,
   "metadata": {
    "collapsed": false
   },
   "outputs": [
    {
     "name": "stdout",
     "output_type": "stream",
     "text": [
      "\u001b[0;33mXXX.XXX.XXX.66 | SUCCESS => {\n",
      "    \"backup\": \"\", \n",
      "    \"changed\": true, \n",
      "    \"found\": 1, \n",
      "    \"msg\": \"1 line(s) removed\"\n",
      "}\u001b[0m\n",
      "\u001b[0;33mXXX.XXX.XXX.66 | SUCCESS => {\n",
      "    \"backup\": \"\", \n",
      "    \"changed\": true, \n",
      "    \"found\": 1, \n",
      "    \"msg\": \"1 line(s) removed\"\n",
      "}\u001b[0m\n"
     ]
    }
   ],
   "source": [
    "!ansible -b -m lineinfile -a \"dest=/etc/sysconfig/network-scripts/ifcfg-eth0 regexp='^HWADDR=' state=absent\" -i { snapshot_hosts } all\n",
    "!ansible -b -m lineinfile -a \"dest=/etc/sysconfig/network-scripts/ifcfg-eth0 regexp='^UUID=' state=absent\" -i { snapshot_hosts } all"
   ]
  },
  {
   "cell_type": "markdown",
   "metadata": {
    "collapsed": false
   },
   "source": [
    "`HWADDR`, `UUID`の定義が削除されていればよい。"
   ]
  },
  {
   "cell_type": "code",
   "execution_count": 36,
   "metadata": {
    "collapsed": false
   },
   "outputs": [
    {
     "name": "stdout",
     "output_type": "stream",
     "text": [
      "\u001b[0;32mXXX.XXX.XXX.66 | SUCCESS | rc=0 >>\r\n",
      "DEVICE=\"eth0\"\r\n",
      "BOOTPROTO=\"dhcp\"\r\n",
      "IPV6INIT=\"no\"\r\n",
      "NM_CONTROLLED=\"yes\"\r\n",
      "ONBOOT=\"yes\"\r\n",
      "TYPE=\"Ethernet\"\r\n",
      "\u001b[0m\r\n"
     ]
    }
   ],
   "source": [
    "!ansible -a 'cat /etc/sysconfig/network-scripts/ifcfg-eth0' -i { snapshot_hosts } all"
   ]
  },
  {
   "cell_type": "markdown",
   "metadata": {},
   "source": [
    "### udevのネットワーク定義の修正\n",
    "\n",
    "udevの定義も削除しておく。"
   ]
  },
  {
   "cell_type": "code",
   "execution_count": 37,
   "metadata": {
    "collapsed": false
   },
   "outputs": [
    {
     "name": "stdout",
     "output_type": "stream",
     "text": [
      "\u001b[0;32mXXX.XXX.XXX.66 | SUCCESS | rc=0 >>\r\n",
      "# This file was automatically generated by the /lib/udev/write_net_rules\r\n",
      "# program, run by the persistent-net-generator.rules rules file.\r\n",
      "#\r\n",
      "# You can modify it, as long as you keep each rule on a single\r\n",
      "# line, and change only the value of the NAME= key.\r\n",
      "\r\n",
      "# PCI device 0x1af4:0x1000 (virtio-pci)\r\n",
      "SUBSYSTEM==\"net\", ACTION==\"add\", DRIVERS==\"?*\", ATTR{address}==\"XX:XX:XX:XX:XX:XX\", ATTR{type}==\"1\", KERNEL==\"eth*\", NAME=\"eth0\"\r\n",
      "\u001b[0m\r\n"
     ]
    }
   ],
   "source": [
    "!ansible -a 'cat /etc/udev/rules.d/70-persistent-net.rules' -i { snapshot_hosts } all"
   ]
  },
  {
   "cell_type": "code",
   "execution_count": 38,
   "metadata": {
    "collapsed": false
   },
   "outputs": [
    {
     "name": "stdout",
     "output_type": "stream",
     "text": [
      "\u001b[0;33mXXX.XXX.XXX.66 | SUCCESS => {\r\n",
      "    \"changed\": true, \r\n",
      "    \"path\": \"/etc/udev/rules.d/70-persistent-net.rules\", \r\n",
      "    \"state\": \"absent\"\r\n",
      "}\u001b[0m\r\n"
     ]
    }
   ],
   "source": [
    "!ansible -b -m file -a 'path=/etc/udev/rules.d/70-persistent-net.rules state=absent' -i { snapshot_hosts } all"
   ]
  },
  {
   "cell_type": "markdown",
   "metadata": {},
   "source": [
    "削除されているかを確認する。"
   ]
  },
  {
   "cell_type": "code",
   "execution_count": 39,
   "metadata": {
    "collapsed": false
   },
   "outputs": [
    {
     "name": "stdout",
     "output_type": "stream",
     "text": [
      "\u001b[0;32mXXX.XXX.XXX.66 | SUCCESS | rc=0 >>\r\n",
      "total 20\r\n",
      "drwxr-xr-x. 2 root root 4096 Jun 17 19:09 .\r\n",
      "drwxr-xr-x. 4 root root 4096 Jun 17 19:05 ..\r\n",
      "-rw-r--r--. 1 root root  316 May 11 07:58 60-raw.rules\r\n",
      "-rw-r--r--  1 root root  536 Jun 17 19:08 70-persistent-cd.rules\r\n",
      "-rw-r--r--. 1 root root   54 May 11 16:38 99-fuse.rules\r\n",
      "\u001b[0m\r\n"
     ]
    }
   ],
   "source": [
    "!ansible -a 'ls -la /etc/udev/rules.d/' -i { snapshot_hosts } all"
   ]
  },
  {
   "cell_type": "markdown",
   "metadata": {},
   "source": [
    "## VMイメージファイルへの同期"
   ]
  },
  {
   "cell_type": "code",
   "execution_count": 40,
   "metadata": {
    "collapsed": false
   },
   "outputs": [
    {
     "name": "stdout",
     "output_type": "stream",
     "text": [
      "\u001b[0;32mXXX.XXX.XXX.66 | SUCCESS | rc=0 >>\r\n",
      "\r\n",
      "\u001b[0m\r\n"
     ]
    }
   ],
   "source": [
    "!ansible -a 'sync' -i { snapshot_hosts } all"
   ]
  },
  {
   "cell_type": "markdown",
   "metadata": {},
   "source": [
    "# VM定義の保存\n",
    "\n",
    "VM複製用に、XML定義を得ておく。"
   ]
  },
  {
   "cell_type": "code",
   "execution_count": 41,
   "metadata": {
    "collapsed": false,
    "scrolled": true
   },
   "outputs": [
    {
     "name": "stdout",
     "output_type": "stream",
     "text": [
      "<domain type=\"kvm\">\r\n",
      "  <name />\r\n",
      "  <memory unit=\"KiB\">1048576</memory>\r\n",
      "  <currentMemory unit=\"KiB\">1048576</currentMemory>\r\n",
      "  <vcpu placement=\"static\">1</vcpu>\r\n",
      "  <os>\r\n",
      "    <type arch=\"x86_64\" machine=\"rhel6.6.0\">hvm</type>\r\n",
      "    <boot dev=\"hd\" />\r\n",
      "  </os>\r\n",
      "  <features>\r\n",
      "    <acpi />\r\n",
      "    <apic />\r\n",
      "    <pae />\r\n",
      "  </features>\r\n",
      "  <clock offset=\"utc\" />\r\n",
      "  <on_poweroff>destroy</on_poweroff>\r\n",
      "  <on_reboot>restart</on_reboot>\r\n",
      "  <on_crash>restart</on_crash>\r\n",
      "  <devices>\r\n",
      "    <emulator>/usr/libexec/qemu-kvm</emulator>\r\n",
      "    <disk device=\"disk\" type=\"file\">\r\n",
      "      <driver cache=\"none\" name=\"qemu\" type=\"raw\" />\r\n",
      "      <source file=\"\" />\r\n",
      "      <target bus=\"virtio\" dev=\"vda\" />\r\n",
      "      <alias name=\"virtio-disk0\" />\r\n",
      "      <address bus=\"0x00\" domain=\"0x0000\" function=\"0x0\" slot=\"0x05\" type=\"pci\" />\r\n",
      "    </disk>\r\n",
      "    <disk device=\"cdrom\" type=\"block\">\r\n",
      "      <driver name=\"qemu\" type=\"raw\" />\r\n",
      "      <target bus=\"ide\" dev=\"hdc\" />\r\n",
      "      <readonly />\r\n",
      "      <alias name=\"ide0-1-0\" />\r\n",
      "      <address bus=\"1\" controller=\"0\" target=\"0\" type=\"drive\" unit=\"0\" />\r\n",
      "    </disk>\r\n",
      "    <controller index=\"0\" model=\"ich9-ehci1\" type=\"usb\">\r\n",
      "      <alias name=\"usb0\" />\r\n",
      "      <address bus=\"0x00\" domain=\"0x0000\" function=\"0x7\" slot=\"0x04\" type=\"pci\" />\r\n",
      "    </controller>\r\n",
      "    <controller index=\"0\" model=\"ich9-uhci1\" type=\"usb\">\r\n",
      "      <alias name=\"usb0\" />\r\n",
      "      <master startport=\"0\" />\r\n",
      "      <address bus=\"0x00\" domain=\"0x0000\" function=\"0x0\" multifunction=\"on\" slot=\"0x04\" type=\"pci\" />\r\n",
      "    </controller>\r\n",
      "    <controller index=\"0\" model=\"ich9-uhci2\" type=\"usb\">\r\n",
      "      <alias name=\"usb0\" />\r\n",
      "      <master startport=\"2\" />\r\n",
      "      <address bus=\"0x00\" domain=\"0x0000\" function=\"0x1\" slot=\"0x04\" type=\"pci\" />\r\n",
      "    </controller>\r\n",
      "    <controller index=\"0\" model=\"ich9-uhci3\" type=\"usb\">\r\n",
      "      <alias name=\"usb0\" />\r\n",
      "      <master startport=\"4\" />\r\n",
      "      <address bus=\"0x00\" domain=\"0x0000\" function=\"0x2\" slot=\"0x04\" type=\"pci\" />\r\n",
      "    </controller>\r\n",
      "    <controller index=\"0\" type=\"ide\">\r\n",
      "      <alias name=\"ide0\" />\r\n",
      "      <address bus=\"0x00\" domain=\"0x0000\" function=\"0x1\" slot=\"0x01\" type=\"pci\" />\r\n",
      "    </controller>\r\n",
      "    <interface type=\"bridge\">\r\n",
      "      <mac address=\"\" />\r\n",
      "      <source bridge=\"br-eth1\" />\r\n",
      "      <model type=\"virtio\" />\r\n",
      "      <address bus=\"0x00\" domain=\"0x0000\" function=\"0x0\" slot=\"0x03\" type=\"pci\" />\r\n",
      "    </interface>\r\n",
      "    <serial type=\"pty\">\r\n",
      "      <source path=\"/dev/pts/2\" />\r\n",
      "      <target port=\"0\" />\r\n",
      "      <alias name=\"serial0\" />\r\n",
      "    </serial>\r\n",
      "    <console tty=\"/dev/pts/2\" type=\"pty\">\r\n",
      "      <source path=\"/dev/pts/2\" />\r\n",
      "      <target port=\"0\" type=\"serial\" />\r\n",
      "      <alias name=\"serial0\" />\r\n",
      "    </console>\r\n",
      "    <input bus=\"usb\" type=\"tablet\">\r\n",
      "      <alias name=\"input0\" />\r\n",
      "    </input>\r\n",
      "    <memballoon model=\"virtio\">\r\n",
      "      <alias name=\"balloon0\" />\r\n",
      "      <address bus=\"0x00\" domain=\"0x0000\" function=\"0x0\" slot=\"0x06\" type=\"pci\" />\r\n",
      "    </memballoon>\r\n",
      "  </devices>\r\n",
      "</domain>"
     ]
    }
   ],
   "source": [
    "import xml.etree.ElementTree as ET\n",
    "vmxml_s = !ansible -b -a \"virsh dumpxml {new_vmname}\" {target_group}\n",
    "vmxml_s = vmxml_s[1:]\n",
    "vmxml = ET.fromstring('\\n'.join(vmxml_s))\n",
    "\n",
    "del vmxml.attrib['id']\n",
    "vmxml.remove(vmxml.find('uuid'))\n",
    "intrElem = vmxml.find('devices').find('interface')\n",
    "intrElem.remove(intrElem.find('target'))\n",
    "intrElem.remove(intrElem.find('alias'))\n",
    "\n",
    "vmxml.find('name').text = ''\n",
    "vmxml.find('devices').find('disk').find('source').attrib['file'] = ''\n",
    "vmxml.find('devices').find('interface').find('mac').attrib['address'] = ''\n",
    "\n",
    "ET.ElementTree(vmxml).write(os.path.join(work_dir, 'libvirt-base.xml'))\n",
    "!cat {work_dir}/libvirt-base.xml"
   ]
  },
  {
   "cell_type": "markdown",
   "metadata": {},
   "source": [
    "リモートのイメージと同じパスに保存しておく。"
   ]
  },
  {
   "cell_type": "code",
   "execution_count": 42,
   "metadata": {
    "collapsed": false
   },
   "outputs": [
    {
     "name": "stdout",
     "output_type": "stream",
     "text": [
      "\u001b[0;33mXXX.XXX.XXX.105 | SUCCESS => {\r\n",
      "    \"changed\": true, \r\n",
      "    \"checksum\": \"d42215623ad5fca3424317f7d2623fb48b09fdd7\", \r\n",
      "    \"dest\": \"/mnt/centos6-base-vm/libvirt-base.xml\", \r\n",
      "    \"gid\": 0, \r\n",
      "    \"group\": \"root\", \r\n",
      "    \"md5sum\": \"f34e277e56387fadb8144b5b67139949\", \r\n",
      "    \"mode\": \"0644\", \r\n",
      "    \"owner\": \"root\", \r\n",
      "    \"size\": 2839, \r\n",
      "    \"src\": \"/home/ansible/.ansible/tmp/ansible-tmp-1466158206.07-173445812115609/source\", \r\n",
      "    \"state\": \"file\", \r\n",
      "    \"uid\": 0\r\n",
      "}\u001b[0m\r\n"
     ]
    }
   ],
   "source": [
    "!ansible -b -m copy -a 'src={work_dir}/libvirt-base.xml dest={image_base_dir}' {target_group}"
   ]
  },
  {
   "cell_type": "markdown",
   "metadata": {},
   "source": [
    "# イメージ取得用VMの停止\n",
    "\n",
    "停止してBaseの作業完了・・・"
   ]
  },
  {
   "cell_type": "code",
   "execution_count": 43,
   "metadata": {
    "ExecuteTime": {
     "end_time": "2016-04-26T08:14:08.449313",
     "start_time": "2016-04-26T08:14:07.153775"
    },
    "collapsed": false
   },
   "outputs": [
    {
     "name": "stdout",
     "output_type": "stream",
     "text": [
      "\u001b[0;32mXXX.XXX.XXX.105 | SUCCESS | rc=0 >>\r\n",
      "Domain snapshot-vm-20160609 destroyed\r\n",
      "\u001b[0m\r\n"
     ]
    }
   ],
   "source": [
    "!ansible -b -a \"virsh destroy {new_vmname}\" {target_group}"
   ]
  },
  {
   "cell_type": "markdown",
   "metadata": {},
   "source": [
    "しばらく待ってから再度 virsh listを実行すると、仮想マシンが停止してリストから消えたことがわかる。"
   ]
  },
  {
   "cell_type": "code",
   "execution_count": 44,
   "metadata": {
    "ExecuteTime": {
     "end_time": "2016-04-26T08:14:12.198745",
     "start_time": "2016-04-26T08:14:10.927748"
    },
    "collapsed": false
   },
   "outputs": [
    {
     "name": "stdout",
     "output_type": "stream",
     "text": [
      "\u001b[0;32mXXX.XXX.XXX.105 | SUCCESS | rc=0 >>\r\n",
      " Id    Name                           State\r\n",
      "----------------------------------------------------\r\n",
      "\u001b[0m\r\n"
     ]
    }
   ],
   "source": [
    "!ansible -b -a \"virsh list\" {target_group}"
   ]
  },
  {
   "cell_type": "markdown",
   "metadata": {},
   "source": [
    "VMの定義も削除しておく。"
   ]
  },
  {
   "cell_type": "code",
   "execution_count": 45,
   "metadata": {
    "collapsed": false
   },
   "outputs": [
    {
     "name": "stdout",
     "output_type": "stream",
     "text": [
      "\u001b[0;32mXXX.XXX.XXX.105 | SUCCESS | rc=0 >>\r\n",
      "Domain snapshot-vm-20160609 has been undefined\r\n",
      "\u001b[0m\r\n"
     ]
    }
   ],
   "source": [
    "!ansible -b -a \"virsh undefine {new_vmname}\" {target_group}"
   ]
  },
  {
   "cell_type": "markdown",
   "metadata": {},
   "source": [
    "## dnsmasqの後始末\n",
    "\n",
    "dnsmasqのリース情報の後始末。VM用IPアドレスが潤沢にある場合は不要。"
   ]
  },
  {
   "cell_type": "code",
   "execution_count": 46,
   "metadata": {
    "ExecuteTime": {
     "end_time": "2016-04-26T08:14:20.386679",
     "start_time": "2016-04-26T08:14:19.161372"
    },
    "collapsed": false
   },
   "outputs": [
    {
     "name": "stdout",
     "output_type": "stream",
     "text": [
      "\u001b[0;32mXXX.XXX.XXX.105 | SUCCESS | rc=0 >>\r\n",
      "1466201307 XX:XX:XX:XX:XX:XX XXX.XXX.XXX.66 localhost *\r\n",
      "\u001b[0m\r\n"
     ]
    }
   ],
   "source": [
    "!ansible -a \"cat /var/lib/dnsmasq/dnsmasq.leases\" {target_group}"
   ]
  },
  {
   "cell_type": "code",
   "execution_count": 47,
   "metadata": {
    "ExecuteTime": {
     "end_time": "2016-04-26T08:14:28.141800",
     "start_time": "2016-04-26T08:14:26.902022"
    },
    "collapsed": false
   },
   "outputs": [
    {
     "name": "stdout",
     "output_type": "stream",
     "text": [
      "\u001b[0;33mXXX.XXX.XXX.105 | SUCCESS => {\r\n",
      "    \"backup\": \"\", \r\n",
      "    \"changed\": true, \r\n",
      "    \"found\": 1, \r\n",
      "    \"msg\": \"1 line(s) removed\"\r\n",
      "}\u001b[0m\r\n"
     ]
    }
   ],
   "source": [
    "!ansible -b -m lineinfile -a \"dest=/var/lib/dnsmasq/dnsmasq.leases regexp='^.*\\s+{ ipaddr }\\s+.*' state=absent\" {target_group}"
   ]
  },
  {
   "cell_type": "code",
   "execution_count": 48,
   "metadata": {
    "ExecuteTime": {
     "end_time": "2016-04-26T08:14:29.858483",
     "start_time": "2016-04-26T08:14:28.634401"
    },
    "collapsed": false
   },
   "outputs": [
    {
     "name": "stdout",
     "output_type": "stream",
     "text": [
      "\u001b[0;32mXXX.XXX.XXX.105 | SUCCESS | rc=0 >>\r\n",
      "\r\n",
      "\u001b[0m\r\n"
     ]
    }
   ],
   "source": [
    "!ansible -a \"cat /var/lib/dnsmasq/dnsmasq.leases\" {target_group}"
   ]
  },
  {
   "cell_type": "code",
   "execution_count": 49,
   "metadata": {
    "ExecuteTime": {
     "end_time": "2016-04-26T08:14:34.415883",
     "start_time": "2016-04-26T08:14:32.872087"
    },
    "collapsed": false
   },
   "outputs": [
    {
     "name": "stdout",
     "output_type": "stream",
     "text": [
      "\u001b[0;33mXXX.XXX.XXX.105 | SUCCESS => {\r\n",
      "    \"changed\": true, \r\n",
      "    \"name\": \"dnsmasq\", \r\n",
      "    \"state\": \"started\"\r\n",
      "}\u001b[0m\r\n"
     ]
    }
   ],
   "source": [
    "!ansible -b -m service -a \"name=dnsmasq state=restarted\" {target_group}"
   ]
  },
  {
   "cell_type": "markdown",
   "metadata": {},
   "source": [
    "# イメージファイルの確認\n",
    "\n",
    "イメージファイルとXML定義が生成されていることを確認する。以下の2つのファイルがホストに作成されていればOK。\n",
    "\n",
    "- base.img\n",
    "- libvirt-base.xml"
   ]
  },
  {
   "cell_type": "code",
   "execution_count": 50,
   "metadata": {
    "collapsed": false
   },
   "outputs": [
    {
     "name": "stdout",
     "output_type": "stream",
     "text": [
      "\u001b[0;32mXXX.XXX.XXX.105 | SUCCESS | rc=0 >>\r\n",
      "total 2691380\r\n",
      "drwxr-xr-x 2 root root         4096 Jun 17 19:10 .\r\n",
      "drwxr-xr-x 5 root root         4096 Jun 17 19:02 ..\r\n",
      "-rwxr-xr-x 1 root root 107374182400 Jun 17 19:10 base.img\r\n",
      "-rw-r--r-- 1 root root         2839 Jun 17 19:10 libvirt-base.xml\r\n",
      "\u001b[0m\r\n"
     ]
    }
   ],
   "source": [
    "!ansible -b -a \"ls -la {image_base_dir}\" {target_group}"
   ]
  },
  {
   "cell_type": "markdown",
   "metadata": {},
   "source": [
    "完了。"
   ]
  },
  {
   "cell_type": "markdown",
   "metadata": {
    "collapsed": true
   },
   "source": [
    "# 後始末\n",
    "\n",
    "一時ディレクトリを削除する。"
   ]
  },
  {
   "cell_type": "code",
   "execution_count": 51,
   "metadata": {
    "ExecuteTime": {
     "end_time": "2016-04-26T08:14:39.273093",
     "start_time": "2016-04-26T08:14:39.103511"
    },
    "collapsed": true
   },
   "outputs": [],
   "source": [
    "!rm -fr {work_dir}"
   ]
  },
  {
   "cell_type": "code",
   "execution_count": null,
   "metadata": {
    "collapsed": true
   },
   "outputs": [],
   "source": []
  }
 ],
 "metadata": {
  "kernelspec": {
   "display_name": "Python 2",
   "language": "python",
   "name": "python2"
  },
  "language_info": {
   "codemirror_mode": {
    "name": "ipython",
    "version": 2
   },
   "file_extension": ".py",
   "mimetype": "text/x-python",
   "name": "python",
   "nbconvert_exporter": "python",
   "pygments_lexer": "ipython2",
   "version": "2.7.6"
  },
  "toc": {
   "toc_cell": false,
   "toc_number_sections": true,
   "toc_threshold": 6,
   "toc_window_display": false
  }
 },
 "nbformat": 4,
 "nbformat_minor": 0
}

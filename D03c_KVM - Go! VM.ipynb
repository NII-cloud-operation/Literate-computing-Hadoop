{
 "cells": [
  {
   "cell_type": "markdown",
   "metadata": {},
   "source": [
    "# About: VM - Go! with prepared VM image\n",
    "\n",
    "---\n",
    "\n",
    "Start VM instance with prepared VM image using livbirt.\n",
    "\n",
    "libvirtがインストールされている仮想化基盤上で、VMを起動するためのNotebook。\n",
    "\n",
    "すでに**VMイメージ作成Notebook**により、イメージが作成されているものとする。"
   ]
  },
  {
   "cell_type": "markdown",
   "metadata": {},
   "source": [
    "## *Operation Note*\n",
    "\n",
    "*This is a cell for your own recording.  ここに経緯を記述*"
   ]
  },
  {
   "cell_type": "markdown",
   "metadata": {},
   "source": [
    "# Notebookと環境のBinding\n",
    "\n",
    "Inventory中のgroup名でBind対象を指示する。"
   ]
  },
  {
   "cell_type": "code",
   "execution_count": 1,
   "metadata": {
    "ExecuteTime": {
     "end_time": "2016-04-26T08:07:17.170145",
     "start_time": "2016-04-26T08:07:17.162322"
    },
    "collapsed": true
   },
   "outputs": [],
   "source": [
    "target_group = 'test-hadoop-hypervisor'"
   ]
  },
  {
   "cell_type": "markdown",
   "metadata": {},
   "source": [
    "Bind対象への疎通状態を確認する。"
   ]
  },
  {
   "cell_type": "code",
   "execution_count": 2,
   "metadata": {
    "ExecuteTime": {
     "end_time": "2016-04-26T08:07:19.352910",
     "start_time": "2016-04-26T08:07:18.027874"
    },
    "collapsed": false
   },
   "outputs": [
    {
     "name": "stdout",
     "output_type": "stream",
     "text": [
      "\u001b[0;32mXXX.XXX.XXX.106 | SUCCESS => {\r\n",
      "    \"changed\": false, \r\n",
      "    \"ping\": \"pong\"\r\n",
      "}\u001b[0m\r\n"
     ]
    }
   ],
   "source": [
    "!ansible -m ping {target_group}"
   ]
  },
  {
   "cell_type": "markdown",
   "metadata": {},
   "source": [
    "対象マシンにlibvirtがインストールされているかを確認する。"
   ]
  },
  {
   "cell_type": "code",
   "execution_count": 3,
   "metadata": {
    "collapsed": false
   },
   "outputs": [
    {
     "name": "stdout",
     "output_type": "stream",
     "text": [
      "\u001b[0;32mXXX.XXX.XXX.106 | SUCCESS | rc=0 >>\r\n",
      "Compiled against library: libvirt 0.10.2\r\n",
      "Using library: libvirt 0.10.2\r\n",
      "Using API: QEMU 0.10.2\r\n",
      "Running hypervisor: QEMU 0.12.1\r\n",
      "\u001b[0m\r\n"
     ]
    }
   ],
   "source": [
    "!ansible -b -a 'virsh version' {target_group}"
   ]
  },
  {
   "cell_type": "markdown",
   "metadata": {},
   "source": [
    "# VMイメージの指定\n",
    "\n",
    "作成対象のVMのあるディレクトリを指定する。**VMイメージ作成Notebook**により生成されたイメージが格納されているディレクトリを指定すること。"
   ]
  },
  {
   "cell_type": "code",
   "execution_count": 4,
   "metadata": {
    "collapsed": true
   },
   "outputs": [],
   "source": [
    "image_base_dir = '/mnt/centos6-base-vm'"
   ]
  },
  {
   "cell_type": "markdown",
   "metadata": {},
   "source": [
    "以下の2つのファイルが存在している必要がある。\n",
    "\n",
    "- base.img\n",
    "- libvirt-base.xml"
   ]
  },
  {
   "cell_type": "code",
   "execution_count": 5,
   "metadata": {
    "collapsed": false
   },
   "outputs": [
    {
     "name": "stdout",
     "output_type": "stream",
     "text": [
      "\u001b[0;32mXXX.XXX.XXX.106 | SUCCESS | rc=0 >>\r\n",
      "total 2722840\r\n",
      "drwxr-xr-x 2 root root         4096 Jul 29 16:53 .\r\n",
      "drwxr-xr-x 5 root root         4096 Aug 18 19:04 ..\r\n",
      "-rwxr-xr-x 1 root root 107374182400 Jul 29 16:53 base.img\r\n",
      "-rw-r--r-- 1 root root         2839 Jul 29 16:53 libvirt-base.xml\r\n",
      "\u001b[0m\r\n"
     ]
    }
   ],
   "source": [
    "!ansible -b -a \"ls -la {image_base_dir}\" {target_group}"
   ]
  },
  {
   "cell_type": "markdown",
   "metadata": {},
   "source": [
    "作成するVM名のリストを指定する。お手本では例として2つのVMを指定している。\n",
    "\n",
    "起動したいVM名をlistで指定すること。**既存のVMと重複してはならない。**"
   ]
  },
  {
   "cell_type": "code",
   "execution_count": 6,
   "metadata": {
    "collapsed": false
   },
   "outputs": [
    {
     "data": {
      "text/plain": [
       "['test-vm-1',\n",
       " 'test-vm-2',\n",
       " 'test-vm-3',\n",
       " 'test-vm-4',\n",
       " 'test-vm-5',\n",
       " 'test-vm-6',\n",
       " 'test-vm-7']"
      ]
     },
     "execution_count": 6,
     "metadata": {},
     "output_type": "execute_result"
    }
   ],
   "source": [
    "vm_names = map(lambda index: 'test-vm-{}'.format(index + 1), range(0, 7))\n",
    "vm_names"
   ]
  },
  {
   "cell_type": "markdown",
   "metadata": {},
   "source": [
    "# VMの作成\n",
    "\n",
    "VM用のファイルは以下のように作成される。\n",
    "\n",
    "- /mnt\n",
    "  - (VM名).xml ... libvirtに与えるXML定義\n",
    "  - (VM名).img ... VM用の仮想ディスク"
   ]
  },
  {
   "cell_type": "markdown",
   "metadata": {},
   "source": [
    "## XML定義の生成\n",
    "\n",
    "基本となるXML定義を得る。"
   ]
  },
  {
   "cell_type": "code",
   "execution_count": 7,
   "metadata": {
    "collapsed": false
   },
   "outputs": [
    {
     "data": {
      "text/plain": [
       "'/tmp/tmpNnS7H9'"
      ]
     },
     "execution_count": 7,
     "metadata": {},
     "output_type": "execute_result"
    }
   ],
   "source": [
    "import tempfile\n",
    "work_dir = tempfile.mkdtemp()\n",
    "work_dir"
   ]
  },
  {
   "cell_type": "code",
   "execution_count": 8,
   "metadata": {
    "collapsed": false
   },
   "outputs": [
    {
     "name": "stdout",
     "output_type": "stream",
     "text": [
      "\u001b[0;33mXXX.XXX.XXX.106 | SUCCESS => {\r\n",
      "    \"changed\": true, \r\n",
      "    \"checksum\": \"d42215623ad5fca3424317f7d2623fb48b09fdd7\", \r\n",
      "    \"dest\": \"/tmp/tmpNnS7H9/libvirt-base.xml\", \r\n",
      "    \"md5sum\": \"f34e277e56387fadb8144b5b67139949\", \r\n",
      "    \"remote_checksum\": \"d42215623ad5fca3424317f7d2623fb48b09fdd7\", \r\n",
      "    \"remote_md5sum\": null\r\n",
      "}\u001b[0m\r\n"
     ]
    }
   ],
   "source": [
    "!ansible -b -m fetch -a 'src={image_base_dir}/libvirt-base.xml dest={work_dir}/libvirt-base.xml flat=yes' {target_group}"
   ]
  },
  {
   "cell_type": "markdown",
   "metadata": {},
   "source": [
    "基本のXML定義に基づいて、VM用定義を生成する。"
   ]
  },
  {
   "cell_type": "code",
   "execution_count": 9,
   "metadata": {
    "collapsed": false
   },
   "outputs": [
    {
     "name": "stdout",
     "output_type": "stream",
     "text": [
      "-rw-r--r-- 1 root root 2839 Aug 26 11:04 /tmp/tmpNnS7H9/libvirt-base.xml\r\n",
      "-rw-r--r-- 1 root root 2890 Aug 26 11:04 /tmp/tmpNnS7H9/test-vm-1.xml\r\n",
      "-rw-r--r-- 1 root root 2890 Aug 26 11:04 /tmp/tmpNnS7H9/test-vm-2.xml\r\n",
      "-rw-r--r-- 1 root root 2890 Aug 26 11:04 /tmp/tmpNnS7H9/test-vm-3.xml\r\n",
      "-rw-r--r-- 1 root root 2890 Aug 26 11:04 /tmp/tmpNnS7H9/test-vm-4.xml\r\n",
      "-rw-r--r-- 1 root root 2890 Aug 26 11:04 /tmp/tmpNnS7H9/test-vm-5.xml\r\n",
      "-rw-r--r-- 1 root root 2890 Aug 26 11:04 /tmp/tmpNnS7H9/test-vm-6.xml\r\n",
      "-rw-r--r-- 1 root root 2890 Aug 26 11:04 /tmp/tmpNnS7H9/test-vm-7.xml\r\n"
     ]
    }
   ],
   "source": [
    "import xml.etree.ElementTree as ET\n",
    "import virtinst.util\n",
    "import os\n",
    "\n",
    "for n in vm_names:\n",
    "    vmxml = ET.parse(os.path.join(work_dir, 'libvirt-base.xml')).getroot()\n",
    "    vmxml.find('name').text = n\n",
    "    vmxml.find('memory').text = '10485760'\n",
    "    vmxml.find('currentMemory').text = '10485760'\n",
    "    vmxml.find('vcpu').text = '2'\n",
    "    vmxml.find('devices').find('disk').find('source').attrib['file'] = os.path.join('/mnt', n + '.img')\n",
    "    vmxml.find('devices').find('interface').find('mac').attrib['address'] = virtinst.util.randomMAC()\n",
    "    ET.ElementTree(vmxml).write(os.path.join(work_dir, n + '.xml'))\n",
    "!ls -la {work_dir}/*.xml"
   ]
  },
  {
   "cell_type": "markdown",
   "metadata": {},
   "source": [
    "ホストに定義ファイルをコピーする。"
   ]
  },
  {
   "cell_type": "code",
   "execution_count": 10,
   "metadata": {
    "collapsed": false,
    "scrolled": true
   },
   "outputs": [
    {
     "name": "stdout",
     "output_type": "stream",
     "text": [
      "\u001b[0;33mXXX.XXX.XXX.106 | SUCCESS => {\n",
      "    \"changed\": true, \n",
      "    \"checksum\": \"7f6357a82b62cc160faa7da3299023aa6ce3c26f\", \n",
      "    \"dest\": \"/mnt/test-vm-1.xml\", \n",
      "    \"gid\": 0, \n",
      "    \"group\": \"root\", \n",
      "    \"md5sum\": \"4b2f28591273396d8dcc23bce8816a9f\", \n",
      "    \"mode\": \"0644\", \n",
      "    \"owner\": \"root\", \n",
      "    \"size\": 2890, \n",
      "    \"src\": \"/home/ansible/.ansible/tmp/ansible-tmp-1472177063.81-253383976698398/source\", \n",
      "    \"state\": \"file\", \n",
      "    \"uid\": 0\n",
      "}\u001b[0m\n",
      "\u001b[0;33mXXX.XXX.XXX.106 | SUCCESS => {\n",
      "    \"changed\": true, \n",
      "    \"checksum\": \"bfdf8615833a0ed6e3f1ac3581085134123bd3fa\", \n",
      "    \"dest\": \"/mnt/test-vm-2.xml\", \n",
      "    \"gid\": 0, \n",
      "    \"group\": \"root\", \n",
      "    \"md5sum\": \"d2677b2ab5378254e10939367206b750\", \n",
      "    \"mode\": \"0644\", \n",
      "    \"owner\": \"root\", \n",
      "    \"size\": 2890, \n",
      "    \"src\": \"/home/ansible/.ansible/tmp/ansible-tmp-1472177066.13-25911206026684/source\", \n",
      "    \"state\": \"file\", \n",
      "    \"uid\": 0\n",
      "}\u001b[0m\n",
      "\u001b[0;33mXXX.XXX.XXX.106 | SUCCESS => {\n",
      "    \"changed\": true, \n",
      "    \"checksum\": \"3e772ed9ba7bd561b70fde794694cd13d1f3d862\", \n",
      "    \"dest\": \"/mnt/test-vm-3.xml\", \n",
      "    \"gid\": 0, \n",
      "    \"group\": \"root\", \n",
      "    \"md5sum\": \"e4c5de7591dc0ae603fb81ab615cb862\", \n",
      "    \"mode\": \"0644\", \n",
      "    \"owner\": \"root\", \n",
      "    \"size\": 2890, \n",
      "    \"src\": \"/home/ansible/.ansible/tmp/ansible-tmp-1472177068.33-116536027922197/source\", \n",
      "    \"state\": \"file\", \n",
      "    \"uid\": 0\n",
      "}\u001b[0m\n",
      "\u001b[0;33mXXX.XXX.XXX.106 | SUCCESS => {\n",
      "    \"changed\": true, \n",
      "    \"checksum\": \"3b210480f1f7c301cf091b90a82ac628364a149f\", \n",
      "    \"dest\": \"/mnt/test-vm-4.xml\", \n",
      "    \"gid\": 0, \n",
      "    \"group\": \"root\", \n",
      "    \"md5sum\": \"f76377aac53d75f71da46ad8dd475854\", \n",
      "    \"mode\": \"0644\", \n",
      "    \"owner\": \"root\", \n",
      "    \"size\": 2890, \n",
      "    \"src\": \"/home/ansible/.ansible/tmp/ansible-tmp-1472177070.57-179085903378140/source\", \n",
      "    \"state\": \"file\", \n",
      "    \"uid\": 0\n",
      "}\u001b[0m\n",
      "\u001b[0;33mXXX.XXX.XXX.106 | SUCCESS => {\n",
      "    \"changed\": true, \n",
      "    \"checksum\": \"7dcb8b50eaf5e2af2b9b5e9caad8253739da0328\", \n",
      "    \"dest\": \"/mnt/test-vm-5.xml\", \n",
      "    \"gid\": 0, \n",
      "    \"group\": \"root\", \n",
      "    \"md5sum\": \"cff1b6a0e2e7f3dc6ddd795096f66935\", \n",
      "    \"mode\": \"0644\", \n",
      "    \"owner\": \"root\", \n",
      "    \"size\": 2890, \n",
      "    \"src\": \"/home/ansible/.ansible/tmp/ansible-tmp-1472177072.8-150896008895895/source\", \n",
      "    \"state\": \"file\", \n",
      "    \"uid\": 0\n",
      "}\u001b[0m\n",
      "\u001b[0;33mXXX.XXX.XXX.106 | SUCCESS => {\n",
      "    \"changed\": true, \n",
      "    \"checksum\": \"0ec5c67c3434443e39c45344ca8b52609fef3f3b\", \n",
      "    \"dest\": \"/mnt/test-vm-6.xml\", \n",
      "    \"gid\": 0, \n",
      "    \"group\": \"root\", \n",
      "    \"md5sum\": \"3cba55af26391df8b19b8009ac4fe1c6\", \n",
      "    \"mode\": \"0644\", \n",
      "    \"owner\": \"root\", \n",
      "    \"size\": 2890, \n",
      "    \"src\": \"/home/ansible/.ansible/tmp/ansible-tmp-1472177075.04-121575306828648/source\", \n",
      "    \"state\": \"file\", \n",
      "    \"uid\": 0\n",
      "}\u001b[0m\n",
      "\u001b[0;33mXXX.XXX.XXX.106 | SUCCESS => {\n",
      "    \"changed\": true, \n",
      "    \"checksum\": \"71f32bdfe3e943112dfe982d4df20c9154c54aee\", \n",
      "    \"dest\": \"/mnt/test-vm-7.xml\", \n",
      "    \"gid\": 0, \n",
      "    \"group\": \"root\", \n",
      "    \"md5sum\": \"c790e10890c7645667c4c419c3174445\", \n",
      "    \"mode\": \"0644\", \n",
      "    \"owner\": \"root\", \n",
      "    \"size\": 2890, \n",
      "    \"src\": \"/home/ansible/.ansible/tmp/ansible-tmp-1472177077.31-101758898796835/source\", \n",
      "    \"state\": \"file\", \n",
      "    \"uid\": 0\n",
      "}\u001b[0m\n"
     ]
    }
   ],
   "source": [
    "for n in vm_names:\n",
    "    !ansible -b -m copy -a 'src={work_dir}/{n}.xml dest=/mnt/{n}.xml' {target_group}"
   ]
  },
  {
   "cell_type": "markdown",
   "metadata": {},
   "source": [
    "## イメージファイルのコピー\n",
    "\n",
    "イメージファイルをVM用に複製する。"
   ]
  },
  {
   "cell_type": "code",
   "execution_count": 11,
   "metadata": {
    "collapsed": false
   },
   "outputs": [
    {
     "name": "stdout",
     "output_type": "stream",
     "text": [
      "\u001b[0;32mXXX.XXX.XXX.106 | SUCCESS | rc=0 >>\n",
      "\n",
      "\u001b[0m\n",
      "\u001b[0;32mXXX.XXX.XXX.106 | SUCCESS | rc=0 >>\n",
      "\n",
      "\u001b[0m\n",
      "\u001b[0;32mXXX.XXX.XXX.106 | SUCCESS | rc=0 >>\n",
      "\n",
      "\u001b[0m\n",
      "\u001b[0;32mXXX.XXX.XXX.106 | SUCCESS | rc=0 >>\n",
      "\n",
      "\u001b[0m\n",
      "\u001b[0;32mXXX.XXX.XXX.106 | SUCCESS | rc=0 >>\n",
      "\n",
      "\u001b[0m\n",
      "\u001b[0;32mXXX.XXX.XXX.106 | SUCCESS | rc=0 >>\n",
      "\n",
      "\u001b[0m\n",
      "\u001b[0;32mXXX.XXX.XXX.106 | SUCCESS | rc=0 >>\n",
      "\n",
      "\u001b[0m\n"
     ]
    }
   ],
   "source": [
    "for n in vm_names:\n",
    "    !ansible -b -a 'cp {image_base_dir}/base.img /mnt/{n}.img' {target_group}"
   ]
  },
  {
   "cell_type": "markdown",
   "metadata": {},
   "source": [
    "## VMの起動\n",
    "\n",
    "XMLファイル、仮想ディスクファイルがあるかどうかを確認する。"
   ]
  },
  {
   "cell_type": "code",
   "execution_count": 12,
   "metadata": {
    "collapsed": false
   },
   "outputs": [
    {
     "name": "stdout",
     "output_type": "stream",
     "text": [
      "\u001b[0;32mXXX.XXX.XXX.106 | SUCCESS | rc=0 >>\n",
      "-rwxr-xr-x 1 root root 107374182400 Aug 26 11:05 /mnt/test-vm-1.img\n",
      "-rw-r--r-- 1 root root         2890 Aug 26 11:04 /mnt/test-vm-1.xml\n",
      "\u001b[0m\n",
      "\u001b[0;32mXXX.XXX.XXX.106 | SUCCESS | rc=0 >>\n",
      "-rwxr-xr-x 1 root root 107374182400 Aug 26 11:06 /mnt/test-vm-2.img\n",
      "-rw-r--r-- 1 root root         2890 Aug 26 11:04 /mnt/test-vm-2.xml\n",
      "\u001b[0m\n",
      "\u001b[0;32mXXX.XXX.XXX.106 | SUCCESS | rc=0 >>\n",
      "-rwxr-xr-x 1 root root 107374182400 Aug 26 11:08 /mnt/test-vm-3.img\n",
      "-rw-r--r-- 1 root root         2890 Aug 26 11:04 /mnt/test-vm-3.xml\n",
      "\u001b[0m\n",
      "\u001b[0;32mXXX.XXX.XXX.106 | SUCCESS | rc=0 >>\n",
      "-rwxr-xr-x 1 root root 107374182400 Aug 26 11:09 /mnt/test-vm-4.img\n",
      "-rw-r--r-- 1 root root         2890 Aug 26 11:04 /mnt/test-vm-4.xml\n",
      "\u001b[0m\n",
      "\u001b[0;32mXXX.XXX.XXX.106 | SUCCESS | rc=0 >>\n",
      "-rwxr-xr-x 1 root root 107374182400 Aug 26 11:10 /mnt/test-vm-5.img\n",
      "-rw-r--r-- 1 root root         2890 Aug 26 11:04 /mnt/test-vm-5.xml\n",
      "\u001b[0m\n",
      "\u001b[0;32mXXX.XXX.XXX.106 | SUCCESS | rc=0 >>\n",
      "-rwxr-xr-x 1 root root 107374182400 Aug 26 11:11 /mnt/test-vm-6.img\n",
      "-rw-r--r-- 1 root root         2890 Aug 26 11:04 /mnt/test-vm-6.xml\n",
      "\u001b[0m\n",
      "\u001b[0;32mXXX.XXX.XXX.106 | SUCCESS | rc=0 >>\n",
      "-rwxr-xr-x 1 root root 107374182400 Aug 26 11:12 /mnt/test-vm-7.img\n",
      "-rw-r--r-- 1 root root         2890 Aug 26 11:04 /mnt/test-vm-7.xml\n",
      "\u001b[0m\n"
     ]
    }
   ],
   "source": [
    "for n in vm_names:\n",
    "    !ansible -a 'ls -la /mnt/{n}.img /mnt/{n}.xml' {target_group}"
   ]
  },
  {
   "cell_type": "markdown",
   "metadata": {},
   "source": [
    "VMを起動する。"
   ]
  },
  {
   "cell_type": "code",
   "execution_count": 13,
   "metadata": {
    "collapsed": false
   },
   "outputs": [
    {
     "name": "stdout",
     "output_type": "stream",
     "text": [
      "\u001b[0;32mXXX.XXX.XXX.106 | SUCCESS | rc=0 >>\n",
      "Domain test-vm-1 created from /mnt/test-vm-1.xml\n",
      "\u001b[0m\n",
      "\u001b[0;32mXXX.XXX.XXX.106 | SUCCESS | rc=0 >>\n",
      "Domain test-vm-2 created from /mnt/test-vm-2.xml\n",
      "\u001b[0m\n",
      "\u001b[0;32mXXX.XXX.XXX.106 | SUCCESS | rc=0 >>\n",
      "Domain test-vm-3 created from /mnt/test-vm-3.xml\n",
      "\u001b[0m\n",
      "\u001b[0;32mXXX.XXX.XXX.106 | SUCCESS | rc=0 >>\n",
      "Domain test-vm-4 created from /mnt/test-vm-4.xml\n",
      "\u001b[0m\n",
      "\u001b[0;32mXXX.XXX.XXX.106 | SUCCESS | rc=0 >>\n",
      "Domain test-vm-5 created from /mnt/test-vm-5.xml\n",
      "\u001b[0m\n",
      "\u001b[0;32mXXX.XXX.XXX.106 | SUCCESS | rc=0 >>\n",
      "Domain test-vm-6 created from /mnt/test-vm-6.xml\n",
      "\u001b[0m\n",
      "\u001b[0;32mXXX.XXX.XXX.106 | SUCCESS | rc=0 >>\n",
      "Domain test-vm-7 created from /mnt/test-vm-7.xml\n",
      "\u001b[0m\n"
     ]
    }
   ],
   "source": [
    "import time\n",
    "for n in vm_names:\n",
    "    !ansible -b -a 'virsh create /mnt/{n}.xml' {target_group}\n",
    "    time.sleep(60)"
   ]
  },
  {
   "cell_type": "markdown",
   "metadata": {},
   "source": [
    "VMに設定されたIPアドレスを確認する。"
   ]
  },
  {
   "cell_type": "code",
   "execution_count": 14,
   "metadata": {
    "collapsed": false
   },
   "outputs": [],
   "source": [
    "import re\n",
    "def get_mac_address(vmname):\n",
    "    domiflist_stdio = !ansible -b -a \"virsh domiflist {vmname}\" {target_group}\n",
    "    mac_pattern = re.compile(r'.*bridge.*\\s([0-9a-f\\:]+)\\s*')\n",
    "    vmmac = [mac_pattern.match(line).group(1) for line in domiflist_stdio if mac_pattern.match(line)][0]\n",
    "    return vmmac\n",
    "\n",
    "def get_ip_address(vmmac):\n",
    "    leases_stdio = !ansible -b -a \"grep {vmmac} /var/lib/dnsmasq/dnsmasq.leases\" {target_group}\n",
    "    ip_pattern = re.compile(r'.*\\s([0-9a-f\\:]+)\\s+([0-9\\.]+)\\s.*')\n",
    "    ipaddr = [ip_pattern.match(line).group(2) for line in leases_stdio if ip_pattern.match(line)][0]\n",
    "    return ipaddr"
   ]
  },
  {
   "cell_type": "code",
   "execution_count": 15,
   "metadata": {
    "collapsed": false
   },
   "outputs": [
    {
     "data": {
      "text/plain": [
       "[('test-vm-1', 'XXX.XXX.XXX.112'),\n",
       " ('test-vm-2', 'XXX.XXX.XXX.113'),\n",
       " ('test-vm-3', 'XXX.XXX.XXX.114'),\n",
       " ('test-vm-4', 'XXX.XXX.XXX.73'),\n",
       " ('test-vm-5', 'XXX.XXX.XXX.70'),\n",
       " ('test-vm-6', 'XXX.XXX.XXX.71'),\n",
       " ('test-vm-7', 'XXX.XXX.XXX.72')]"
      ]
     },
     "execution_count": 15,
     "metadata": {},
     "output_type": "execute_result"
    }
   ],
   "source": [
    "vmdescs = zip(vm_names, map(lambda mac: get_ip_address(mac), map(lambda n: get_mac_address(n), vm_names)))\n",
    "vmdescs"
   ]
  },
  {
   "cell_type": "markdown",
   "metadata": {},
   "source": [
    "# Inventoryの更新\n",
    "\n",
    "Inventoryに、作成したマシンのIPアドレスを追加する。変更する前に、現在の内容をコピーしておく。"
   ]
  },
  {
   "cell_type": "code",
   "execution_count": 16,
   "metadata": {
    "collapsed": true
   },
   "outputs": [],
   "source": [
    "!cp inventory {work_dir}/inventory-old"
   ]
  },
  {
   "cell_type": "markdown",
   "metadata": {},
   "source": [
    "[Inventory](../edit/inventory) を修正する。"
   ]
  },
  {
   "cell_type": "code",
   "execution_count": 17,
   "metadata": {
    "collapsed": false
   },
   "outputs": [
    {
     "name": "stdout",
     "output_type": "stream",
     "text": [
      "--- /tmp/tmpNnS7H9/inventory-old\t2016-08-26 11:21:29.075212671 +0900\r\n",
      "+++ inventory\t2016-08-26 11:22:24.895689120 +0900\r\n",
      "@@ -1,6 +1,15 @@\r\n",
      " [test-hadoop-hypervisor]\r\n",
      " XXX.XXX.XXX.106\r\n",
      " \r\n",
      "+[test-hadoop-vm]\r\n",
      "+XXX.XXX.XXX.70\r\n",
      "+XXX.XXX.XXX.71\r\n",
      "+XXX.XXX.XXX.72\r\n",
      "+XXX.XXX.XXX.73\r\n",
      "+XXX.XXX.XXX.112\r\n",
      "+XXX.XXX.XXX.113\r\n",
      "+XXX.XXX.XXX.114\r\n",
      "+\r\n",
      " [docker_host]\r\n",
      " XXX.XXX.XXX.195\r\n",
      " XXX.XXX.XXX.196\r\n"
     ]
    }
   ],
   "source": [
    "!diff -ur {work_dir}/inventory-old inventory"
   ]
  },
  {
   "cell_type": "markdown",
   "metadata": {},
   "source": [
    "追加したグループ名でpingが通じるかどうかを確認する。"
   ]
  },
  {
   "cell_type": "code",
   "execution_count": 18,
   "metadata": {
    "collapsed": true
   },
   "outputs": [],
   "source": [
    "target_vmgroup = 'test-hadoop-vm'"
   ]
  },
  {
   "cell_type": "code",
   "execution_count": 19,
   "metadata": {
    "collapsed": false
   },
   "outputs": [
    {
     "name": "stdout",
     "output_type": "stream",
     "text": [
      "\u001b[0;32mXXX.XXX.XXX.70 | SUCCESS => {\n",
      "    \"changed\": false, \n",
      "    \"ping\": \"pong\"\n",
      "}\u001b[0m\n",
      "\u001b[0;32mXXX.XXX.XXX.72 | SUCCESS => {\n",
      "    \"changed\": false, \n",
      "    \"ping\": \"pong\"\n",
      "}\u001b[0m\n",
      "\u001b[0;32mXXX.XXX.XXX.71 | SUCCESS => {\n",
      "    \"changed\": false, \n",
      "    \"ping\": \"pong\"\n",
      "}\u001b[0m\n",
      "\u001b[0;32mXXX.XXX.XXX.112 | SUCCESS => {\n",
      "    \"changed\": false, \n",
      "    \"ping\": \"pong\"\n",
      "}\u001b[0m\n",
      "\u001b[0;32mXXX.XXX.XXX.73 | SUCCESS => {\n",
      "    \"changed\": false, \n",
      "    \"ping\": \"pong\"\n",
      "}\u001b[0m\n",
      "\u001b[0;32mXXX.XXX.XXX.113 | SUCCESS => {\n",
      "    \"changed\": false, \n",
      "    \"ping\": \"pong\"\n",
      "}\u001b[0m\n",
      "\u001b[0;32mXXX.XXX.XXX.114 | SUCCESS => {\n",
      "    \"changed\": false, \n",
      "    \"ping\": \"pong\"\n",
      "}\u001b[0m\n"
     ]
    }
   ],
   "source": [
    "!ansible -m ping {target_vmgroup}"
   ]
  },
  {
   "cell_type": "markdown",
   "metadata": {
    "collapsed": true
   },
   "source": [
    "# 後始末\n",
    "\n",
    "一時ディレクトリを削除する。"
   ]
  },
  {
   "cell_type": "code",
   "execution_count": 20,
   "metadata": {
    "ExecuteTime": {
     "end_time": "2016-04-26T08:14:39.273093",
     "start_time": "2016-04-26T08:14:39.103511"
    },
    "collapsed": true
   },
   "outputs": [],
   "source": [
    "!rm -fr {work_dir}"
   ]
  },
  {
   "cell_type": "code",
   "execution_count": null,
   "metadata": {
    "collapsed": true
   },
   "outputs": [],
   "source": []
  }
 ],
 "metadata": {
  "kernelspec": {
   "display_name": "Python 2",
   "language": "python",
   "name": "python2"
  },
  "language_info": {
   "codemirror_mode": {
    "name": "ipython",
    "version": 2
   },
   "file_extension": ".py",
   "mimetype": "text/x-python",
   "name": "python",
   "nbconvert_exporter": "python",
   "pygments_lexer": "ipython2",
   "version": "2.7.6"
  },
  "toc": {
   "toc_cell": false,
   "toc_number_sections": true,
   "toc_threshold": 6,
   "toc_window_display": false
  }
 },
 "nbformat": 4,
 "nbformat_minor": 0
}

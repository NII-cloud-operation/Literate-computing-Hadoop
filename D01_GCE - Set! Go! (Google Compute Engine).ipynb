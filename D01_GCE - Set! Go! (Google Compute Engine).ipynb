{
 "cells": [
  {
   "cell_type": "markdown",
   "metadata": {},
   "source": [
    "# About: GCE - Set! Go! (Google Compute Engine)\n",
    "\n",
    "---\n",
    "\n",
    "Get and set a virtual machine, aka compute instance of \"Google Compute Engine\" with specified machine type and OS image. *[Here are just set and go becasue GCE is always ready for you..]*\n",
    "\n",
    "Google Compute Engine上で仮想マシンの確保する。"
   ]
  },
  {
   "cell_type": "markdown",
   "metadata": {},
   "source": [
    "## *Operation Note*\n",
    "\n",
    "*This is a cell for your own recording.  ここに経緯を記述*"
   ]
  },
  {
   "cell_type": "markdown",
   "metadata": {},
   "source": [
    "# 動作環境の確認\n",
    "\n",
    "このNotebookは、 [Google Python Client Library](https://github.com/google/google-api-python-client) を使ってマシンの確保を行います。\n",
    "\n",
    "このNotebook環境にGoogle Python Client Libraryがインストールされている必要があります。インストールされていない場合は、以下のセル実行に失敗し、 `ImportError` となります。"
   ]
  },
  {
   "cell_type": "code",
   "execution_count": 1,
   "metadata": {
    "collapsed": false
   },
   "outputs": [],
   "source": [
    "from googleapiclient import discovery"
   ]
  },
  {
   "cell_type": "markdown",
   "metadata": {},
   "source": [
    "もし、インストールされていない場合は、[Using the Python Client Library](https://cloud.google.com/compute/docs/tutorials/python-guide)を参考にインストールしてください。"
   ]
  },
  {
   "cell_type": "code",
   "execution_count": 2,
   "metadata": {
    "collapsed": false,
    "scrolled": true
   },
   "outputs": [],
   "source": [
    "#!pip2 install --upgrade google-api-python-client\n",
    "#from googleapiclient import discovery"
   ]
  },
  {
   "cell_type": "markdown",
   "metadata": {},
   "source": [
    "# 設定の定義\n",
    "\n",
    "どのようなマシンを確保するか？を定義していく。"
   ]
  },
  {
   "cell_type": "markdown",
   "metadata": {},
   "source": [
    "## Credentialの指定\n",
    "\n",
    "Google Compute EngineにアクセスするためのCredentialを指示する。\n",
    "\n",
    "- JSONフォーマットのService Account情報\n",
    "- プロジェクトID\n",
    "\n",
    "を用意しておく。"
   ]
  },
  {
   "cell_type": "code",
   "execution_count": 3,
   "metadata": {
    "collapsed": true
   },
   "outputs": [],
   "source": [
    "creds = '~/.keys/xxxxxxxx.json'\n",
    "target_project_id = 'my_project_id'"
   ]
  },
  {
   "cell_type": "markdown",
   "metadata": {},
   "source": [
    "computeサービスを取得しておく。"
   ]
  },
  {
   "cell_type": "code",
   "execution_count": 4,
   "metadata": {
    "collapsed": false
   },
   "outputs": [
    {
     "data": {
      "text/plain": [
       "<googleapiclient.discovery.Resource at 0x7f29f6496650>"
      ]
     },
     "execution_count": 4,
     "metadata": {},
     "output_type": "execute_result"
    }
   ],
   "source": [
    "import os\n",
    "from oauth2client.client import GoogleCredentials\n",
    "\n",
    "credentials = GoogleCredentials.from_stream(os.path.expanduser(creds))\n",
    "compute = discovery.build('compute', 'v1', credentials=credentials)\n",
    "compute"
   ]
  },
  {
   "cell_type": "markdown",
   "metadata": {},
   "source": [
    "## ゾーンの設定\n",
    "\n",
    "どのZoneにインスタンスを確保するかを定義しておく。"
   ]
  },
  {
   "cell_type": "code",
   "execution_count": 5,
   "metadata": {
    "collapsed": true
   },
   "outputs": [],
   "source": [
    "target_zone = 'us-central1-f'"
   ]
  },
  {
   "cell_type": "markdown",
   "metadata": {},
   "source": [
    "## マシン名の決定\n",
    "\n",
    "マシン名を決める。まず、現在のインスタンス名の一覧を確認する。"
   ]
  },
  {
   "cell_type": "code",
   "execution_count": 6,
   "metadata": {
    "collapsed": false
   },
   "outputs": [
    {
     "data": {
      "text/plain": [
       "[]"
      ]
     },
     "execution_count": 6,
     "metadata": {},
     "output_type": "execute_result"
    }
   ],
   "source": [
    "instances = compute.instances().list(zone=target_zone, project=target_project_id).execute()\n",
    "map(lambda i: i['name'], instances['items'] if 'items' in instances else [])"
   ]
  },
  {
   "cell_type": "markdown",
   "metadata": {},
   "source": [
    "すでにあるインスタンスとは重複しないような名前を設定する。"
   ]
  },
  {
   "cell_type": "code",
   "execution_count": 7,
   "metadata": {
    "collapsed": true
   },
   "outputs": [],
   "source": [
    "machine_name = 'test-gce'"
   ]
  },
  {
   "cell_type": "markdown",
   "metadata": {},
   "source": [
    "## マシンタイプの指定\n",
    "\n",
    "まず、このZoneで利用可能なMachine Typeを取得する。"
   ]
  },
  {
   "cell_type": "code",
   "execution_count": 8,
   "metadata": {
    "collapsed": false
   },
   "outputs": [
    {
     "data": {
      "text/plain": [
       "[(u'f1-micro', u'1 vCPU (shared physical core) and 0.6 GB RAM'),\n",
       " (u'g1-small', u'1 vCPU (shared physical core) and 1.7 GB RAM'),\n",
       " (u'n1-highcpu-16', u'16 vCPUs, 14.4 GB RAM'),\n",
       " (u'n1-highcpu-2', u'2 vCPUs, 1.8 GB RAM'),\n",
       " (u'n1-highcpu-32', u'32 vCPUs, 28.8 GB RAM'),\n",
       " (u'n1-highcpu-4', u'4 vCPUs, 3.6 GB RAM'),\n",
       " (u'n1-highcpu-8', u'8 vCPUs, 7.2 GB RAM'),\n",
       " (u'n1-highmem-16', u'16 vCPUs, 104 GB RAM'),\n",
       " (u'n1-highmem-2', u'2 vCPUs, 13 GB RAM'),\n",
       " (u'n1-highmem-32', u'32 vCPUs, 208 GB RAM'),\n",
       " (u'n1-highmem-4', u'4 vCPUs, 26 GB RAM'),\n",
       " (u'n1-highmem-8', u'8 vCPUs, 52 GB RAM'),\n",
       " (u'n1-standard-1', u'1 vCPU, 3.75 GB RAM'),\n",
       " (u'n1-standard-16', u'16 vCPUs, 60 GB RAM'),\n",
       " (u'n1-standard-2', u'2 vCPUs, 7.5 GB RAM'),\n",
       " (u'n1-standard-32', u'32 vCPUs, 120 GB RAM'),\n",
       " (u'n1-standard-4', u'4 vCPUs, 15 GB RAM'),\n",
       " (u'n1-standard-8', u'8 vCPUs, 30 GB RAM')]"
      ]
     },
     "execution_count": 8,
     "metadata": {},
     "output_type": "execute_result"
    }
   ],
   "source": [
    "machineTypes = compute.machineTypes().list(project=target_project_id, zone=target_zone).execute()['items']\n",
    "map(lambda t: (t['name'], t['description']), machineTypes)"
   ]
  },
  {
   "cell_type": "markdown",
   "metadata": {},
   "source": [
    "利用したいマシンタイプ名を設定する。"
   ]
  },
  {
   "cell_type": "code",
   "execution_count": 9,
   "metadata": {
    "collapsed": true
   },
   "outputs": [],
   "source": [
    "machine_type = 'f1-micro'"
   ]
  },
  {
   "cell_type": "markdown",
   "metadata": {},
   "source": [
    "## イメージの指定\n",
    "\n",
    "イメージの一覧を確認する。`project`には、利用したいイメージの所属プロジェクトを指定する。"
   ]
  },
  {
   "cell_type": "code",
   "execution_count": 10,
   "metadata": {
    "collapsed": false
   },
   "outputs": [
    {
     "data": {
      "text/plain": [
       "[(u'ubuntu-1204-precise-v20160610a',\n",
       "  u'https://www.googleapis.com/compute/v1/projects/ubuntu-os-cloud/global/images/ubuntu-1204-precise-v20160610a'),\n",
       " (u'ubuntu-1404-trusty-v20160610',\n",
       "  u'https://www.googleapis.com/compute/v1/projects/ubuntu-os-cloud/global/images/ubuntu-1404-trusty-v20160610'),\n",
       " (u'ubuntu-1510-wily-v20160610',\n",
       "  u'https://www.googleapis.com/compute/v1/projects/ubuntu-os-cloud/global/images/ubuntu-1510-wily-v20160610'),\n",
       " (u'ubuntu-1604-xenial-v20160610',\n",
       "  u'https://www.googleapis.com/compute/v1/projects/ubuntu-os-cloud/global/images/ubuntu-1604-xenial-v20160610')]"
      ]
     },
     "execution_count": 10,
     "metadata": {},
     "output_type": "execute_result"
    }
   ],
   "source": [
    "images = compute.images().list(project='ubuntu-os-cloud').execute()['items']\n",
    "images = filter(lambda i: i['status'] == 'READY' and 'deprecated' not in i, images)\n",
    "map(lambda i: (i['name'], i['selfLink']), images)"
   ]
  },
  {
   "cell_type": "markdown",
   "metadata": {},
   "source": [
    "利用したいイメージのURLを設定する。"
   ]
  },
  {
   "cell_type": "code",
   "execution_count": 11,
   "metadata": {
    "collapsed": true
   },
   "outputs": [],
   "source": [
    "source_disk_image = 'https://www.googleapis.com/compute/v1/projects/ubuntu-os-cloud/global/images/ubuntu-1404-trusty-v20160610'"
   ]
  },
  {
   "cell_type": "markdown",
   "metadata": {},
   "source": [
    "## キーペアの設定\n",
    "\n",
    "現在のSSHキーの一覧を取得する。"
   ]
  },
  {
   "cell_type": "code",
   "execution_count": 12,
   "metadata": {
    "collapsed": false
   },
   "outputs": [
    {
     "data": {
      "text/plain": [
       "[u'ansible:ssh-rsa XXXXXXXXXXXXXXXXXXXXXXXXXXXXXXXXXXXXXXXXXXXXXXXXXXXXXXXXXXXXXXXXXXXXXXXXXXXXXXXXXXXXXXXXXXXXXXXXXXXXXXXXXXXXXXXXXXXXXXXXXXXXXXXXXXXXXXXXXXXXXXXXXXXXXXXXXXXXXXXXXXXXXXXXXXXXXXXXXXXXXXXXXXXXXXXXXXXXXXXXXXXXXXXXXXXXXXXXXXXXXXXXXXXXXXXXXXXXXXXXXXXXXXXXXXXXXXXXXXXXXXXXXXXXXXXXXXXXXXXXXXXXXXXXXXXXXXXXXXXXXXXXXXXXXXXXXXXXXXXXXXXXXXXXXXXXXXXXXXXXXXXXXXXXXXXXXXXXXXXXXXXXXXXXXXXX ansible@XXXXXXXXXXXX',\n",
       " u'']"
      ]
     },
     "execution_count": 12,
     "metadata": {},
     "output_type": "execute_result"
    }
   ],
   "source": [
    "projectMetadata = compute.projects().get(project=target_project_id).execute()\n",
    "currentSSHKeys = filter(lambda metadata: metadata['key'] == 'sshKeys', projectMetadata['commonInstanceMetadata']['items']) \\\n",
    "                        if 'commonInstanceMetadata' in projectMetadata and 'items' in projectMetadata['commonInstanceMetadata'] else []\n",
    "currentSSHKeys = currentSSHKeys[0]['value'].split('\\n') if currentSSHKeys else []\n",
    "currentSSHKeys"
   ]
  },
  {
   "cell_type": "markdown",
   "metadata": {},
   "source": [
    "SSHのキー一覧にこのNotebook環境のキーがなければ、追加する。"
   ]
  },
  {
   "cell_type": "code",
   "execution_count": 13,
   "metadata": {
    "collapsed": false
   },
   "outputs": [
    {
     "data": {
      "text/plain": [
       "[u'ansible:ssh-rsa XXXXXXXXXXXXXXXXXXXXXXXXXXXXXXXXXXXXXXXXXXXXXXXXXXXXXXXXXXXXXXXXXXXXXXXXXXXXXXXXXXXXXXXXXXXXXXXXXXXXXXXXXXXXXXXXXXXXXXXXXXXXXXXXXXXXXXXXXXXXXXXXXXXXXXXXXXXXXXXXXXXXXXXXXXXXXXXXXXXXXXXXXXXXXXXXXXXXXXXXXXXXXXXXXXXXXXXXXXXXXXXXXXXXXXXXXXXXXXXXXXXXXXXXXXXXXXXXXXXXXXXXXXXXXXXXXXXXXXXXXXXXXXXXXXXXXXXXXXXXXXXXXXXXXXXXXXXXXXXXXXXXXXXXXXXXXXXXXXXXXXXXXXXXXXXXXXXXXXXXXXXXXXXXXXXX ansible@XXXXXXXXXXXX',\n",
       " u'']"
      ]
     },
     "execution_count": 13,
     "metadata": {},
     "output_type": "execute_result"
    }
   ],
   "source": [
    "pub_key = None\n",
    "with open(os.path.expanduser('~/.ssh/ansible_id_rsa.pub'), 'r') as f:\n",
    "    pub_key = f.readlines()[0].strip()\n",
    "\n",
    "if not filter(lambda k: k.endswith(pub_key), currentSSHKeys):\n",
    "    currentSSHKeys.append('ansible:' + pub_key)\n",
    "currentSSHKeys"
   ]
  },
  {
   "cell_type": "markdown",
   "metadata": {},
   "source": [
    "Metadataに反映する。"
   ]
  },
  {
   "cell_type": "code",
   "execution_count": 14,
   "metadata": {
    "collapsed": false
   },
   "outputs": [
    {
     "data": {
      "text/plain": [
       "{u'id': u'8047257766995800862',\n",
       " u'insertTime': u'2016-06-17T07:49:21.362-07:00',\n",
       " u'kind': u'compute#operation',\n",
       " u'name': u'operation-1466174961053-5357a75bb6d49-9190a416-d7c15055',\n",
       " u'operationType': u'setMetadata',\n",
       " u'progress': 0,\n",
       " u'selfLink': u'https://www.googleapis.com/compute/v1/projects/my_project_id/global/operations/operation-1466174961053-5357a75bb6d49-9190a416-d7c15055',\n",
       " u'status': u'PENDING',\n",
       " u'targetId': u'201294258281',\n",
       " u'targetLink': u'https://www.googleapis.com/compute/v1/projects/my_project_id',\n",
       " u'user': u'me@developer.gserviceaccount.com'}"
      ]
     },
     "execution_count": 14,
     "metadata": {},
     "output_type": "execute_result"
    }
   ],
   "source": [
    "compute.projects().setCommonInstanceMetadata(project=target_project_id,\n",
    "                                             body={'items': [{'key': 'sshKeys',\n",
    "                                                              'value': '\\n'.join(currentSSHKeys)}]}).execute()"
   ]
  },
  {
   "cell_type": "markdown",
   "metadata": {},
   "source": [
    "# マシンの確保"
   ]
  },
  {
   "cell_type": "markdown",
   "metadata": {},
   "source": [
    "## インスタンスの起動\n",
    "\n",
    "設定した情報を用いてマシンを確保する。"
   ]
  },
  {
   "cell_type": "code",
   "execution_count": 15,
   "metadata": {
    "collapsed": false
   },
   "outputs": [
    {
     "data": {
      "text/plain": [
       "{u'id': u'6984323738569912558',\n",
       " u'insertTime': u'2016-06-17T07:49:37.670-07:00',\n",
       " u'kind': u'compute#operation',\n",
       " u'name': u'operation-1466174976616-5357a76a8e641-b2fbf6a0-940630b9',\n",
       " u'operationType': u'insert',\n",
       " u'progress': 0,\n",
       " u'selfLink': u'https://www.googleapis.com/compute/v1/projects/my_project_id/zones/us-central1-f/operations/operation-1466174976616-5357a76a8e641-b2fbf6a0-940630b9',\n",
       " u'status': u'PENDING',\n",
       " u'targetId': u'7960517509428916462',\n",
       " u'targetLink': u'https://www.googleapis.com/compute/v1/projects/my_project_id/zones/us-central1-f/instances/test-gce',\n",
       " u'user': u'me@developer.gserviceaccount.com',\n",
       " u'zone': u'https://www.googleapis.com/compute/v1/projects/my_project_id/zones/us-central1-f'}"
      ]
     },
     "execution_count": 15,
     "metadata": {},
     "output_type": "execute_result"
    }
   ],
   "source": [
    "config = {\n",
    "        'name': machine_name,\n",
    "        'machineType': \"zones/{}/machineTypes/{}\".format(target_zone, machine_type),\n",
    "        'disks': [\n",
    "            {\n",
    "                'boot': True,\n",
    "                'autoDelete': True,\n",
    "                'initializeParams': {\n",
    "                    'sourceImage': source_disk_image,\n",
    "                }\n",
    "            }\n",
    "        ],\n",
    "        'networkInterfaces': [{\n",
    "            'network': 'global/networks/default',\n",
    "            'accessConfigs': [\n",
    "                {'type': 'ONE_TO_ONE_NAT', 'name': 'External NAT'}\n",
    "            ]\n",
    "        }],\n",
    "        'serviceAccounts': [{\n",
    "            'email': 'default',\n",
    "            'scopes': [\n",
    "                'https://www.googleapis.com/auth/devstorage.read_write',\n",
    "                'https://www.googleapis.com/auth/logging.write'\n",
    "            ]\n",
    "        }],\n",
    "        'metadata': {\n",
    "            'items': []\n",
    "        }\n",
    "    }\n",
    "\n",
    "new_vm = compute.instances().insert(project=target_project_id, zone=target_zone, body=config).execute()\n",
    "new_vm"
   ]
  },
  {
   "cell_type": "markdown",
   "metadata": {},
   "source": [
    "インスタンスがRunningになるまで待つ。"
   ]
  },
  {
   "cell_type": "code",
   "execution_count": 17,
   "metadata": {
    "collapsed": false
   },
   "outputs": [],
   "source": [
    "import time\n",
    "status = compute.instances().get(project=target_project_id, zone=target_zone,\n",
    "                                 instance=machine_name).execute()['status']\n",
    "while status == 'PROVISIONING' or status == 'STAGING':\n",
    "    time.sleep(30)\n",
    "    status = compute.instances().get(project=target_project_id, zone=target_zone,\n",
    "                                     instance=machine_name).execute()['status']\n",
    "assert(status == 'RUNNING')"
   ]
  },
  {
   "cell_type": "markdown",
   "metadata": {},
   "source": [
    "## IPアドレスの取得"
   ]
  },
  {
   "cell_type": "code",
   "execution_count": 18,
   "metadata": {
    "collapsed": false
   },
   "outputs": [
    {
     "data": {
      "text/plain": [
       "u'XXX.XXX.XXX.59'"
      ]
     },
     "execution_count": 18,
     "metadata": {},
     "output_type": "execute_result"
    }
   ],
   "source": [
    "vm_desc = compute.instances().get(project=target_project_id, zone=target_zone, instance=machine_name).execute()\n",
    "ip_address = vm_desc['networkInterfaces'][0]['accessConfigs'][0]['natIP']\n",
    "ip_address"
   ]
  },
  {
   "cell_type": "markdown",
   "metadata": {},
   "source": [
    "pingが通ることを確認。"
   ]
  },
  {
   "cell_type": "code",
   "execution_count": 21,
   "metadata": {
    "collapsed": false
   },
   "outputs": [
    {
     "name": "stdout",
     "output_type": "stream",
     "text": [
      "PING XXX.XXX.XXX.59 (XXX.XXX.XXX.59) 56(84) bytes of data.\n",
      "64 bytes from XXX.XXX.XXX.59: icmp_seq=1 ttl=43 time=133 ms\n",
      "64 bytes from XXX.XXX.XXX.59: icmp_seq=2 ttl=43 time=132 ms\n",
      "64 bytes from XXX.XXX.XXX.59: icmp_seq=3 ttl=43 time=132 ms\n",
      "64 bytes from XXX.XXX.XXX.59: icmp_seq=4 ttl=43 time=132 ms\n",
      "\n",
      "--- XXX.XXX.XXX.59 ping statistics ---\n",
      "4 packets transmitted, 4 received, 0% packet loss, time 3002ms\n",
      "rtt min/avg/max/mdev = 132.871/133.058/133.458/0.233 ms\n"
     ]
    }
   ],
   "source": [
    "!ping -c 4 {ip_address}"
   ]
  },
  {
   "cell_type": "markdown",
   "metadata": {
    "collapsed": true
   },
   "source": [
    "## Ansibleから操作可能であることを確認\n",
    "\n",
    "[キーペアの設定](#キーペアの設定-3.6)でansibleユーザとしてこの環境の公開鍵をInjectionしている。"
   ]
  },
  {
   "cell_type": "code",
   "execution_count": 22,
   "metadata": {
    "collapsed": false
   },
   "outputs": [
    {
     "data": {
      "text/plain": [
       "'/tmp/tmp9BOSSw'"
      ]
     },
     "execution_count": 22,
     "metadata": {},
     "output_type": "execute_result"
    }
   ],
   "source": [
    "import tempfile\n",
    "work_dir = tempfile.mkdtemp()\n",
    "work_dir"
   ]
  },
  {
   "cell_type": "code",
   "execution_count": 23,
   "metadata": {
    "collapsed": false
   },
   "outputs": [
    {
     "name": "stdout",
     "output_type": "stream",
     "text": [
      "XXX.XXX.XXX.59\r\n"
     ]
    }
   ],
   "source": [
    "import os\n",
    "snapshot_hosts = os.path.join(work_dir, 'hosts')\n",
    "with open(snapshot_hosts, 'w') as f:\n",
    "    f.write('{address}\\n'.format(address=ip_address)) \n",
    "!cat { snapshot_hosts }"
   ]
  },
  {
   "cell_type": "markdown",
   "metadata": {},
   "source": [
    "Ansible経由でansibleユーザとしてSSHできることを確認する。\n",
    "\n",
    "> インスタンス起動直後の場合、UNREACHABLEとなるおそれがある。その場合は再度実行すること。"
   ]
  },
  {
   "cell_type": "code",
   "execution_count": 24,
   "metadata": {
    "collapsed": false
   },
   "outputs": [
    {
     "name": "stdout",
     "output_type": "stream",
     "text": [
      "\u001b[0;32mXXX.XXX.XXX.59 | SUCCESS | rc=0 >>\r\n",
      "ansible\r\n",
      "\u001b[0m\r\n"
     ]
    }
   ],
   "source": [
    "!ansible -a 'whoami' -i { snapshot_hosts } all"
   ]
  },
  {
   "cell_type": "markdown",
   "metadata": {},
   "source": [
    "# Inventoryの更新\n",
    "\n",
    "Inventoryに、作成したマシンのIPアドレスを追加する。変更する前に、現在の内容をコピーしておく。"
   ]
  },
  {
   "cell_type": "code",
   "execution_count": 25,
   "metadata": {
    "collapsed": true
   },
   "outputs": [],
   "source": [
    "!cp inventory {work_dir}/inventory-old"
   ]
  },
  {
   "cell_type": "markdown",
   "metadata": {},
   "source": [
    "[Inventory](../edit/inventory) を修正する。"
   ]
  },
  {
   "cell_type": "code",
   "execution_count": 26,
   "metadata": {
    "collapsed": false
   },
   "outputs": [
    {
     "name": "stdout",
     "output_type": "stream",
     "text": [
      "--- /tmp/tmp9BOSSw/inventory-old\t2016-06-17 23:52:39.873366095 +0900\r\n",
      "+++ inventory\t2016-06-17 23:52:56.545503890 +0900\r\n",
      "@@ -3,3 +3,6 @@\r\n",
      " \r\n",
      " [test-vm]\r\n",
      " XXX.XXX.XXX.66\r\n",
      "+\r\n",
      "+[test-gce]\r\n",
      "+XXX.XXX.XXX.59\r\n"
     ]
    }
   ],
   "source": [
    "!diff -ur {work_dir}/inventory-old inventory"
   ]
  },
  {
   "cell_type": "markdown",
   "metadata": {},
   "source": [
    "追加したグループ名で、ansibleのpingモジュールが実行可能かどうかを確認する。"
   ]
  },
  {
   "cell_type": "code",
   "execution_count": 27,
   "metadata": {
    "collapsed": true
   },
   "outputs": [],
   "source": [
    "target_group = 'test-gce'"
   ]
  },
  {
   "cell_type": "code",
   "execution_count": 28,
   "metadata": {
    "collapsed": false
   },
   "outputs": [
    {
     "name": "stdout",
     "output_type": "stream",
     "text": [
      "\u001b[0;32mXXX.XXX.XXX.59 | SUCCESS => {\r\n",
      "    \"changed\": false, \r\n",
      "    \"ping\": \"pong\"\r\n",
      "}\u001b[0m\r\n"
     ]
    }
   ],
   "source": [
    "!ansible -m ping {target_group}"
   ]
  },
  {
   "cell_type": "markdown",
   "metadata": {},
   "source": [
    "特にエラーとならなければOK。これで完了とする。"
   ]
  },
  {
   "cell_type": "markdown",
   "metadata": {},
   "source": [
    "# 後始末\n",
    "\n",
    "一時ディレクトリを削除する。"
   ]
  },
  {
   "cell_type": "code",
   "execution_count": 29,
   "metadata": {
    "collapsed": true
   },
   "outputs": [],
   "source": [
    "!rm -fr {work_dir}"
   ]
  },
  {
   "cell_type": "code",
   "execution_count": null,
   "metadata": {
    "collapsed": true
   },
   "outputs": [],
   "source": []
  }
 ],
 "metadata": {
  "kernelspec": {
   "display_name": "Python 2",
   "language": "python",
   "name": "python2"
  },
  "language_info": {
   "codemirror_mode": {
    "name": "ipython",
    "version": 2
   },
   "file_extension": ".py",
   "mimetype": "text/x-python",
   "name": "python",
   "nbconvert_exporter": "python",
   "pygments_lexer": "ipython2",
   "version": "2.7.12"
  },
  "toc": {
   "toc_cell": false,
   "toc_number_sections": true,
   "toc_threshold": 6,
   "toc_window_display": false
  }
 },
 "nbformat": 4,
 "nbformat_minor": 0
}

{
 "cells": [
  {
   "cell_type": "markdown",
   "metadata": {},
   "source": [
    "# About: VM - Destroy VM on KVM\n",
    "\n",
    "---\n",
    "\n",
    "VMの停止用 Notebook。"
   ]
  },
  {
   "cell_type": "markdown",
   "metadata": {},
   "source": [
    "## *Operation Note*\n",
    "\n",
    "*This is a cell for your own recording.  ここに経緯を記述*"
   ]
  },
  {
   "cell_type": "markdown",
   "metadata": {},
   "source": [
    "# Notebookと環境のBinding\n",
    "\n",
    "Inventory中のgroup名でBind対象を指示する。ここでは、**VMを収容している物理マシンを指定する。**"
   ]
  },
  {
   "cell_type": "code",
   "execution_count": 1,
   "metadata": {
    "ExecuteTime": {
     "end_time": "2016-04-26T08:07:17.170145",
     "start_time": "2016-04-26T08:07:17.162322"
    },
    "collapsed": true
   },
   "outputs": [],
   "source": [
    "target_group = 'test-hypervisor'"
   ]
  },
  {
   "cell_type": "markdown",
   "metadata": {},
   "source": [
    "Bind対象への疎通状態を確認する。"
   ]
  },
  {
   "cell_type": "code",
   "execution_count": 2,
   "metadata": {
    "ExecuteTime": {
     "end_time": "2016-04-26T08:07:19.352910",
     "start_time": "2016-04-26T08:07:18.027874"
    },
    "collapsed": false
   },
   "outputs": [
    {
     "name": "stdout",
     "output_type": "stream",
     "text": [
      "\u001b[0;32mXXX.XXX.XXX.106 | SUCCESS => {\r\n",
      "    \"changed\": false, \r\n",
      "    \"ping\": \"pong\"\r\n",
      "}\u001b[0m\r\n"
     ]
    }
   ],
   "source": [
    "!ansible -m ping {target_group}"
   ]
  },
  {
   "cell_type": "markdown",
   "metadata": {},
   "source": [
    "対象マシンにlibvirtがインストールされているかを確認する。"
   ]
  },
  {
   "cell_type": "code",
   "execution_count": 3,
   "metadata": {
    "collapsed": false
   },
   "outputs": [
    {
     "name": "stdout",
     "output_type": "stream",
     "text": [
      "\u001b[0;32mXXX.XXX.XXX.106 | SUCCESS | rc=0 >>\r\n",
      "Compiled against library: libvirt 0.10.2\r\n",
      "Using library: libvirt 0.10.2\r\n",
      "Using API: QEMU 0.10.2\r\n",
      "Running hypervisor: QEMU 0.12.1\r\n",
      "\u001b[0m\r\n"
     ]
    }
   ],
   "source": [
    "!ansible -b -a 'virsh version' {target_group}"
   ]
  },
  {
   "cell_type": "markdown",
   "metadata": {},
   "source": [
    "# 停止対象のVM確認\n",
    "\n",
    "停止したいVMのIPアドレスまたはグループ名を定義する。"
   ]
  },
  {
   "cell_type": "code",
   "execution_count": 4,
   "metadata": {
    "collapsed": true
   },
   "outputs": [],
   "source": [
    "target_vm = 'test-vms'"
   ]
  },
  {
   "cell_type": "markdown",
   "metadata": {},
   "source": [
    "対象にpingが通ることを確認する。"
   ]
  },
  {
   "cell_type": "code",
   "execution_count": 5,
   "metadata": {
    "collapsed": false
   },
   "outputs": [
    {
     "name": "stdout",
     "output_type": "stream",
     "text": [
      "\u001b[0;32mXXX.XXX.XXX.71 | SUCCESS => {\n",
      "    \"changed\": false, \n",
      "    \"ping\": \"pong\"\n",
      "}\u001b[0m\n",
      "\u001b[0;32mXXX.XXX.XXX.72 | SUCCESS => {\n",
      "    \"changed\": false, \n",
      "    \"ping\": \"pong\"\n",
      "}\u001b[0m\n",
      "\u001b[0;32mXXX.XXX.XXX.70 | SUCCESS => {\n",
      "    \"changed\": false, \n",
      "    \"ping\": \"pong\"\n",
      "}\u001b[0m\n",
      "\u001b[0;32mXXX.XXX.XXX.112 | SUCCESS => {\n",
      "    \"changed\": false, \n",
      "    \"ping\": \"pong\"\n",
      "}\u001b[0m\n",
      "\u001b[0;32mXXX.XXX.XXX.113 | SUCCESS => {\n",
      "    \"changed\": false, \n",
      "    \"ping\": \"pong\"\n",
      "}\u001b[0m\n",
      "\u001b[0;32mXXX.XXX.XXX.73 | SUCCESS => {\n",
      "    \"changed\": false, \n",
      "    \"ping\": \"pong\"\n",
      "}\u001b[0m\n",
      "\u001b[0;32mXXX.XXX.XXX.114 | SUCCESS => {\n",
      "    \"changed\": false, \n",
      "    \"ping\": \"pong\"\n",
      "}\u001b[0m\n"
     ]
    }
   ],
   "source": [
    "!ansible -m ping {target_vm}"
   ]
  },
  {
   "cell_type": "markdown",
   "metadata": {},
   "source": [
    "対象のIPアドレスのリストを得る。"
   ]
  },
  {
   "cell_type": "code",
   "execution_count": 7,
   "metadata": {
    "collapsed": false
   },
   "outputs": [
    {
     "data": {
      "text/plain": [
       "['XXX.XXX.XXX.71',\n",
       " 'XXX.XXX.XXX.72',\n",
       " 'XXX.XXX.XXX.70',\n",
       " 'XXX.XXX.XXX.73',\n",
       " 'XXX.XXX.XXX.112',\n",
       " 'XXX.XXX.XXX.113',\n",
       " 'XXX.XXX.XXX.114']"
      ]
     },
     "execution_count": 7,
     "metadata": {},
     "output_type": "execute_result"
    }
   ],
   "source": [
    "ping_stdout = !ansible -m ping {target_vm}\n",
    "target_vm_addrs = map(lambda l: l.split()[0], filter(lambda l: 'SUCCESS' in l, ping_stdout))\n",
    "target_vm_addrs"
   ]
  },
  {
   "cell_type": "markdown",
   "metadata": {},
   "source": [
    "対象のVM名を検索する。"
   ]
  },
  {
   "cell_type": "code",
   "execution_count": 8,
   "metadata": {
    "collapsed": false
   },
   "outputs": [
    {
     "data": {
      "text/plain": [
       "['vm1', 'vm2', 'vm3', 'vm4', 'vm5', 'vm6', 'vm7']"
      ]
     },
     "execution_count": 8,
     "metadata": {},
     "output_type": "execute_result"
    }
   ],
   "source": [
    "vmnames = !ansible -b -a 'virsh list' {target_group}\n",
    "vmnames = vmnames[1:]\n",
    "vmnames = vmnames[map(lambda l: l[0], filter(lambda l: l[1].startswith('----'), enumerate(vmnames)))[0] + 1:]\n",
    "vmnames = map(lambda l: l.split()[1], vmnames)\n",
    "vmnames"
   ]
  },
  {
   "cell_type": "code",
   "execution_count": 9,
   "metadata": {
    "collapsed": true
   },
   "outputs": [],
   "source": [
    "import re\n",
    "def get_mac_address(vmname):\n",
    "    domiflist_stdio = !ansible -b -a \"virsh domiflist {vmname}\" {target_group}\n",
    "    mac_pattern = re.compile(r'.*bridge.*\\s([0-9a-f\\:]+)\\s*')\n",
    "    vmmac = [mac_pattern.match(line).group(1) for line in domiflist_stdio if mac_pattern.match(line)][0]\n",
    "    return vmmac\n",
    "\n",
    "def get_ip_address(vmmac):\n",
    "    leases_stdio = !ansible -b -a \"grep {vmmac} /var/lib/dnsmasq/dnsmasq.leases\" {target_group}\n",
    "    ip_pattern = re.compile(r'.*\\s([0-9a-f\\:]+)\\s+([0-9\\.]+)\\s.*')\n",
    "    ipaddr = [ip_pattern.match(line).group(2) for line in leases_stdio if ip_pattern.match(line)][0]\n",
    "    return ipaddr"
   ]
  },
  {
   "cell_type": "code",
   "execution_count": 10,
   "metadata": {
    "collapsed": false
   },
   "outputs": [
    {
     "data": {
      "text/plain": [
       "[('vm1', 'XXX.XXX.XXX.112'),\n",
       " ('vm2', 'XXX.XXX.XXX.113'),\n",
       " ('vm3', 'XXX.XXX.XXX.114'),\n",
       " ('vm4', 'XXX.XXX.XXX.70'),\n",
       " ('vm5', 'XXX.XXX.XXX.72'),\n",
       " ('vm6', 'XXX.XXX.XXX.71'),\n",
       " ('vm7', 'XXX.XXX.XXX.73')]"
      ]
     },
     "execution_count": 10,
     "metadata": {},
     "output_type": "execute_result"
    }
   ],
   "source": [
    "vmdescs = zip(vmnames, map(lambda mac: get_ip_address(mac), map(lambda n: get_mac_address(n), vmnames)))\n",
    "vmdescs"
   ]
  },
  {
   "cell_type": "markdown",
   "metadata": {},
   "source": [
    "対象のVM名を取得する。"
   ]
  },
  {
   "cell_type": "code",
   "execution_count": 12,
   "metadata": {
    "collapsed": false
   },
   "outputs": [
    {
     "data": {
      "text/plain": [
       "[('vm6', 'XXX.XXX.XXX.71'),\n",
       " ('vm5', 'XXX.XXX.XXX.72'),\n",
       " ('vm4', 'XXX.XXX.XXX.70'),\n",
       " ('vm7', 'XXX.XXX.XXX.73'),\n",
       " ('vm1', 'XXX.XXX.XXX.112'),\n",
       " ('vm2', 'XXX.XXX.XXX.113'),\n",
       " ('vm3', 'XXX.XXX.XXX.114')]"
      ]
     },
     "execution_count": 12,
     "metadata": {},
     "output_type": "execute_result"
    }
   ],
   "source": [
    "target_vmnames = map(lambda a: filter(lambda e: e[1] == a, vmdescs)[0], target_vm_addrs)\n",
    "target_vmnames"
   ]
  },
  {
   "cell_type": "markdown",
   "metadata": {},
   "source": [
    "VMの状態の確認。runningならば想定通り。"
   ]
  },
  {
   "cell_type": "code",
   "execution_count": 14,
   "metadata": {
    "ExecuteTime": {
     "end_time": "2016-04-26T08:13:00.376011",
     "start_time": "2016-04-26T08:12:59.085499"
    },
    "collapsed": false
   },
   "outputs": [
    {
     "name": "stdout",
     "output_type": "stream",
     "text": [
      "Status of XXX.XXX.XXX.71\n",
      "\u001b[0;32mXXX.XXX.XXX.106 | SUCCESS | rc=0 >>\n",
      "running\n",
      "\u001b[0m\n",
      "Status of XXX.XXX.XXX.72\n",
      "\u001b[0;32mXXX.XXX.XXX.106 | SUCCESS | rc=0 >>\n",
      "running\n",
      "\u001b[0m\n",
      "Status of XXX.XXX.XXX.70\n",
      "\u001b[0;32mXXX.XXX.XXX.106 | SUCCESS | rc=0 >>\n",
      "running\n",
      "\u001b[0m\n",
      "Status of XXX.XXX.XXX.73\n",
      "\u001b[0;32mXXX.XXX.XXX.106 | SUCCESS | rc=0 >>\n",
      "running\n",
      "\u001b[0m\n",
      "Status of XXX.XXX.XXX.112\n",
      "\u001b[0;32mXXX.XXX.XXX.106 | SUCCESS | rc=0 >>\n",
      "running\n",
      "\u001b[0m\n",
      "Status of XXX.XXX.XXX.113\n",
      "\u001b[0;32mXXX.XXX.XXX.106 | SUCCESS | rc=0 >>\n",
      "running\n",
      "\u001b[0m\n",
      "Status of XXX.XXX.XXX.114\n",
      "\u001b[0;32mXXX.XXX.XXX.106 | SUCCESS | rc=0 >>\n",
      "running\n",
      "\u001b[0m\n"
     ]
    }
   ],
   "source": [
    "for vmname, vmaddr in target_vmnames:\n",
    "    print('Status of {}'.format(vmaddr))\n",
    "    !ansible -b -a \"virsh domstate {vmname}\" {target_group}"
   ]
  },
  {
   "cell_type": "markdown",
   "metadata": {},
   "source": [
    "# 仮想マシンの停止\n",
    "\n",
    "仮想マシンを停止する。"
   ]
  },
  {
   "cell_type": "code",
   "execution_count": 15,
   "metadata": {
    "ExecuteTime": {
     "end_time": "2016-04-26T08:14:08.449313",
     "start_time": "2016-04-26T08:14:07.153775"
    },
    "collapsed": false
   },
   "outputs": [
    {
     "name": "stdout",
     "output_type": "stream",
     "text": [
      "Destroying XXX.XXX.XXX.71...\n",
      "\u001b[0;32mXXX.XXX.XXX.106 | SUCCESS | rc=0 >>\n",
      "Domain vm6 destroyed\n",
      "\u001b[0m\n",
      "Destroying XXX.XXX.XXX.72...\n",
      "\u001b[0;32mXXX.XXX.XXX.106 | SUCCESS | rc=0 >>\n",
      "Domain vm5 destroyed\n",
      "\u001b[0m\n",
      "Destroying XXX.XXX.XXX.70...\n",
      "\u001b[0;32mXXX.XXX.XXX.106 | SUCCESS | rc=0 >>\n",
      "Domain vm4 destroyed\n",
      "\u001b[0m\n",
      "Destroying XXX.XXX.XXX.73...\n",
      "\u001b[0;32mXXX.XXX.XXX.106 | SUCCESS | rc=0 >>\n",
      "Domain vm7 destroyed\n",
      "\u001b[0m\n",
      "Destroying XXX.XXX.XXX.112...\n",
      "\u001b[0;32mXXX.XXX.XXX.106 | SUCCESS | rc=0 >>\n",
      "Domain vm1 destroyed\n",
      "\u001b[0m\n",
      "Destroying XXX.XXX.XXX.113...\n",
      "\u001b[0;32mXXX.XXX.XXX.106 | SUCCESS | rc=0 >>\n",
      "Domain vm2 destroyed\n",
      "\u001b[0m\n",
      "Destroying XXX.XXX.XXX.114...\n",
      "\u001b[0;32mXXX.XXX.XXX.106 | SUCCESS | rc=0 >>\n",
      "Domain vm3 destroyed\n",
      "\u001b[0m\n"
     ]
    }
   ],
   "source": [
    "for vmname, vmaddr in target_vmnames:\n",
    "    print('Destroying {}...'.format(vmaddr))\n",
    "    !ansible -b -a \"virsh destroy {vmname}\" {target_group}"
   ]
  },
  {
   "cell_type": "markdown",
   "metadata": {},
   "source": [
    "しばらく待ってから再度 virsh listを実行すると、仮想マシンが停止してリストから消えたことがわかる。"
   ]
  },
  {
   "cell_type": "code",
   "execution_count": 16,
   "metadata": {
    "ExecuteTime": {
     "end_time": "2016-04-26T08:14:12.198745",
     "start_time": "2016-04-26T08:14:10.927748"
    },
    "collapsed": false
   },
   "outputs": [
    {
     "name": "stdout",
     "output_type": "stream",
     "text": [
      "\u001b[0;32mXXX.XXX.XXX.106 | SUCCESS | rc=0 >>\r\n",
      " Id    Name                           State\r\n",
      "----------------------------------------------------\r\n",
      "\u001b[0m\r\n"
     ]
    }
   ],
   "source": [
    "!ansible -b -a \"virsh list\" {target_group}"
   ]
  },
  {
   "cell_type": "markdown",
   "metadata": {},
   "source": [
    "## dnsmasqの後始末\n",
    "\n",
    "dnsmasqのリース情報の後始末。VM用IPアドレスが潤沢にある場合は不要。"
   ]
  },
  {
   "cell_type": "code",
   "execution_count": 17,
   "metadata": {
    "ExecuteTime": {
     "end_time": "2016-04-26T08:14:20.386679",
     "start_time": "2016-04-26T08:14:19.161372"
    },
    "collapsed": false
   },
   "outputs": [
    {
     "name": "stdout",
     "output_type": "stream",
     "text": [
      "\u001b[0;32mXXX.XXX.XXX.106 | SUCCESS | rc=0 >>\r\n",
      "1470675774 XX:XX:XX:XX:XX:XX XXX.XXX.XXX.73 testvm004 *\r\n",
      "1470674171 XX:XX:XX:XX:XX:XX XXX.XXX.XXX.71 testvm002 *\r\n",
      "1470665474 XX:XX:XX:XX:XX:XX XXX.XXX.XXX.72 testvm003 *\r\n",
      "1470673270 XX:XX:XX:XX:XX:XX XXX.XXX.XXX.70 testvm001 *\r\n",
      "1470675422 XX:XX:XX:XX:XX:XX XXX.XXX.XXX.114 testvm007 *\r\n",
      "1470665491 XX:XX:XX:XX:XX:XX XXX.XXX.XXX.113 testvm006 *\r\n",
      "1470673204 XX:XX:XX:XX:XX:XX XXX.XXX.XXX.112 testvm005 *\r\n",
      "\u001b[0m\r\n"
     ]
    }
   ],
   "source": [
    "!ansible -a \"cat /var/lib/dnsmasq/dnsmasq.leases\" {target_group}"
   ]
  },
  {
   "cell_type": "code",
   "execution_count": 18,
   "metadata": {
    "ExecuteTime": {
     "end_time": "2016-04-26T08:14:28.141800",
     "start_time": "2016-04-26T08:14:26.902022"
    },
    "collapsed": false
   },
   "outputs": [
    {
     "name": "stdout",
     "output_type": "stream",
     "text": [
      "\u001b[0;33mXXX.XXX.XXX.106 | SUCCESS => {\n",
      "    \"backup\": \"\", \n",
      "    \"changed\": true, \n",
      "    \"found\": 1, \n",
      "    \"msg\": \"1 line(s) removed\"\n",
      "}\u001b[0m\n",
      "\u001b[0;33mXXX.XXX.XXX.106 | SUCCESS => {\n",
      "    \"backup\": \"\", \n",
      "    \"changed\": true, \n",
      "    \"found\": 1, \n",
      "    \"msg\": \"1 line(s) removed\"\n",
      "}\u001b[0m\n",
      "\u001b[0;33mXXX.XXX.XXX.106 | SUCCESS => {\n",
      "    \"backup\": \"\", \n",
      "    \"changed\": true, \n",
      "    \"found\": 1, \n",
      "    \"msg\": \"1 line(s) removed\"\n",
      "}\u001b[0m\n",
      "\u001b[0;33mXXX.XXX.XXX.106 | SUCCESS => {\n",
      "    \"backup\": \"\", \n",
      "    \"changed\": true, \n",
      "    \"found\": 1, \n",
      "    \"msg\": \"1 line(s) removed\"\n",
      "}\u001b[0m\n",
      "\u001b[0;33mXXX.XXX.XXX.106 | SUCCESS => {\n",
      "    \"backup\": \"\", \n",
      "    \"changed\": true, \n",
      "    \"found\": 1, \n",
      "    \"msg\": \"1 line(s) removed\"\n",
      "}\u001b[0m\n",
      "\u001b[0;33mXXX.XXX.XXX.106 | SUCCESS => {\n",
      "    \"backup\": \"\", \n",
      "    \"changed\": true, \n",
      "    \"found\": 1, \n",
      "    \"msg\": \"1 line(s) removed\"\n",
      "}\u001b[0m\n",
      "\u001b[0;33mXXX.XXX.XXX.106 | SUCCESS => {\n",
      "    \"backup\": \"\", \n",
      "    \"changed\": true, \n",
      "    \"found\": 1, \n",
      "    \"msg\": \"1 line(s) removed\"\n",
      "}\u001b[0m\n"
     ]
    }
   ],
   "source": [
    "for vmname, vmaddr in target_vmnames:\n",
    "    !ansible -b -m lineinfile -a \"dest=/var/lib/dnsmasq/dnsmasq.leases regexp='^.*\\s+{ vmaddr }\\s+.*' state=absent\" {target_group}"
   ]
  },
  {
   "cell_type": "code",
   "execution_count": 19,
   "metadata": {
    "ExecuteTime": {
     "end_time": "2016-04-26T08:14:29.858483",
     "start_time": "2016-04-26T08:14:28.634401"
    },
    "collapsed": false
   },
   "outputs": [
    {
     "name": "stdout",
     "output_type": "stream",
     "text": [
      "\u001b[0;32mXXX.XXX.XXX.106 | SUCCESS | rc=0 >>\r\n",
      "\r\n",
      "\u001b[0m\r\n"
     ]
    }
   ],
   "source": [
    "!ansible -a \"cat /var/lib/dnsmasq/dnsmasq.leases\" {target_group}"
   ]
  },
  {
   "cell_type": "code",
   "execution_count": 20,
   "metadata": {
    "ExecuteTime": {
     "end_time": "2016-04-26T08:14:34.415883",
     "start_time": "2016-04-26T08:14:32.872087"
    },
    "collapsed": false
   },
   "outputs": [
    {
     "name": "stdout",
     "output_type": "stream",
     "text": [
      "\u001b[0;33mXXX.XXX.XXX.106 | SUCCESS => {\r\n",
      "    \"changed\": true, \r\n",
      "    \"name\": \"dnsmasq\", \r\n",
      "    \"state\": \"started\"\r\n",
      "}\u001b[0m\r\n"
     ]
    }
   ],
   "source": [
    "!ansible -b -m service -a \"name=dnsmasq state=restarted\" {target_group}"
   ]
  },
  {
   "cell_type": "markdown",
   "metadata": {},
   "source": [
    "# Inventoryの更新\n",
    "\n",
    "Inventoryから、破棄したマシンのIPアドレスを削除する。変更する前に、現在の内容をコピーしておく。"
   ]
  },
  {
   "cell_type": "code",
   "execution_count": 21,
   "metadata": {
    "collapsed": false
   },
   "outputs": [
    {
     "data": {
      "text/plain": [
       "'/tmp/tmphESHPn'"
      ]
     },
     "execution_count": 21,
     "metadata": {},
     "output_type": "execute_result"
    }
   ],
   "source": [
    "import tempfile\n",
    "work_dir = tempfile.mkdtemp()\n",
    "work_dir"
   ]
  },
  {
   "cell_type": "code",
   "execution_count": 22,
   "metadata": {
    "collapsed": false
   },
   "outputs": [],
   "source": [
    "!cp inventory {work_dir}/inventory-old"
   ]
  },
  {
   "cell_type": "markdown",
   "metadata": {},
   "source": [
    "[Inventory](../edit/inventory) を修正する。"
   ]
  },
  {
   "cell_type": "code",
   "execution_count": 23,
   "metadata": {
    "collapsed": false
   },
   "outputs": [
    {
     "name": "stdout",
     "output_type": "stream",
     "text": [
      "--- /tmp/tmphESHPn/inventory-old\t2016-08-08 15:09:30.544364669 +0900\r\n",
      "+++ inventory\t2016-08-08 15:09:40.496448531 +0900\r\n",
      "@@ -1,15 +1,6 @@\r\n",
      " [test-hadoop-hypervisor]\r\n",
      " XXX.XXX.XXX.106\r\n",
      " \r\n",
      "-[test-hadoop-vms]\r\n",
      "-XXX.XXX.XXX.70\r\n",
      "-XXX.XXX.XXX.71\r\n",
      "-XXX.XXX.XXX.72\r\n",
      "-XXX.XXX.XXX.73\r\n",
      "-XXX.XXX.XXX.112\r\n",
      "-XXX.XXX.XXX.113\r\n",
      "-XXX.XXX.XXX.114\r\n",
      "-\r\n",
      " [docker_host]\r\n",
      " XXX.XXX.XXX.195\r\n",
      " XXX.XXX.XXX.196\r\n"
     ]
    }
   ],
   "source": [
    "!diff -ur {work_dir}/inventory-old inventory"
   ]
  },
  {
   "cell_type": "markdown",
   "metadata": {},
   "source": [
    "削除したVMに**pingが通じない**かどうかを確認する。"
   ]
  },
  {
   "cell_type": "code",
   "execution_count": 24,
   "metadata": {
    "collapsed": false
   },
   "outputs": [
    {
     "name": "stdout",
     "output_type": "stream",
     "text": [
      "\u001b[1;35m [WARNING]: provided hosts list is empty, only localhost is available\r\n",
      "\u001b[0m\r\n"
     ]
    }
   ],
   "source": [
    "!ansible -m ping {target_vm}"
   ]
  },
  {
   "cell_type": "markdown",
   "metadata": {
    "collapsed": true
   },
   "source": [
    "# 後始末\n",
    "\n",
    "一時ディレクトリを削除する。"
   ]
  },
  {
   "cell_type": "code",
   "execution_count": 25,
   "metadata": {
    "ExecuteTime": {
     "end_time": "2016-04-26T08:14:39.273093",
     "start_time": "2016-04-26T08:14:39.103511"
    },
    "collapsed": true
   },
   "outputs": [],
   "source": [
    "!rm -fr {work_dir}"
   ]
  },
  {
   "cell_type": "code",
   "execution_count": null,
   "metadata": {
    "collapsed": true
   },
   "outputs": [],
   "source": []
  }
 ],
 "metadata": {
  "kernelspec": {
   "display_name": "Python 2",
   "language": "python",
   "name": "python2"
  },
  "language_info": {
   "codemirror_mode": {
    "name": "ipython",
    "version": 2
   },
   "file_extension": ".py",
   "mimetype": "text/x-python",
   "name": "python",
   "nbconvert_exporter": "python",
   "pygments_lexer": "ipython2",
   "version": "2.7.6"
  },
  "toc": {
   "toc_cell": false,
   "toc_number_sections": true,
   "toc_threshold": 6,
   "toc_window_display": false
  }
 },
 "nbformat": 4,
 "nbformat_minor": 0
}

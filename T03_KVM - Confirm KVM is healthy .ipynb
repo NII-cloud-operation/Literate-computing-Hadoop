{
 "cells": [
  {
   "cell_type": "markdown",
   "metadata": {},
   "source": [
    "# About: Confirm KVM is healthy\n",
    "\n",
    "---\n",
    "\n",
    "KVMをインストールしたマシンに関して、事後条件を満たしているか(KVMが正しくインストールされ、予期した通りに動作しているか)を確認するためのNotebook。"
   ]
  },
  {
   "cell_type": "markdown",
   "metadata": {},
   "source": [
    "## *Operation Note*\n",
    "\n",
    "*This is a cell for your own recording.  ここに経緯を記述*"
   ]
  },
  {
   "cell_type": "markdown",
   "metadata": {},
   "source": [
    "# Notebookと環境のBinding\n",
    "\n",
    "Inventory中のgroup名でBind対象を指示する。\n",
    "**KVMなどがインストールされた物理マシン**を示すInventory中の名前を以下に指定する。"
   ]
  },
  {
   "cell_type": "code",
   "execution_count": 1,
   "metadata": {
    "ExecuteTime": {
     "end_time": "2016-04-26T08:07:17.170145",
     "start_time": "2016-04-26T08:07:17.162322"
    },
    "collapsed": true
   },
   "outputs": [],
   "source": [
    "target_group = 'test-hypervisor'"
   ]
  },
  {
   "cell_type": "markdown",
   "metadata": {},
   "source": [
    "Bind対象への疎通状態を確認する。"
   ]
  },
  {
   "cell_type": "code",
   "execution_count": 2,
   "metadata": {
    "ExecuteTime": {
     "end_time": "2016-04-26T08:07:19.352910",
     "start_time": "2016-04-26T08:07:18.027874"
    },
    "collapsed": false
   },
   "outputs": [
    {
     "name": "stdout",
     "output_type": "stream",
     "text": [
      "\u001b[0;32mXXX.XXX.XXX.105 | SUCCESS => {\r\n",
      "    \"changed\": false, \r\n",
      "    \"ping\": \"pong\"\r\n",
      "}\u001b[0m\r\n"
     ]
    }
   ],
   "source": [
    "!ansible -m ping {target_group}"
   ]
  },
  {
   "cell_type": "markdown",
   "metadata": {},
   "source": [
    "# 状態の検証\n"
   ]
  },
  {
   "cell_type": "markdown",
   "metadata": {},
   "source": [
    "## 仮想マシン用ブリッジが作成されていること\n",
    "\n",
    "仮想マシン用のブリッジが作成されていること。お手本を作成している環境においては、以下のようなインタフェース構成となることを想定している。\n",
    "\n",
    "- ブリッジ br-eth1 インタフェース ... ここにはサービス用IPアドレスが設定される\n",
    "- eth1インタフェース ... Promiscuousモードでサービス用NICと対応付け、br-eth1インタフェースに接続される"
   ]
  },
  {
   "cell_type": "code",
   "execution_count": 3,
   "metadata": {
    "collapsed": true
   },
   "outputs": [],
   "source": [
    "external_nic = 'eth1'\n",
    "bridge_nic = 'br-eth1'"
   ]
  },
  {
   "cell_type": "code",
   "execution_count": 4,
   "metadata": {
    "ExecuteTime": {
     "end_time": "2016-04-26T08:07:25.847812",
     "start_time": "2016-04-26T08:07:22.127652"
    },
    "collapsed": false
   },
   "outputs": [
    {
     "name": "stdout",
     "output_type": "stream",
     "text": [
      "\u001b[0;32mXXX.XXX.XXX.105 | SUCCESS | rc=0 >>\n",
      "10: br-eth1: <BROADCAST,MULTICAST,UP,LOWER_UP> mtu 1500 qdisc noqueue state UNKNOWN \n",
      "    link/ether XX:XX:XX:XX:XX:XX brd XX:XX:XX:XX:XX:XX\n",
      "    inet XXX.XXX.XXX.105/26 brd XXX.XXX.XXX.127 scope global br-eth1\n",
      "    inet6 XX:XX:XX:XX:XX:XX/64 scope link \n",
      "       valid_lft forever preferred_lft forever\n",
      "\u001b[0m\n",
      "\u001b[0;32mXXX.XXX.XXX.105 | SUCCESS | rc=0 >>\n",
      "2: eth1: <BROADCAST,MULTICAST,UP,LOWER_UP> mtu 1500 qdisc mq state UP qlen 1000\n",
      "    link/ether XX:XX:XX:XX:XX:XX brd XX:XX:XX:XX:XX:XX\n",
      "    inet6 XX:XX:XX:XX:XX:XX/64 scope link \n",
      "       valid_lft forever preferred_lft forever\n",
      "\u001b[0m\n",
      "\u001b[0;32mXXX.XXX.XXX.105 | SUCCESS | rc=0 >>\n",
      "bridge name\tbridge id\t\tSTP enabled\tinterfaces\n",
      "br-eth1\t\t8000.246e960db538\tno\t\teth1\n",
      "\t\t\t\t\t\t\tvnet0\n",
      "\u001b[0m\n"
     ]
    }
   ],
   "source": [
    "!ansible -a \"/sbin/ip addr show {bridge_nic}\" {target_group}\n",
    "!ansible -a \"/sbin/ip addr show {external_nic}\" {target_group}\n",
    "!ansible -a \"/usr/sbin/brctl show {bridge_nic}\" {target_group}"
   ]
  },
  {
   "cell_type": "markdown",
   "metadata": {},
   "source": [
    "**br-bond0, bond0が定義されており、br-bond0にサービス用IPアドレスが定義されていれば**、仮想マシン操作に関するお手本Notebookはそのまま利用することができる。異なるNICの定義方法を採っている場合は、適宜NIC名などを書き換えながら実施する必要がある。"
   ]
  },
  {
   "cell_type": "markdown",
   "metadata": {},
   "source": [
    "## libvirtのNetwork設定が無効化されていること\n",
    "\n",
    "defaultのNetwork設定が無効化されているかどうかを確認する。"
   ]
  },
  {
   "cell_type": "code",
   "execution_count": 5,
   "metadata": {
    "ExecuteTime": {
     "end_time": "2016-04-26T08:07:32.682995",
     "start_time": "2016-04-26T08:07:31.432732"
    },
    "collapsed": false
   },
   "outputs": [
    {
     "name": "stdout",
     "output_type": "stream",
     "text": [
      "\u001b[0;32mXXX.XXX.XXX.105 | SUCCESS | rc=0 >>\r\n",
      "Name                 State      Autostart     Persistent\r\n",
      "--------------------------------------------------\r\n",
      "default              inactive   no            yes\r\n",
      "\u001b[0m\r\n"
     ]
    }
   ],
   "source": [
    "!ansible -b -a 'virsh net-list --all' {target_group}"
   ]
  },
  {
   "cell_type": "markdown",
   "metadata": {},
   "source": [
    "**defaultのstateがinactiveになっていて、かつautostartがnoになっていれば**OK。"
   ]
  },
  {
   "cell_type": "markdown",
   "metadata": {},
   "source": [
    "## dnsmasqが起動していること\n",
    "\n",
    "dnsmasqが実行されているかを確認する。"
   ]
  },
  {
   "cell_type": "code",
   "execution_count": 6,
   "metadata": {
    "ExecuteTime": {
     "end_time": "2016-04-26T08:07:36.086188",
     "start_time": "2016-04-26T08:07:34.768858"
    },
    "collapsed": false
   },
   "outputs": [
    {
     "name": "stdout",
     "output_type": "stream",
     "text": [
      "\u001b[0;32mXXX.XXX.XXX.105 | SUCCESS | rc=0 >>\r\n",
      "dnsmasq (pid  74097) is running...dnsdomainname: Unknown host\r\n",
      "\u001b[0m\r\n"
     ]
    }
   ],
   "source": [
    "!ansible -b -a 'service dnsmasq status' {target_group}"
   ]
  },
  {
   "cell_type": "markdown",
   "metadata": {},
   "source": [
    "**dnsmasq (pid  XXXXX) is running と表示されれば**OK。"
   ]
  },
  {
   "cell_type": "markdown",
   "metadata": {},
   "source": [
    "## libvirtが動作していること\n",
    "\n",
    "libvirtが動作しており、仮想マシン一覧が取得できるかどうかを確認する。"
   ]
  },
  {
   "cell_type": "code",
   "execution_count": 7,
   "metadata": {
    "ExecuteTime": {
     "end_time": "2016-04-26T08:07:39.755701",
     "start_time": "2016-04-26T08:07:38.482204"
    },
    "collapsed": false
   },
   "outputs": [
    {
     "name": "stdout",
     "output_type": "stream",
     "text": [
      "\u001b[0;32mXXX.XXX.XXX.105 | SUCCESS | rc=0 >>\r\n",
      " Id    Name                           State\r\n",
      "----------------------------------------------------\r\n",
      " 5     testvm-001                     running\r\n",
      "\u001b[0m\r\n"
     ]
    }
   ],
   "source": [
    "!ansible -b -a 'virsh list' {target_group}"
   ]
  },
  {
   "cell_type": "markdown",
   "metadata": {},
   "source": [
    "**エラーメッセージが表示されなければ**OK。"
   ]
  },
  {
   "cell_type": "code",
   "execution_count": null,
   "metadata": {
    "collapsed": true
   },
   "outputs": [],
   "source": []
  }
 ],
 "metadata": {
  "kernelspec": {
   "display_name": "Python 2",
   "language": "python",
   "name": "python2"
  },
  "language_info": {
   "codemirror_mode": {
    "name": "ipython",
    "version": 2
   },
   "file_extension": ".py",
   "mimetype": "text/x-python",
   "name": "python",
   "nbconvert_exporter": "python",
   "pygments_lexer": "ipython2",
   "version": "2.7.6"
  },
  "toc": {
   "toc_cell": false,
   "toc_number_sections": true,
   "toc_threshold": 6,
   "toc_window_display": false
  }
 },
 "nbformat": 4,
 "nbformat_minor": 0
}
